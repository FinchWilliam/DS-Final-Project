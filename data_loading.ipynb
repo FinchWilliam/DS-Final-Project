{
 "cells": [
  {
   "cell_type": "markdown",
   "metadata": {},
   "source": [
    "# Data Loading\n",
    " 1. Load all datasets\n",
    " 2. Perform basic cleaning to make them all the same format\n",
    " 3. Save them"
   ]
  },
  {
   "cell_type": "markdown",
   "metadata": {},
   "source": [
    "### Libraries and such"
   ]
  },
  {
   "cell_type": "code",
   "execution_count": 1,
   "metadata": {},
   "outputs": [],
   "source": [
    "import pandas as pd \n",
    "import numpy as np \n",
    "import os\n",
    "import json\n",
    "import string\n",
    "import ast\n",
    "import re\n",
    "from nltk.corpus import stopwords\n",
    "from collections import Counter\n",
    "stop_words = stopwords.words('english')\n",
    "file_path = '../Data/Raw Datasets/'"
   ]
  },
  {
   "cell_type": "markdown",
   "metadata": {},
   "source": [
    "## Check Each Dataset\n",
    " - We will only be keeping the ingredients (as lists) and the ID (as an identifier)\n",
    " "
   ]
  },
  {
   "cell_type": "markdown",
   "metadata": {},
   "source": [
    "### [Dataset 1 (set1-f)](https://www.kaggle.com/datasets/kaggle/recipe-ingredients-dataset)\n",
    " - Viable\n"
   ]
  },
  {
   "cell_type": "code",
   "execution_count": 2,
   "metadata": {},
   "outputs": [],
   "source": [
    "data1_train = pd.read_json(f'{file_path}set1-f/train.json')\n",
    "data1_test = pd.read_json(f'{file_path}set1-f/train.json')"
   ]
  },
  {
   "cell_type": "code",
   "execution_count": 3,
   "metadata": {},
   "outputs": [
    {
     "data": {
      "application/vnd.microsoft.datawrangler.viewer.v0+json": {
       "columns": [
        {
         "name": "index",
         "rawType": "int64",
         "type": "integer"
        },
        {
         "name": "id",
         "rawType": "int64",
         "type": "integer"
        },
        {
         "name": "ingredients",
         "rawType": "object",
         "type": "unknown"
        }
       ],
       "conversionMethod": "pd.DataFrame",
       "ref": "b0f1ae2c-4608-468b-9683-a569f3f8c35a",
       "rows": [
        [
         "0",
         "10259",
         "['romaine lettuce', 'black olives', 'grape tomatoes', 'garlic', 'pepper', 'purple onion', 'seasoning', 'garbanzo beans', 'feta cheese crumbles']"
        ],
        [
         "1",
         "25693",
         "['plain flour', 'ground pepper', 'salt', 'tomatoes', 'ground black pepper', 'thyme', 'eggs', 'green tomatoes', 'yellow corn meal', 'milk', 'vegetable oil']"
        ],
        [
         "2",
         "20130",
         "['eggs', 'pepper', 'salt', 'mayonaise', 'cooking oil', 'green chilies', 'grilled chicken breasts', 'garlic powder', 'yellow onion', 'soy sauce', 'butter', 'chicken livers']"
        ],
        [
         "3",
         "22213",
         "['water', 'vegetable oil', 'wheat', 'salt']"
        ],
        [
         "4",
         "13162",
         "['black pepper', 'shallots', 'cornflour', 'cayenne pepper', 'onions', 'garlic paste', 'milk', 'butter', 'salt', 'lemon juice', 'water', 'chili powder', 'passata', 'oil', 'ground cumin', 'boneless chicken skinless thigh', 'garam masala', 'double cream', 'natural yogurt', 'bay leaf']"
        ]
       ],
       "shape": {
        "columns": 2,
        "rows": 5
       }
      },
      "text/html": [
       "<div>\n",
       "<style scoped>\n",
       "    .dataframe tbody tr th:only-of-type {\n",
       "        vertical-align: middle;\n",
       "    }\n",
       "\n",
       "    .dataframe tbody tr th {\n",
       "        vertical-align: top;\n",
       "    }\n",
       "\n",
       "    .dataframe thead th {\n",
       "        text-align: right;\n",
       "    }\n",
       "</style>\n",
       "<table border=\"1\" class=\"dataframe\">\n",
       "  <thead>\n",
       "    <tr style=\"text-align: right;\">\n",
       "      <th></th>\n",
       "      <th>id</th>\n",
       "      <th>ingredients</th>\n",
       "    </tr>\n",
       "  </thead>\n",
       "  <tbody>\n",
       "    <tr>\n",
       "      <th>0</th>\n",
       "      <td>10259</td>\n",
       "      <td>[romaine lettuce, black olives, grape tomatoes...</td>\n",
       "    </tr>\n",
       "    <tr>\n",
       "      <th>1</th>\n",
       "      <td>25693</td>\n",
       "      <td>[plain flour, ground pepper, salt, tomatoes, g...</td>\n",
       "    </tr>\n",
       "    <tr>\n",
       "      <th>2</th>\n",
       "      <td>20130</td>\n",
       "      <td>[eggs, pepper, salt, mayonaise, cooking oil, g...</td>\n",
       "    </tr>\n",
       "    <tr>\n",
       "      <th>3</th>\n",
       "      <td>22213</td>\n",
       "      <td>[water, vegetable oil, wheat, salt]</td>\n",
       "    </tr>\n",
       "    <tr>\n",
       "      <th>4</th>\n",
       "      <td>13162</td>\n",
       "      <td>[black pepper, shallots, cornflour, cayenne pe...</td>\n",
       "    </tr>\n",
       "  </tbody>\n",
       "</table>\n",
       "</div>"
      ],
      "text/plain": [
       "      id                                        ingredients\n",
       "0  10259  [romaine lettuce, black olives, grape tomatoes...\n",
       "1  25693  [plain flour, ground pepper, salt, tomatoes, g...\n",
       "2  20130  [eggs, pepper, salt, mayonaise, cooking oil, g...\n",
       "3  22213                [water, vegetable oil, wheat, salt]\n",
       "4  13162  [black pepper, shallots, cornflour, cayenne pe..."
      ]
     },
     "execution_count": 3,
     "metadata": {},
     "output_type": "execute_result"
    }
   ],
   "source": [
    "dataset1 = pd.concat([data1_test, data1_train], axis=0)\n",
    "dataset1 = dataset1.drop(columns='cuisine')\n",
    "dataset1.head()"
   ]
  },
  {
   "cell_type": "code",
   "execution_count": 4,
   "metadata": {},
   "outputs": [
    {
     "name": "stdout",
     "output_type": "stream",
     "text": [
      "<class 'pandas.core.frame.DataFrame'>\n",
      "Index: 79548 entries, 0 to 39773\n",
      "Data columns (total 2 columns):\n",
      " #   Column       Non-Null Count  Dtype \n",
      "---  ------       --------------  ----- \n",
      " 0   id           79548 non-null  int64 \n",
      " 1   ingredients  79548 non-null  object\n",
      "dtypes: int64(1), object(1)\n",
      "memory usage: 1.8+ MB\n"
     ]
    }
   ],
   "source": [
    "dataset1.info()"
   ]
  },
  {
   "cell_type": "markdown",
   "metadata": {},
   "source": [
    "### [Dataset 2 (set2-f)](https://www.kaggle.com/datasets/shuyangli94/food-com-recipes-and-user-interactions)\n",
    " - Viable"
   ]
  },
  {
   "cell_type": "code",
   "execution_count": 5,
   "metadata": {},
   "outputs": [
    {
     "data": {
      "application/vnd.microsoft.datawrangler.viewer.v0+json": {
       "columns": [
        {
         "name": "index",
         "rawType": "int64",
         "type": "integer"
        },
        {
         "name": "id",
         "rawType": "int64",
         "type": "integer"
        },
        {
         "name": "ingredients",
         "rawType": "object",
         "type": "string"
        }
       ],
       "conversionMethod": "pd.DataFrame",
       "ref": "b93cae1a-aeab-4967-8146-93bfc84a0b94",
       "rows": [
        [
         "0",
         "137739",
         "['winter squash', 'mexican seasoning', 'mixed spice', 'honey', 'butter', 'olive oil', 'salt']"
        ],
        [
         "1",
         "31490",
         "['prepared pizza crust', 'sausage patty', 'eggs', 'milk', 'salt and pepper', 'cheese']"
        ],
        [
         "2",
         "112140",
         "['ground beef', 'yellow onions', 'diced tomatoes', 'tomato paste', 'tomato soup', 'rotel tomatoes', 'kidney beans', 'water', 'chili powder', 'ground cumin', 'salt', 'lettuce', 'cheddar cheese']"
        ],
        [
         "3",
         "59389",
         "['spreadable cheese with garlic and herbs', 'new potatoes', 'shallots', 'parsley', 'tarragon', 'olive oil', 'red wine vinegar', 'salt', 'pepper', 'red bell pepper', 'yellow bell pepper']"
        ],
        [
         "4",
         "44061",
         "['tomato juice', 'apple cider vinegar', 'sugar', 'salt', 'pepper', 'clove oil', 'cinnamon oil', 'dry mustard']"
        ]
       ],
       "shape": {
        "columns": 2,
        "rows": 5
       }
      },
      "text/html": [
       "<div>\n",
       "<style scoped>\n",
       "    .dataframe tbody tr th:only-of-type {\n",
       "        vertical-align: middle;\n",
       "    }\n",
       "\n",
       "    .dataframe tbody tr th {\n",
       "        vertical-align: top;\n",
       "    }\n",
       "\n",
       "    .dataframe thead th {\n",
       "        text-align: right;\n",
       "    }\n",
       "</style>\n",
       "<table border=\"1\" class=\"dataframe\">\n",
       "  <thead>\n",
       "    <tr style=\"text-align: right;\">\n",
       "      <th></th>\n",
       "      <th>id</th>\n",
       "      <th>ingredients</th>\n",
       "    </tr>\n",
       "  </thead>\n",
       "  <tbody>\n",
       "    <tr>\n",
       "      <th>0</th>\n",
       "      <td>137739</td>\n",
       "      <td>['winter squash', 'mexican seasoning', 'mixed ...</td>\n",
       "    </tr>\n",
       "    <tr>\n",
       "      <th>1</th>\n",
       "      <td>31490</td>\n",
       "      <td>['prepared pizza crust', 'sausage patty', 'egg...</td>\n",
       "    </tr>\n",
       "    <tr>\n",
       "      <th>2</th>\n",
       "      <td>112140</td>\n",
       "      <td>['ground beef', 'yellow onions', 'diced tomato...</td>\n",
       "    </tr>\n",
       "    <tr>\n",
       "      <th>3</th>\n",
       "      <td>59389</td>\n",
       "      <td>['spreadable cheese with garlic and herbs', 'n...</td>\n",
       "    </tr>\n",
       "    <tr>\n",
       "      <th>4</th>\n",
       "      <td>44061</td>\n",
       "      <td>['tomato juice', 'apple cider vinegar', 'sugar...</td>\n",
       "    </tr>\n",
       "  </tbody>\n",
       "</table>\n",
       "</div>"
      ],
      "text/plain": [
       "       id                                        ingredients\n",
       "0  137739  ['winter squash', 'mexican seasoning', 'mixed ...\n",
       "1   31490  ['prepared pizza crust', 'sausage patty', 'egg...\n",
       "2  112140  ['ground beef', 'yellow onions', 'diced tomato...\n",
       "3   59389  ['spreadable cheese with garlic and herbs', 'n...\n",
       "4   44061  ['tomato juice', 'apple cider vinegar', 'sugar..."
      ]
     },
     "execution_count": 5,
     "metadata": {},
     "output_type": "execute_result"
    }
   ],
   "source": [
    "data2 = pd.read_csv(f'{file_path}set2-f/RAW_recipes.csv')\n",
    "data2\n",
    "columns_to_drop = ['name', 'minutes', 'contributor_id', 'submitted', 'tags', 'nutrition', 'n_steps', 'steps', 'description', 'n_ingredients']\n",
    "dataset2 = data2.drop(columns= columns_to_drop)\n",
    "dataset2.head()"
   ]
  },
  {
   "cell_type": "code",
   "execution_count": 6,
   "metadata": {},
   "outputs": [],
   "source": [
    "def convert_to_list(data):\n",
    "    actual_list = ast.literal_eval(data)\n",
    "    return actual_list"
   ]
  },
  {
   "cell_type": "code",
   "execution_count": 7,
   "metadata": {},
   "outputs": [],
   "source": [
    "dataset2['ingredients'] = dataset2['ingredients'].apply(convert_to_list)"
   ]
  },
  {
   "cell_type": "code",
   "execution_count": 8,
   "metadata": {},
   "outputs": [
    {
     "data": {
      "application/vnd.microsoft.datawrangler.viewer.v0+json": {
       "columns": [
        {
         "name": "index",
         "rawType": "int64",
         "type": "integer"
        },
        {
         "name": "id",
         "rawType": "int64",
         "type": "integer"
        },
        {
         "name": "ingredients",
         "rawType": "object",
         "type": "unknown"
        }
       ],
       "conversionMethod": "pd.DataFrame",
       "ref": "b28bf617-196f-4873-a8fc-469e990e9dfd",
       "rows": [
        [
         "0",
         "137739",
         "['winter squash', 'mexican seasoning', 'mixed spice', 'honey', 'butter', 'olive oil', 'salt']"
        ],
        [
         "1",
         "31490",
         "['prepared pizza crust', 'sausage patty', 'eggs', 'milk', 'salt and pepper', 'cheese']"
        ],
        [
         "2",
         "112140",
         "['ground beef', 'yellow onions', 'diced tomatoes', 'tomato paste', 'tomato soup', 'rotel tomatoes', 'kidney beans', 'water', 'chili powder', 'ground cumin', 'salt', 'lettuce', 'cheddar cheese']"
        ],
        [
         "3",
         "59389",
         "['spreadable cheese with garlic and herbs', 'new potatoes', 'shallots', 'parsley', 'tarragon', 'olive oil', 'red wine vinegar', 'salt', 'pepper', 'red bell pepper', 'yellow bell pepper']"
        ],
        [
         "4",
         "44061",
         "['tomato juice', 'apple cider vinegar', 'sugar', 'salt', 'pepper', 'clove oil', 'cinnamon oil', 'dry mustard']"
        ]
       ],
       "shape": {
        "columns": 2,
        "rows": 5
       }
      },
      "text/html": [
       "<div>\n",
       "<style scoped>\n",
       "    .dataframe tbody tr th:only-of-type {\n",
       "        vertical-align: middle;\n",
       "    }\n",
       "\n",
       "    .dataframe tbody tr th {\n",
       "        vertical-align: top;\n",
       "    }\n",
       "\n",
       "    .dataframe thead th {\n",
       "        text-align: right;\n",
       "    }\n",
       "</style>\n",
       "<table border=\"1\" class=\"dataframe\">\n",
       "  <thead>\n",
       "    <tr style=\"text-align: right;\">\n",
       "      <th></th>\n",
       "      <th>id</th>\n",
       "      <th>ingredients</th>\n",
       "    </tr>\n",
       "  </thead>\n",
       "  <tbody>\n",
       "    <tr>\n",
       "      <th>0</th>\n",
       "      <td>137739</td>\n",
       "      <td>[winter squash, mexican seasoning, mixed spice...</td>\n",
       "    </tr>\n",
       "    <tr>\n",
       "      <th>1</th>\n",
       "      <td>31490</td>\n",
       "      <td>[prepared pizza crust, sausage patty, eggs, mi...</td>\n",
       "    </tr>\n",
       "    <tr>\n",
       "      <th>2</th>\n",
       "      <td>112140</td>\n",
       "      <td>[ground beef, yellow onions, diced tomatoes, t...</td>\n",
       "    </tr>\n",
       "    <tr>\n",
       "      <th>3</th>\n",
       "      <td>59389</td>\n",
       "      <td>[spreadable cheese with garlic and herbs, new ...</td>\n",
       "    </tr>\n",
       "    <tr>\n",
       "      <th>4</th>\n",
       "      <td>44061</td>\n",
       "      <td>[tomato juice, apple cider vinegar, sugar, sal...</td>\n",
       "    </tr>\n",
       "  </tbody>\n",
       "</table>\n",
       "</div>"
      ],
      "text/plain": [
       "       id                                        ingredients\n",
       "0  137739  [winter squash, mexican seasoning, mixed spice...\n",
       "1   31490  [prepared pizza crust, sausage patty, eggs, mi...\n",
       "2  112140  [ground beef, yellow onions, diced tomatoes, t...\n",
       "3   59389  [spreadable cheese with garlic and herbs, new ...\n",
       "4   44061  [tomato juice, apple cider vinegar, sugar, sal..."
      ]
     },
     "metadata": {},
     "output_type": "display_data"
    },
    {
     "name": "stdout",
     "output_type": "stream",
     "text": [
      "<class 'pandas.core.frame.DataFrame'>\n",
      "RangeIndex: 231637 entries, 0 to 231636\n",
      "Data columns (total 2 columns):\n",
      " #   Column       Non-Null Count   Dtype \n",
      "---  ------       --------------   ----- \n",
      " 0   id           231637 non-null  int64 \n",
      " 1   ingredients  231637 non-null  object\n",
      "dtypes: int64(1), object(1)\n",
      "memory usage: 3.5+ MB\n"
     ]
    }
   ],
   "source": [
    "display(dataset2.head())\n",
    "dataset2.info()"
   ]
  },
  {
   "cell_type": "markdown",
   "metadata": {},
   "source": [
    "### [Dataset 3 (set3-f)](https://www.kaggle.com/datasets/irkaal/foodcom-recipes-and-reviews)\n",
    " - Viable"
   ]
  },
  {
   "cell_type": "code",
   "execution_count": 9,
   "metadata": {},
   "outputs": [
    {
     "data": {
      "application/vnd.microsoft.datawrangler.viewer.v0+json": {
       "columns": [
        {
         "name": "index",
         "rawType": "int64",
         "type": "integer"
        },
        {
         "name": "RecipeId",
         "rawType": "int64",
         "type": "integer"
        },
        {
         "name": "Name",
         "rawType": "object",
         "type": "string"
        },
        {
         "name": "AuthorId",
         "rawType": "int64",
         "type": "integer"
        },
        {
         "name": "AuthorName",
         "rawType": "object",
         "type": "string"
        },
        {
         "name": "CookTime",
         "rawType": "object",
         "type": "string"
        },
        {
         "name": "PrepTime",
         "rawType": "object",
         "type": "string"
        },
        {
         "name": "TotalTime",
         "rawType": "object",
         "type": "string"
        },
        {
         "name": "DatePublished",
         "rawType": "object",
         "type": "string"
        },
        {
         "name": "Description",
         "rawType": "object",
         "type": "string"
        },
        {
         "name": "Images",
         "rawType": "object",
         "type": "string"
        },
        {
         "name": "RecipeCategory",
         "rawType": "object",
         "type": "string"
        },
        {
         "name": "Keywords",
         "rawType": "object",
         "type": "string"
        },
        {
         "name": "RecipeIngredientQuantities",
         "rawType": "object",
         "type": "string"
        },
        {
         "name": "RecipeIngredientParts",
         "rawType": "object",
         "type": "string"
        },
        {
         "name": "AggregatedRating",
         "rawType": "float64",
         "type": "float"
        },
        {
         "name": "ReviewCount",
         "rawType": "float64",
         "type": "float"
        },
        {
         "name": "Calories",
         "rawType": "float64",
         "type": "float"
        },
        {
         "name": "FatContent",
         "rawType": "float64",
         "type": "float"
        },
        {
         "name": "SaturatedFatContent",
         "rawType": "float64",
         "type": "float"
        },
        {
         "name": "CholesterolContent",
         "rawType": "float64",
         "type": "float"
        },
        {
         "name": "SodiumContent",
         "rawType": "float64",
         "type": "float"
        },
        {
         "name": "CarbohydrateContent",
         "rawType": "float64",
         "type": "float"
        },
        {
         "name": "FiberContent",
         "rawType": "float64",
         "type": "float"
        },
        {
         "name": "SugarContent",
         "rawType": "float64",
         "type": "float"
        },
        {
         "name": "ProteinContent",
         "rawType": "float64",
         "type": "float"
        },
        {
         "name": "RecipeServings",
         "rawType": "float64",
         "type": "float"
        },
        {
         "name": "RecipeYield",
         "rawType": "object",
         "type": "unknown"
        },
        {
         "name": "RecipeInstructions",
         "rawType": "object",
         "type": "string"
        }
       ],
       "conversionMethod": "pd.DataFrame",
       "ref": "beb40111-02c1-49d0-8cf3-34283a0ebc3f",
       "rows": [
        [
         "0",
         "38",
         "Low-Fat Berry Blue Frozen Dessert",
         "1533",
         "Dancer",
         "PT24H",
         "PT45M",
         "PT24H45M",
         "1999-08-09T21:46:00Z",
         "Make and share this Low-Fat Berry Blue Frozen Dessert recipe from Food.com.",
         "c(\"https://img.sndimg.com/food/image/upload/w_555,h_416,c_fit,fl_progressive,q_95/v1/img/recipes/38/YUeirxMLQaeE1h3v3qnM_229%20berry%20blue%20frzn%20dess.jpg\", \"https://img.sndimg.com/food/image/upload/w_555,h_416,c_fit,fl_progressive,q_95/v1/img/recipes/38/AFPDDHATWzQ0b1CDpDAT_255%20berry%20blue%20frzn%20dess.jpg\", \"https://img.sndimg.com/food/image/upload/w_555,h_416,c_fit,fl_progressive,q_95/v1/img/recipes/38/UYgf9nwMT2SGGJCuzILO_228%20berry%20blue%20frzn%20dess.jpg\", \"https://img.sndimg.com/food/image/upload/w_555,h_416,c_fit,fl_progressive,q_95/v1/img/recipes/38/PeBMJN2TGSaYks2759BA_20140722_202142.jpg\", \n\"https://img.sndimg.com/food/image/upload/w_555,h_416,c_fit,fl_progressive,q_95/v1/img/recipes/38/picuaETeN.jpg\", \"https://img.sndimg.com/food/image/upload/w_555,h_416,c_fit,fl_progressive,q_95/v1/img/recipes/38/pictzvxW5.jpg\")",
         "Frozen Desserts",
         "c(\"Dessert\", \"Low Protein\", \"Low Cholesterol\", \"Healthy\", \"Free Of...\", \"Summer\", \"Weeknight\", \"Freezer\", \"Easy\")",
         "c(\"4\", \"1/4\", \"1\", \"1\")",
         "c(\"blueberries\", \"granulated sugar\", \"vanilla yogurt\", \"lemon juice\")",
         "4.5",
         "4.0",
         "170.9",
         "2.5",
         "1.3",
         "8.0",
         "29.8",
         "37.1",
         "3.6",
         "30.2",
         "3.2",
         "4.0",
         null,
         "c(\"Toss 2 cups berries with sugar.\", \"Let stand for 45 minutes, stirring occasionally.\", \"Transfer berry-sugar mixture to food processor.\", \"Add yogurt and process until smooth.\", \"Strain through fine sieve. Pour into baking pan (or transfer to ice cream maker and process according to manufacturers' directions). Freeze uncovered until edges are solid but centre is soft.  Transfer to processor and blend until smooth again.\", \"Return to pan and freeze until edges are solid.\", \"Transfer to processor and blend until smooth again.\", \n\"Fold in remaining 2 cups of blueberries.\", \"Pour into plastic mold and freeze overnight. Let soften slightly to serve.\")"
        ],
        [
         "1",
         "39",
         "Biryani",
         "1567",
         "elly9812",
         "PT25M",
         "PT4H",
         "PT4H25M",
         "1999-08-29T13:12:00Z",
         "Make and share this Biryani recipe from Food.com.",
         "c(\"https://img.sndimg.com/food/image/upload/w_555,h_416,c_fit,fl_progressive,q_95/v1/img/recipes/39/picM9Mhnw.jpg\", \"https://img.sndimg.com/food/image/upload/w_555,h_416,c_fit,fl_progressive,q_95/v1/img/recipes/39/picHv4Ocr.jpg\")",
         "Chicken Breast",
         "c(\"Chicken Thigh & Leg\", \"Chicken\", \"Poultry\", \"Meat\", \"Asian\", \"Indian\", \"Weeknight\", \"Stove Top\")",
         "c(\"1\", \"4\", \"2\", \"2\", \"8\", \"1/4\", \"8\", \"1/2\", \"1\", \"1\", \"1/4\", \"1/4\", \"1/2\", \"1/4\", \"2\", \"3\", NA, \"2\", \"1\", \"1\", \"8\", \"2\", \"1/3\", \"1/3\", \"1/3\", \"6\")",
         "c(\"saffron\", \"milk\", \"hot green chili peppers\", \"onions\", \"garlic\", \"clove\", \"peppercorns\", \"cardamom seed\", \"cumin seed\", \"poppy seed\", \"mace\", \"cilantro\", \"mint leaf\", \"fresh lemon juice\", \"plain yogurt\", \"boneless chicken\", \"salt\", \"ghee\", \"onion\", \"tomatoes\", \"basmati rice\", \"long-grain rice\", \"raisins\", \"cashews\", \"eggs\")",
         "3.0",
         "1.0",
         "1110.7",
         "58.8",
         "16.6",
         "372.8",
         "368.4",
         "84.4",
         "9.0",
         "20.4",
         "63.4",
         "6.0",
         null,
         "c(\"Soak saffron in warm milk for 5 minutes and puree in blender.\", \"Add chiles, onions, ginger, garlic, cloves, peppercorns, cardamom seeds, cinnamon, coriander and cumin seeds, poppy seeds, nutmeg, mace, cilantro or mint leaves and lemon juice. Blend into smooth paste. Put paste into large bowl, add yogurt and mix well.\", \"Marinate chicken in yogurt mixture with salt, covered for at least 2 - 6 hours in refrigerator.\", \"In skillet. heat oil over medium heat for 1 minute. Add ghee and 15 seconds later add onion and fry for about8 minutes.\", \n\"Reserve for garnish.\", \"In same skillet, cook chicken with its marinade with tomatoes for about 10 minutes over medium heat, uncovered.\", \"Remove chicken pieces from the sauce and set aside. Add rice to sauce, bring to boil, and cook, covered over low heat for 15 minutes.\", \"Return chicken and add raisins, cashews and almonds; mix well.\", \"Simmer, covered for 5 minutes.\", \"Place chicken, eggs and rice in large serving dish in such a way that yellow of the eggs, the saffron-colored rice, the nuts and the chicken make a colorful display.\", \n\"Add reserved onion as garnish.\")"
        ],
        [
         "2",
         "40",
         "Best Lemonade",
         "1566",
         "Stephen Little",
         "PT5M",
         "PT30M",
         "PT35M",
         "1999-09-05T19:52:00Z",
         "This is from one of my  first Good House Keeping cookbooks.  You must use a *zester* in order to avoid getting any of that bitter rind, and when you zest the lemons, zest them onto some sugar from the recipe (the sugar will 'catch' all of the oils).  I also advise you from personal experience to use only the best skinned lemons for the best flavor.",
         "c(\"https://img.sndimg.com/food/image/upload/w_555,h_416,c_fit,fl_progressive,q_95/v1/img/recipes/40/picJ4Sz3N.jpg\", \"https://img.sndimg.com/food/image/upload/w_555,h_416,c_fit,fl_progressive,q_95/v1/img/recipes/40/pic23FWio.jpg\")",
         "Beverages",
         "c(\"Low Protein\", \"Low Cholesterol\", \"Healthy\", \"Summer\", \"< 60 Mins\")",
         "c(\"1 1/2\", \"1\", NA, \"1 1/2\", NA, \"3/4\")",
         "c(\"sugar\", \"lemons, rind of\", \"lemon, zest of\", \"fresh water\", \"fresh lemon juice\")",
         "4.5",
         "10.0",
         "311.1",
         "0.2",
         "0.0",
         "0.0",
         "1.8",
         "81.5",
         "0.4",
         "77.2",
         "0.3",
         "4.0",
         null,
         "c(\"Into a 1 quart Jar with tight fitting lid, put sugar and lemon peel, or zest;  add 1 1/2 cups very hot water (not from tap!). With lid fitted firmly, shake jar until sugar is dissolved.\", \"Add lemon juice. Refrigerate until chilled.\", \"To Serve: Into each 12-ounce glass, over ice cubes, pour 1/4 cup of the lemon syrup.\", \"Then add chilled club soda or, if you prefer, water.\", \"Stir to mix well.\")"
        ],
        [
         "3",
         "41",
         "Carina's Tofu-Vegetable Kebabs",
         "1586",
         "Cyclopz",
         "PT20M",
         "PT24H",
         "PT24H20M",
         "1999-09-03T14:54:00Z",
         "This dish is best prepared a day in advance to allow the ingredients to soak in  the marinade overnight.",
         "c(\"https://img.sndimg.com/food/image/upload/w_555,h_416,c_fit,fl_progressive,q_95/v1/img/recipes/41/picmbLig8.jpg\", \"https://img.sndimg.com/food/image/upload/w_555,h_416,c_fit,fl_progressive,q_95/v1/img/recipes/41/picL02w0s.jpg\")",
         "Soy/Tofu",
         "c(\"Beans\", \"Vegetable\", \"Low Cholesterol\", \"Weeknight\", \"Broil/Grill\", \"Oven\")",
         "c(\"12\", \"1\", \"2\", \"1\", \"10\", \"1\", \"3\", \"2\", \"2\", \"2\", \"1\", \"2\", \"1/2\", \"1/4\", \"4\")",
         "c(\"extra firm tofu\", \"eggplant\", \"zucchini\", \"mushrooms\", \"soy sauce\", \"low sodium soy sauce\", \"olive oil\", \"maple syrup\", \"honey\", \"red wine vinegar\", \"lemon juice\", \"garlic cloves\", \"mustard powder\", \"black pepper\")",
         "4.5",
         "2.0",
         "536.1",
         "24.0",
         "3.8",
         "0.0",
         "1558.6",
         "64.2",
         "17.3",
         "32.1",
         "29.3",
         "2.0",
         "4 kebabs",
         "c(\"Drain the tofu, carefully squeezing out excess water,  and pat dry with paper towels.\", \"Cut tofu into one-inch squares.\", \"Set aside.  Cut  eggplant lengthwise in half, then cut each half into approximately three strips.\", \"Cut strips crosswise into one-inch cubes.\", \"Slice zucchini into half-inch thick  slices.\", \"Cut red pepper in half, removing stem and seeds, and cut each half into  one-inch squares.\", \"Wipe mushrooms clean with a moist paper towel and remove  stems.\", \"Thread tofu and vegetables on to barbecue skewers in alternating color  combinations: For example, first a piece of eggplant, then a slice of tofu, then zucchini, then red pepper, baby corn and mushrooms.\", \n\"Continue in this way until  all skewers are full.\", \"Make the marinade by putting all ingredients in a  blender, and blend on high speed for about one minute until mixed.\", \"Alternatively, put all ingredients in a glass jar, cover tightly with the lid  and shake well until mixed.\", \"Lay the kebabs in a long, shallow baking pan or on  a non-metal tray, making sure they lie flat. Evenly pour the marinade over the  kebabs, turning them once so that the tofu and vegetables are coated.\", \"Refrigerate the kebabs for three to eight hours, occasionally spooning the  marinade over them.\", \n\"Broil or grill the kebabs at 450 F for 15-20 minutes, or on the grill, until the vegetables are browned.\", \"Suggestions  This meal can be served over cooked, brown rice. Amounts can easily be doubled to make four servings.\")"
        ],
        [
         "4",
         "42",
         "Cabbage Soup",
         "1538",
         "Duckie067",
         "PT30M",
         "PT20M",
         "PT50M",
         "1999-09-19T06:19:00Z",
         "Make and share this Cabbage Soup recipe from Food.com.",
         "\"https://img.sndimg.com/food/image/upload/w_555,h_416,c_fit,fl_progressive,q_95/v1/img/recipes/42/picVEMxk8.jpg\"",
         "Vegetable",
         "c(\"Low Protein\", \"Vegan\", \"Low Cholesterol\", \"Healthy\", \"Winter\", \"< 60 Mins\", \"Easy\")",
         "c(\"46\", \"4\", \"1\", \"2\", \"1\")",
         "c(\"plain tomato juice\", \"cabbage\", \"onion\", \"carrots\", \"celery\")",
         "4.5",
         "11.0",
         "103.6",
         "0.4",
         "0.1",
         "0.0",
         "959.3",
         "25.1",
         "4.8",
         "17.7",
         "4.3",
         "4.0",
         null,
         "c(\"Mix everything together and bring to a boil.\", \"Reduce heat and simmer for 30 minutes (longer if you prefer your veggies to be soft).\", \"Refrigerate until cool.\", \"Serve chilled with sour cream.\")"
        ]
       ],
       "shape": {
        "columns": 28,
        "rows": 5
       }
      },
      "text/html": [
       "<div>\n",
       "<style scoped>\n",
       "    .dataframe tbody tr th:only-of-type {\n",
       "        vertical-align: middle;\n",
       "    }\n",
       "\n",
       "    .dataframe tbody tr th {\n",
       "        vertical-align: top;\n",
       "    }\n",
       "\n",
       "    .dataframe thead th {\n",
       "        text-align: right;\n",
       "    }\n",
       "</style>\n",
       "<table border=\"1\" class=\"dataframe\">\n",
       "  <thead>\n",
       "    <tr style=\"text-align: right;\">\n",
       "      <th></th>\n",
       "      <th>RecipeId</th>\n",
       "      <th>Name</th>\n",
       "      <th>AuthorId</th>\n",
       "      <th>AuthorName</th>\n",
       "      <th>CookTime</th>\n",
       "      <th>PrepTime</th>\n",
       "      <th>TotalTime</th>\n",
       "      <th>DatePublished</th>\n",
       "      <th>Description</th>\n",
       "      <th>Images</th>\n",
       "      <th>...</th>\n",
       "      <th>SaturatedFatContent</th>\n",
       "      <th>CholesterolContent</th>\n",
       "      <th>SodiumContent</th>\n",
       "      <th>CarbohydrateContent</th>\n",
       "      <th>FiberContent</th>\n",
       "      <th>SugarContent</th>\n",
       "      <th>ProteinContent</th>\n",
       "      <th>RecipeServings</th>\n",
       "      <th>RecipeYield</th>\n",
       "      <th>RecipeInstructions</th>\n",
       "    </tr>\n",
       "  </thead>\n",
       "  <tbody>\n",
       "    <tr>\n",
       "      <th>0</th>\n",
       "      <td>38</td>\n",
       "      <td>Low-Fat Berry Blue Frozen Dessert</td>\n",
       "      <td>1533</td>\n",
       "      <td>Dancer</td>\n",
       "      <td>PT24H</td>\n",
       "      <td>PT45M</td>\n",
       "      <td>PT24H45M</td>\n",
       "      <td>1999-08-09T21:46:00Z</td>\n",
       "      <td>Make and share this Low-Fat Berry Blue Frozen ...</td>\n",
       "      <td>c(\"https://img.sndimg.com/food/image/upload/w_...</td>\n",
       "      <td>...</td>\n",
       "      <td>1.3</td>\n",
       "      <td>8.0</td>\n",
       "      <td>29.8</td>\n",
       "      <td>37.1</td>\n",
       "      <td>3.6</td>\n",
       "      <td>30.2</td>\n",
       "      <td>3.2</td>\n",
       "      <td>4.0</td>\n",
       "      <td>NaN</td>\n",
       "      <td>c(\"Toss 2 cups berries with sugar.\", \"Let stan...</td>\n",
       "    </tr>\n",
       "    <tr>\n",
       "      <th>1</th>\n",
       "      <td>39</td>\n",
       "      <td>Biryani</td>\n",
       "      <td>1567</td>\n",
       "      <td>elly9812</td>\n",
       "      <td>PT25M</td>\n",
       "      <td>PT4H</td>\n",
       "      <td>PT4H25M</td>\n",
       "      <td>1999-08-29T13:12:00Z</td>\n",
       "      <td>Make and share this Biryani recipe from Food.com.</td>\n",
       "      <td>c(\"https://img.sndimg.com/food/image/upload/w_...</td>\n",
       "      <td>...</td>\n",
       "      <td>16.6</td>\n",
       "      <td>372.8</td>\n",
       "      <td>368.4</td>\n",
       "      <td>84.4</td>\n",
       "      <td>9.0</td>\n",
       "      <td>20.4</td>\n",
       "      <td>63.4</td>\n",
       "      <td>6.0</td>\n",
       "      <td>NaN</td>\n",
       "      <td>c(\"Soak saffron in warm milk for 5 minutes and...</td>\n",
       "    </tr>\n",
       "    <tr>\n",
       "      <th>2</th>\n",
       "      <td>40</td>\n",
       "      <td>Best Lemonade</td>\n",
       "      <td>1566</td>\n",
       "      <td>Stephen Little</td>\n",
       "      <td>PT5M</td>\n",
       "      <td>PT30M</td>\n",
       "      <td>PT35M</td>\n",
       "      <td>1999-09-05T19:52:00Z</td>\n",
       "      <td>This is from one of my  first Good House Keepi...</td>\n",
       "      <td>c(\"https://img.sndimg.com/food/image/upload/w_...</td>\n",
       "      <td>...</td>\n",
       "      <td>0.0</td>\n",
       "      <td>0.0</td>\n",
       "      <td>1.8</td>\n",
       "      <td>81.5</td>\n",
       "      <td>0.4</td>\n",
       "      <td>77.2</td>\n",
       "      <td>0.3</td>\n",
       "      <td>4.0</td>\n",
       "      <td>NaN</td>\n",
       "      <td>c(\"Into a 1 quart Jar with tight fitting lid, ...</td>\n",
       "    </tr>\n",
       "    <tr>\n",
       "      <th>3</th>\n",
       "      <td>41</td>\n",
       "      <td>Carina's Tofu-Vegetable Kebabs</td>\n",
       "      <td>1586</td>\n",
       "      <td>Cyclopz</td>\n",
       "      <td>PT20M</td>\n",
       "      <td>PT24H</td>\n",
       "      <td>PT24H20M</td>\n",
       "      <td>1999-09-03T14:54:00Z</td>\n",
       "      <td>This dish is best prepared a day in advance to...</td>\n",
       "      <td>c(\"https://img.sndimg.com/food/image/upload/w_...</td>\n",
       "      <td>...</td>\n",
       "      <td>3.8</td>\n",
       "      <td>0.0</td>\n",
       "      <td>1558.6</td>\n",
       "      <td>64.2</td>\n",
       "      <td>17.3</td>\n",
       "      <td>32.1</td>\n",
       "      <td>29.3</td>\n",
       "      <td>2.0</td>\n",
       "      <td>4 kebabs</td>\n",
       "      <td>c(\"Drain the tofu, carefully squeezing out exc...</td>\n",
       "    </tr>\n",
       "    <tr>\n",
       "      <th>4</th>\n",
       "      <td>42</td>\n",
       "      <td>Cabbage Soup</td>\n",
       "      <td>1538</td>\n",
       "      <td>Duckie067</td>\n",
       "      <td>PT30M</td>\n",
       "      <td>PT20M</td>\n",
       "      <td>PT50M</td>\n",
       "      <td>1999-09-19T06:19:00Z</td>\n",
       "      <td>Make and share this Cabbage Soup recipe from F...</td>\n",
       "      <td>\"https://img.sndimg.com/food/image/upload/w_55...</td>\n",
       "      <td>...</td>\n",
       "      <td>0.1</td>\n",
       "      <td>0.0</td>\n",
       "      <td>959.3</td>\n",
       "      <td>25.1</td>\n",
       "      <td>4.8</td>\n",
       "      <td>17.7</td>\n",
       "      <td>4.3</td>\n",
       "      <td>4.0</td>\n",
       "      <td>NaN</td>\n",
       "      <td>c(\"Mix everything together and bring to a boil...</td>\n",
       "    </tr>\n",
       "  </tbody>\n",
       "</table>\n",
       "<p>5 rows × 28 columns</p>\n",
       "</div>"
      ],
      "text/plain": [
       "   RecipeId                               Name  AuthorId      AuthorName  \\\n",
       "0        38  Low-Fat Berry Blue Frozen Dessert      1533          Dancer   \n",
       "1        39                            Biryani      1567        elly9812   \n",
       "2        40                      Best Lemonade      1566  Stephen Little   \n",
       "3        41     Carina's Tofu-Vegetable Kebabs      1586         Cyclopz   \n",
       "4        42                       Cabbage Soup      1538       Duckie067   \n",
       "\n",
       "  CookTime PrepTime TotalTime         DatePublished  \\\n",
       "0    PT24H    PT45M  PT24H45M  1999-08-09T21:46:00Z   \n",
       "1    PT25M     PT4H   PT4H25M  1999-08-29T13:12:00Z   \n",
       "2     PT5M    PT30M     PT35M  1999-09-05T19:52:00Z   \n",
       "3    PT20M    PT24H  PT24H20M  1999-09-03T14:54:00Z   \n",
       "4    PT30M    PT20M     PT50M  1999-09-19T06:19:00Z   \n",
       "\n",
       "                                         Description  \\\n",
       "0  Make and share this Low-Fat Berry Blue Frozen ...   \n",
       "1  Make and share this Biryani recipe from Food.com.   \n",
       "2  This is from one of my  first Good House Keepi...   \n",
       "3  This dish is best prepared a day in advance to...   \n",
       "4  Make and share this Cabbage Soup recipe from F...   \n",
       "\n",
       "                                              Images  ... SaturatedFatContent  \\\n",
       "0  c(\"https://img.sndimg.com/food/image/upload/w_...  ...                 1.3   \n",
       "1  c(\"https://img.sndimg.com/food/image/upload/w_...  ...                16.6   \n",
       "2  c(\"https://img.sndimg.com/food/image/upload/w_...  ...                 0.0   \n",
       "3  c(\"https://img.sndimg.com/food/image/upload/w_...  ...                 3.8   \n",
       "4  \"https://img.sndimg.com/food/image/upload/w_55...  ...                 0.1   \n",
       "\n",
       "  CholesterolContent SodiumContent CarbohydrateContent  FiberContent  \\\n",
       "0                8.0          29.8                37.1           3.6   \n",
       "1              372.8         368.4                84.4           9.0   \n",
       "2                0.0           1.8                81.5           0.4   \n",
       "3                0.0        1558.6                64.2          17.3   \n",
       "4                0.0         959.3                25.1           4.8   \n",
       "\n",
       "   SugarContent  ProteinContent  RecipeServings  RecipeYield  \\\n",
       "0          30.2             3.2             4.0          NaN   \n",
       "1          20.4            63.4             6.0          NaN   \n",
       "2          77.2             0.3             4.0          NaN   \n",
       "3          32.1            29.3             2.0     4 kebabs   \n",
       "4          17.7             4.3             4.0          NaN   \n",
       "\n",
       "                                  RecipeInstructions  \n",
       "0  c(\"Toss 2 cups berries with sugar.\", \"Let stan...  \n",
       "1  c(\"Soak saffron in warm milk for 5 minutes and...  \n",
       "2  c(\"Into a 1 quart Jar with tight fitting lid, ...  \n",
       "3  c(\"Drain the tofu, carefully squeezing out exc...  \n",
       "4  c(\"Mix everything together and bring to a boil...  \n",
       "\n",
       "[5 rows x 28 columns]"
      ]
     },
     "execution_count": 9,
     "metadata": {},
     "output_type": "execute_result"
    }
   ],
   "source": [
    "data3 = pd.read_csv(f'{file_path}set3-f/recipes.csv')\n",
    "data3.head()"
   ]
  },
  {
   "cell_type": "code",
   "execution_count": 10,
   "metadata": {},
   "outputs": [
    {
     "data": {
      "application/vnd.microsoft.datawrangler.viewer.v0+json": {
       "columns": [
        {
         "name": "index",
         "rawType": "int64",
         "type": "integer"
        },
        {
         "name": "id",
         "rawType": "int64",
         "type": "integer"
        },
        {
         "name": "ingredients",
         "rawType": "object",
         "type": "string"
        }
       ],
       "conversionMethod": "pd.DataFrame",
       "ref": "fc33688a-2305-46b4-b1ba-e19e3d304a73",
       "rows": [
        [
         "0",
         "38",
         "c(\"blueberries\", \"granulated sugar\", \"vanilla yogurt\", \"lemon juice\")"
        ],
        [
         "1",
         "39",
         "c(\"saffron\", \"milk\", \"hot green chili peppers\", \"onions\", \"garlic\", \"clove\", \"peppercorns\", \"cardamom seed\", \"cumin seed\", \"poppy seed\", \"mace\", \"cilantro\", \"mint leaf\", \"fresh lemon juice\", \"plain yogurt\", \"boneless chicken\", \"salt\", \"ghee\", \"onion\", \"tomatoes\", \"basmati rice\", \"long-grain rice\", \"raisins\", \"cashews\", \"eggs\")"
        ],
        [
         "2",
         "40",
         "c(\"sugar\", \"lemons, rind of\", \"lemon, zest of\", \"fresh water\", \"fresh lemon juice\")"
        ],
        [
         "3",
         "41",
         "c(\"extra firm tofu\", \"eggplant\", \"zucchini\", \"mushrooms\", \"soy sauce\", \"low sodium soy sauce\", \"olive oil\", \"maple syrup\", \"honey\", \"red wine vinegar\", \"lemon juice\", \"garlic cloves\", \"mustard powder\", \"black pepper\")"
        ],
        [
         "4",
         "42",
         "c(\"plain tomato juice\", \"cabbage\", \"onion\", \"carrots\", \"celery\")"
        ]
       ],
       "shape": {
        "columns": 2,
        "rows": 5
       }
      },
      "text/html": [
       "<div>\n",
       "<style scoped>\n",
       "    .dataframe tbody tr th:only-of-type {\n",
       "        vertical-align: middle;\n",
       "    }\n",
       "\n",
       "    .dataframe tbody tr th {\n",
       "        vertical-align: top;\n",
       "    }\n",
       "\n",
       "    .dataframe thead th {\n",
       "        text-align: right;\n",
       "    }\n",
       "</style>\n",
       "<table border=\"1\" class=\"dataframe\">\n",
       "  <thead>\n",
       "    <tr style=\"text-align: right;\">\n",
       "      <th></th>\n",
       "      <th>id</th>\n",
       "      <th>ingredients</th>\n",
       "    </tr>\n",
       "  </thead>\n",
       "  <tbody>\n",
       "    <tr>\n",
       "      <th>0</th>\n",
       "      <td>38</td>\n",
       "      <td>c(\"blueberries\", \"granulated sugar\", \"vanilla ...</td>\n",
       "    </tr>\n",
       "    <tr>\n",
       "      <th>1</th>\n",
       "      <td>39</td>\n",
       "      <td>c(\"saffron\", \"milk\", \"hot green chili peppers\"...</td>\n",
       "    </tr>\n",
       "    <tr>\n",
       "      <th>2</th>\n",
       "      <td>40</td>\n",
       "      <td>c(\"sugar\", \"lemons, rind of\", \"lemon, zest of\"...</td>\n",
       "    </tr>\n",
       "    <tr>\n",
       "      <th>3</th>\n",
       "      <td>41</td>\n",
       "      <td>c(\"extra firm tofu\", \"eggplant\", \"zucchini\", \"...</td>\n",
       "    </tr>\n",
       "    <tr>\n",
       "      <th>4</th>\n",
       "      <td>42</td>\n",
       "      <td>c(\"plain tomato juice\", \"cabbage\", \"onion\", \"c...</td>\n",
       "    </tr>\n",
       "  </tbody>\n",
       "</table>\n",
       "</div>"
      ],
      "text/plain": [
       "   id                                        ingredients\n",
       "0  38  c(\"blueberries\", \"granulated sugar\", \"vanilla ...\n",
       "1  39  c(\"saffron\", \"milk\", \"hot green chili peppers\"...\n",
       "2  40  c(\"sugar\", \"lemons, rind of\", \"lemon, zest of\"...\n",
       "3  41  c(\"extra firm tofu\", \"eggplant\", \"zucchini\", \"...\n",
       "4  42  c(\"plain tomato juice\", \"cabbage\", \"onion\", \"c..."
      ]
     },
     "execution_count": 10,
     "metadata": {},
     "output_type": "execute_result"
    }
   ],
   "source": [
    "dataset3 = pd.DataFrame()\n",
    "dataset3['id'] = data3['RecipeId']\n",
    "dataset3['ingredients'] = data3['RecipeIngredientParts']\n",
    "dataset3.head()"
   ]
  },
  {
   "cell_type": "markdown",
   "metadata": {},
   "source": [
    " - need to do further editing to bring the ingredients list in line with the other datasets"
   ]
  },
  {
   "cell_type": "code",
   "execution_count": 11,
   "metadata": {},
   "outputs": [],
   "source": [
    "def clean_set_3(data):\n",
    "    data = data[2:-1]\n",
    "    matches = re.findall(r'\"(.*?)\"', data)\n",
    "\n",
    "    return list(matches)"
   ]
  },
  {
   "cell_type": "code",
   "execution_count": 12,
   "metadata": {},
   "outputs": [
    {
     "data": {
      "application/vnd.microsoft.datawrangler.viewer.v0+json": {
       "columns": [
        {
         "name": "index",
         "rawType": "int64",
         "type": "integer"
        },
        {
         "name": "id",
         "rawType": "int64",
         "type": "integer"
        },
        {
         "name": "ingredients",
         "rawType": "object",
         "type": "unknown"
        }
       ],
       "conversionMethod": "pd.DataFrame",
       "ref": "63c462c5-a124-4bc9-9439-95f958e315c5",
       "rows": [
        [
         "0",
         "38",
         "['blueberries', 'granulated sugar', 'vanilla yogurt', 'lemon juice']"
        ],
        [
         "1",
         "39",
         "['saffron', 'milk', 'hot green chili peppers', 'onions', 'garlic', 'clove', 'peppercorns', 'cardamom seed', 'cumin seed', 'poppy seed', 'mace', 'cilantro', 'mint leaf', 'fresh lemon juice', 'plain yogurt', 'boneless chicken', 'salt', 'ghee', 'onion', 'tomatoes', 'basmati rice', 'long-grain rice', 'raisins', 'cashews', 'eggs']"
        ],
        [
         "2",
         "40",
         "['sugar', 'lemons, rind of', 'lemon, zest of', 'fresh water', 'fresh lemon juice']"
        ],
        [
         "3",
         "41",
         "['extra firm tofu', 'eggplant', 'zucchini', 'mushrooms', 'soy sauce', 'low sodium soy sauce', 'olive oil', 'maple syrup', 'honey', 'red wine vinegar', 'lemon juice', 'garlic cloves', 'mustard powder', 'black pepper']"
        ],
        [
         "4",
         "42",
         "['plain tomato juice', 'cabbage', 'onion', 'carrots', 'celery']"
        ]
       ],
       "shape": {
        "columns": 2,
        "rows": 5
       }
      },
      "text/html": [
       "<div>\n",
       "<style scoped>\n",
       "    .dataframe tbody tr th:only-of-type {\n",
       "        vertical-align: middle;\n",
       "    }\n",
       "\n",
       "    .dataframe tbody tr th {\n",
       "        vertical-align: top;\n",
       "    }\n",
       "\n",
       "    .dataframe thead th {\n",
       "        text-align: right;\n",
       "    }\n",
       "</style>\n",
       "<table border=\"1\" class=\"dataframe\">\n",
       "  <thead>\n",
       "    <tr style=\"text-align: right;\">\n",
       "      <th></th>\n",
       "      <th>id</th>\n",
       "      <th>ingredients</th>\n",
       "    </tr>\n",
       "  </thead>\n",
       "  <tbody>\n",
       "    <tr>\n",
       "      <th>0</th>\n",
       "      <td>38</td>\n",
       "      <td>[blueberries, granulated sugar, vanilla yogurt...</td>\n",
       "    </tr>\n",
       "    <tr>\n",
       "      <th>1</th>\n",
       "      <td>39</td>\n",
       "      <td>[saffron, milk, hot green chili peppers, onion...</td>\n",
       "    </tr>\n",
       "    <tr>\n",
       "      <th>2</th>\n",
       "      <td>40</td>\n",
       "      <td>[sugar, lemons, rind of, lemon, zest of, fresh...</td>\n",
       "    </tr>\n",
       "    <tr>\n",
       "      <th>3</th>\n",
       "      <td>41</td>\n",
       "      <td>[extra firm tofu, eggplant, zucchini, mushroom...</td>\n",
       "    </tr>\n",
       "    <tr>\n",
       "      <th>4</th>\n",
       "      <td>42</td>\n",
       "      <td>[plain tomato juice, cabbage, onion, carrots, ...</td>\n",
       "    </tr>\n",
       "  </tbody>\n",
       "</table>\n",
       "</div>"
      ],
      "text/plain": [
       "   id                                        ingredients\n",
       "0  38  [blueberries, granulated sugar, vanilla yogurt...\n",
       "1  39  [saffron, milk, hot green chili peppers, onion...\n",
       "2  40  [sugar, lemons, rind of, lemon, zest of, fresh...\n",
       "3  41  [extra firm tofu, eggplant, zucchini, mushroom...\n",
       "4  42  [plain tomato juice, cabbage, onion, carrots, ..."
      ]
     },
     "execution_count": 12,
     "metadata": {},
     "output_type": "execute_result"
    }
   ],
   "source": [
    "dataset3['ingredients'] = dataset3['ingredients'].apply(clean_set_3)\n",
    "dataset3.head()"
   ]
  },
  {
   "cell_type": "code",
   "execution_count": 13,
   "metadata": {},
   "outputs": [
    {
     "name": "stdout",
     "output_type": "stream",
     "text": [
      "<class 'pandas.core.frame.DataFrame'>\n",
      "RangeIndex: 522517 entries, 0 to 522516\n",
      "Data columns (total 2 columns):\n",
      " #   Column       Non-Null Count   Dtype \n",
      "---  ------       --------------   ----- \n",
      " 0   id           522517 non-null  int64 \n",
      " 1   ingredients  522517 non-null  object\n",
      "dtypes: int64(1), object(1)\n",
      "memory usage: 8.0+ MB\n"
     ]
    }
   ],
   "source": [
    "dataset3.info()"
   ]
  },
  {
   "cell_type": "markdown",
   "metadata": {},
   "source": [
    "### [Dataset 4 (set4-f)](https://www.kaggle.com/datasets/wilmerarltstrmberg/recipe-dataset-over-2m)\n",
    " - Viable"
   ]
  },
  {
   "cell_type": "code",
   "execution_count": 14,
   "metadata": {},
   "outputs": [
    {
     "data": {
      "application/vnd.microsoft.datawrangler.viewer.v0+json": {
       "columns": [
        {
         "name": "index",
         "rawType": "int64",
         "type": "integer"
        },
        {
         "name": "title",
         "rawType": "object",
         "type": "string"
        },
        {
         "name": "ingredients",
         "rawType": "object",
         "type": "string"
        },
        {
         "name": "directions",
         "rawType": "object",
         "type": "string"
        },
        {
         "name": "link",
         "rawType": "object",
         "type": "string"
        },
        {
         "name": "source",
         "rawType": "object",
         "type": "string"
        },
        {
         "name": "NER",
         "rawType": "object",
         "type": "string"
        },
        {
         "name": "site",
         "rawType": "object",
         "type": "string"
        }
       ],
       "conversionMethod": "pd.DataFrame",
       "ref": "f8a9be1d-49e2-484c-ab03-4c74a5a2a4fe",
       "rows": [
        [
         "0",
         "No-Bake Nut Cookies",
         "[\"1 c. firmly packed brown sugar\", \"1/2 c. evaporated milk\", \"1/2 tsp. vanilla\", \"1/2 c. broken nuts (pecans)\", \"2 Tbsp. butter or margarine\", \"3 1/2 c. bite size shredded rice biscuits\"]",
         "[\"In a heavy 2-quart saucepan, mix brown sugar, nuts, evaporated milk and butter or margarine.\", \"Stir over medium heat until mixture bubbles all over top.\", \"Boil and stir 5 minutes more. Take off heat.\", \"Stir in vanilla and cereal; mix well.\", \"Using 2 teaspoons, drop and shape into 30 clusters on wax paper.\", \"Let stand until firm, about 30 minutes.\"]",
         "www.cookbooks.com/Recipe-Details.aspx?id=44874",
         "Gathered",
         "[\"bite size shredded rice biscuits\", \"vanilla\", \"brown sugar\", \"nuts\", \"milk\", \"butter\"]",
         "www.cookbooks.com"
        ],
        [
         "1",
         "Jewell Ball'S Chicken",
         "[\"1 small jar chipped beef, cut up\", \"4 boned chicken breasts\", \"1 can cream of mushroom soup\", \"1 carton sour cream\"]",
         "[\"Place chipped beef on bottom of baking dish.\", \"Place chicken on top of beef.\", \"Mix soup and cream together; pour over chicken. Bake, uncovered, at 275\\u00b0 for 3 hours.\"]",
         "www.cookbooks.com/Recipe-Details.aspx?id=699419",
         "Gathered",
         "[\"cream of mushroom soup\", \"beef\", \"sour cream\", \"chicken breasts\"]",
         "www.cookbooks.com"
        ],
        [
         "2",
         "Creamy Corn",
         "[\"2 (16 oz.) pkg. frozen corn\", \"1 (8 oz.) pkg. cream cheese, cubed\", \"1/3 c. butter, cubed\", \"1/2 tsp. garlic powder\", \"1/2 tsp. salt\", \"1/4 tsp. pepper\"]",
         "[\"In a slow cooker, combine all ingredients. Cover and cook on low for 4 hours or until heated through and cheese is melted. Stir well before serving. Yields 6 servings.\"]",
         "www.cookbooks.com/Recipe-Details.aspx?id=10570",
         "Gathered",
         "[\"frozen corn\", \"pepper\", \"cream cheese\", \"garlic powder\", \"butter\", \"salt\"]",
         "www.cookbooks.com"
        ],
        [
         "3",
         "Chicken Funny",
         "[\"1 large whole chicken\", \"2 (10 1/2 oz.) cans chicken gravy\", \"1 (10 1/2 oz.) can cream of mushroom soup\", \"1 (6 oz.) box Stove Top stuffing\", \"4 oz. shredded cheese\"]",
         "[\"Boil and debone chicken.\", \"Put bite size pieces in average size square casserole dish.\", \"Pour gravy and cream of mushroom soup over chicken; level.\", \"Make stuffing according to instructions on box (do not make too moist).\", \"Put stuffing on top of chicken and gravy; level.\", \"Sprinkle shredded cheese on top and bake at 350\\u00b0 for approximately 20 minutes or until golden and bubbly.\"]",
         "www.cookbooks.com/Recipe-Details.aspx?id=897570",
         "Gathered",
         "[\"chicken gravy\", \"cream of mushroom soup\", \"chicken\", \"shredded cheese\"]",
         "www.cookbooks.com"
        ],
        [
         "4",
         "Reeses Cups(Candy)  ",
         "[\"1 c. peanut butter\", \"3/4 c. graham cracker crumbs\", \"1 c. melted butter\", \"1 lb. (3 1/2 c.) powdered sugar\", \"1 large pkg. chocolate chips\"]",
         "[\"Combine first four ingredients and press in 13 x 9-inch ungreased pan.\", \"Melt chocolate chips and spread over mixture. Refrigerate for about 20 minutes and cut into pieces before chocolate gets hard.\", \"Keep in refrigerator.\"]",
         "www.cookbooks.com/Recipe-Details.aspx?id=659239",
         "Gathered",
         "[\"graham cracker crumbs\", \"powdered sugar\", \"peanut butter\", \"chocolate chips\", \"butter\"]",
         "www.cookbooks.com"
        ]
       ],
       "shape": {
        "columns": 7,
        "rows": 5
       }
      },
      "text/html": [
       "<div>\n",
       "<style scoped>\n",
       "    .dataframe tbody tr th:only-of-type {\n",
       "        vertical-align: middle;\n",
       "    }\n",
       "\n",
       "    .dataframe tbody tr th {\n",
       "        vertical-align: top;\n",
       "    }\n",
       "\n",
       "    .dataframe thead th {\n",
       "        text-align: right;\n",
       "    }\n",
       "</style>\n",
       "<table border=\"1\" class=\"dataframe\">\n",
       "  <thead>\n",
       "    <tr style=\"text-align: right;\">\n",
       "      <th></th>\n",
       "      <th>title</th>\n",
       "      <th>ingredients</th>\n",
       "      <th>directions</th>\n",
       "      <th>link</th>\n",
       "      <th>source</th>\n",
       "      <th>NER</th>\n",
       "      <th>site</th>\n",
       "    </tr>\n",
       "  </thead>\n",
       "  <tbody>\n",
       "    <tr>\n",
       "      <th>0</th>\n",
       "      <td>No-Bake Nut Cookies</td>\n",
       "      <td>[\"1 c. firmly packed brown sugar\", \"1/2 c. eva...</td>\n",
       "      <td>[\"In a heavy 2-quart saucepan, mix brown sugar...</td>\n",
       "      <td>www.cookbooks.com/Recipe-Details.aspx?id=44874</td>\n",
       "      <td>Gathered</td>\n",
       "      <td>[\"bite size shredded rice biscuits\", \"vanilla\"...</td>\n",
       "      <td>www.cookbooks.com</td>\n",
       "    </tr>\n",
       "    <tr>\n",
       "      <th>1</th>\n",
       "      <td>Jewell Ball'S Chicken</td>\n",
       "      <td>[\"1 small jar chipped beef, cut up\", \"4 boned ...</td>\n",
       "      <td>[\"Place chipped beef on bottom of baking dish....</td>\n",
       "      <td>www.cookbooks.com/Recipe-Details.aspx?id=699419</td>\n",
       "      <td>Gathered</td>\n",
       "      <td>[\"cream of mushroom soup\", \"beef\", \"sour cream...</td>\n",
       "      <td>www.cookbooks.com</td>\n",
       "    </tr>\n",
       "    <tr>\n",
       "      <th>2</th>\n",
       "      <td>Creamy Corn</td>\n",
       "      <td>[\"2 (16 oz.) pkg. frozen corn\", \"1 (8 oz.) pkg...</td>\n",
       "      <td>[\"In a slow cooker, combine all ingredients. C...</td>\n",
       "      <td>www.cookbooks.com/Recipe-Details.aspx?id=10570</td>\n",
       "      <td>Gathered</td>\n",
       "      <td>[\"frozen corn\", \"pepper\", \"cream cheese\", \"gar...</td>\n",
       "      <td>www.cookbooks.com</td>\n",
       "    </tr>\n",
       "    <tr>\n",
       "      <th>3</th>\n",
       "      <td>Chicken Funny</td>\n",
       "      <td>[\"1 large whole chicken\", \"2 (10 1/2 oz.) cans...</td>\n",
       "      <td>[\"Boil and debone chicken.\", \"Put bite size pi...</td>\n",
       "      <td>www.cookbooks.com/Recipe-Details.aspx?id=897570</td>\n",
       "      <td>Gathered</td>\n",
       "      <td>[\"chicken gravy\", \"cream of mushroom soup\", \"c...</td>\n",
       "      <td>www.cookbooks.com</td>\n",
       "    </tr>\n",
       "    <tr>\n",
       "      <th>4</th>\n",
       "      <td>Reeses Cups(Candy)</td>\n",
       "      <td>[\"1 c. peanut butter\", \"3/4 c. graham cracker ...</td>\n",
       "      <td>[\"Combine first four ingredients and press in ...</td>\n",
       "      <td>www.cookbooks.com/Recipe-Details.aspx?id=659239</td>\n",
       "      <td>Gathered</td>\n",
       "      <td>[\"graham cracker crumbs\", \"powdered sugar\", \"p...</td>\n",
       "      <td>www.cookbooks.com</td>\n",
       "    </tr>\n",
       "  </tbody>\n",
       "</table>\n",
       "</div>"
      ],
      "text/plain": [
       "                   title                                        ingredients  \\\n",
       "0    No-Bake Nut Cookies  [\"1 c. firmly packed brown sugar\", \"1/2 c. eva...   \n",
       "1  Jewell Ball'S Chicken  [\"1 small jar chipped beef, cut up\", \"4 boned ...   \n",
       "2            Creamy Corn  [\"2 (16 oz.) pkg. frozen corn\", \"1 (8 oz.) pkg...   \n",
       "3          Chicken Funny  [\"1 large whole chicken\", \"2 (10 1/2 oz.) cans...   \n",
       "4   Reeses Cups(Candy)    [\"1 c. peanut butter\", \"3/4 c. graham cracker ...   \n",
       "\n",
       "                                          directions  \\\n",
       "0  [\"In a heavy 2-quart saucepan, mix brown sugar...   \n",
       "1  [\"Place chipped beef on bottom of baking dish....   \n",
       "2  [\"In a slow cooker, combine all ingredients. C...   \n",
       "3  [\"Boil and debone chicken.\", \"Put bite size pi...   \n",
       "4  [\"Combine first four ingredients and press in ...   \n",
       "\n",
       "                                              link    source  \\\n",
       "0   www.cookbooks.com/Recipe-Details.aspx?id=44874  Gathered   \n",
       "1  www.cookbooks.com/Recipe-Details.aspx?id=699419  Gathered   \n",
       "2   www.cookbooks.com/Recipe-Details.aspx?id=10570  Gathered   \n",
       "3  www.cookbooks.com/Recipe-Details.aspx?id=897570  Gathered   \n",
       "4  www.cookbooks.com/Recipe-Details.aspx?id=659239  Gathered   \n",
       "\n",
       "                                                 NER               site  \n",
       "0  [\"bite size shredded rice biscuits\", \"vanilla\"...  www.cookbooks.com  \n",
       "1  [\"cream of mushroom soup\", \"beef\", \"sour cream...  www.cookbooks.com  \n",
       "2  [\"frozen corn\", \"pepper\", \"cream cheese\", \"gar...  www.cookbooks.com  \n",
       "3  [\"chicken gravy\", \"cream of mushroom soup\", \"c...  www.cookbooks.com  \n",
       "4  [\"graham cracker crumbs\", \"powdered sugar\", \"p...  www.cookbooks.com  "
      ]
     },
     "execution_count": 14,
     "metadata": {},
     "output_type": "execute_result"
    }
   ],
   "source": [
    "data4 = pd.read_csv(f'{file_path}set4-f/recipes_data.csv')\n",
    "data4.head()"
   ]
  },
  {
   "cell_type": "code",
   "execution_count": 15,
   "metadata": {},
   "outputs": [],
   "source": [
    "dataset4 = pd.DataFrame()\n",
    "dataset4['id'] = data4.index\n",
    "dataset4['ingredients'] = data4['ingredients']"
   ]
  },
  {
   "cell_type": "code",
   "execution_count": 16,
   "metadata": {},
   "outputs": [
    {
     "data": {
      "application/vnd.microsoft.datawrangler.viewer.v0+json": {
       "columns": [
        {
         "name": "index",
         "rawType": "int64",
         "type": "integer"
        },
        {
         "name": "id",
         "rawType": "int64",
         "type": "integer"
        },
        {
         "name": "ingredients",
         "rawType": "object",
         "type": "string"
        }
       ],
       "conversionMethod": "pd.DataFrame",
       "ref": "65f7852c-412f-47e9-a8a3-d43171954906",
       "rows": [
        [
         "0",
         "0",
         "[\"1 c. firmly packed brown sugar\", \"1/2 c. evaporated milk\", \"1/2 tsp. vanilla\", \"1/2 c. broken nuts (pecans)\", \"2 Tbsp. butter or margarine\", \"3 1/2 c. bite size shredded rice biscuits\"]"
        ],
        [
         "1",
         "1",
         "[\"1 small jar chipped beef, cut up\", \"4 boned chicken breasts\", \"1 can cream of mushroom soup\", \"1 carton sour cream\"]"
        ],
        [
         "2",
         "2",
         "[\"2 (16 oz.) pkg. frozen corn\", \"1 (8 oz.) pkg. cream cheese, cubed\", \"1/3 c. butter, cubed\", \"1/2 tsp. garlic powder\", \"1/2 tsp. salt\", \"1/4 tsp. pepper\"]"
        ],
        [
         "3",
         "3",
         "[\"1 large whole chicken\", \"2 (10 1/2 oz.) cans chicken gravy\", \"1 (10 1/2 oz.) can cream of mushroom soup\", \"1 (6 oz.) box Stove Top stuffing\", \"4 oz. shredded cheese\"]"
        ],
        [
         "4",
         "4",
         "[\"1 c. peanut butter\", \"3/4 c. graham cracker crumbs\", \"1 c. melted butter\", \"1 lb. (3 1/2 c.) powdered sugar\", \"1 large pkg. chocolate chips\"]"
        ],
        [
         "5",
         "5",
         "[\"6 baking potatoes\", \"1 lb. of extra lean ground beef\", \"2/3 c. butter or margarine\", \"6 c. milk\", \"3/4 tsp. salt\", \"1/2 tsp. pepper\", \"1 1/2 c (6 oz.) shredded Cheddar cheese, divided\", \"12 sliced bacon, cooked, crumbled and divided\", \"4 green onion, chopped and divided\", \"1 (8 oz.) carton sour cream (optional)\"]"
        ],
        [
         "6",
         "6",
         "[\"1 1/2 c. sugar\", \"1/2 c. butter\", \"1 egg\", \"1 c. buttermilk\", \"2 c. flour\", \"1/2 tsp. salt\", \"1 tsp. soda\", \"1 c. buttermilk\", \"2 c. rhubarb, finely cut\", \"1 tsp. vanilla\"]"
        ],
        [
         "7",
         "7",
         "[\"1 can cream-style corn\", \"1 can whole kernel corn\", \"1/2 pkg. (approximately 20) saltine crackers, crushed\", \"1 egg, beaten\", \"6 tsp. butter, divided\", \"pepper to taste\"]"
        ],
        [
         "8",
         "8",
         "[\"1 1/2 lb. round steak (1-inch thick), cut into strips\", \"1 can drained tomatoes, cut up (save liquid)\", \"1 3/4 c. water\", \"1/2 c. onions\", \"1 1/2 Tbsp. Worcestershire sauce\", \"2 green peppers, diced\", \"1/4 c. oil\"]"
        ],
        [
         "9",
         "9",
         "[\"1 large container Cool Whip\", \"1 large can crushed pineapple\", \"1 can condensed milk\", \"3 lemons\", \"1 c. pecans\", \"2 graham cracker crusts\"]"
        ],
        [
         "10",
         "10",
         "[\"1 (17 oz.) can dark sweet pitted cherries\", \"1/2 c. ginger ale\", \"1 (6 oz.) pkg. Jell-O cherry flavor gelatin\", \"2 c. boiling water\", \"1/8 tsp. almond extract\", \"1 c. miniature marshmallows\"]"
        ],
        [
         "11",
         "11",
         "[\"1 box powdered sugar\", \"8 oz. soft butter\", \"1 (8 oz.) peanut butter\", \"paraffin\", \"12 oz. chocolate chips\"]"
        ],
        [
         "12",
         "12",
         "[\"chicken wings (as many as you need for dinner)\", \"flour\", \"barbecue sauce (your choice)\"]"
        ],
        [
         "13",
         "13",
         "[\"8 oz. Ortega taco sauce\", \"8 oz. sour cream\", \"8 oz. cream cheese\", \"1 lb. ground beef\", \"1 pkg. taco seasoning\", \"shredded lettuce\", \"1 large diced tomato\", \"1 medium diced onion\", \"1 large diced green pepper\", \"shredded Colby or Cheddar cheese\"]"
        ],
        [
         "14",
         "14",
         "[\"1 can pie filling (cherry or strawberry)\", \"1 can crushed pineapple, drained\", \"1 can sweetened condensed milk\", \"1 (8 oz.) container thawed whipped topping\", \"2 Tbsp. lemon juice\"]"
        ],
        [
         "15",
         "15",
         "[\"1 baked pie shell\", \"1 qt. cleaned strawberries\", \"1 1/2 c. water\", \"4 Tbsp. cornstarch\", \"1 c. sugar\", \"1/8 tsp. salt\", \"4 Tbsp. strawberry jello\"]"
        ],
        [
         "16",
         "16",
         "[\"1/2 pkg. chocolate fudge cake mix without pudding or 1 Jiffy mix\", \"1/2 pkg. white cake mix without pudding or 1 Jiffy mix\", \"1/4 c. Wesson oil\"]"
        ],
        [
         "17",
         "17",
         "[\"1 large head broccoli (about 1 1/2 lb.)\", \"10 slices bacon, cooked and crumbled\", \"5 green onions, sliced or 1/4 c. chopped red onion\", \"1/2 c. raisins\", \"1 c. mayonnaise\", \"2 Tbsp. vinegar\", \"1/4 c. sugar\"]"
        ],
        [
         "18",
         "18",
         "[\"1 lb. frozen strawberries in juice\", \"1 small can crushed pineapple\", \"3 ripe bananas\", \"1 c. chopped pecans\", \"1 large pkg. strawberry Jell-O\", \"1 1/2 c. boiling water\", \"1 pt. sour cream\"]"
        ],
        [
         "19",
         "19",
         "[\"3/4 c. sugar\", \"1/2 c. shortening\", \"1 1/2 c. applesauce\", \"3 level tsp. soda\", \"1 tsp. each: cinnamon, cloves and nutmeg\", \"2 c. sifted flour\", \"1 c. raisins\", \"1 c. nuts\"]"
        ],
        [
         "20",
         "20",
         "[\"1 c. sugar\", \"1/2 c. shortening\", \"2 eggs (add one at a time)\", \"1 tsp. salt\", \"2 tsp. soda\", \"2 c. flour\", \"1/4 c. nuts\", \"2 over-ripe bananas (chopped)\"]"
        ],
        [
         "21",
         "21",
         "[\"1 pkg. devil's food cake mix\", \"1 pkg. chocolate fudge pudding mix (instant)\", \"8 oz. sour cream\", \"3/4 c. water\", \"1/2 c. Wesson oil\", \"4 eggs\", \"6 oz. chopped Frango mints\"]"
        ],
        [
         "22",
         "22",
         "[\"2 c. 7-Up or Sprite\", \"1 c. vegetable oil\", \"1 c. Kikkoman soy sauce\", \"garlic salt\"]"
        ],
        [
         "23",
         "23",
         "[\"1/2 bushel tomatoes\", \"1 c. oil\", \"1/4 c. minced garlic\", \"6 cans tomato paste\", \"3 peppers (2 sweet and 1 hot)\", \"1 1/2 c. sugar\", \"1/2 c. salt\", \"1 Tbsp. sweet basil\", \"2 Tbsp. oregano\", \"1 tsp. Italian seasoning\"]"
        ],
        [
         "24",
         "24",
         "[\"1 1/2 lb. ground beef\", \"1 c. tomato juice\", \"3/4 c. oats (uncooked)\", \"1 egg, beaten\", \"1/4 c. chopped onion\", \"1/4 tsp. pepper\", \"1 1/2 tsp. salt\"]"
        ],
        [
         "25",
         "25",
         "[\"2 lb. round steak\", \"1/2 tsp. ground black pepper\", \"1 tsp. ground white pepper\", \"1/2 c. vegetable oil\", \"2 bell peppers, chopped\", \"1 c. beef stock or water\", \"2 tsp. salt\", \"1 tsp. ground red pepper\", \"all-purpose flour (dredging)\", \"3 medium onions, chopped\", \"1 celery rib, chopped\"]"
        ],
        [
         "26",
         "26",
         "[\"2 lb. round steak 1/2 to 3/4-inch thick, sliced in strips 1/8-inch thick (or thinner) and 3 1/2 to 4-inches long (easily sliced if partially frozen)\", \"2 Tbsp. cooking oil\", \"1 can (15 oz.) tomato sauce\", \"1/3 c. water\", \"2 Tbsp. brown sugar\", \"1 Tbsp. prepared mustard\", \"1 tbsp. Worcestershire sauce\", \"1 medium sized onion, thinly sliced\"]"
        ],
        [
         "27",
         "27",
         "[\"1 (14 oz.) can sweetened condensed milk\", \"1 (12 oz.) pkg. semi-sweet chocolate chips\", \"1 (1 oz.) sq. unsweetened chocolate (if desired)\", \"1 1/2 c. chopped nuts (if desired)\", \"1 tsp. vanilla\"]"
        ],
        [
         "28",
         "28",
         "[\"1 lb. Ground Beef\", \"1 pkg. taco seasoning\", \"1 san Kidney beans\", \"1 onion, chopped\", \"1 C salsa\", \"4 green peppers\", \"1 medium Tomato, chopped\", \"1/2 C cheddar cheese, shredded\", \"1/2 C sour cream\"]"
        ],
        [
         "29",
         "29",
         "[\"1 c. milk\", \"2 Tbsp. sugar\", \"1 pkg. dry yeast\", \"1 Tbsp. salt\", \"3 Tbsp. Crisco oil\", \"2 c. plain flour\"]"
        ],
        [
         "30",
         "30",
         "[\"2 large cans sliced peaches\", \"2 large cans fruit cocktail\", \"1 large can diced pineapple\", \"1 qt. fresh strawberries\", \"2 red apples\", \"2 yellow apples\", \"4 large ripe bananas\", \"1 lb. white grapes\", \"1 lb. purple grapes\"]"
        ],
        [
         "31",
         "31",
         "[\"1 pkg. chicken cutlets\", \"1/2 c. oil\", \"1/3 c. red vinegar\", \"2 Tbsp. oregano\", \"2 Tbsp. garlic salt\"]"
        ],
        [
         "32",
         "32",
         "[\"2 cans cherry pie mix\", \"1 box deluxe white cake mix\", \"1 stick butter\", \"1 c. ground nuts\"]"
        ],
        [
         "33",
         "33",
         "[\"3 eggs\", \"1 tsp. salt\", \"1/4 tsp. pepper\", \"2 c. half and half\", \"3 c. potatoes, shredded coarse\", \"1 c. Cheddar cheese, coarsely shredded\", \"1/3 c. green onions\"]"
        ],
        [
         "34",
         "34",
         "[\"1 box macaroni and cheese\", \"1 can tuna, drained\", \"1 small jar pimentos\", \"1 medium onion, chopped\"]"
        ],
        [
         "35",
         "35",
         "[\"2 cans or jars artichoke hearts\", \"1 c. mayonnaise\", \"1 c. Parmesan cheese\"]"
        ],
        [
         "36",
         "36",
         "[\"16 oz. sour cream\", \"1 pkg. dry vegetable soup mix\", \"10 oz. pkg. frozen chopped broccoli, thawed and drained\", \"4 to 6 oz. Cheddar cheese, grated\"]"
        ],
        [
         "37",
         "37",
         "[\"1 lb. very thin spaghetti\", \"1/2 bottle McCormick Salad Supreme (seasoning)\", \"1 bottle Zesty Italian dressing\"]"
        ],
        [
         "38",
         "38",
         "[\"1 (16 oz.) can pear halves, undrained\", \"1 (3 oz.) pkg. lime gelatin\", \"1 (8 oz.) pkg. cream cheese, softened\", \"1 (8 oz.) carton lemon yogurt\"]"
        ],
        [
         "39",
         "39",
         "[\"7 lb. watermelon rind\", \"7 c. sugar\", \"2 c. apple vinegar\", \"1/2 tsp. oil of cloves\", \"1/2 tsp. oil of cinnamon\"]"
        ],
        [
         "40",
         "40",
         "[\"3 lb. chicken, boiled\", \"4 medium potatoes, diced\", \"2 medium onions, chopped\", \"1 (16 oz.) can creamed corn\", \"1 (16 oz.) can English peas\", \"1 (16 oz.) can field peas\", \"1 (16 oz.) can butter beans\", \"1 (16 oz.) can tomatoes\", \"1 (46 oz.) can tomato juice\", \"1 small box macaroni\", \"1 Tbsp. black pepper\", \"1 Tbsp. salt\", \"1 Tbsp. sugar\"]"
        ],
        [
         "41",
         "41",
         "[\"3 Tbsp. softened butter or margarine\", \"1/2 c. granulated sugar\", \"1 egg\", \"1 c. flour\", \"1 1/4 tsp. baking powder\", \"1/4 tsp. salt\", \"1/3 c. milk\", \"1/4 tsp. vanilla\", \"1/3 c. brown sugar, packed\", \"1/2 tsp. cinnamon\", \"2 Tbsp. butter or margarine\"]"
        ],
        [
         "42",
         "42",
         "[\"5 c. flour\", \"3 Tbsp. sugar\", \"4 tsp. baking powder\", \"1 1/2 pkg. dry yeast\", \"2 c. buttermilk\", \"1 tsp. soda\", \"1 1/2 sticks margarine\", \"1/2 c. warm water\"]"
        ],
        [
         "43",
         "43",
         "[\"8 marshmallows\", \"2 Tbsp. margarine, melted\", \"1/4 c. crushed peppermint candy\", \"1 can crescent rolls\"]"
        ],
        [
         "44",
         "44",
         "[\"1 box yellow cake mix\", \"1/4 c. water\", \"1/4 c. brown sugar\", \"1/2 c. soft butter\", \"2 eggs\", \"1/2 c. chopped nuts\"]"
        ],
        [
         "45",
         "45",
         "[\"1 c. flour\", \"1 c. sugar\", \"1/2 c. oleo, softened\", \"4 eggs\", \"1 can chocolate syrup\"]"
        ],
        [
         "46",
         "46",
         "[\"3 c. self rising flour\", \"1 - 12 oz. can beer\", \"1 Tbsp. sugar\"]"
        ],
        [
         "47",
         "47",
         "[\"1/4 c. margarine\", \"1/4 c. chopped onion (or as much as you want)\", \"chopped celery to taste\", \"1/4 c. flour\", \"1/8 tsp. curry powder\", \"1 can sliced mushrooms (save juice)\", \"1 can cream of celery soup\", \"1 pkg. chopped broccoli\", \"1 cubed chicken\", \"shredded Monterey Jack cheese\"]"
        ],
        [
         "48",
         "48",
         "[\"1 1/2 c. sifted flour\", \"1/2 tsp. baking powder\", \"1/2 tsp. salt\", \"1/2 c. butter\", \"2/3 c. sugar\", \"3 egg yolks\", \"1 tsp. vanilla\", \"multi-colored candies\"]"
        ],
        [
         "49",
         "49",
         "[\"1/2 lb. ground beef\", \"2 c. water\", \"1 tsp. sugar\", \"1 pkg. Cup-a-Soup onion soup mix (dry)\", \"1 lb. can stewed tomatoes\", \"1 (8 oz.) can tomato sauce\", \"1 (10 oz.) pkg. frozen mixed vegetables\"]"
        ]
       ],
       "shape": {
        "columns": 2,
        "rows": 2231142
       }
      },
      "text/html": [
       "<div>\n",
       "<style scoped>\n",
       "    .dataframe tbody tr th:only-of-type {\n",
       "        vertical-align: middle;\n",
       "    }\n",
       "\n",
       "    .dataframe tbody tr th {\n",
       "        vertical-align: top;\n",
       "    }\n",
       "\n",
       "    .dataframe thead th {\n",
       "        text-align: right;\n",
       "    }\n",
       "</style>\n",
       "<table border=\"1\" class=\"dataframe\">\n",
       "  <thead>\n",
       "    <tr style=\"text-align: right;\">\n",
       "      <th></th>\n",
       "      <th>id</th>\n",
       "      <th>ingredients</th>\n",
       "    </tr>\n",
       "  </thead>\n",
       "  <tbody>\n",
       "    <tr>\n",
       "      <th>0</th>\n",
       "      <td>0</td>\n",
       "      <td>[\"1 c. firmly packed brown sugar\", \"1/2 c. eva...</td>\n",
       "    </tr>\n",
       "    <tr>\n",
       "      <th>1</th>\n",
       "      <td>1</td>\n",
       "      <td>[\"1 small jar chipped beef, cut up\", \"4 boned ...</td>\n",
       "    </tr>\n",
       "    <tr>\n",
       "      <th>2</th>\n",
       "      <td>2</td>\n",
       "      <td>[\"2 (16 oz.) pkg. frozen corn\", \"1 (8 oz.) pkg...</td>\n",
       "    </tr>\n",
       "    <tr>\n",
       "      <th>3</th>\n",
       "      <td>3</td>\n",
       "      <td>[\"1 large whole chicken\", \"2 (10 1/2 oz.) cans...</td>\n",
       "    </tr>\n",
       "    <tr>\n",
       "      <th>4</th>\n",
       "      <td>4</td>\n",
       "      <td>[\"1 c. peanut butter\", \"3/4 c. graham cracker ...</td>\n",
       "    </tr>\n",
       "    <tr>\n",
       "      <th>...</th>\n",
       "      <td>...</td>\n",
       "      <td>...</td>\n",
       "    </tr>\n",
       "    <tr>\n",
       "      <th>2231137</th>\n",
       "      <td>2231137</td>\n",
       "      <td>[\"1/2 cup chocolate hazelnut spread (recommend...</td>\n",
       "    </tr>\n",
       "    <tr>\n",
       "      <th>2231138</th>\n",
       "      <td>2231138</td>\n",
       "      <td>[\"1 dozen eggs\", \"1 paprika\", \"1 salt and pepp...</td>\n",
       "    </tr>\n",
       "    <tr>\n",
       "      <th>2231139</th>\n",
       "      <td>2231139</td>\n",
       "      <td>[\"150 grams Daikon radish\", \"1 tbsp Sesame oil...</td>\n",
       "    </tr>\n",
       "    <tr>\n",
       "      <th>2231140</th>\n",
       "      <td>2231140</td>\n",
       "      <td>[\"1 cup apple cider\", \"6 tablespoons sugar\", \"...</td>\n",
       "    </tr>\n",
       "    <tr>\n",
       "      <th>2231141</th>\n",
       "      <td>2231141</td>\n",
       "      <td>[\"1 pound ground veal\", \"1/2 pound sweet Itali...</td>\n",
       "    </tr>\n",
       "  </tbody>\n",
       "</table>\n",
       "<p>2231142 rows × 2 columns</p>\n",
       "</div>"
      ],
      "text/plain": [
       "              id                                        ingredients\n",
       "0              0  [\"1 c. firmly packed brown sugar\", \"1/2 c. eva...\n",
       "1              1  [\"1 small jar chipped beef, cut up\", \"4 boned ...\n",
       "2              2  [\"2 (16 oz.) pkg. frozen corn\", \"1 (8 oz.) pkg...\n",
       "3              3  [\"1 large whole chicken\", \"2 (10 1/2 oz.) cans...\n",
       "4              4  [\"1 c. peanut butter\", \"3/4 c. graham cracker ...\n",
       "...          ...                                                ...\n",
       "2231137  2231137  [\"1/2 cup chocolate hazelnut spread (recommend...\n",
       "2231138  2231138  [\"1 dozen eggs\", \"1 paprika\", \"1 salt and pepp...\n",
       "2231139  2231139  [\"150 grams Daikon radish\", \"1 tbsp Sesame oil...\n",
       "2231140  2231140  [\"1 cup apple cider\", \"6 tablespoons sugar\", \"...\n",
       "2231141  2231141  [\"1 pound ground veal\", \"1/2 pound sweet Itali...\n",
       "\n",
       "[2231142 rows x 2 columns]"
      ]
     },
     "execution_count": 16,
     "metadata": {},
     "output_type": "execute_result"
    }
   ],
   "source": [
    "dataset4"
   ]
  },
  {
   "cell_type": "markdown",
   "metadata": {},
   "source": [
    "- This dataset has all the measurements in the ingredients lists, so will need to drop all of the numbers stop words"
   ]
  },
  {
   "cell_type": "code",
   "execution_count": 17,
   "metadata": {},
   "outputs": [],
   "source": [
    "def remove_common_words(ingredients):\n",
    "     complete_list = []\n",
    "     translator = str.maketrans('','',string.punctuation)\n",
    "     for ingredient in ingredients:\n",
    "          new_list = []\n",
    "          words = ingredient.split()\n",
    "          for word in words:\n",
    "               word = word.translate(translator)\n",
    "               word = re.sub(r'\\d+','',word)\n",
    "               word = word.strip()\n",
    "               if word not in stop_words:            \n",
    "                    new_list.append(word)\n",
    "          complete_list.append(\" \".join(new_list).strip())\n",
    "     return complete_list\n",
    "\n"
   ]
  },
  {
   "cell_type": "code",
   "execution_count": null,
   "metadata": {},
   "outputs": [],
   "source": [
    "dataset4['ingredients'] = dataset4['ingredients'].apply(convert_to_list)\n",
    "dataset4['ingredients'] = dataset4['ingredients'].apply(remove_common_words)\n",
    "display(dataset4.head())\n",
    "dataset4.info()"
   ]
  },
  {
   "cell_type": "code",
   "execution_count": null,
   "metadata": {},
   "outputs": [
    {
     "data": {
      "application/vnd.microsoft.datawrangler.viewer.v0+json": {
       "columns": [
        {
         "name": "index",
         "rawType": "int64",
         "type": "integer"
        },
        {
         "name": "id",
         "rawType": "int64",
         "type": "integer"
        },
        {
         "name": "ingredients",
         "rawType": "object",
         "type": "unknown"
        }
       ],
       "conversionMethod": "pd.DataFrame",
       "ref": "e949c4c1-663e-4937-9ee3-280e3467834d",
       "rows": [
        [
         "0",
         "0",
         "['c firmly packed brown sugar', 'c evaporated milk', 'tsp vanilla', 'c broken nuts pecans', 'Tbsp butter margarine', 'c bite size shredded rice biscuits']"
        ],
        [
         "1",
         "1",
         "['small jar chipped beef cut', 'boned chicken breasts', 'cream mushroom soup', 'carton sour cream']"
        ],
        [
         "2",
         "2",
         "['oz pkg frozen corn', 'oz pkg cream cheese cubed', 'c butter cubed', 'tsp garlic powder', 'tsp salt', 'tsp pepper']"
        ],
        [
         "3",
         "3",
         "['large whole chicken', 'oz cans chicken gravy', 'oz cream mushroom soup', 'oz box Stove Top stuffing', 'oz shredded cheese']"
        ],
        [
         "4",
         "4",
         "['c peanut butter', 'c graham cracker crumbs', 'c melted butter', 'lb   c powdered sugar', 'large pkg chocolate chips']"
        ],
        [
         "5",
         "5",
         "['baking potatoes', 'lb extra lean ground beef', 'c butter margarine', 'c milk', 'tsp salt', 'tsp pepper', 'c  oz shredded Cheddar cheese divided', 'sliced bacon cooked crumbled divided', 'green onion chopped divided', 'oz carton sour cream optional']"
        ],
        [
         "6",
         "6",
         "['c sugar', 'c butter', 'egg', 'c buttermilk', 'c flour', 'tsp salt', 'tsp soda', 'c buttermilk', 'c rhubarb finely cut', 'tsp vanilla']"
        ],
        [
         "7",
         "7",
         "['creamstyle corn', 'whole kernel corn', 'pkg approximately  saltine crackers crushed', 'egg beaten', 'tsp butter divided', 'pepper taste']"
        ],
        [
         "8",
         "8",
         "['lb round steak inch thick cut strips', 'drained tomatoes cut save liquid', 'c water', 'c onions', 'Tbsp Worcestershire sauce', 'green peppers diced', 'c oil']"
        ],
        [
         "9",
         "9",
         "['large container Cool Whip', 'large crushed pineapple', 'condensed milk', 'lemons', 'c pecans', 'graham cracker crusts']"
        ],
        [
         "10",
         "10",
         "['oz dark sweet pitted cherries', 'c ginger ale', 'oz pkg JellO cherry flavor gelatin', 'c boiling water', 'tsp almond extract', 'c miniature marshmallows']"
        ],
        [
         "11",
         "11",
         "['box powdered sugar', 'oz soft butter', 'oz peanut butter', 'paraffin', 'oz chocolate chips']"
        ],
        [
         "12",
         "12",
         "['chicken wings many need dinner', 'flour', 'barbecue sauce choice']"
        ],
        [
         "13",
         "13",
         "['oz Ortega taco sauce', 'oz sour cream', 'oz cream cheese', 'lb ground beef', 'pkg taco seasoning', 'shredded lettuce', 'large diced tomato', 'medium diced onion', 'large diced green pepper', 'shredded Colby Cheddar cheese']"
        ],
        [
         "14",
         "14",
         "['pie filling cherry strawberry', 'crushed pineapple drained', 'sweetened condensed milk', 'oz container thawed whipped topping', 'Tbsp lemon juice']"
        ],
        [
         "15",
         "15",
         "['baked pie shell', 'qt cleaned strawberries', 'c water', 'Tbsp cornstarch', 'c sugar', 'tsp salt', 'Tbsp strawberry jello']"
        ],
        [
         "16",
         "16",
         "['pkg chocolate fudge cake mix without pudding  Jiffy mix', 'pkg white cake mix without pudding  Jiffy mix', 'c Wesson oil']"
        ],
        [
         "17",
         "17",
         "['large head broccoli   lb', 'slices bacon cooked crumbled', 'green onions sliced  c chopped red onion', 'c raisins', 'c mayonnaise', 'Tbsp vinegar', 'c sugar']"
        ],
        [
         "18",
         "18",
         "['lb frozen strawberries juice', 'small crushed pineapple', 'ripe bananas', 'c chopped pecans', 'large pkg strawberry JellO', 'c boiling water', 'pt sour cream']"
        ],
        [
         "19",
         "19",
         "['c sugar', 'c shortening', 'c applesauce', 'level tsp soda', 'tsp cinnamon cloves nutmeg', 'c sifted flour', 'c raisins', 'c nuts']"
        ],
        [
         "20",
         "20",
         "['c sugar', 'c shortening', 'eggs add one time', 'tsp salt', 'tsp soda', 'c flour', 'c nuts', 'overripe bananas chopped']"
        ],
        [
         "21",
         "21",
         "['pkg devils food cake mix', 'pkg chocolate fudge pudding mix instant', 'oz sour cream', 'c water', 'c Wesson oil', 'eggs', 'oz chopped Frango mints']"
        ],
        [
         "22",
         "22",
         "['c Up Sprite', 'c vegetable oil', 'c Kikkoman soy sauce', 'garlic salt']"
        ],
        [
         "23",
         "23",
         "['bushel tomatoes', 'c oil', 'c minced garlic', 'cans tomato paste', 'peppers  sweet  hot', 'c sugar', 'c salt', 'Tbsp sweet basil', 'Tbsp oregano', 'tsp Italian seasoning']"
        ],
        [
         "24",
         "24",
         "['lb ground beef', 'c tomato juice', 'c oats uncooked', 'egg beaten', 'c chopped onion', 'tsp pepper', 'tsp salt']"
        ],
        [
         "25",
         "25",
         "['lb round steak', 'tsp ground black pepper', 'tsp ground white pepper', 'c vegetable oil', 'bell peppers chopped', 'c beef stock water', 'tsp salt', 'tsp ground red pepper', 'allpurpose flour dredging', 'medium onions chopped', 'celery rib chopped']"
        ],
        [
         "26",
         "26",
         "['lb round steak  inch thick sliced strips inch thick thinner   inches long easily sliced partially frozen', 'Tbsp cooking oil', 'oz tomato sauce', 'c water', 'Tbsp brown sugar', 'Tbsp prepared mustard', 'tbsp Worcestershire sauce', 'medium sized onion thinly sliced']"
        ],
        [
         "27",
         "27",
         "['oz sweetened condensed milk', 'oz pkg semisweet chocolate chips', 'oz sq unsweetened chocolate desired', 'c chopped nuts desired', 'tsp vanilla']"
        ],
        [
         "28",
         "28",
         "['lb Ground Beef', 'pkg taco seasoning', 'san Kidney beans', 'onion chopped', 'C salsa', 'green peppers', 'medium Tomato chopped', 'C cheddar cheese shredded', 'C sour cream']"
        ],
        [
         "29",
         "29",
         "['c milk', 'Tbsp sugar', 'pkg dry yeast', 'Tbsp salt', 'Tbsp Crisco oil', 'c plain flour']"
        ],
        [
         "30",
         "30",
         "['large cans sliced peaches', 'large cans fruit cocktail', 'large diced pineapple', 'qt fresh strawberries', 'red apples', 'yellow apples', 'large ripe bananas', 'lb white grapes', 'lb purple grapes']"
        ],
        [
         "31",
         "31",
         "['pkg chicken cutlets', 'c oil', 'c red vinegar', 'Tbsp oregano', 'Tbsp garlic salt']"
        ],
        [
         "32",
         "32",
         "['cans cherry pie mix', 'box deluxe white cake mix', 'stick butter', 'c ground nuts']"
        ],
        [
         "33",
         "33",
         "['eggs', 'tsp salt', 'tsp pepper', 'c half half', 'c potatoes shredded coarse', 'c Cheddar cheese coarsely shredded', 'c green onions']"
        ],
        [
         "34",
         "34",
         "['box macaroni cheese', 'tuna drained', 'small jar pimentos', 'medium onion chopped']"
        ],
        [
         "35",
         "35",
         "['cans jars artichoke hearts', 'c mayonnaise', 'c Parmesan cheese']"
        ],
        [
         "36",
         "36",
         "['oz sour cream', 'pkg dry vegetable soup mix', 'oz pkg frozen chopped broccoli thawed drained', 'oz Cheddar cheese grated']"
        ],
        [
         "37",
         "37",
         "['lb thin spaghetti', 'bottle McCormick Salad Supreme seasoning', 'bottle Zesty Italian dressing']"
        ],
        [
         "38",
         "38",
         "['oz pear halves undrained', 'oz pkg lime gelatin', 'oz pkg cream cheese softened', 'oz carton lemon yogurt']"
        ],
        [
         "39",
         "39",
         "['lb watermelon rind', 'c sugar', 'c apple vinegar', 'tsp oil cloves', 'tsp oil cinnamon']"
        ],
        [
         "40",
         "40",
         "['lb chicken boiled', 'medium potatoes diced', 'medium onions chopped', 'oz creamed corn', 'oz English peas', 'oz field peas', 'oz butter beans', 'oz tomatoes', 'oz tomato juice', 'small box macaroni', 'Tbsp black pepper', 'Tbsp salt', 'Tbsp sugar']"
        ],
        [
         "41",
         "41",
         "['Tbsp softened butter margarine', 'c granulated sugar', 'egg', 'c flour', 'tsp baking powder', 'tsp salt', 'c milk', 'tsp vanilla', 'c brown sugar packed', 'tsp cinnamon', 'Tbsp butter margarine']"
        ],
        [
         "42",
         "42",
         "['c flour', 'Tbsp sugar', 'tsp baking powder', 'pkg dry yeast', 'c buttermilk', 'tsp soda', 'sticks margarine', 'c warm water']"
        ],
        [
         "43",
         "43",
         "['marshmallows', 'Tbsp margarine melted', 'c crushed peppermint candy', 'crescent rolls']"
        ],
        [
         "44",
         "44",
         "['box yellow cake mix', 'c water', 'c brown sugar', 'c soft butter', 'eggs', 'c chopped nuts']"
        ],
        [
         "45",
         "45",
         "['c flour', 'c sugar', 'c oleo softened', 'eggs', 'chocolate syrup']"
        ],
        [
         "46",
         "46",
         "['c self rising flour', 'oz beer', 'Tbsp sugar']"
        ],
        [
         "47",
         "47",
         "['c margarine', 'c chopped onion much want', 'chopped celery taste', 'c flour', 'tsp curry powder', 'sliced mushrooms save juice', 'cream celery soup', 'pkg chopped broccoli', 'cubed chicken', 'shredded Monterey Jack cheese']"
        ],
        [
         "48",
         "48",
         "['c sifted flour', 'tsp baking powder', 'tsp salt', 'c butter', 'c sugar', 'egg yolks', 'tsp vanilla', 'multicolored candies']"
        ],
        [
         "49",
         "49",
         "['lb ground beef', 'c water', 'tsp sugar', 'pkg CupaSoup onion soup mix dry', 'lb stewed tomatoes', 'oz tomato sauce', 'oz pkg frozen mixed vegetables']"
        ]
       ],
       "shape": {
        "columns": 2,
        "rows": 2231142
       }
      },
      "text/html": [
       "<div>\n",
       "<style scoped>\n",
       "    .dataframe tbody tr th:only-of-type {\n",
       "        vertical-align: middle;\n",
       "    }\n",
       "\n",
       "    .dataframe tbody tr th {\n",
       "        vertical-align: top;\n",
       "    }\n",
       "\n",
       "    .dataframe thead th {\n",
       "        text-align: right;\n",
       "    }\n",
       "</style>\n",
       "<table border=\"1\" class=\"dataframe\">\n",
       "  <thead>\n",
       "    <tr style=\"text-align: right;\">\n",
       "      <th></th>\n",
       "      <th>id</th>\n",
       "      <th>ingredients</th>\n",
       "    </tr>\n",
       "  </thead>\n",
       "  <tbody>\n",
       "    <tr>\n",
       "      <th>0</th>\n",
       "      <td>0</td>\n",
       "      <td>[c firmly packed brown sugar, c evaporated mil...</td>\n",
       "    </tr>\n",
       "    <tr>\n",
       "      <th>1</th>\n",
       "      <td>1</td>\n",
       "      <td>[small jar chipped beef cut, boned chicken bre...</td>\n",
       "    </tr>\n",
       "    <tr>\n",
       "      <th>2</th>\n",
       "      <td>2</td>\n",
       "      <td>[oz pkg frozen corn, oz pkg cream cheese cubed...</td>\n",
       "    </tr>\n",
       "    <tr>\n",
       "      <th>3</th>\n",
       "      <td>3</td>\n",
       "      <td>[large whole chicken, oz cans chicken gravy, o...</td>\n",
       "    </tr>\n",
       "    <tr>\n",
       "      <th>4</th>\n",
       "      <td>4</td>\n",
       "      <td>[c peanut butter, c graham cracker crumbs, c m...</td>\n",
       "    </tr>\n",
       "    <tr>\n",
       "      <th>...</th>\n",
       "      <td>...</td>\n",
       "      <td>...</td>\n",
       "    </tr>\n",
       "    <tr>\n",
       "      <th>2231137</th>\n",
       "      <td>2231137</td>\n",
       "      <td>[cup chocolate hazelnut spread recommended Nut...</td>\n",
       "    </tr>\n",
       "    <tr>\n",
       "      <th>2231138</th>\n",
       "      <td>2231138</td>\n",
       "      <td>[dozen eggs, paprika, salt pepper liking, tsp ...</td>\n",
       "    </tr>\n",
       "    <tr>\n",
       "      <th>2231139</th>\n",
       "      <td>2231139</td>\n",
       "      <td>[grams Daikon radish, tbsp Sesame oil, tbsp Wh...</td>\n",
       "    </tr>\n",
       "    <tr>\n",
       "      <th>2231140</th>\n",
       "      <td>2231140</td>\n",
       "      <td>[cup apple cider, tablespoons sugar, tablespoo...</td>\n",
       "    </tr>\n",
       "    <tr>\n",
       "      <th>2231141</th>\n",
       "      <td>2231141</td>\n",
       "      <td>[pound ground veal, pound sweet Italian sausag...</td>\n",
       "    </tr>\n",
       "  </tbody>\n",
       "</table>\n",
       "<p>2231142 rows × 2 columns</p>\n",
       "</div>"
      ],
      "text/plain": [
       "              id                                        ingredients\n",
       "0              0  [c firmly packed brown sugar, c evaporated mil...\n",
       "1              1  [small jar chipped beef cut, boned chicken bre...\n",
       "2              2  [oz pkg frozen corn, oz pkg cream cheese cubed...\n",
       "3              3  [large whole chicken, oz cans chicken gravy, o...\n",
       "4              4  [c peanut butter, c graham cracker crumbs, c m...\n",
       "...          ...                                                ...\n",
       "2231137  2231137  [cup chocolate hazelnut spread recommended Nut...\n",
       "2231138  2231138  [dozen eggs, paprika, salt pepper liking, tsp ...\n",
       "2231139  2231139  [grams Daikon radish, tbsp Sesame oil, tbsp Wh...\n",
       "2231140  2231140  [cup apple cider, tablespoons sugar, tablespoo...\n",
       "2231141  2231141  [pound ground veal, pound sweet Italian sausag...\n",
       "\n",
       "[2231142 rows x 2 columns]"
      ]
     },
     "execution_count": 19,
     "metadata": {},
     "output_type": "execute_result"
    }
   ],
   "source": [
    "dataset4"
   ]
  },
  {
   "cell_type": "markdown",
   "metadata": {},
   "source": [
    "### [Dataset 5 (set5-f)](https://www.kaggle.com/datasets/sterby/german-recipes-dataset)\n",
    " - Non-Viable\n"
   ]
  },
  {
   "cell_type": "code",
   "execution_count": null,
   "metadata": {},
   "outputs": [
    {
     "data": {
      "application/vnd.microsoft.datawrangler.viewer.v0+json": {
       "columns": [
        {
         "name": "index",
         "rawType": "int64",
         "type": "integer"
        },
        {
         "name": "Url",
         "rawType": "object",
         "type": "string"
        },
        {
         "name": "Instructions",
         "rawType": "object",
         "type": "string"
        },
        {
         "name": "Ingredients",
         "rawType": "object",
         "type": "unknown"
        },
        {
         "name": "Day",
         "rawType": "int64",
         "type": "integer"
        },
        {
         "name": "Name",
         "rawType": "object",
         "type": "string"
        },
        {
         "name": "Year",
         "rawType": "int64",
         "type": "integer"
        },
        {
         "name": "Month",
         "rawType": "object",
         "type": "string"
        },
        {
         "name": "Weekday",
         "rawType": "object",
         "type": "string"
        }
       ],
       "conversionMethod": "pd.DataFrame",
       "ref": "34a011da-fea4-4287-b43d-79096e6402fd",
       "rows": [
        [
         "0",
         "https://www.chefkoch.de/rezepte/185441079701305/",
         "Die Eier hart kochen. Dann pellen und mit einem Eierschneider in Scheiben schneiden. Den Reis halbgar kochen und zur Seite stellen. Die Wurst (Kolbász) in dünne Scheiben schneiden.Den Knoblauch abziehen und fein würfeln. Die Zwiebel schälen, fein hacken und in etwas Fett glasig braten. Knoblauch und Hackfleisch dazu geben und so lange braten, bis das Hackfleisch schön krümelig wird. Den eigenen Saft nicht ganz verkochen lassen. Die Fleischmasse mit Salz, Pfeffer und Paprikapulver würzen.Das Sauerkraut kurz durchspülen, ausdrücken und abtropfen lassen (damit es nicht zu sauer wird). Das Sauerkraut in einen Topf geben und mit dem Kümmel und den Lorbeerblättern vermischen. Ca. 30 Minuten unter Zugabe von wenig Wasser bei niedriger Stufe dünsten.Eine feuerfeste Form mit etwas Öl einfetten und den Boden dünn mit Sauerkraut belegen. Darauf Kolbász und die Hälfte der in Scheiben geschnittene Eier verteilen, dann eine weitere dünne Schicht Sauerkraut drüber legen. Mit 1 Becher Schmand bedecken. Nun das Hackfleisch mit dem Reis mischen und auf der Sauerkrautschicht gleichmäßig verteilen. Mit der zweiten Hälfte der Eier belegen und die dritte Schicht Sauerkraut oben drauf verteilen. Wenn noch Zutaten (Hackfleisch-Reis-Masse und Sauerkraut) übrig sind, kann man diese Schichten weiter so legen. Ganz oben kommt eine Schicht Sauerkraut. Auf diese letzte Schicht verteilt man noch den Rest vom Schmand (sollte reichlich sein). Den Speck in dünne Scheiben schneiden und damit alles abdecken. Mit etwas Öl besprenkeln. Die Form mit einem Deckel verschließend.Im vorgeheizten Backofen bei 175°C ober-/Unterhitze gut 1 Std. garen.Ganz frische Baguettebrötchen oder Weißbrot schmeckt am allerbesten dazu. Man kann aber auch Kartoffel- oder Semmelknödel dazu reichen. Etwas aufwendig, aber die Mühe lohnt sich... es ist einfach mega-ober-lecker.Anmerkung: Für viele sind Eier in Verbindung mit Sauerkraut ein No-Go, man kann sie also auch weglassen.",
         "['600 g Hackfleisch, halb und halb', '800 g Sauerkraut', '200 g Wurst, geräucherte (Csabai Kolbász)', '150 g Speck, durchwachsener, geräucherter', '100 g Reis', '1 m.-große Zwiebel(n)', '1 Zehe/n Knoblauch', '2 Becher Schmand', '1/2TL Kümmel, ganzer', '2 Lorbeerblätter', 'Salz und Pfeffer', '4 Ei(er) (bei Bedarf)', 'Paprikapulver', 'etwas Wasser', 'Öl']",
         "1",
         "Gebratener Hasenrücken",
         "2009",
         "January",
         "Thursday"
        ],
        [
         "1",
         "https://www.chefkoch.de/rezepte/2718181424631245/",
         "Vorab folgende Bemerkung: Alle Mengen sind Circa-Angaben und können nach Geschmack variiert werden!Das Gemüse putzen und in Stücke schneiden (die Tomaten brauchen nicht geschält zu werden!). Alle Zutaten werden im Mixer püriert, das muss wegen der Mengen in mehreren Partien geschehen, und zu jeder Partie muss auch etwas von der Brühe gegeben werden. Auch das Toastbrot wird mitpüriert, es dient der Bindung. Am Schluss lässt man das Öl bei laufendem Mixer einfließen. In einer großen Schüssel alles gut verrühren und für mindestens eine Stunde im Kühlschrank gut durchkühlen lassen.Mit frischem Baguette an heißen Tagen ein Hochgenuss.Tipps: Wer mag, kann in kleine Würfel geschnittene Tomate, Gurke und Zwiebel separat dazu reichen.Die Suppe eignet sich hervorragend zum Einfrieren, so dass ich immer diese große Menge zubereite, um den Arbeitsaufwand gering zu halten.",
         "['1 kg Strauchtomate(n)', '1 Gemüsezwiebel(n)', '1 Salatgurke(n)', '1 Paprikaschote(n) nach Wahl', '6 Zehe/n Knoblauch', '1 Chilischote(n)', '15 EL Balsamico oder Weinessig', '6 EL Olivenöl', '4 Scheibe/n Toastbrot', 'Salz und Pfeffer', '1 kl. Dose/n Tomate(n), geschälte, oder 1 Pck. pürierte Tomaten', '1/2Liter Brühe, kalte']",
         "1",
         "Pilz Stroganoff",
         "2017",
         "July",
         "Saturday"
        ],
        [
         "2",
         "https://www.chefkoch.de/rezepte/46341015661368/",
         "Die Kirschen abtropfen lassen, dabei den Saft auffangen. Das Puddingpulver mit dem Vanillezucker mischen und mit 6 EL Saft glatt rühren. Den übrigen Kirschsaft aufkochen und vom Herd nehmen. Das angerührte Puddingpulver einrühren und unter Rühren ca. eine Minute köcheln. Die Kirschen unter den angedickten Saft geben. Milch, 40 g Zucker, Vanillemark und Butter aufkochen. Den Topf vom Herd ziehen und den Grieß unter Rühren einstreuen. Unter Rühren einmal aufkochen lassen und zugedeckt ca. fünf Minuten quellen lassen.In der Zeit das Ei trennen. Das Eiweiß mit einer Prise Salz steif schlagen und dabei die restlichen 20 g Zucker einrieseln lassen. Das Eigelb unter den Brei rühren und dann das Eiweiß unterheben.Den Grießbrei mit dem Kompott servieren.",
         "['1 Glas Kirsche(n)', '1 Pck. Vanillepuddingpulver, für 500 ml Milch, zum Kochen', '1 Pck. Vanillezucker', '750 ml Milch', '60 g Zucker', '1 Vanilleschote(n), das Mark', '30 g Butter', '80 g Weichweizengrieß', '1 Ei(er)']",
         "1",
         "Kaninchen a la Gioff",
         "2007",
         "January",
         "Monday"
        ],
        [
         "3",
         "https://www.chefkoch.de/rezepte/51051018014178/",
         "Den Spargel säubern, die holzigen Enden abschneiden und wenn nötig, den unteren Teil schälen, dann in 1-2 cm lange Stücke schneiden, die Spitzen beiseite legen.Spargelstücke (ohne Spitzen) im Olivenöl in einem (möglichst) hohen Topf anbraten. Mit der Brühe und dem Rahm aufgießen und 10 Minuten köcheln lassen, wenn der Spargel gar ist, im Topf oder einem geeigneten Gefäß pürieren. Mit Salz und Pfeffer abschmecken, wieder zum Köcheln bringen, die Spargelspitzen dazugeben und einige Minuten köcheln lassen, bis die Spitzen gar sind. Nun mit dem Saft der Orange vorsichtig abschmecken - danach nicht mehr köcheln!Auf Teller verteilen, je einen Klecks Sauerrahm dazugeben, mit in Streifen geschnittenem Räucherlachs, Kräutern und evtl. Orangenzesten garnieren.",
         "['500 g Spargel, grüner', '300 ml Brühe oder Fond (Gemüse, Huhn oder Kalb)', '100 ml Rahm', '2 EL Olivenöl', 'Salz und Pfeffer', '1 Orange(n)', '100 g Lachs, geräucherter', '3 TL Sauerrahm', '2 TL Kräuter (Dill, Kerbel, Petersilie...)']",
         "1",
         "Spanisches Knoblauch-Kaninchen",
         "2013",
         "April",
         "Monday"
        ],
        [
         "4",
         "https://www.chefkoch.de/rezepte/1555771262860408/",
         "Kohlrabi schälen und klein würfeln. Mit der Brühe und der Milch aufkochen lassen und zugedeckt kochen, bis er gar, aber noch bissfest ist.Währenddessen die Nudeln in reichlich Salzwasser bissfest kochen.Den Kochschinken in kurze Streifen schneiden. Petersilie waschen, trocken tupfen und fein hacken. Alles mit dem Frischkäse unter die Kohlrabi rühren. Die Sauce mit Salz und Pfeffer abschmecken, bei Bedarf mit hellem Saucenbinder binden.Die Sauce mit den Nudeln anrichten.Dazu schmeckt ein grüner Salat.",
         "['250 g Kohlrabi', '150 ml Gemüsebrühe', '150 ml Milch', '250 g Farfalle oder Kelche', '100 g Kochschinken', '100 g Frischkäse ( evtl. mit Kräutern )', 'Salz und Pfeffer', 'einige Stiele Petersilie', 'evtl. Saucenbinder, hell']",
         "1",
         "Gnocchi - Hack - Pfanne mit Basilikum",
         "2017",
         "August",
         "Tuesday"
        ],
        [
         "5",
         "https://www.chefkoch.de/rezepte/318661113606205/",
         "Aus dem Mehl, der Butter, dem Ei und etwas Salz und Pfeffer einen Mürbeteig kneten. Diesen dann in einer 26er Form auslegen und einen ca. 3 cm hohen Rand formen. Den Teig auf dem Boden mehrmals mit einer Gabel einstechen und ihn bei 200 Grad ca. 10 Minuten vorbacken.In der Zwischenzeit die Bohnen 12 Minuten in Salzwasser kochen. Die Tomaten waschen und vierteln. Die Zwiebel häuten und in feine Ringe schneiden. Das Öl in einer Pfanne heiß werden lassen und das Gemüse darin ca. 5 Minuten braten. Anschließend auf dem vorgebackenen Teig verteilen.Mit einem Mixer die Sahne mit den Eiern, dem Schmelzkäse, Salz, Pfeffer, Bohnenkraut und Muskat verrühren und den Guss über das Gemüse geben. Bei 180 Grad weitere 25 Minuten backen.Auch als sommerliche Hauptspeise geeignet, dann für entsprechend weniger Portionen.",
         "['Für den Mürbeteig:', '200 g Weizenmehl', '100 g Butter', '1 Ei(er)', 'Salz und Pfeffer', 'Für die Füllung:', '400 g Bohnen, grüne', '150 g Cocktailtomaten', '2 Zwiebel(n)', 'Öl', 'Für den Guss:', '125 ml Sahne', '2 Ei(er)', '100 g Schmelzkäse', 'Salz und Pfeffer', 'Bohnenkraut', 'Muskat']",
         "1",
         "Spaghetti Siracusani",
         "2011",
         "August",
         "Monday"
        ],
        [
         "6",
         "https://www.chefkoch.de/rezepte/307991111110164/",
         "Das Öl mit dem Rotwein, dem Essig, den Wacholderbeeren und dem Senf mischen. Diese Marinade über die Steaks gießen und diese zugedeckt 24 Std. im Kühlschrank marinieren lassen; dabei öfter wenden.Die Steaks dann abtrocknen und die Marinade aufheben.Das Öl in einer großen Pfanne erhitzen. Die Steaks von jeder Seite 5 - 6 Min. braten. Jeweils nach dem Braten einer Seite salzen und pfeffern. Die fertig gebratenen Hirschsteaks im Backofen warm halten.Die Ananaswürfel ins verbliebene Bratfett geben und kurz darin anbraten. Die Sauerkirschen zu den Ananaswürfeln geben. 1 EL Sauerkirschsaft und 1 - 2 EL von der Marinade zu dem Obst geben, alles bei schwacher Hitze erwärmen und über die Steaks verteilen.",
         "['Für die Marinade:', '3 EL Öl', '5 EL Rotwein', '2 EL Apfelessig', '3 Wacholderbeere(n)', '1 TL Senf, mittelscharfer', 'Außerdem:', '4 Steak(s) vom Hirsch aus der Keule', '2 EL Öl', 'Salz und Pfeffer', '100 g Ananas, gewürfelt', '1/2Tasse/n Sauerkirschen (Glas)', '1 EL Kirschsaft']",
         "1",
         "Rehrücken in Salzkruste mit Waldpilzgulasch",
         "2006",
         "October",
         "Sunday"
        ],
        [
         "7",
         "https://www.chefkoch.de/rezepte/800291183649658/",
         "Den Reis mit 2 Tassen Wasser/Gemüsebrühe aufsetzen und 1 Tasse als Reserve dazu stellen.Die Brennnesseln und die Taubnesseln grob klein hacken und mit dazugeben. Salzen und die Butter mit dazu geben.15 min nach Anweisung den Reis kochen. Wenn er gar gekocht ist, in eine Tasse geben als Form und auf den Teller stürzen.Bei dem Fisch habe ich auf eine Fertigprodukt (Filegro- Rosmarin-Zitrone /Tiefkühkost) zurück gegriffen.Ansonsten wird das Alaska-Seelachs-Filet mit Zitrone und Rosmarin gewürzt und in Öl ausgebraten. Es kann aber auch jedes andere Fischfilet dazu verwendet werden.Alles zusammen schön auf dem Teller anrichten. Zur Garnierung kann man noch ein paar Brennnesselspitzen darauf legen.",
         "['1 Tasse Reis, (Langkornreis)', '2 Tasse/n Wasser oder Gemüsebrühe', '1 Prise(n) Salz', '1 Handvoll Brennnesseln, junge Spitzen', '1 Handvoll Taubnessel, ohne Blüten', '50 g Butter', '250 g Fischfilet(s), (Alaskafilet)', 'Mehl', 'Rosmarin', 'Zitronensaft und Zesten', '1 Schuss Öl']",
         "1",
         "Eier in Senfsauce",
         "2012",
         "March",
         "Thursday"
        ],
        [
         "8",
         "https://www.chefkoch.de/rezepte/295691108953224/",
         "Kartoffeln schälen, waschen, vierteln und in kochendem Salzwasser zugedeckt 20 Minuten garen.Milch, Butter, etwas Salz, Pfeffer und Muskat erwärmen. 3/4 des Schnittlauchs in feine Röllchen schneiden.Kartoffeln abgießen ausdampfen lassen. Die ausgekühlten Kartoffeln durch eine Kartoffelpresse drücken oder fein zerstampfen. Die heiße Milchmischung nach und nach mit einem Kochlöffel unterrühren. Mit Salz, Pfeffer und Muskat würzen. Die Schnittlauchröllchen und Röstzwiebeln unterheben.Das Püree in eine Form von ca. 30 cm Länge streichen. Mit einem nassen Löffelrücken 6 Mulden hineindrücken, die Eier hineinschlagen und mit Käse bestreuen.Im vorgeheizten Ofen bei 200° C auf der 2. Schiene von unten 22-25 Minuten backen (Umluft ist nicht geeignet).Den übrigen Schnittlauch in Röllchen schneiden, mit etwas Salz und Pfeffer vermengen und auf dem Auflauf verteilen.",
         "['1200 g Kartoffel(n), mehlig kochend', '250 ml Milch', '2 EL Butter', '2 Bund Schnittlauch', '60 g Zwiebel(n) (Röstzwiebeln)', '6 Ei(er)', '100 g Käse (Gouda)', 'Salz', 'Pfeffer', 'Muskat']",
         "1",
         "Äppelufflaaf mett Woi",
         "2006",
         "April",
         "Saturday"
        ],
        [
         "9",
         "https://www.chefkoch.de/rezepte/44381015086527/",
         "Kartoffeln, Steckrüben, Sellerie und Zwiebel schälen und alles in kleine Würfel schneiden. Lauch putzen, waschen und in dünne Ringe schneiden. Geputzten Blumenkohl in Röschen zerteilen. Zwiebel im Butterschmalz glasig braten, das Hackfleisch unterrühren und krümelig braten. Mit Salz, Pfeffer und Paprika würzen. Kartoffeln, Sellerie, Lauch und Steckrüben zugeben und kurz mitbraten. Brühe angießen und alles 15 Minuten köcheln lassen. Blumenkohlröschen dazugeben und weitere 15 Minuten garen. Erneut abschmecken und mit Petersilie bestreut servieren.Dazu passt ein frisches Bauernbrot und ein kühles Bier.",
         "['400 g Kartoffel(n)', '300 g Steckrübe(n)', '300 g Knollensellerie', '1 Zwiebel(n)', '400 g Lauch, (Porree)', '1 kleiner Blumenkohl', '50 g Butterschmalz', '250 g Hackfleisch, (Rind)', 'Salz und Pfeffer, aus der Mühle', '1 EL Paprikapulver, edelsüßes', '1 Liter Fleischbrühe, am besten selbst gekochte', '3 EL Petersilie, gehackte']",
         "1",
         "Gefüllte Schinkenröllchen",
         "2006",
         "November",
         "Wednesday"
        ],
        [
         "10",
         "https://www.chefkoch.de/rezepte/968531202489769/",
         "Fleisch würzen. Öl in einem Topf erhitzen. Das Fleisch darin ringsum braun anbraten. Geschälte und gewürfelte Zwiebeln ebenfalls mit anbraten. Ca. 500 ml Wasser zufügen und das Fleisch bei schwacher Hitze gut 1 Stunde schmoren.Paprikaschoten waschen, weiße Trennwände und Kerne entfernen, in Stücke schneiden und zum Fleisch geben. Pfefferschoten fein hacken und ebenfalls hinzufügen. Weitere 20 Minuten bei schwacher Hitze schmoren. Sauce mit Mehl andicken, mit Sahne verfeinern, abschmecken und mit dem in Scheiben geschnittenen Fleisch servieren.",
         "['750 g Rinderbraten, mager', 'Salz und Pfeffer', 'Wasser', 'Paprikapulver, edelsüß', '4 TL Öl', '400 g Zwiebel(n)', '300 g Paprikaschote(n), rot und grün', '2 kleine Pfefferschote(n)', '4 TL Mehl', '100 g süße Sahne']",
         "1",
         "Leichtes Mittagessen",
         "2010",
         "July",
         "Thursday"
        ],
        [
         "11",
         "https://www.chefkoch.de/rezepte/1547251261244879/",
         "Schweineschnitzel dünn klopfen, mit Senf bestreichen, würzen mit Salz und Pfeffer, mit Schinken belegen und aufwickeln (evtl. mit Zahnstocher oder Faden fixieren).Die Rouladen außen würzen und in etwas Öl anbraten. Eine gewürfelte Zwiebel, das Tomatenmark und das geputzte und gewürfelte Suppengemüse dazu geben, auch kurz anbräunen, dann mit Wein und Fond ablöschen und mit Deckel bei 200 °C im Backofen mindestens 80 min. schmoren.Währenddessen die restlichen Zwiebeln in Ringe schneiden und mit den in Scheiben geschnittenen Champignons in einer Pfanne schön braun braten.Zum Ende der Garzeit die Rouladen aus der Sauce nehmen und warm stellen. Zur Sauce die Sahne und den Thymian geben, aufkochen lassen und etwas reduzieren. Danach mit dem Zauberstab pürieren und abschmecken (ggf. mit Saucenbinder andicken).Pilze, Zwiebeln und Fleisch in die Soße geben und ca. 15 min bei niedriger Temperatur durchziehen lassen. Mit Petersilie bestreut servieren.",
         "['8 Schweineschnitzel', '4 EL Senf', '16 Scheibe/n Räucherschinken', '4 Gemüsezwiebel(n)', '800 g Champignons, braune', '1 Bund Suppengemüse (Möhre, Sellerie, Porree)', '1 TL Tomatenmark', '200 ml Weißwein', '600 ml Fond (Rind oder Kalb)', '400 ml Sahne', '1 EL Thymian, frisch', 'etwas Petersilie, frisch', 'etwas Salz und Pfeffer', 'etwas Öl', 'evtl. Saucenbinder']",
         "1",
         "Herzhafte Pfannkuchen",
         "2019",
         "January",
         "Tuesday"
        ],
        [
         "12",
         "https://www.chefkoch.de/rezepte/121811051714864/",
         "Die Chilischote (scharf) entkernen, von den Innenwänden befreien und in Olivenöl kurz anbraten. Die Sahne dazugeben. 1/2 - 1 Gemüsebrühwürfel (je nach Geschmack) in der Sahne-Chilisauce auflösen. Bandnudeln \"al dente\" kochen. Die Linsen erwärmen. Die Lauchzwiebeln und die getrockneten Tomaten (Menge nach Geschmack) fein würfeln.Auf Tellern anrichten: Auf die Bandnudeln zunächst die Linsen geben, darüber die Sahnesauce. Oben drauf die gewürfelten Lauchzwiebeln und die getrockneten Tomaten.Sieht super aus und schmeckt gigantisch! Ein einfach zuzubereitendes Feinschmeckerrezept!",
         "['1 Chilischote(n)', '1 Würfel Gemüsebrühe', '200 ml Sahne', '1 Bund Lauchzwiebel(n)', '200 g Tomate(n), in Öl eingelegte getrocknete', '500 g Bandnudeln', '50 ml Olivenöl', '1 Dose/n Linsen']",
         "1",
         "Raizenkarpfen",
         "2006",
         "December",
         "Friday"
        ],
        [
         "13",
         "https://www.chefkoch.de/rezepte/3116611464630134/",
         "Radicchio waschen, rüsten, in mundgerechte Stücke zupfen und auf Tellern verteilen. Birnen schälen, vierteln, entkernen, ebenfalls in mundgerechte Stücke schneiden und auf dem Salat verteilen. Walnusshälften in Stücke brechen und über den Salat streuen. Mit einem Sparschäler o.ä. Späne vom Parmesan abziehen und über dem Salat verteilen.Alle Zutaten für das Dressing gut verrühren und über den Salat geben.Dazu passt: Frisches Baguette oder geröstete Baguettescheiben.",
         "['1 Radicchio (ca. 150g)', '1 Birne(n), reife', '10 halbe Walnüsse', '30 g Parmesan', 'Für das Dressing:', '2 EL Essig, Himbeeressig (Alternative: Weißweinessig)', '3 EL Öl, Walnussöl (Alternative: Olivenöl)', '1 TL Senf', '1/2TL Zucker', 'etwas Salz und Pfeffer']",
         "1",
         "Bulgur Buddha Bowl",
         "2016",
         "September",
         "Thursday"
        ],
        [
         "14",
         "https://www.chefkoch.de/rezepte/2118401341296891/",
         "Den Kalbstafelspitz kurz waschen und auf der Fleischseite von sichtbaren Sehnen und Fett befreien, salzen und pfeffern. Den Backofen auf 160° bei Ober-/Unterhitze vorheizen.Aus je einem EL mittelscharfem und süßem Senf und zwei EL Sahne eine Marinade rühren und den Tafelspitz damit rundherum einstreichen. Kurz ziehen lassen und in einer Pfanne mit der angedrückten Knoblauchzehe und etwas Öl bei mittlerer Hitze rundherum anbraten. Er darf dabei auch ruhig Farbe nehmen.Den Tafelspitz in einen backofentauglichen Schmortopf mit Deckel geben. In der Pfanne nun die Zwiebel, die Karotte und den Sellerie anschwitzen, das Tomatenmark dazugeben und kurz mitbraten, mit dem Rotwein ablöschen und einköcheln lassen. Mit der Geflügelbrühe auffüllen, durchrühren und zum Fleisch geben. Deckel drauf und für drei bis vier Stunden in den Backofen, zwischendurch das Fleisch einmal wenden und ggf. noch etwas Brühe nachgießen.Frühzeitig aus der Butter und dem Mehl eine dunkle Mehlschwitze herstellen und erkalten (!) lassen.Nach der Garzeit das Fleisch aus dem Schmorsud nehmen und im abgeschalteten Backofen ruhen lassen. Den Schmorsud ggf. entfetten und mit dem Zauberstab das enthaltene Gemüse fein pürieren und nochmals aufkochen lassen. Die kalte Mehlschwitze in den kochenden Sud und durchrühren (kalte Mehlschwitze und kochender Sud ergeben keine Klümpchen), mit der restlichen Sahne abrunden. Mit dem verbliebenen Senf, Salz und Pfeffer bei Bedarf noch abschmecken.Das (butterweiche) Fleisch vorsichtig mit einem sehr scharfem Messer oder auch einem Elektromesser quer zur Faser in dünne Scheiben schneiden und mit der Soße anrichten.Dazu serviere ich die herzhaften Hefeknödel (aus der DB) und einen gemischten Salat.",
         "['1,1 kg Kalbfleisch (Tafelspitz)', '2 EL Senf, mittelscharfer', '2 EL Senf, süßer', '4 EL Sahne', '1 m.-große Zwiebel(n), klein gewürfelt', '1 Karotte(n), geschält und klein gewürfelt', '50 g Knollensellerie, klein gewürfelt', '1 Zehe/n Knoblauch', '1/8Liter Wein, rot', 'Salz und Pfeffer', '1 EL Butter', '1 EL Mehl', '1 EL Tomatenmark', '1 Liter Geflügelbrühe', 'Öl zum Braten']",
         "1",
         "Überbackene Rigatoni in Schinken-Sahne-Soße",
         "2012",
         "October",
         "Monday"
        ],
        [
         "15",
         "https://www.chefkoch.de/rezepte/616691161699398/",
         "Das Hackfleisch mit Salz und Pfeffer würzen. Evtl. noch Kräuter wie Oregano, Thymian und/oder Basilikum und nach Geschmack Knoblauch dazugeben. 12 - 15 kleine Bällchen formen und in eine Auflaufform legen.Für die Tomatensoße die gehackten Tomaten mit der Sahne, der Kräutermischung, Tomatenmark und Zucker verrühren, mit Salz und Pfeffer abschmecken und über die Hackbällchen geben. Den Mozzarella in Scheiben schneiden und darüber verteilen.Bei 175°C (Umluft) ca. 30 - 40 min. garen. Aufpassen, dass der Käse nicht zu dunkel wird. Dazu passt Reis.",
         "['500 g Hackfleisch, gemischt', 'evtl. Kräuter (Oregano, Thymian, Basilikum ...)', 'evtl. Knoblauch', '1 Dose/n Tomate(n), stückige, ca. 400 g', '100 g süße Sahne', '3 EL Kräuter, italienische (TK)', '1 EL Tomatenmark', 'etwas Knoblauch', '1/2TL Zucker', 'Salz und Pfeffer', '1 Kugel/n Mozzarella']",
         "1",
         "Gittas Schmorgurken",
         "2017",
         "March",
         "Wednesday"
        ],
        [
         "16",
         "https://www.chefkoch.de/rezepte/1403841245257043/",
         "Die Eier verquirlen, Milch, Mehl und eine Prise Salz dazu geben, gut verrühren. Nun evtl. nach Gefühl (und Hunger) mehr Milch und Mehl dazu geben. Der Teig kann relativ lang auf diese Weise gestreckt werden. Er muss eher dünnflüssig sein!Knoblauch und eine halbe Zwiebel klein hacken. Paprikaschote, eine Karotte, Sellerie, Chilischote und Wurst ebenfalls in kleine Stücke schneiden.Butter in einer Pfanne zerlassen, Zwiebel und Knoblauch hinein geben, etwas anrösten, anschließend die restlichen klein geschnittenen Zutaten dazu geben. Mit dem Schnaps ablöschen, Tomatenmark, Ketchup und Tabasco hinein rühren. Wir geben noch zwei gute EL ungarische Paprikapaste dazu, die ist salzig und intensiv im Geschmack. Wer so etwas nicht hat, kann evtl. mehr Salz und Ketchup nehmen. Mit Salz, Pfeffer, Brühe und Zucker abschmecken, nach Belieben Kräuter dazu geben.Käse in eine Schüssel reiben. Die Tomate klein schneiden, die zweite Karotte klein würfeln und die andere Hälfte der Zwiebel in Ringe schneiden - alles auf einzelne Schüsselchen verteilen.Nun Butter in einer kleine Pfanne zerlassen und heiß werden lassen. Jeweils einen Schöpfer voll Teig in die Pfanne gießen. Wenn der Teig fest wird, den Pfannkuchen (Palatschinken) vorsichtig wenden und auch die andere Seite hellbraun backen. Auf einen erwärmten Teller geben und zudecken.Hinweise: Die Pfanne muss richtig heiß sein. Außerdem sollte nicht mit Fett gespart werden!Die Palatschinken auf den Tisch stellen. Nun kann sich jeder seine \"Palajitas\" selbst füllen. Zum Beispiel mit mit einem guten EL Sauce, darauf frische Tomaten- und Karottenstückchen und viel Käse oder nur mit Sauce, Tomaten und Zwiebeln, ganz nach Belieben.Am besten isst man sie mit den Händen, wenn man sie erst einklappt und dann einrollt.",
         "['2 Ei(er)', '1/4Liter Milch, ungefähre Mengenangabe', '100 g Mehl, ungefähre Mengenangabe', 'Salz und Pfeffer', '1 Knoblauchzehe(n)', '1 Zwiebel(n)', '1 Paprikaschote(n), grün', '125 g Käse, deftig, z.B. Bergkäse', '1 Piri-Piri, große (oder andere Chilischote)', '1 Schuss Tabasco', '6 EL Schnaps, z.B. Apfelschnaps', '6 EL Ketchup, scharf', '6 EL Tomatenmark, aus der Tube', '2 Karotte(n)', '1 Stück(e) Sellerie', '1 Tomate(n)', '100 g Wurst, gemischt', 'Brühe, gekörnte', 'Kräuter, z.B. Schnittlauch, Petersilie', 'Butter', 'Zucker oder Süßstoff', 'evtl. Paprikamark, ungarisches, mildes']",
         "1",
         "Griechische Hackfleischquiche",
         "2010",
         "May",
         "Saturday"
        ],
        [
         "17",
         "https://www.chefkoch.de/rezepte/1320990972985/",
         "Zwiebel in Viertel schneiden ( in etwas wie die Größe des Fleisches), so dass man sie nachher gut auf die Spießchen stecken kann. Den Gulasch evtl. noch mal etwas kleiner schneiden. Und die 3 roten Paprika in Stücke schneiden, die denen des Fleisches und der Zwiebel gleichen.Nun abwechselnd, mit dem Fleisch beginnend, das Fleisch, die Zwiebeln und die Paprika auf die Spießchen stecken.Für die Marinade: Alle Zutaten dafür gut miteinander verrühren und über die Spießchen geben. Über Nacht, abgedeckt, im Kühlschrank ziehen lassen.Die Spiesschen können nach der Ruhezeit in der Marinade entweder in der Pfanne gebraten werden oder über dem Grill gegart werden.",
         "['800 g Gulasch vom Schwein (nicht zu groß geschnitten)', '2 dicke Zwiebel(n)', '3 Paprikaschote(n), rote', 'Für die Marinade:', '200 ml Öl', '1 Zwiebel(n), klein geschnitten', 'Knoblauch, soviel man mag', '3 EL Tomatenmark', '50 ml Wein, weiß', 'Salz und Pfeffer, grob gemahlen', '1 EL Zitronensaft', 'Meerrettich, nach Geschmack', '1 EL Paprikapulver, edelsüß', '1 EL Paprikapulver, rosenscharf', '1 EL Currypulver']",
         "1",
         "Kartoffelgratin mit Cheddar",
         "2006",
         "June",
         "Thursday"
        ],
        [
         "18",
         "https://www.chefkoch.de/rezepte/1135989064911/",
         "Mehl mit Salz mischen. Milch und 4 Eier unterrühren. Den Teig 10 Min. quellen lassen. Schinken in kleine Würfel schneiden. Mit Sauerrahm vermengen und mit Pfeffer, Cayennepfeffer und Kräutern würzen. In einer mittelgroßen Pfanne in 2 El Butterschmalz nacheinander 6 Pfannkuchen ausbacken. Etwas abkühlen lassen und jeweils 1 El Schinkenfarce darauf verteilen. Eierkuchen seitlich einschlagen, von unten fest aufrollen. Übriges Ei in einem Teller verquirlen, die Pfannkuchenrollen darin wenden, in den Semmelbröseln wälzen und diese gut festdrücken. In einer großen Pfanne 1 El Butterschmalz erhitzen. Röllchen nebeneinander hineinlegen und von allen Seiten goldbraun braten. Herausnehmen und die Röllchen quer halbieren. Auf 4 Teller verteilen. Dazu schmeckt Kopfsalat.",
         "['120 g Mehl', 'Salz', '250 ml Milch', '5 Ei(er)', '1 Scheibe/n Schinken, gekocht, ca. 200g', '3 EL Sauerrahm', 'Pfeffer, weiß', 'Cayennepfeffer', '2 EL Kräuter, ( z.B. Petersilie, Schnittlauch, Kerbel), gehackt', '3 EL Butter oder Margarine', '4 EL Semmelbrösel']",
         "1",
         "Sahne-Kräuter-Hähnchen",
         "2007",
         "July",
         "Sunday"
        ],
        [
         "19",
         "https://www.chefkoch.de/rezepte/311161112317127/",
         "Kartoffeln schälen, bei Bedarf kleiner schneiden und in Salzwasser ca. 25 Minuten garen. Zwiebeln und Knoblauch schälen und fein würfeln. Das Kürbisfruchtfleisch in 2-cm-große Würfel schneiden.Butterschmalz in einer großen Pfanne erhitzen und das Hackfleisch darin krümelig braten. Zwiebeln, Knoblauch und Kürbis zufügen und mit braten. Majoran waschen, Blättchen abzupfen und zufügen. Tomaten und Brühe zugießen. Alles zugedeckt 15 Minuten köcheln lassen.Lauch putzen, waschen und in Ringe schneiden. Mit den abgetropften Bohnen unterrühren. Weitere 10 Minuten garen. Mit Salz und Pfeffer würzen.Zusammen mit den Salzkartoffeln servieren.",
         "['700 g Kartoffel(n)', 'Salz', '2 Zwiebel(n)', '1 Zehe/n Knoblauch', '500 g Kürbisfleisch, geschält, ohne Kerne', '2 EL Butterschmalz', '500 g Hackfleisch', '1 Bund Majoran', '200 g Tomate(n), Stücke, aus der Dose', '500 ml Fleischbrühe', '2 Stange/n Lauch', '1 kl. Dose/n Bohnen, weiß', 'Pfeffer, schwarz']",
         "1",
         "Rotbarschfilet auf pürierten Tomaten mit Zucchini - Mozzarellahaube",
         "2006",
         "September",
         "Friday"
        ],
        [
         "20",
         "https://www.chefkoch.de/rezepte/647661166019191/",
         "Das kalte Kartoffelpüree mit den angegebenen Zutaten mischen und eine halbe Std. ziehen lassen.Butterschmalz in der Pfanne erhitzen.Hände anfeuchten und mit einem EL clementinengroße Stücke abstechen und zu einem Plätzchen formen. Ins heiße Fett geben.Von jeder Seite etwa 10 Minuten braten bis sie eine schöne Farbe angenommen haben.Diese Plätzchen kann man wie Rösti verwenden.Der Teig ergibt ca. 10 Stück.Kalt schmecken sie auch.",
         "['500 g Püree aus Kartoffeln, vom Vortag, kalt', '1 Ei(er)', '3 EL Semmelbrösel', '3 EL Käse, gerieben (Gouda, Emmentaler...)', '1 EL Schnittlauch, in Röllchen', 'Butterschmalz, zum Ausbacken']",
         "1",
         "Bayerische Schinkennudeln",
         "2016",
         "December",
         "Thursday"
        ],
        [
         "21",
         "https://www.chefkoch.de/rezepte/1547251261244879/",
         "Den Backofen vorheizen auf 180 °C Ober-/Unterhitze bzw. 160 °C Umluft.Kartoffeln, Süßkartoffeln, Möhren und Pastinaken schälen und in mundgerechte Stücke schneiden. Die Paprikaschote in etwas größere Stücke schneiden. Die Zwiebeln schälen und in dicke Scheiben schneiden.Das Gemüse in eine große Auflaufform geben. Knoblauch durchpressen oder fein hacken und mit Kräutern der Provence, Salz und Pfeffer über das Gemüse streuen. Olivenöl dazu geben und alles gut durchmischen. Die Rosmarinzweige darauf legen und die Form in den Ofen schieben.Nach 15 Minuten durchmischen und mit Alufolie abdecken, diese 10 - 15 Minuten vor Ende der Backzeit entfernen, damit das Gemüse ein wenig bräunt, erneut durchmischen und ggf. Feta zerbröckeln und hinzufügen.Je nach Größe der Stücke, Ofen oder gewünschter Konsistenz kann die Backzeit variieren, von 40 Minuten bis 1 Stunde.",
         "['500 g Kartoffel(n)', '500 g Süßkartoffel(n)', '2 m.-große Möhre(n)', '2 m.-große Pastinake(n)', '2 m.-große Zwiebel(n)', '1 große Paprikaschote(n)', '1 EL, gehäuft Kräuter der Provence', '1 TL, gehäuft Salz', '1 TL, gehäuft Pfeffer', '3 Zehe/n Knoblauch', '4 EL Olivenöl', '2 Zweig/e Rosmarin', 'evtl. Feta-Käse']",
         "1",
         "Herzhafte Pfannkuchen",
         "2019",
         "January",
         "Tuesday"
        ],
        [
         "22",
         "https://www.chefkoch.de/rezepte/185441079701305/",
         "Gemüse schälen, auf der Reibe grob raspeln. Zwiebeln abziehen und würfeln. Gemüse mit Mehl und Eiern vermischen und mit Salz, Pfeffer und Muskat würzen. Den Gemüseteig in der Pfanne von beiden Seiten knusprig braun braten - von beiden Seiten ca. 2 - 3 Minuten.Für den Dip: Quark mit sauerer Sahne, Schnittlauch, Pfeffer und Salz verrühren und zu den Röstis servieren.Kann auch super mit Kindern gekocht werden.",
         "['700 g Gemüse, z. B. Kartoffeln und Kürbis, Zucchini, Möhren etc.', '1 Zwiebel(n)', '6 EL Öl', '250 g Quark', '2 EL Mehl', '5 EL saure Sahne', '3 Ei(er)', '1 Bund Schnittlauch', 'Salz und Pfeffer', 'Muskat']",
         "1",
         "Gebratener Hasenrücken",
         "2009",
         "January",
         "Thursday"
        ],
        [
         "23",
         "https://www.chefkoch.de/rezepte/801361183877832/",
         "Die Kartoffeln schälen und gut waschen. Danach sehr fein reiben. Die Zwiebeln sehr fein hacken. Mit den Händen den Kartoffelsaft aus den geriebenen Kartoffeln drücken. Die Kartoffeln mit Zwiebeln, Mehl und Eiern vermischen, mit Salz und Pfeffer abschmecken.So viel Fett, dass die Reibekuchen darin schwimmen können, in einer beschichteten Pfanne erhitzen. Den Kartoffelteig löffelweise in die Pfanne geben, etwas flach drücken und die Reibekuchen von beiden Seiten knusprig braten, so braun, wie man es gern hat. Kurz auf Küchenpapier legen, das nimmt etwas überschüssiges Fett auf.Sofort mit viel Apfelkompott servieren.",
         "['7 dicke Kartoffel(n), vorwiegend festkochend', '3 Ei(er)', '1 EL Mehl', '2 Zwiebel(n)', 'Salz und Pfeffer, frisch gemahlener', 'Fett', 'Apfelkompott']",
         "1",
         "Süße Schupfnudeln",
         "2008",
         "March",
         "Saturday"
        ],
        [
         "24",
         "https://www.chefkoch.de/rezepte/693811171958939/",
         "Das Fleisch in mundgerechte Stücke schneiden. Die Zwiebeln würfeln.Beides in ein wenig Öl ca. 5 min kräftig anbraten, so dass sich viel Flüssigkeit entzogen hat. Mit dem Mehl bestäuben und unter Rühren 1 min anschwitzen. Mit 200 ml Wasser ablöschen und alles gut verrühren. Nun in einen Schnellkochtopf geben und mit dem restlichen Wasser auffüllen. Bei niedriger Hitze, auf dem ersten Ring, ca. 30 min köcheln lassen.Gegebenfalls noch etwas andicken und um die braune Farbe etwas intensiver zu machen, den Zucker Couleur einrühren.Zum Schluss mit den Gewürzen abschmecken und mit Nudeln oder Kartoffeln servieren.",
         "['500 g Rindfleisch', '2 große Zwiebel(n)', '750 ml Wasser', '3 EL Mehl', '2 TL Salz und Pfeffer', '1/2TL Zucker Couleur', 'Öl']",
         "1",
         "Kürbis - Quiche",
         "2007",
         "November",
         "Thursday"
        ],
        [
         "25",
         "https://www.chefkoch.de/rezepte/426681133610250/",
         "Die Lende in 2 cm dicke Scheiben schneiden, diese etwas flach drücken und in eine Schüssel geben.Die Schale der Limone abreiben, den Saft auspressen. Die Koriandersamen im Mörser leicht zerdrücken.Chutney, Sojasauce, 1 TL Öl, Koriandersamen, Limonenschale und -saft vermischen und über das Fleisch gießen. Mindestens 2 Stunden im Kühlschrank marinieren, gelegentlich wenden.Die Pfirsiche waschen, trocknen, entkernen und in Spalten schneiden. 1 TL Öl in einer Pfanne erhitzen. Die Pfirsiche in die Pfanne geben und mit Zucker bestreuen. Nach 1 Minute wenden, nochmals 1 Minute braten - nicht länger! Aus der Pfanne nehmen.Das Fleisch aus der Marinade nehmen und in der Pfanne 8-10 Minuten braten. Die Hitze reduzieren, die Marinade über das Fleisch geben, weitere 2 Minuten braten. Die Pfirsiche dazu geben, mit Sojasauce abschmecken und sofort servieren.Dazu schmeckt Reis.",
         "['500 g Schweinelende(n)', '5 EL Mangochutney', '5 EL Sojasauce, dunkel', '2 TL Öl', '1 Limone(n)', '1 TL Koriander', '3 Pfirsich(e), reif, fest', '1 TL Rohrzucker']",
         "1",
         "Mit Hackfleisch gefüllte Zucchini",
         "2012",
         "August",
         "Wednesday"
        ],
        [
         "26",
         "https://www.chefkoch.de/rezepte/986041204015916/",
         "50 g Champignons,1 Zucchini und die Zwiebel putzen und fein würfeln. 1 EL Öl erhitzen und die Gemüsewürfel darin dünsten. Mit Salz, Pfeffer und Kräuter der Provence würzen. Koteletts waschen, trocken tupfen und jeweils eine Tasche hineinschneiden. Gemüse hineingeben und mit einem Holzspieß feststecken. 1 EL Öl in einer Pfanne erhitzen, die Koteletts von beiden Seiten ca. 5 Minuten braten, herausnehmen und warm stellen.150 g Champignons und 2 Zucchini in Scheiben schneiden, im Bratfett ca. 8 Minuten dünsten. Mit Salz, Pfeffer und Kräuter der Provence abschmecken. Sahne erhitzen, etwas einkochen lassen und Gorgonzola bei schwacher Hitze darin auflösen, mit Salz und Pfeffer abschmecken. Fleisch mit dem Gemüse und der Sauce anrichten.",
         "['200 g Champignons', '3 Zucchini', '1 Zwiebel(n)', '2 EL Öl', 'Salz', 'Pfeffer', 'Kräuter der Provence', '4 Schweinekotelett(s), ausgelöst', '200 g Sahne', '100 g Gorgonzola']",
         "1",
         "Fegato di Vitello alla Paesana",
         "2008",
         "September",
         "Monday"
        ],
        [
         "27",
         "https://www.chefkoch.de/rezepte/3321291493196664/",
         "Für den Teig die Hefe mit dem Wasser verrühren und fünf Minuten stehen lassen. Danach zum Mehl geben und gemeinsam mit Joghurt, Salz, Zucker und Öl in ca. sieben Minuten geschmeidig kneten. Eine Schüssel mit Öl ausfetten und den Teig dort hineingeben. Die Oberfläche ebenfalls mit Öl benetzen. Den Teig bei Zimmertemperatur 60 Minuten gehen lassen.Den Teig anschließend in zwei (oder vier) Teile schneiden und alle Teile jeweils zu einer Kugel kneten. Auf einer bemehlten Arbeitsfläche jede Kugel oval ausrollen. Die fertigen Stücke auf ein Backblech legen. Reichlich mit Käse belegen und zu Schiffchen formen. Auf den Käse kommen noch einige Scheiben Sucuk. Die Ränder des Teigs mit dem verquirlten Ei bestreichen.Dann kommt alles bei 200 °C Ober-/Unterhitze für ca. 15 Minuten in den vorgeheizten Backofen.Noch warm genießen.",
         "['Für den Teig:', '600 g Mehl', '1 Pck. Trockenhefe oder 1/2 Pck. Frischhefe', '250 ml Wasser, lauwarm', '4 EL Joghurt', '4 EL Olivenöl', '1 1/2TL Salz', '1 TL Zucker', 'Für die Füllung:', '400 g Käse (Kasar), gerieben', '20 Scheibe/n Sucuk', 'Außerdem:', '1 Ei(er) zum Einstreichen', 'Mehl für die Arbeitsfläche']",
         "1",
         "Türkische Pide mit Käse und Sucuk",
         "2018",
         "February",
         "Thursday"
        ],
        [
         "28",
         "https://www.chefkoch.de/rezepte/194211082701408/",
         "Die Haferflocken, Mehl, Eier, Milch und Mineralwasser glatt rühren. Mit Salz und Pfeffer würzen und zirka 15 Minuten ausquellen lassen. Den Lauch putzen, waschen und in feine Ringe schneiden. Die Würstchen enthäuten und in Scheiben schneiden. Butter in eine Pfanne erhitzen, den Lauch darin glasig schwitzen. Vom Herd nehmen und bereit stellen. Die Butter erhitzen, portionsweise den Teig einfüllen, glatt streichen, mit Lauch und Würstchen belegen und auf beiden Seiten goldgelb backen.",
         "['125 g Haferflocken, zarte', '2 EL Mehl', '3 große Ei(er)', '1/8Liter Milch', '1/8Liter Mineralwasser', '1 Stange/n Lauch', '3 Paar Würste (Wiener oder nach Wunsch)', '1 EL Butter, zum Ausbacken', 'Salz', 'Pfeffer']",
         "1",
         "Entenkeulen à la bourguignonne",
         "2009",
         "November",
         "Sunday"
        ],
        [
         "29",
         "https://www.chefkoch.de/rezepte/595441159189225/",
         "Die Linsen gründlich waschen, in ca. 400 ml Wasser zum Kochen bringen und bei geringer Wärmezufuhr max. 15 Minuten köcheln lassen (nicht zulange, sonst sie).Den Mais gut waschen und abtropfen lassen. Die Zwiebeln von den äußeren Schichten befreien und in feine Ringe schneiden. Die Tomate würfeln. Die Linsen kalt abschrecken und mit den restlichen Zutaten mischen.Dazu passt Fladenbrot (Rezept in meinem Profil).",
         "['80 g Linsen, rot', '1/2Dose Mais', '2 Lauchzwiebel(n)', '1 Tomate(n)', '1 EL Balsamico', '1 EL Öl', 'Salz und Pfeffer']",
         "1",
         "Chili sin Carne",
         "2013",
         "October",
         "Tuesday"
        ],
        [
         "30",
         "https://www.chefkoch.de/rezepte/112251047047207/",
         "Tellerlinsen in einem großen Topf mit einem halben Liter Wasser kalt aufsetzen, die geräucherte dicke Rippe in Stücke zerteilt hineinlegen. Aufkochen und ca. 1 - 1,5 Std. köcheln lassen.Währenddessen Kartoffeln schälen, würfeln und separat in Salzwasser ca. 20 min. gar kochen.Gegen Kochzeitende die dicke Rippe aus der Suppe nehmen, gekochte Kartoffeln zu 2/3 zerstampfen und der Suppe beifügen. Fleisch vom Knochen lösen und ebenfalls der Suppe wieder beifügen. Die Suppe mit einem kräftigen Schuss Essig, Zucker und Salz abschmecken.Zusätzlich kann man gekochte Mettenden in die Suppe schneiden.",
         "['5 Dose/n Tellerlinsen (große Dosen)', '1/2Liter Wasser', '1 1/2kg Rippchen, dick und geräuchert', '6 Kartoffel(n)', 'Salz', 'Zucker', 'Obstessig']",
         "1",
         "Kürbis-Orangen-Waffeln",
         "2003",
         "November",
         "Saturday"
        ],
        [
         "31",
         "https://www.chefkoch.de/rezepte/72871027332969/",
         "Am Vortag Knollen waschen, ungeschält in Salzwasser 25 Min. garen. Abschrecken, pellen, auskühlen, zugedeckt aufbewahren.Kartoffeln reiben. Knoblauch abziehen, hacken, unter die Kartoffeln heben. Mit Salz und Pfeffer würzen. 1/4 des Kartoffelteigs in 15 g heißes Butterschmalz geben, flach drücken, in ca. 10 Min. goldbraun braten. Wenden, in 15 g Fett in ca.5 Min. fertig braten, warm stellen. Weitere 3 Rösti braten. Mit Tomaten-, Käsescheiben, Basilikum anrichten.",
         "['1 kg Kartoffel(n), fest kochend', 'Salz', '1 Knolle/n Knoblauch, junge, frische', 'Pfeffer', '120 g Butterschmalz', '4 Tomate(n), in Scheiben', '200 g Camembert(s), in Scheiben', 'Basilikum, zum Garnieren']",
         "1",
         "Deftiger Rehrücken",
         "2004",
         "January",
         "Thursday"
        ],
        [
         "32",
         "https://www.chefkoch.de/rezepte/1511191256476083/",
         "Linsen, Hirse und Knoblauch ca 20 min. zusammen mit Wasser aufkochen, bis Linsen und Hirse weich sind. Keine alten Linsen verwenden, die brauchen oft zu lang um weich zu werden. Zwiebel fein hacken und in etwas Öl anbraten, damit Röstaromen entstehen. Dann beides abkühlen lassen.Fein gehackte Paprika, Erbsen, Milch, verquirlte Eier, Dill, Petersilie und Gewürze zusammen in eine Schüssel geben und mit dem Linsengemisch und den Zwiebeln vermengen. Mehl und Semmelbrösel hinzufügen, sodass eine gleichmäßige, nicht zu feste Masse entsteht.Öl in einer Pfanne erhitzen, dann löffelweise die Masse portionieren und ausbacken.Diese Mengenangabe reicht für 3 gute Esser. Natürlich kann man das Rezept auch nach Belieben etwas abwandeln, wie es einem eben am besten schmeckt.",
         "['5 EL Linsen, rote', '3 EL Hirse', '1 kleine Zwiebel(n), fein gehackt', '1/2 Paprikaschote(n), rot, fein gehackt', '3 EL Erbsen, TK', '1 EL Mehl', '2 EL Semmelbrösel', '1 TL Dill', '1 TL Petersilie', 'Paprikapulver', 'Salz und Pfeffer', '1 Zehe/n Knoblauch', '50 ml Milch', '2 Ei(er)', 'Öl']",
         "1",
         "Kritharaki-Salat mit Hackfleisch",
         "2017",
         "November",
         "Wednesday"
        ],
        [
         "33",
         "https://www.chefkoch.de/rezepte/375111123476186/",
         "Fisch säubern und filetieren (Haut dranlassen) und in Portionsstücke schneiden. Mit Zitronensaft säuern und mit Salz und Pfeffer würzen.Aus den Gräten und dem klein geschnittenen Porree, Sellerie, Zwiebel, Pfefferkörnern und 3/4 l Wasser einen Fond herstellen und auf 1/4 l reduzieren.Bohnen in kleine, schräge Stücke schneiden. Speck und Schalotten fein würfeln.Bohnen in Salzwasser 5 Min. blanchieren. Speck anbraten. Schalotten dazu geben und in dem Speckfett andünsten. Bohnen dazugeben und bei milder Hitze erwärmen.Senf in den Fond rühren. Nach und nach die kalte Butter unterarbeiten. Danach die geschlagene Sahne unterheben.Die Fischstücke in Öl zuerst scharf auf der Hautseite braten (Haut vorher kreuzweise einschneiden, dann wellt sich das Fleisch nicht so). Wenn der Fisch knapp gar ist, nur noch kurz auf der Fleischseite braten (ca. 30 Sek.)Inzwischen die Bohnen in die Mitte eines Tellers geben. Mit der Soße umgießen und die Fischstücke auf die Bohnen setzen.Dazu: kleine Kartoffeln.",
         "['1 Fisch, Zander ca. 1,5 kg', '1 Porreestange(n)', '1 Zwiebel(n)', '1 Knollensellerie, klein', '1 TL Pfeffer, schwarz, ganz', '750 g Bohnen (Stangenbohnen)', '75 g Speck, Rippenspeck', '3 Schalotte(n)', 'Salz und Pfeffer, aus der Mühle', '1 TL Zitronensaft', '4 EL Senf, körniger (am Besten Rotisseur)', '75 g Butter, kalte', '1/8Liter Sahne, steif geschlagen', '2 EL Öl']",
         "1",
         "Nannis Reisauflauf",
         "2007",
         "September",
         "Saturday"
        ],
        [
         "34",
         "https://www.chefkoch.de/rezepte/814911185880057/",
         "Das Fleisch salzen und pfeffern. 4 EL Wein und 4 EL Balsamessig mischen. Filet in Öl anbraten und 10 Min. sanft weiter garen. Rosmarinnadeln dabei überstreuen und nach und nach das Wein/Essig-Gemisch angießen. Immer nur wenig und immer wieder erst einkochen lassen. Nach den 10 Min. das Filet fest in Alufolie wickeln und ruhen lassen.Die Rückstände in der Pfanne mit dem restlichen Wein loskochen. Das mittlerweile erkaltete Filet in dünne Scheibchen schneiden und den in der Alufolie verbliebenen Fleischsaft zur Sauce rühren. Filetscheibchen mit der Sauce beträufeln.Die Saucenmenge kann auch erhöht werden, dabei sollte der Anteil von Wein und Balsamessig immer gleich bleiben.Das Filet ist auch warm (also nach kurzer Alu-Ruhezeit) sehr lecker, aber gut durchgezogen ist es absolut delikat. Ich nehme sehr viel Rosmarin, weil es wirklich mein Lieblingskraut ist. Rosmarin-Neulinge sollten erst einmal mit der angegebenen Menge arbeiten.",
         "['1 kg Schweinefilet(s)', 'Salz und Pfeffer', '8 EL Weißwein, trocken', '4 EL Balsamico, dunkler', '4 EL Olivenöl', '1 Zweig/e Rosmarin, ca. 20 cm, nach Geschmack auch mehr']",
         "1",
         "Rosmarin-Balsamico-Schweinefilet",
         "2015",
         "February",
         "Sunday"
        ],
        [
         "35",
         "https://www.chefkoch.de/rezepte/1156681221835614/",
         "Zuerst die Paprika waschen und Kerne rausnehmen, dann mit der Zwiebel und dem Putenschnitzel würfeln. Öl in einer Pfanne erhitzen. Fleisch- und Zwiebelwürfel darin anbraten. Paprikawürfel und Mais hinzugeben und alles ca. 5 Minuten garen. Die Salsa Sauce unterrühren und mit Salz und Pfeffer abschmecken.Brötchen im vorgeheizten Backofen bei 200 Grad (Gas Stufe 3) ca. 3 Minuten aufbacken und aufschneiden.Die unteren Brötchenhälften mit saurer Sahne bestreichen und mit Salatblättern belegen. Die Füllung auf den Brötchen verteilen und mit oberen Brötchenhälften abdecken und warm servieren.Für Weight Watchers Mitglieder: Pro Burger 4 Points",
         "['1 Paprikaschote(n), grün', '1 Zwiebel(n)', '2 kleine Putenschnitzel (á 120 g)', '1 TL Pflanzenöl', '4 EL Mais (Konserve)', '6 EL Sauce (Salsa)', 'Salz', 'Pfeffer', '4 Brötchen (Roggenbrötchen)', '2 EL saure Sahne', '4 Blätter Salat']",
         "1",
         "Indischer Linseneintopf",
         "2013",
         "July",
         "Monday"
        ],
        [
         "36",
         "https://www.chefkoch.de/rezepte/1021051207313793/",
         "Gurke schälen, Tomaten entstielen. Beides in 1 cm große Würfel schneiden. Salat waschen, trocknen und in Streifen schneiden.Mayonnaise und Joghurt mischen und mit Salz und Pfeffer abschmecken. Den abgeschütteten Mais untermischen.Zwiebel würfeln und Hähnchenbrust in dünne Streifen schneiden. Beides bei mittlerer Hitze in Öl anbraten und mit Salz, Pfeffer und Paprikapulver würzen.Pita-Taschen nach Packungsanweisung zubereiten und mit den restlichen Zutaten füllen. Sofort servieren.",
         "['1/2 Salatgurke(n)', '2 Tomate(n)', '1 kleiner Eisbergsalat', '4 EL Mayonnaise', '4 EL Joghurt', '1 kl. Dose/n Mais', '1 Zwiebel(n)', '300 g Hähnchenbrustfilet(s)', '3 EL Öl', '4 Stück(e) Fladenbrot(e) (Pita-Taschen)', 'Salz und Pfeffer', 'Paprikapulver, rosenscharf']",
         "1",
         "Böhmisches Gulasch",
         "2011",
         "November",
         "Tuesday"
        ],
        [
         "37",
         "https://www.chefkoch.de/rezepte/178061077521861/",
         "Schweinenacken, gewürfelte Zwiebeln in Butterschmalz hell andünsten. Gewürfelte Möhren dazugeben und weiterdünsten, nach ca. 10 Min. Brühe dazugießen und langsam kochen lassen. Gewürfelte Kartoffeln (extra abkochen) und nach 45 Min. dem Eintopf beifügen. Alles mit Salz, Pfeffer, etwas Zucker und Knoblauch abschmecken. Frisch gehackte Petersilie beim Anrichten darüber streuen.",
         "['600 g Schweinenacken', '150 g Zwiebel(n), gewürfelt', '100 g Butterschmalz', '800 g Möhre(n), gewürfelt', '1 Liter Brühe', '400 g Kartoffel(n), gewürfelt', 'Salz, Pfeffer', 'Zucker', 'Knoblauchpulver', 'Petersilie, gehackt']",
         "1",
         "Krautwickel mit Knackwurstfüllung",
         "2007",
         "March",
         "Thursday"
        ],
        [
         "38",
         "https://www.chefkoch.de/rezepte/1260501231418638/",
         "Die Knoblauchzehen zerdrücken, mit Salz, Pfeffer, Rosmarin und Oregano mischen und das Fleisch damit einreiben. Die Zwiebel fein würfeln. Den Lauch in Ringe schneiden, Karotte und Sellerie würfeln.Öl in einem Bräter erhitzen, das Fleisch darin scharf anbraten. Das vorbereitete Gemüse zufügen und mitbraten. Die Brühe angießen und im vorgeheizten Backofen bei 200°C (Gas Stufe 3) ca. 40 Minuten braten.Die Bohnen in Salzwasser 8 - 10 Minuten bissfest kochen. Den Speck in einer Pfanne zerlassen und die Bohnen darin schwenken.Den Braten herausnehmen und warm stellen. Die Sauce pürieren, mit saurer Sahne verfeinern und mit Salz und Pfeffer abschmecken.Den Braten aufschneiden, mit Sauce, Kartoffeln und Bohnen servieren.",
         "['2 Knoblauchzehe(n)', 'Salz und Pfeffer', '1 TL Rosmarin, frischer', '1 TL Oregano, frischer', '750 g Lammfleisch, mageres', '1 Zwiebel(n)', '1 Stange/n Lauch', '1 Karotte(n)', '1 Stück(e) Knollensellerie', '5 TL Öl', '500 ml Fleischbrühe', '1 kg Bohnen, grüne', '30 g Speck, gewürfelter', '2 EL saure Sahne', '4 m.-große Kartoffel(n), gekochte']",
         "1",
         "Pangasiusfilet auf Ratatouille",
         "2011",
         "July",
         "Friday"
        ],
        [
         "39",
         "https://www.chefkoch.de/rezepte/631671163779986/",
         "Die Zwiebeln schälen, hacken und in etwas Öl glasig anschwitzen. Die Hähnchenbrustfilets in mundgerechte Stücke schneiden. Mit etwas frischem Pfeffer, Currypulver und Paprikapulver würzen und zu den Zwiebeln geben. Die Paprikaschoten putzen, klein schneiden und dazu geben. Kurz mitbraten lassen und mit der Gemüsebrühe ablöschen. Etwa 5 Minuten köcheln lassen.Anschließend mit einem Pfannenwender das Hähnchenfleisch sowie die Hälfte aller Paprikastücke aus der Sauce entnehmen. Den Sud mit den restlichen Paprikastücken mit einem Pürierstab fein pürieren. Die Sahne hinzugeben, so dass eine cremige Konsistenz erreicht wird. Die Fleischstücke und restlichen Paprikastücke der Sauce wieder hinzugeben. Kurz zusammen aufkochen lassen und abschmecken - evtl. nachwürzen und servieren.Dazu Reis servieren.",
         "['2 Zwiebel(n)', '500 g Hähnchenbrustfilet(s)', 'etwas Öl', '4 Paprikaschote(n), frische', '300 ml Gemüsebrühe', '100 ml Sahne', 'Currypulver', 'Paprikapulver', 'Pfeffer']",
         "1",
         "Kartoffel-Parmesan Puffer",
         "2013",
         "June",
         "Saturday"
        ],
        [
         "40",
         "https://www.chefkoch.de/rezepte/194211082701408/",
         "Möhren und Zwiebeln schälen und in ca. 0,5-cm-dicke Scheiben schneiden (Zwiebeln etwas dicker). Das Hähnchenbrustfilet salzen und pfeffern.Das Fleisch in der Pfanne (Bräter) von beiden Seiten scharf anbraten. Dann das Gemüse mit hinein geben und kurz weiter schmoren lassen. Mit der Gemüsebrühe ablöschen. Lorbeerblätter und die Kräuter hinein geben. Alles bei geschlossenem Deckel mindestens 20-25 Minuten schmoren lassen. Zum Schluss mit Salz und Pfeffer abschmecken.Dazu schmecken Kroketten oder Kartoffelpüree.",
         "['400 g Hähnchenbrustfilet(s)', '4 Möhre(n)', '2 Zwiebel(n)', '250 ml Gemüsebrühe', 'Salz und Pfeffer', '2 Lorbeerblätter', 'Kräuter der Provence']",
         "1",
         "Entenkeulen à la bourguignonne",
         "2009",
         "November",
         "Sunday"
        ],
        [
         "41",
         "https://www.chefkoch.de/rezepte/968601202542223/",
         "Schweinefleisch in etwa 1 cm breite und 4 cm lange Streifen schneiden, mit 1 El Fischsoße und Pfeffer vermischen und 10 Minuten marinieren lassen.Inzwischen Bambussprossen in ein Sieb geben, kalt abspülen und in feine Streifen schneiden. Paprikahälften waschen, von Stielansatz, Trennwänden und Kernen befreien und ebenfalls in feine Streifen schneiden.Öl in einer Pfanne oder Wok erhitzen, Schweinefleisch bei mittlerer Hitze etwa 2 Minuten anbraten. Gelbe Currypaste dazugeben und gut unter das Fleisch mischen.Die Hitze erhöhen. Bambussprossen, Paprikastreifen, 2 EL Fischsoße, Zucker und etwas Wasser hinzufügen. Alles bei starker Hitze etwa 2 Minuten weiter dünsten. Dabei ständig umrühren.Gelbe Currypaste:Zutaten für eine Schale ( 4 Portionen). Den Stiel von den Chilischoten entfernen. Chilischoten quer halbieren und in lauwarmem Wasser etwa 5 Min. einweichen. Anschließend Wasser abgießen und Schoten gut ausdrücken. Danach nicht mit den Händen ins Gesicht oder Augen kommen.Zitronengras und Galgant waschen. Galgant in dünne Scheiben, Zitronengras in dünne Ringe schneiden. Schalotten und Knoblauch schälen und klein hacken.Alle Zutaten, bis auf die Chilihälften, mit Koriandersamen und Kreuzkümmel in einer Pfanne ohne Öl bei mittlerer Hitze etwa 3 Min. anbraten, dabei ständig rühren. Etwas abkühlen lassen.Chilischoten mit Salz in einem Mörser zerstoßen. Nach und nach sämtliche Zutaten dazugeben und kräftig stoßen. Currypulver und Garnelenpaste ebenfalls untermischen.Variante:Anstelle von Schweinefleisch kann man auch gut Hühnerfleisch oder Rinderfilet verwenden.Info:Kreuzkümmel ist auch unter der Bezeichnung asiatischer oder türkischer Kümmel, Cumin und Djinton bekannt. Kreuzkümmel ist im Geschmack scharf und etwas bitter. Er schmeckt ganz anders als der gewöhnliche Kümmel und kann nicht durch diesen ersetzt werden.",
         "['400 g Schweinefleisch, (Oberschale oder Nuss)', '3 EL Fischsauce', '1/2TL Pfeffer, schwarz, frisch gemahlen', '1 Dose Bambussprosse(n), ganz (540g)', '1/2 Paprikaschote(n), rot', '1/2 Paprikaschote(n), grün', '5 EL Öl', '2 EL Currypaste, gelb, selbst gemacht:', '2 EL Zucker', '5 Chilischote(n), getrocknet', '1 Stange/n Zitronengras', '1 Stück(e) Galgant, frisch 2 cm (ersatzweise Ingwer)', '5 Schalotte(n)', '1 EL Koriander', '1 TL Kreuzkümmel', '1 TL Salz', '1 EL Currypulver', '1 TL Garnelenpaste']",
         "1",
         "Kartoffelsalat mit Hackbällchen",
         "2008",
         "May",
         "Thursday"
        ],
        [
         "42",
         "https://www.chefkoch.de/rezepte/72391027243758/",
         "Das Kaisergemüse in Salzwasser garen, die Paprikaschote klein schneiden und den Lauch in Scheiben schneiden.Das Putengeschnetzelte in Öl braten. Sobald es gar ist, kann alles Gemüse dazu. Mit Sojasauce, Cayennepfeffer und Salz abschmecken und noch etwas weiter braten. Zum Schluss Cremefine unterrühren und nur noch kurz köcheln lassen.",
         "['250 g Putenfleisch, geschnetzelt', '1 m.-große Paprikaschote(n)', '1 Stange/n Lauch', '500 g Gemüse, TK (Kaisergemüse)', '150 ml Cremefine, 7% Fett', 'Salz', 'Cayennepfeffer', 'Sojasauce', '1 TL Öl']",
         "1",
         "Hirsesalat",
         "2015",
         "October",
         "Thursday"
        ],
        [
         "43",
         "https://www.chefkoch.de/rezepte/311161112317127/",
         "Schweinefilet in Scheiben schneiden. Salzen, pfeffern und mit längs halbierten Lauchblättern umwickeln. Mit Hölzchen zusammenhalten. In heißer Butter etwa 10 Minuten braten. Dabei den Weinbrand zufügen. Medaillons herausnehmen und warm stellen. Entsteinte Pflaumen (oder Zwetschgen) im Bratensatz kurz durchschmoren und zu den Medaillons servieren.",
         "['800 g Schweinefilet(s)', '50 g Butter', '4 Blätter Lauch, breit, blanchiert', '3 EL Weinbrand', '200 g Pflaume(n) oder Zwetschgen', 'Salz', 'Pfeffer']",
         "1",
         "Rotbarschfilet auf pürierten Tomaten mit Zucchini - Mozzarellahaube",
         "2006",
         "September",
         "Friday"
        ],
        [
         "44",
         "https://www.chefkoch.de/rezepte/1748871284208163/",
         "Den Pizzateig entrollen und auf ein Backblech legen. Den Lauch putzen, in feine Ringe schneiden und mit dem Speck in einer Pfanne kurz anbraten, je nach Fettgehalt des Specks evtl. etwas Öl zum Braten verwenden.Die Lauch-Speck-Mischung abkühlen lassen und mit saurer Sahne und dem geriebenen Emmentaler vermischen. Mit Pfeffer, Salz und Knoblauchpulver würzig abschmecken, auf dem Pizzaboden verteilen.Ca. 10 – 15 Minuten (je nach gewünschter Bräune) bei 180°C backen.",
         "['2 Stange/n Lauch', '1 Becher saure Sahne', '100 g Käse (Emmentaler), gerieben', '50 g Speck, mager, gewürfelt', 'etwas Öl, evtl.', 'Salz und Pfeffer', 'Knoblauchpulver', '1 Pck. Pizzateig aus dem Kühlregal']",
         "1",
         "Eier in Senfsauce",
         "2017",
         "September",
         "Friday"
        ],
        [
         "45",
         "https://www.chefkoch.de/rezepte/1021051207313793/",
         "Das Öl erwärmen, Zwiebeln, Knoblauch und Mangoldstiele darin anbraten, nach ein paar Minuten die Mangoldlätter hinzugeben, mit Salz, Pfeffer, Muskatnuss und Kreuzkümmel würzen und ca. 10 Minuten dünsten.In eine Auflaufform je eine Lage Topinambur und Mangold nach und nach einschichten. Den Saft der Orange darübergeben und mit der Crème fraîche bestreichen. Zugedeckt bei 150 Grad für 20 Minuten garen lassen. Die Sahne darübergeben und für weitere 15 Minuten garen. Dann den Käse darüberstreuen und ohne Deckel in ca. 20 Minuten eine goldgelbe Kruste entstehen lassen.",
         "['400 g Topinambur, geschält oder ungeschält, in 3 mm breite Scheiben geschnitten', '2 Mangold (Stauden), geputzt, in Streifen geschnitten', '1 Becher Crème fraîche mit Kräutern', '1 Becher Sahne', '2 Zwiebel(n), in Würfeln', '3 Knoblauchzehe(n), in dünne Scheiben geschnitten', '150 g Käse, gerieben (zum Überbacken)', '1 Prise(n) Muskat', '1 Prise(n) Kräutersalz', '1 Prise(n) Pfeffer', '1 Prise(n) Kreuzkümmel', '1 Orange(n), den Saft auspressen', '50 ml Olivenöl']",
         "1",
         "Böhmisches Gulasch",
         "2011",
         "November",
         "Tuesday"
        ],
        [
         "46",
         "https://www.chefkoch.de/rezepte/508111146130787/",
         "Das Suppengemüse (2 große Möhren, ein Stück Sellerie, eine halbe Stange Porree - das Weiße) und die Zwiebel in gleich große Würfelchen schneiden, den Porree längs halbieren und in Streifen schneiden, Knoblauch und Chilischote hacken.Alles zusammen in der Kräuterbutter anschwitzen. Mit gut 200 ml Weißwein ablöschen und etwas einkochen lassen. Fischfond mit derselben Menge Wasser dazugeben. Hummer- und Krustentierpaste und die Crème fraîche einrühren. Mit Salz abschmecken. Alles zusammen kurz aufkochen lassen.Jetzt die Fischfilets in nicht zu kleinen Stücken, die Shrimps und die Flusskrebsschwänze dazugeben und alles zusammen auf ganz kleiner Flamme 15 Minuten ziehen lassen.Zitronenviertel und frischen, gehackten Dill extra dazu reichen, das Fischaroma soll nicht schon im Topf erschlagen werden.Alle mageren, festen Fischsorten sind geeignet (wer mag, kann auch Wels, Pangasius, Rotbarben und Kabeljau nehmen).",
         "['1300 g Fischfilet(s) (Rotbarsch, Tilapia-Buntbarsch, Victoriabarsch), frisch', '150 g Shrimps', '100 g Flusskrebsschwänze', '1 Bund Suppengrün, knackiges', '1/2 Gemüsezwiebel(n)', '1 große Chilischote(n), rote, frische', '2 Knoblauchzehe(n)', '2 EL Kräuterbutter oder auch einfache Butter', 'etwas Hummerpaste und Krustentierpaste', '2 Becher Crème fraîche à 200g', '2 Gläser Fischfond à 400 ml', '200 ml Weißwein', '2 Zitrone(n)', 'Dill', 'Salz']",
         "1",
         "Fischsuppe",
         "2019",
         "February",
         "Friday"
        ],
        [
         "47",
         "https://www.chefkoch.de/rezepte/861031191593348/",
         "Fett oder Speck zerlassen und darin die geschälte, klein geschnittene Zwiebel mit dem geputzten, gewaschenen und gewürfelten Suppengrün andünsten. Mit Fleischbrühe aufkochen lassen, die geschälten und kleingeschnittenen Kartoffeln hineingeben und alles 25 Minuten garen.Wenn die Kartoffeln weich sind, werden sie zerdrückt. Mit Salz und Majoran (evtl. Fleischextrakt) abschmecken. Brühwürstchen in die heiße Suppe geben und ziehen lassen.Die Suppe mit gewaschener, gehackter Petersilie oder auch mit gerösteten Weißbrotwürfeln anrichten.TIP:Die Suppe lässt sich durch 1/4 l saure Sahne oder Schmand verfeinern.Variation:500 g Kartoffeln können durch Möhren ersetzt werden.",
         "['80 g Fett, oder Speck', '1 Zwiebel(n)', '1 Bund Suppengrün', '1 Liter Fleischbrühe', '1/2kg Kartoffel(n)', 'Salz', 'n. B. Würstchen (Brühwürstchen)', '2 Zweig/e Petersilie', 'Majoran', 'Fleisch -Extrakt']",
         "1",
         "Kartoffelsuppe mit Würstchen",
         "2010",
         "February",
         "Monday"
        ],
        [
         "48",
         "https://www.chefkoch.de/rezepte/295691108953224/",
         "Kartoffeln schälen, waschen, vierteln und in kochendem Salzwasser zugedeckt 20 Minuten garen.Milch, Butter, etwas Salz, Pfeffer und Muskat erwärmen. 3/4 des Schnittlauchs in feine Röllchen schneiden.Kartoffeln abgießen ausdampfen lassen. Die ausgekühlten Kartoffeln durch eine Kartoffelpresse drücken oder fein zerstampfen. Die heiße Milchmischung nach und nach mit einem Kochlöffel unterrühren. Mit Salz, Pfeffer und Muskat würzen. Die Schnittlauchröllchen und Röstzwiebeln unterheben.Das Püree in eine Form von ca. 30 cm Länge streichen. Mit einem nassen Löffelrücken 6 Mulden hineindrücken, die Eier hineinschlagen und mit Käse bestreuen.Im vorgeheizten Ofen bei 200° C auf der 2. Schiene von unten 22-25 Minuten backen (Umluft ist nicht geeignet).Den übrigen Schnittlauch in Röllchen schneiden, mit etwas Salz und Pfeffer vermengen und auf dem Auflauf verteilen.",
         "['1200 g Kartoffel(n), mehlig kochend', '250 ml Milch', '2 EL Butter', '2 Bund Schnittlauch', '60 g Zwiebel(n) (Röstzwiebeln)', '6 Ei(er)', '100 g Käse (Gouda)', 'Salz', 'Pfeffer', 'Muskat']",
         "1",
         "Äppelufflaaf mett Woi",
         "2006",
         "April",
         "Saturday"
        ],
        [
         "49",
         "https://www.chefkoch.de/rezepte/1748871284208163/",
         "Die Filets in 4 Stücke zerteilen, salzen, pfeffern und jeweils mit einer Scheibe Schinkenspeck umwickeln. Eine feuerfeste Form mit etwas Butter ausstreichen, die Filets hineinlegen und in den auf 200 Grad vorgeheizten Ofen schieben. Die Sahne mit Tomatenmark, Salz, Pfeffer, Paprika und Oregano würzen, erhitzen und nach 20 Min. über die Lendchen geben. Weitere 15 Min. garen lassen. Wer möchte kann das Ganze noch mit geriebenen Gouda überbacken.",
         "['2 Schweinefilet(s)', '8 Scheibe/n Schinkenspeck', '200 g Sahne', '30 g Tomatenmark', 'etwas Butter', 'Salz und Pfeffer', 'Paprikapulver', 'evtl. Käse (ger. Goudakäse)', 'Oregano']",
         "1",
         "Eier in Senfsauce",
         "2017",
         "September",
         "Friday"
        ]
       ],
       "shape": {
        "columns": 8,
        "rows": 12190
       }
      },
      "text/html": [
       "<div>\n",
       "<style scoped>\n",
       "    .dataframe tbody tr th:only-of-type {\n",
       "        vertical-align: middle;\n",
       "    }\n",
       "\n",
       "    .dataframe tbody tr th {\n",
       "        vertical-align: top;\n",
       "    }\n",
       "\n",
       "    .dataframe thead th {\n",
       "        text-align: right;\n",
       "    }\n",
       "</style>\n",
       "<table border=\"1\" class=\"dataframe\">\n",
       "  <thead>\n",
       "    <tr style=\"text-align: right;\">\n",
       "      <th></th>\n",
       "      <th>Url</th>\n",
       "      <th>Instructions</th>\n",
       "      <th>Ingredients</th>\n",
       "      <th>Day</th>\n",
       "      <th>Name</th>\n",
       "      <th>Year</th>\n",
       "      <th>Month</th>\n",
       "      <th>Weekday</th>\n",
       "    </tr>\n",
       "  </thead>\n",
       "  <tbody>\n",
       "    <tr>\n",
       "      <th>0</th>\n",
       "      <td>https://www.chefkoch.de/rezepte/185441079701305/</td>\n",
       "      <td>Die Eier hart kochen. Dann pellen und mit eine...</td>\n",
       "      <td>[600 g Hackfleisch, halb und halb, 800 g Sauer...</td>\n",
       "      <td>1</td>\n",
       "      <td>Gebratener Hasenrücken</td>\n",
       "      <td>2009</td>\n",
       "      <td>January</td>\n",
       "      <td>Thursday</td>\n",
       "    </tr>\n",
       "    <tr>\n",
       "      <th>1</th>\n",
       "      <td>https://www.chefkoch.de/rezepte/2718181424631245/</td>\n",
       "      <td>Vorab folgende Bemerkung: Alle Mengen sind Cir...</td>\n",
       "      <td>[1 kg Strauchtomate(n), 1 Gemüsezwiebel(n), 1 ...</td>\n",
       "      <td>1</td>\n",
       "      <td>Pilz Stroganoff</td>\n",
       "      <td>2017</td>\n",
       "      <td>July</td>\n",
       "      <td>Saturday</td>\n",
       "    </tr>\n",
       "    <tr>\n",
       "      <th>2</th>\n",
       "      <td>https://www.chefkoch.de/rezepte/46341015661368/</td>\n",
       "      <td>Die Kirschen abtropfen lassen, dabei den Saft ...</td>\n",
       "      <td>[1 Glas Kirsche(n), 1 Pck. Vanillepuddingpulve...</td>\n",
       "      <td>1</td>\n",
       "      <td>Kaninchen a la Gioff</td>\n",
       "      <td>2007</td>\n",
       "      <td>January</td>\n",
       "      <td>Monday</td>\n",
       "    </tr>\n",
       "    <tr>\n",
       "      <th>3</th>\n",
       "      <td>https://www.chefkoch.de/rezepte/51051018014178/</td>\n",
       "      <td>Den Spargel säubern, die holzigen Enden abschn...</td>\n",
       "      <td>[500 g Spargel, grüner, 300 ml Brühe oder Fond...</td>\n",
       "      <td>1</td>\n",
       "      <td>Spanisches Knoblauch-Kaninchen</td>\n",
       "      <td>2013</td>\n",
       "      <td>April</td>\n",
       "      <td>Monday</td>\n",
       "    </tr>\n",
       "    <tr>\n",
       "      <th>4</th>\n",
       "      <td>https://www.chefkoch.de/rezepte/1555771262860408/</td>\n",
       "      <td>Kohlrabi schälen und klein würfeln. Mit der Br...</td>\n",
       "      <td>[250 g Kohlrabi, 150 ml Gemüsebrühe, 150 ml Mi...</td>\n",
       "      <td>1</td>\n",
       "      <td>Gnocchi - Hack - Pfanne mit Basilikum</td>\n",
       "      <td>2017</td>\n",
       "      <td>August</td>\n",
       "      <td>Tuesday</td>\n",
       "    </tr>\n",
       "    <tr>\n",
       "      <th>...</th>\n",
       "      <td>...</td>\n",
       "      <td>...</td>\n",
       "      <td>...</td>\n",
       "      <td>...</td>\n",
       "      <td>...</td>\n",
       "      <td>...</td>\n",
       "      <td>...</td>\n",
       "      <td>...</td>\n",
       "    </tr>\n",
       "    <tr>\n",
       "      <th>12185</th>\n",
       "      <td>https://www.chefkoch.de/rezepte/1547251261244879/</td>\n",
       "      <td>In einem nicht allzu großen Topf die Butter er...</td>\n",
       "      <td>[3 EL Butter, 800 g Rinderbraten (Schulter ode...</td>\n",
       "      <td>1</td>\n",
       "      <td>Herzhafte Pfannkuchen</td>\n",
       "      <td>2019</td>\n",
       "      <td>January</td>\n",
       "      <td>Tuesday</td>\n",
       "    </tr>\n",
       "    <tr>\n",
       "      <th>12186</th>\n",
       "      <td>https://www.chefkoch.de/rezepte/47411016028870/</td>\n",
       "      <td>Gurke waschen und in dünne Scheiben schneiden....</td>\n",
       "      <td>[1/2 Salatgurke(n), 250 g Käse (Emmentaler), 1...</td>\n",
       "      <td>1</td>\n",
       "      <td>Tomaten-Zucchini-Spaghetti</td>\n",
       "      <td>2004</td>\n",
       "      <td>September</td>\n",
       "      <td>Wednesday</td>\n",
       "    </tr>\n",
       "    <tr>\n",
       "      <th>12187</th>\n",
       "      <td>https://www.chefkoch.de/rezepte/1102041216136522/</td>\n",
       "      <td>Die Gurken schälen und längs halbieren. Das In...</td>\n",
       "      <td>[1 kg Schmorgurke(n), 1 kl. Dose/n Tomate(n), ...</td>\n",
       "      <td>1</td>\n",
       "      <td>Am Spieß gebratenes Schweinefleisch mit Malzex...</td>\n",
       "      <td>2012</td>\n",
       "      <td>September</td>\n",
       "      <td>Saturday</td>\n",
       "    </tr>\n",
       "    <tr>\n",
       "      <th>12188</th>\n",
       "      <td>https://www.chefkoch.de/rezepte/897988359371/</td>\n",
       "      <td>Die Knochen mit der Hälfte des Wurzelwerkes, d...</td>\n",
       "      <td>[Für den Fond:, 500 g Knochen vom Wild, 1/2Bun...</td>\n",
       "      <td>1</td>\n",
       "      <td>Geflügelsalat</td>\n",
       "      <td>2003</td>\n",
       "      <td>February</td>\n",
       "      <td>Saturday</td>\n",
       "    </tr>\n",
       "    <tr>\n",
       "      <th>12189</th>\n",
       "      <td>https://www.chefkoch.de/rezepte/34751011686647/</td>\n",
       "      <td>Aus Mehl, Hefe, den Gewürzen, Ei, Milch und de...</td>\n",
       "      <td>[375 g Mehl (Weizenmehl, Weizenvollkornmehl), ...</td>\n",
       "      <td>1</td>\n",
       "      <td>Serbischer Paprikaeintopf</td>\n",
       "      <td>2003</td>\n",
       "      <td>October</td>\n",
       "      <td>Wednesday</td>\n",
       "    </tr>\n",
       "  </tbody>\n",
       "</table>\n",
       "<p>12190 rows × 8 columns</p>\n",
       "</div>"
      ],
      "text/plain": [
       "                                                     Url  \\\n",
       "0       https://www.chefkoch.de/rezepte/185441079701305/   \n",
       "1      https://www.chefkoch.de/rezepte/2718181424631245/   \n",
       "2        https://www.chefkoch.de/rezepte/46341015661368/   \n",
       "3        https://www.chefkoch.de/rezepte/51051018014178/   \n",
       "4      https://www.chefkoch.de/rezepte/1555771262860408/   \n",
       "...                                                  ...   \n",
       "12185  https://www.chefkoch.de/rezepte/1547251261244879/   \n",
       "12186    https://www.chefkoch.de/rezepte/47411016028870/   \n",
       "12187  https://www.chefkoch.de/rezepte/1102041216136522/   \n",
       "12188      https://www.chefkoch.de/rezepte/897988359371/   \n",
       "12189    https://www.chefkoch.de/rezepte/34751011686647/   \n",
       "\n",
       "                                            Instructions  \\\n",
       "0      Die Eier hart kochen. Dann pellen und mit eine...   \n",
       "1      Vorab folgende Bemerkung: Alle Mengen sind Cir...   \n",
       "2      Die Kirschen abtropfen lassen, dabei den Saft ...   \n",
       "3      Den Spargel säubern, die holzigen Enden abschn...   \n",
       "4      Kohlrabi schälen und klein würfeln. Mit der Br...   \n",
       "...                                                  ...   \n",
       "12185  In einem nicht allzu großen Topf die Butter er...   \n",
       "12186  Gurke waschen und in dünne Scheiben schneiden....   \n",
       "12187  Die Gurken schälen und längs halbieren. Das In...   \n",
       "12188  Die Knochen mit der Hälfte des Wurzelwerkes, d...   \n",
       "12189  Aus Mehl, Hefe, den Gewürzen, Ei, Milch und de...   \n",
       "\n",
       "                                             Ingredients  Day  \\\n",
       "0      [600 g Hackfleisch, halb und halb, 800 g Sauer...    1   \n",
       "1      [1 kg Strauchtomate(n), 1 Gemüsezwiebel(n), 1 ...    1   \n",
       "2      [1 Glas Kirsche(n), 1 Pck. Vanillepuddingpulve...    1   \n",
       "3      [500 g Spargel, grüner, 300 ml Brühe oder Fond...    1   \n",
       "4      [250 g Kohlrabi, 150 ml Gemüsebrühe, 150 ml Mi...    1   \n",
       "...                                                  ...  ...   \n",
       "12185  [3 EL Butter, 800 g Rinderbraten (Schulter ode...    1   \n",
       "12186  [1/2 Salatgurke(n), 250 g Käse (Emmentaler), 1...    1   \n",
       "12187  [1 kg Schmorgurke(n), 1 kl. Dose/n Tomate(n), ...    1   \n",
       "12188  [Für den Fond:, 500 g Knochen vom Wild, 1/2Bun...    1   \n",
       "12189  [375 g Mehl (Weizenmehl, Weizenvollkornmehl), ...    1   \n",
       "\n",
       "                                                    Name  Year      Month  \\\n",
       "0                                 Gebratener Hasenrücken  2009    January   \n",
       "1                                        Pilz Stroganoff  2017       July   \n",
       "2                                   Kaninchen a la Gioff  2007    January   \n",
       "3                         Spanisches Knoblauch-Kaninchen  2013      April   \n",
       "4                  Gnocchi - Hack - Pfanne mit Basilikum  2017     August   \n",
       "...                                                  ...   ...        ...   \n",
       "12185                              Herzhafte Pfannkuchen  2019    January   \n",
       "12186                         Tomaten-Zucchini-Spaghetti  2004  September   \n",
       "12187  Am Spieß gebratenes Schweinefleisch mit Malzex...  2012  September   \n",
       "12188                                      Geflügelsalat  2003   February   \n",
       "12189                          Serbischer Paprikaeintopf  2003    October   \n",
       "\n",
       "         Weekday  \n",
       "0       Thursday  \n",
       "1       Saturday  \n",
       "2         Monday  \n",
       "3         Monday  \n",
       "4        Tuesday  \n",
       "...          ...  \n",
       "12185    Tuesday  \n",
       "12186  Wednesday  \n",
       "12187   Saturday  \n",
       "12188   Saturday  \n",
       "12189  Wednesday  \n",
       "\n",
       "[12190 rows x 8 columns]"
      ]
     },
     "execution_count": 20,
     "metadata": {},
     "output_type": "execute_result"
    }
   ],
   "source": [
    "data5 = pd.read_json(f'{file_path}set5-f/recipes.json')\n",
    "data5"
   ]
  },
  {
   "cell_type": "markdown",
   "metadata": {},
   "source": [
    " - Dataset not in english, will skip as we are not currently looking to use a translator on everything"
   ]
  },
  {
   "cell_type": "markdown",
   "metadata": {},
   "source": [
    "### [Dataset 6 (set6-f)](https://www.kaggle.com/datasets/canggih/indonesian-food-recipes)\n",
    " - Non-Viable"
   ]
  },
  {
   "cell_type": "code",
   "execution_count": null,
   "metadata": {},
   "outputs": [
    {
     "data": {
      "application/vnd.microsoft.datawrangler.viewer.v0+json": {
       "columns": [
        {
         "name": "index",
         "rawType": "int64",
         "type": "integer"
        },
        {
         "name": "Title",
         "rawType": "object",
         "type": "string"
        },
        {
         "name": "Ingredients",
         "rawType": "object",
         "type": "string"
        },
        {
         "name": "Steps",
         "rawType": "object",
         "type": "string"
        },
        {
         "name": "Loves",
         "rawType": "int64",
         "type": "integer"
        },
        {
         "name": "URL",
         "rawType": "object",
         "type": "string"
        }
       ],
       "conversionMethod": "pd.DataFrame",
       "ref": "19ce9c52-3074-4039-b1f8-597397a0e82b",
       "rows": [
        [
         "0",
         "Ayam Woku Manado",
         "1 Ekor Ayam Kampung (potong 12)--2 Buah Jeruk Nipis--2 Sdm Garam--3 Ruas Kunyit--7 Bawang Merah--7 Bawang Putih--10 Cabe Merah--10 Cabe Rawit Merah (sesuai selera)--3 Butir Kemiri--2 Batang Sereh--2 Lembar Daun Salam--2 Ikat Daun Kemangi--Penyedap Rasa--1 1/2 Gelas Air--",
         "Cuci bersih ayam dan tiriskan. Lalu peras jeruk nipis (kalo gak ada jeruk nipis bisa pake cuka) dan beri garam. Aduk hingga merata dan diamkan selama 5 menit, biar ayam gak bau amis.--Goreng ayam tersebut setengah matang, lalu tiriskan--Haluskan bumbu menggunakan blender. Bawang merah, bawang putih, cabe merah, cabe rawit, kemiri dan kunyit. Oh iya kasih minyak sedikit yaa biar bisa di blender. Untuk sereh nya di geprek aja terus di buat simpul.--Setelah bumbu di haluskan barulah di tumis. Jangan lupa sereh dan daun salamnya juga ikut di tumis. Di tumis sampai berubah warna ya 👌--Masukan ayam yang sudah di goreng setengah matang ke dalam bumbu yang sudah di tumis, dan diamkan 5 menit dulu. Biar bumbu meresap. Lalu tuangkan 1 1/2 Gelas air. Lalu tambahkan penyedap rasa (saya 3 Sdt, tapi sesuai selera ya) koreksi rasa dan Biar kan sampai mendidih--Setelah masakan mendidih, lalu masukan daun kemangi yang sudah di potong potong. Masak lagi sekitar 10 menit. And taraaaaaaaaaaaaaa..... jadi deh Ayam Woku Manadonya.--Oh iyaa kalo mau di tambahkan potongan tomat merah juga bisa ko. Sesuai selera aja yaa buibuuuu 👌👌👌--",
         "1",
         "/id/resep/4473027-ayam-woku-manado"
        ],
        [
         "1",
         "Ayam goreng tulang lunak",
         "1 kg ayam (dipotong sesuai selera jangan kecil2 ya)--2 batang serai (memarkan)--4 lembar daun jeruk--7 butir bawang putih (haluskan)--1 sdm ketumbar (haluskan)--3 ruas jari Laos (haluskan)--3 ruas jari kunyit (haluskan)--2 butir kemiri (haluskan)--secukupnya Garam--Secukupnya Air (tuk ukep ayam)--Secukupnya Minyak goreng--",
         "Haluskan bumbu2nya (BaPut, ketumbar, kemiri, kunyit, Laos, garam) hingga halus, sisihkan--Campur kan bumbu halus tadi dengan ayam yg sudah dicuci bersih dan sudah dipotong didalam panci presto. Uleni sampai tercampur rata.--Tambahkan air hingga ayam tenggelam semua. Masukkan serai dan daun jeruk nya kedalam rendaman ayam. Tutup panci presto rebus/ ukep presto sampai kurleb 45 menit. Dengan api sedang.--Setelah proses ukep presto selesai, tunggu suhu dingin ruang. Lalu goreng ayam dengan minyak goreng api sedang sampai ayam berwarna kecoklatan.--Matang dan sajikan ayam selagi hangat bersama nasi putih, sambal dgn perasan jeruk nipis, lalapan.--",
         "1",
         "/id/resep/4471956-ayam-goreng-tulang-lunak"
        ],
        [
         "2",
         "Ayam cabai kawin",
         "1/4 kg ayam--3 buah cabai hijau besar--7 buah cabai merah rawit--3 siung bawang putih--2 siung bawang merah--secukupnya Gula--secukupnya Garam--1/4 buah tomat merah--secukupnya Air--secukupnya Minyak goreng--",
         "Panaskan minyak di dalam wajan. Setelah minyak panas masukkan ayam yang sudah dipotong dadu. Goreng hingga matang. Lalu tiriskan.--Haluskan bawang putih, bawang merah, cabai hijau dan merah, tomat.--Panaskan minyak didalam wajan. Setelah minyak panas, masukkan bumbu yang sudah halus. Tunggu sampai wangi. Masukkan ayam yang sudah di goreng. Tambahkan air, gula dan garam. Tunggu sampai bumbu meresap di ayam. Sajikan.--",
         "2",
         "/id/resep/4473057-ayam-cabai-kawin"
        ],
        [
         "3",
         "Ayam Geprek",
         "250 gr daging ayam (saya pakai fillet)--Secukupnya gula dan garam--50-100 gr tepung ayam serbaguna--Secukupnya lalapan (kemangi,kol,timun)--Secukupnya minyak panas--❤sambal korek--Secukupnya cabe rawit merah dan bwg putih--",
         "Goreng ayam seperti ayam krispi--Ulek semua bahan sambal kemudian campur dengan minyak panas bekas goreng ayam--Geprek ayam kemudian campur dengan sambal,sajikan dengan lalapan ❤--",
         "10",
         "/id/resep/4473023-ayam-geprek"
        ],
        [
         "4",
         "Minyak Ayam",
         "400 gr kulit ayam & lemaknya--8 siung bawang putih kating, cincang kasar--1 ruas jahe, geprek--350 ml minyak goreng--1 sdm ketumbar bubuk--",
         "Cuci bersih kulit ayam. Sisihkan--Ambil 50 ml minyak goreng satu bahan yg sudah disiapkan tadi. Tumis jahe hingga harum.--Masukkan kulit ayam, ketumbar dan bawang. Biarkan hingga keluar minyak alaminya sambil diaduk-aduk.--Tambahkan sisa minyak goreng. Masak hingga kulit ayam mengering. Angkat dan saring.--Setelah cukup dingin minyak ayam tadi dapat disimpan dalam wadah kering seperti mason jar/botol. Kalo saya, saya masukkan juga sedikit bawang putih goreng.--Kulit ayam yg sudah digoreng kering tadi bisa dinikmati begitu saja sebagai camilan dengan ditaburi sejumput garam lalu aduk rata.--",
         "4",
         "/id/resep/4427438-minyak-ayam"
        ]
       ],
       "shape": {
        "columns": 5,
        "rows": 5
       }
      },
      "text/html": [
       "<div>\n",
       "<style scoped>\n",
       "    .dataframe tbody tr th:only-of-type {\n",
       "        vertical-align: middle;\n",
       "    }\n",
       "\n",
       "    .dataframe tbody tr th {\n",
       "        vertical-align: top;\n",
       "    }\n",
       "\n",
       "    .dataframe thead th {\n",
       "        text-align: right;\n",
       "    }\n",
       "</style>\n",
       "<table border=\"1\" class=\"dataframe\">\n",
       "  <thead>\n",
       "    <tr style=\"text-align: right;\">\n",
       "      <th></th>\n",
       "      <th>Title</th>\n",
       "      <th>Ingredients</th>\n",
       "      <th>Steps</th>\n",
       "      <th>Loves</th>\n",
       "      <th>URL</th>\n",
       "    </tr>\n",
       "  </thead>\n",
       "  <tbody>\n",
       "    <tr>\n",
       "      <th>0</th>\n",
       "      <td>Ayam Woku Manado</td>\n",
       "      <td>1 Ekor Ayam Kampung (potong 12)--2 Buah Jeruk ...</td>\n",
       "      <td>Cuci bersih ayam dan tiriskan. Lalu peras jeru...</td>\n",
       "      <td>1</td>\n",
       "      <td>/id/resep/4473027-ayam-woku-manado</td>\n",
       "    </tr>\n",
       "    <tr>\n",
       "      <th>1</th>\n",
       "      <td>Ayam goreng tulang lunak</td>\n",
       "      <td>1 kg ayam (dipotong sesuai selera jangan kecil...</td>\n",
       "      <td>Haluskan bumbu2nya (BaPut, ketumbar, kemiri, k...</td>\n",
       "      <td>1</td>\n",
       "      <td>/id/resep/4471956-ayam-goreng-tulang-lunak</td>\n",
       "    </tr>\n",
       "    <tr>\n",
       "      <th>2</th>\n",
       "      <td>Ayam cabai kawin</td>\n",
       "      <td>1/4 kg ayam--3 buah cabai hijau besar--7 buah ...</td>\n",
       "      <td>Panaskan minyak di dalam wajan. Setelah minyak...</td>\n",
       "      <td>2</td>\n",
       "      <td>/id/resep/4473057-ayam-cabai-kawin</td>\n",
       "    </tr>\n",
       "    <tr>\n",
       "      <th>3</th>\n",
       "      <td>Ayam Geprek</td>\n",
       "      <td>250 gr daging ayam (saya pakai fillet)--Secuku...</td>\n",
       "      <td>Goreng ayam seperti ayam krispi--Ulek semua ba...</td>\n",
       "      <td>10</td>\n",
       "      <td>/id/resep/4473023-ayam-geprek</td>\n",
       "    </tr>\n",
       "    <tr>\n",
       "      <th>4</th>\n",
       "      <td>Minyak Ayam</td>\n",
       "      <td>400 gr kulit ayam &amp; lemaknya--8 siung bawang p...</td>\n",
       "      <td>Cuci bersih kulit ayam. Sisihkan--Ambil 50 ml ...</td>\n",
       "      <td>4</td>\n",
       "      <td>/id/resep/4427438-minyak-ayam</td>\n",
       "    </tr>\n",
       "  </tbody>\n",
       "</table>\n",
       "</div>"
      ],
      "text/plain": [
       "                      Title  \\\n",
       "0          Ayam Woku Manado   \n",
       "1  Ayam goreng tulang lunak   \n",
       "2          Ayam cabai kawin   \n",
       "3               Ayam Geprek   \n",
       "4               Minyak Ayam   \n",
       "\n",
       "                                         Ingredients  \\\n",
       "0  1 Ekor Ayam Kampung (potong 12)--2 Buah Jeruk ...   \n",
       "1  1 kg ayam (dipotong sesuai selera jangan kecil...   \n",
       "2  1/4 kg ayam--3 buah cabai hijau besar--7 buah ...   \n",
       "3  250 gr daging ayam (saya pakai fillet)--Secuku...   \n",
       "4  400 gr kulit ayam & lemaknya--8 siung bawang p...   \n",
       "\n",
       "                                               Steps  Loves  \\\n",
       "0  Cuci bersih ayam dan tiriskan. Lalu peras jeru...      1   \n",
       "1  Haluskan bumbu2nya (BaPut, ketumbar, kemiri, k...      1   \n",
       "2  Panaskan minyak di dalam wajan. Setelah minyak...      2   \n",
       "3  Goreng ayam seperti ayam krispi--Ulek semua ba...     10   \n",
       "4  Cuci bersih kulit ayam. Sisihkan--Ambil 50 ml ...      4   \n",
       "\n",
       "                                          URL  \n",
       "0          /id/resep/4473027-ayam-woku-manado  \n",
       "1  /id/resep/4471956-ayam-goreng-tulang-lunak  \n",
       "2          /id/resep/4473057-ayam-cabai-kawin  \n",
       "3               /id/resep/4473023-ayam-geprek  \n",
       "4               /id/resep/4427438-minyak-ayam  "
      ]
     },
     "execution_count": 21,
     "metadata": {},
     "output_type": "execute_result"
    }
   ],
   "source": [
    "data6 = pd.read_csv(f'{file_path}set6-f/dataset-ayam.csv')\n",
    "data6.head()"
   ]
  },
  {
   "cell_type": "markdown",
   "metadata": {},
   "source": [
    " - Dataset 6 also not in english, will skip this set"
   ]
  },
  {
   "cell_type": "markdown",
   "metadata": {},
   "source": [
    "### [Dataset 7 (set7-f)](https://www.kaggle.com/datasets/bhavyadhingra00020/healthy-indian-recipes)\n",
    " - Non-Viable\n"
   ]
  },
  {
   "cell_type": "code",
   "execution_count": null,
   "metadata": {},
   "outputs": [
    {
     "data": {
      "application/vnd.microsoft.datawrangler.viewer.v0+json": {
       "columns": [
        {
         "name": "index",
         "rawType": "int64",
         "type": "integer"
        },
        {
         "name": "Title",
         "rawType": "object",
         "type": "string"
        },
        {
         "name": "Ingredients",
         "rawType": "object",
         "type": "unknown"
        },
        {
         "name": "Steps",
         "rawType": "object",
         "type": "unknown"
        },
        {
         "name": "Loves",
         "rawType": "int64",
         "type": "integer"
        },
        {
         "name": "URL",
         "rawType": "object",
         "type": "string"
        }
       ],
       "conversionMethod": "pd.DataFrame",
       "ref": "be18ee39-c7e5-4844-bd66-695b09a10ccc",
       "rows": [
        [
         "0",
         "Ayam Woku Manado",
         "1 Ekor Ayam Kampung (potong 12)--2 Buah Jeruk Nipis--2 Sdm Garam--3 Ruas Kunyit--7 Bawang Merah--7 Bawang Putih--10 Cabe Merah--10 Cabe Rawit Merah (sesuai selera)--3 Butir Kemiri--2 Batang Sereh--2 Lembar Daun Salam--2 Ikat Daun Kemangi--Penyedap Rasa--1 1/2 Gelas Air--",
         "Cuci bersih ayam dan tiriskan. Lalu peras jeruk nipis (kalo gak ada jeruk nipis bisa pake cuka) dan beri garam. Aduk hingga merata dan diamkan selama 5 menit, biar ayam gak bau amis.--Goreng ayam tersebut setengah matang, lalu tiriskan--Haluskan bumbu menggunakan blender. Bawang merah, bawang putih, cabe merah, cabe rawit, kemiri dan kunyit. Oh iya kasih minyak sedikit yaa biar bisa di blender. Untuk sereh nya di geprek aja terus di buat simpul.--Setelah bumbu di haluskan barulah di tumis. Jangan lupa sereh dan daun salamnya juga ikut di tumis. Di tumis sampai berubah warna ya 👌--Masukan ayam yang sudah di goreng setengah matang ke dalam bumbu yang sudah di tumis, dan diamkan 5 menit dulu. Biar bumbu meresap. Lalu tuangkan 1 1/2 Gelas air. Lalu tambahkan penyedap rasa (saya 3 Sdt, tapi sesuai selera ya) koreksi rasa dan Biar kan sampai mendidih--Setelah masakan mendidih, lalu masukan daun kemangi yang sudah di potong potong. Masak lagi sekitar 10 menit. And taraaaaaaaaaaaaaa..... jadi deh Ayam Woku Manadonya.--Oh iyaa kalo mau di tambahkan potongan tomat merah juga bisa ko. Sesuai selera aja yaa buibuuuu 👌👌👌--",
         "1",
         "/id/resep/4473027-ayam-woku-manado"
        ],
        [
         "1",
         "Ayam goreng tulang lunak",
         "1 kg ayam (dipotong sesuai selera jangan kecil2 ya)--2 batang serai (memarkan)--4 lembar daun jeruk--7 butir bawang putih (haluskan)--1 sdm ketumbar (haluskan)--3 ruas jari Laos (haluskan)--3 ruas jari kunyit (haluskan)--2 butir kemiri (haluskan)--secukupnya Garam--Secukupnya Air (tuk ukep ayam)--Secukupnya Minyak goreng--",
         "Haluskan bumbu2nya (BaPut, ketumbar, kemiri, kunyit, Laos, garam) hingga halus, sisihkan--Campur kan bumbu halus tadi dengan ayam yg sudah dicuci bersih dan sudah dipotong didalam panci presto. Uleni sampai tercampur rata.--Tambahkan air hingga ayam tenggelam semua. Masukkan serai dan daun jeruk nya kedalam rendaman ayam. Tutup panci presto rebus/ ukep presto sampai kurleb 45 menit. Dengan api sedang.--Setelah proses ukep presto selesai, tunggu suhu dingin ruang. Lalu goreng ayam dengan minyak goreng api sedang sampai ayam berwarna kecoklatan.--Matang dan sajikan ayam selagi hangat bersama nasi putih, sambal dgn perasan jeruk nipis, lalapan.--",
         "1",
         "/id/resep/4471956-ayam-goreng-tulang-lunak"
        ],
        [
         "2",
         "Ayam cabai kawin",
         "1/4 kg ayam--3 buah cabai hijau besar--7 buah cabai merah rawit--3 siung bawang putih--2 siung bawang merah--secukupnya Gula--secukupnya Garam--1/4 buah tomat merah--secukupnya Air--secukupnya Minyak goreng--",
         "Panaskan minyak di dalam wajan. Setelah minyak panas masukkan ayam yang sudah dipotong dadu. Goreng hingga matang. Lalu tiriskan.--Haluskan bawang putih, bawang merah, cabai hijau dan merah, tomat.--Panaskan minyak didalam wajan. Setelah minyak panas, masukkan bumbu yang sudah halus. Tunggu sampai wangi. Masukkan ayam yang sudah di goreng. Tambahkan air, gula dan garam. Tunggu sampai bumbu meresap di ayam. Sajikan.--",
         "2",
         "/id/resep/4473057-ayam-cabai-kawin"
        ],
        [
         "3",
         "Ayam Geprek",
         "250 gr daging ayam (saya pakai fillet)--Secukupnya gula dan garam--50-100 gr tepung ayam serbaguna--Secukupnya lalapan (kemangi,kol,timun)--Secukupnya minyak panas--❤sambal korek--Secukupnya cabe rawit merah dan bwg putih--",
         "Goreng ayam seperti ayam krispi--Ulek semua bahan sambal kemudian campur dengan minyak panas bekas goreng ayam--Geprek ayam kemudian campur dengan sambal,sajikan dengan lalapan ❤--",
         "10",
         "/id/resep/4473023-ayam-geprek"
        ],
        [
         "4",
         "Minyak Ayam",
         "400 gr kulit ayam & lemaknya--8 siung bawang putih kating, cincang kasar--1 ruas jahe, geprek--350 ml minyak goreng--1 sdm ketumbar bubuk--",
         "Cuci bersih kulit ayam. Sisihkan--Ambil 50 ml minyak goreng satu bahan yg sudah disiapkan tadi. Tumis jahe hingga harum.--Masukkan kulit ayam, ketumbar dan bawang. Biarkan hingga keluar minyak alaminya sambil diaduk-aduk.--Tambahkan sisa minyak goreng. Masak hingga kulit ayam mengering. Angkat dan saring.--Setelah cukup dingin minyak ayam tadi dapat disimpan dalam wadah kering seperti mason jar/botol. Kalo saya, saya masukkan juga sedikit bawang putih goreng.--Kulit ayam yg sudah digoreng kering tadi bisa dinikmati begitu saja sebagai camilan dengan ditaburi sejumput garam lalu aduk rata.--",
         "4",
         "/id/resep/4427438-minyak-ayam"
        ],
        [
         "5",
         "Nasi Bakar Ayam",
         "1 piring nasi--¹/⁴ fillet ayam, potong kotak, cuci bersih--Daun pisang yang sudah dibersihkan--Lidi/tusuk gigi untuk mengapit daun--1 lbr daun salam--3 cm serai, memarkan--1 ikat daun kemangi, opsional--1 cabe merah besar, iris tipis--1 sdt kecap manis--Minyak untuk menumis--100 ml air--Bumbu Halus:--1 cabe merah besar--3 cabe kecil--2 siung bawang merah--1 siung bawang putih--1 kemiri--1 cm kunyit--¹/² ruas jahe--¹/⁴ tomat--1 sdt gula pasir--1 blok kaldu ayam (aku biasa pake maggy) pake royco, masako--Merica (dikira2 z takar nya, aku sdkit z sih)--",
         "Tumis bumbu halus, masukkan daun salam, serai--Masukkan potongan ayam, kecap dan air, masak hingga air menyusut dan koreksi rasa--Masukkan irisan cabe merah dan daun kemangi, aduk sebentar dan matikan api--Tata daun pisang, tata nasi di atas daun, beri isian ayam atau bisa juga nasi di campur dan diaduk dulu dengan ayam baru di tata di daun Pisang, bunbu ayam akan lebih meresap k nasi--Setelah nasi di bungkus, barulah nasi di bakar, aku bakar pake teflon z br cepet 😀😀--Sajikan selagi hangat 👍👍endeusss--Note: Jangan membakar terlalu lama biar nasi ga kotor dari daun yg di bakar kering--",
         "1",
         "/id/resep/4472552-nasi-bakar-ayam"
        ],
        [
         "6",
         "Ayam Saus Hintalu Jaruk",
         "1/2 Ekor ayam--2 Butir Hintalu Jaruk--1 Buah Cabe merah--1 Buah Cabe hijau--300 gr Tepung terigu--1 bks Merica bubuk--2 Siung Bawang putih--1 Buah jeruk nipis--secukupnya Minyak goreng untuk menumis dan menggoreng--secukupnya Gula, garam dan penyedap rasa--",
         "Potong ayam menjadi kotak-kotak ukuran sedang cuci bersih kemudian lumuri perasan jeruk nipis, garam dan merica--Buat adonan tepung untuk melapisi ayam. Adonan A (Tepung terigu, garam, merica, penyedap dan air es) dan adonan B (Tepung terigu, garam, merica dan penyedap)--Masukan daging ayam kedalam adonan A kemudian lapisi dengan adonan B, setelah itu goreng daging kedalam minyak panas sampai berwarna kuning keemasan. Angkat tiriskan--Cincang bawang putih,iris seron cabe merah dan cabe hijau. Lumatkan kuning hintalu jaruk aka telur asin dengan air dingin sampai berbentuk pasta--Tumis bawang putih dan cabe sampai harum, kemudian tuangkan ayam dan pasta kuning telur.--Tambahkan gula, garam, penyedap dan merica secukupnya. Tes rasa dan masal hingga mengental--Angkat dan sajikan bersama nasi putih panas. Selamat mencoba--",
         "0",
         "/id/resep/4437475-ayam-saus-hintalu-jaruk"
        ],
        [
         "7",
         "Ayam saos teriyaki Lada Hitam",
         "Ayam bagian dada dan tulang--1 buah bawang bombay--2 siung bawang daun--4 siung bawang putih--1 buah cabe merah besar--1 buah cabe ijo besar--Bahan bumbu :--secukupnya Air--Mentega untuk menumis--1 bungkus saos teriyaki (2 sdm)--1 sdm gula pasir--1 bungkus royco ayam--Larutan meizena--",
         "Cara Buat :\n1. Sediakan teplon or wajan beri sedikit minyak dan masukan bawang putih dan bawang bombay yang sudah di potong potong tumis sampai harum. Bisa juga sebelum dimasak ayamnya dibalurkan ke saos teriyaki dan diamkan selama 15 menit agar meresap--2. Masukan ayam oseng sampai agak mateng, baru masukan cabe ijo dan merah.\nBeri sedikit air--3. Masukan bumbu royco ayan saos teriyaki, gula, dan bubuk lada hitam. Cicipin--4. Setelah mulai mateng masukan daun bawang jika ingin kental bisa masukan larutan meizena yak. Saya tadi gak pake karena tiba tiba amnesia kirain punya tepungnya ternyata udah habis 😭..\nSetelah masak siap disajikan dengan nasi angat.--",
         "0",
         "/id/resep/4472877-ayam-saos-teriyaki-lada-hitam"
        ],
        [
         "8",
         "Steak ayam",
         "300 gr dada ayam fillet--1 sdm air jeruk nipis--secukupnya garam--adonan basah--50 gr terigu--10 gr maizena--1/4 sdt merica--garam--secukupnya air--adonan kering--150 gr terigu--30 gr maizena--1/2 sdt merica bubuk--1/4 sdt kaldu jamur--secukupnya garam--secukupnya minyak goreng--bahan saus jamur--50 gr jamur tiram blender--3 bawang putih cincang halus--20 gr keju parut--1 sdm maizena cairkan dgn air--2 sdm saus tiram--1 sdm kecap manis--1/2 sdt merica halus--secukupnya garam & kaldu jamur--air--bahan pelengkap--buncis dan wortel di kukus--",
         "Cuci bersih ayam, iris tipis melebar, rendam dgn garam dan air jeruk nipis 10 menit, cuci--Campur adonan kering, sisihkan--Campur adonan basah, sisihkan--Panaskan minyak goreng dgn api sedang, gulingkan ayam pada adonan kering, lalu celup ke adonan basah, gulingkan lg pada adonan kering, jgn di remas2, kibas2 daging ayam pada adonan kering, lalu goreng di minyak yg banyak dan panas, biarkan krispinya terbentuk dl, jgn di balik2 dl, setelah cukup kering br di balik, goreng smpe matang, tiriskan--Blender jamur tiram kasih air sedikit. tumis bawang putih yg di cincang halus, masukkan jamur yg di blender, masukkan bumbu2 yg lain sampai meresap, lalu tuang maizena yg sdh di cairkan dgn setengah gelas air, aduk2, masukkan keju parut, aduk sampai meletup2, tes rasa, klo sdh sesuai, angkat--Tata dlm piring, ayam goreng tepung dan sayur kukus, siram dgn saus jamur, taburi daun bawang atau parsley jk ada.--",
         "6",
         "/id/resep/4472822-steak-ayam"
        ],
        [
         "9",
         "Ayam Saos Asam Manis Simple",
         "1/4 kg Ayam bagian dada fillet (Potong dadu)--Secukupnya air jeruk nipis utk baluran--1 Bungkus tepung bumbu ayam instan uk besar + campur sedikit tepung terigu--3 Siung b.putih (iris tipis)--3 Siung b.merah (Iris tipis)--1 Buah b.bombay (Iris tipis)--1 Buah tomat uk besar (Haluskan)--3 sdm saos sambal--1 Sdm Saos tiram--Secukupnya Gula & garam--Secukupnya merica bubuk--",
         "Lumuri ayam yg sdh dipotong dadu dgn garam & perasan jeruk nipis (diamkan sebentar)--Baluri ayam dengan tepung basah, lanjutkan ke tepung kering, diamkan sebentar--Goreng ayam yg sdh dbaluri tepung sampai kering & matang, angkat tiriskan.--Membuat Saos Asam Manis : -Tumis b.merah & putih (sy suka klo bawang y agak kering)--Masukkan bawang bombay, tumis sebentar.--Masukkan tomat buah yg sdh dihaluskan tdi, tumis lagi pakai api sedang, tambahkan air secukupnya--Masukkan saos sambal, saos tiram, sedikit perasan jeruk nipis, gula, garam & merica (koreksi sampai rasanya terasa asam manis gurih segar)--Masukkan ayam yg sdh digoreng tdi kedalam saos asam manis, diamkan sebentar--Setelah ayam sdh cukup merasap dengan saos asam manisnya matikan api dan siap disajikan dengan nasi putih hangat--",
         "6",
         "/id/resep/4472901-ayam-saos-asam-manis-simple"
        ],
        [
         "10",
         "Mie Ayam Homemade by suami😂😂😂",
         "Bahan mie ayam :--1 kg tepung terigu proteiin tinggi--4 butir telur--3 sendok minyak goreng--Air--Secukupnyaa garam--Air untuk merebus mie :--secukupnya Air--Minyak goreng--Bumbu halus kuah ayam untuk mie ayam :--3 Dada ayam(potong kotak2 jngn terlalu besar)--5 siung bawang merah--5 siung bawang putih--4 buah kemiri--secukupnya Lada--Secukupnya ketumbar--Jahe--Lengkuas--2 lembar sereh--5 lembar daun jeruk--2 lembar daun salam--Kecap--Gula merah--Minyak untuk menumis--Bahan pelengkap :--Daun bawang--Sawi hijau--Bawang goreng(me gak pakai lupa)--Bahan sambal :--20 buah cabai rawit merah--Garam(agar tidak cepat bau asam)--Air untuk merebus--",
         "Kocok telur masukan garam n minyak goreng,aduk rata.masukan tepung terigu uleni pakai tangan sampai kalis(tidak menempel di tangan)diamkan 5 menit.--Bagi adonan menjadi beberapa untuk memudahkan menggilasnya nanti,pipihkn pakai tangan lalu giling pakai ketebalan 4 setalah itu giling lg pakai ketebalan 1(ketebelan selera ya kalau saya suka yg tipis),sebelum di giling ke cetakan mie beri taburan terigu di atas adonannya agar tidak menempel,lakukan sampai adonan habis.--Bagi mie menjadi beberapa porsi jngn lupa di beri taburan terigu ya agar tidak menempel.--Haluskan semua bumbu halus kecuali daun jeruk&salam.--Siapkan penggorengan beri minyak untuk menumis bumbu halus,masukan daun jeruk(sobek2)&daun salam,sereh geprek aja,tunggu sampai harum,lalu masukan ayam beri air(banyak boleh karna untuk kuahnya nanti)masukan kecap n gula merah,garam&penyedap test rasa.--Untuk sambal rebus cabai merah rawit kira2 5menit.--Siapkan panci beri air untuk merebus mie, masukan minyak goreng ke dalam air tujuaan untuk tidak menyatu.setelah mendidih masukan mie tunggu sampai mie naik ke atas barubdi angkat.--Siapkan mangkok beri garam n kuah ayam aduk2 mie baru di berikan bahan pelengkap.--Mie ayam homemade by suami siap di sajikan 😉😉😉😉--",
         "0",
         "/id/resep/4472541-mie-ayam-homemade-by-suami%F0%9F%98%82%F0%9F%98%82%F0%9F%98%82"
        ],
        [
         "11",
         "Ayam Bakar Pedas Manis Resep :Nila Sari",
         "1 Ekor Ayam Broiler Ukuran Jumbo--Bumbu :--5 Siung Bawang Merah--10 Buah Cabe (Optional)--1 Ruas Jahe--1 Ruas Kunyit--Secukupnya Lada Bubuk--Secukupnya Ketumbar--2 Lembar Daun Jeruk--3 Lembar Daun Salam--1 Batang Serai--4 Siung Bawah Putih--Secukupnya Kecap--Secukupnya Gula Merah--Secukupnya Minyak Goreng--Secukupnya Royco--Secukupnya Garam--1 Bungkus Santan Kara--",
         "Iris tipis bawang merah dan daun jeruk.--Haluskan cabe, bawang putih, lada, ketumbar, jahe dan kunyit.--Tumis bawang merah hingga wangi.--Masukan bumbu yang telah dihaluskan ke dalam tumisan bawang tumis semua hingga harum.--Masukan serai, daun jeruk dan daun salam masak sedikit tuang santan kara dan tambahkan air.--Kemudian masukan ayam taburi royco, lada dan garam aduk aduk tutup dan tunggu ayam empuk dan air mulai susut tes rasa.--Bakar ayam bisa menggunakan arang, teflon, atau batu bakar (saya memakai grill lebih praktis).--Selamat Mencoba.--",
         "8",
         "/id/resep/4472362-ayam-bakar-pedas-manis-resep-nila-sari"
        ],
        [
         "12",
         "Semur Ayam Kentang Ala Mama Kirana",
         "1/2 Ekor ayam--Kentang--Bumbu Halus :--Bawang putih - bisa di sesuaikan sesuaikan--Bawang merah--Merica--Kemiri--Sedikit biji Pala--Cabai Merah kriting, bila suka pedas--Sedikit jahe--Rempah:--Daun salam--Lengkuas--Sereh--Kapulaga--Kulit manis--Irisan bawang bombay--Irisan tomat--Garam--Kecap manis--Sedikit penyedap rasa--Jeruk nipis untuk ayam--",
         "Cuci bersih ayam lalu baluri dengan perasan jeruk nipis--Cuci lagi ayam dan baluri dengan garam lalu rebus sebentar lalu di goreng--Kentang saya goreng bisa di sesuaikan sesuai selera masing²--Tips goreng ayam agar hasil nya tdk keras : di goreng hanya sebentar--Tumis bawang bombay lalu masukan bumbu halus dan masukkan semua rempah + irisan tomat + kecap manis--Setelah bumbu harum masukkan air tunggu gingga mendidih--Tambahkan garam + penyedap rasa apabila kurang manis bisa ditambahkan kecap lagi--Setelah semua sudah sesuai dgn rasa masukkan kentang goreng + ayam goreng--Tunggu kuah hingga menyusut dan kiraa² 5 mnt angkat. Dan terakhir saya taburin bawang goreng bisa disesuaikan jg dgn selera masing². Selesai--",
         "2",
         "/id/resep/4472563-semur-ayam-kentang-ala-mama-kirana"
        ],
        [
         "13",
         "Ayam suwir",
         "300 gram Ayam suwir (sudah direbus/Goreng)--5 siung bawang merah--3 siung bawang putih--1/2 buah tomat--1/2 sdt merica--1/2 sdt terasi--2 buah cabe rawit--2 buah cabe kriting--Secukupnya gula--Secukupnya garam--Secukupnya air--Secukupnya penyedap rasa (Royco)--2 lembar daun salam--1 jari Lengkuas geprek--",
         "Haluskan semua bumbu kecuali tomat, lengkuas, Dan daun salam--Siapkan wajan untuk menumis Bumbu, kemudian tuang sedikit minyak Goreng Dan tumis Bumbu yang sudah dihaluskan ditambah daun Salam Dan lengkuas--Setelah tercium bau Bumbu yang ditumis kemudian masukkan tomat yang sudah dipotong potong--Kemudian setelab tomat layu masukkan air secukupnya Dan rasakan kuahnya kalau belum pas bisa ditambahkan penyedap rasa (Royco)--Masukkan ayam yang sudah disuwir Dan aduk--Tunggu sampai meresap Dan air berkurang--Dan sajikan--",
         "0",
         "/id/resep/4471653-ayam-suwir"
        ],
        [
         "14",
         "Ayam goreng tepung",
         "150 gr fillet ayam--5 sdm tepung bumbu serbaguna--1 butir telur ayam (kocok lepas)--Garam sck--Minya goreng secukupnya untuk menggoreng--",
         "Cuci ayam, tiriskan beri perasan jeruk lemon (skip boleh) Potong ayam bentuk dadu.--Koco telur beri secukupnya garam. Masukkan ayam yg telah dipotong dadu.--Balurkan ke dalam tepung serbaguna.--Goreng pada minyak yg panas.--Siap disantap😘😘😘😘--",
         "1",
         "/id/resep/4472498-ayam-goreng-tepung"
        ],
        [
         "15",
         "Tulang Ayam Pedas Manis",
         "1/2 kg tulang ayam bersihkan lalu potong--5 bh cabe merah keriting--5 bh cabe rawit (tambah jika suka pedas)--4 butir bawang merah--2 butir bawang putih--1 ruas kunyit--2 lbr daun salam--1 lbr daun jeruk--1 btg sereh geprek--1 ruas jahe geprek--1 btr jeruk nipis--secukupnya kaldu bubuk--secukupnya gula pasir--secukupnya kecap manis--500 ml air untuk merebus tulang--minyak untuk menumis--",
         "Setelah tulang ayam di bersihkan dan di potong potong lumuri tulang dengan perasan jeruk nipis lalu biarkan--Siapkan bumbu yg akan di haluskan bwg merah, bwg putih, cabe, dan kunyit blender hingga halus--Siapkan air untuk merebus tulang tambahkan jahe yg sudah di geprek dan daun jeruk ungkep tulang hingga air menyusut--Tumis bumbu yg sudah di halus kan tambahkan air secukupnya dan daun salam juga sereh geprek, masukan tulang ayam, beri kaldu bubuk, gula pasir dan kecap manis secukupnya jgn lupa test rasanya dan biarkan tulang ayam hingga meresap--Setelah tulang ayam kuahnya agak sedikit meresap angkat lalu sajikan--Bisa untuk teman makan mie ayam lohh moms 😃--",
         "3",
         "/id/resep/4472409-tulang-ayam-pedas-manis"
        ],
        [
         "16",
         "Ayam penyet rumahan",
         "1 ekr ayam negri cuci bersih ptng beri air jeruk nipis cuci lagi--1 buah jeruk nipis--Bumbu ayam goreng jd,yg bsah. bisa beli di pasar,aku beli 3rb--2 lmbr daun salam--2 lmbr daun jeruk--1 btng sere geprek--Garam secukupnya dan penyedap--secukupnya Minyak goreng--Sambel penyet:--20 buah cabe rawit merah--5 buah cabe merah--2 siung bawang p kating--5 buah bawang merah goreng sebentr--Penyedap dan sedikit gula--",
         "Ungkep ayam bersama bumbu jadi, daun salam, daun jeruk, sere,dan garam,tambah sedikit penyedap apinya kecil ajah ya. Lalu tutup--Apabila sudah empuk dan matang goreng dalam minyak panas dan banyak sampe warna kuning kecoklatan, angkat--Sementara lagi goreng ayam, kita siapkan sambel dulu, uleg semua cabe, dan bawang merah garam,sedikit gula dan penyedap, setelah agak halus kumpulin sambalnya di tengah cobek lalu siram dengan minyak panas bekas goreng ayam tadi lalu uleg lagi supaya rata--Masukan ayam goreng ke dalam cobek lalu penyet pake ulegan, siap di hidangkan--Selamat mencoba--",
         "3",
         "/id/resep/4472187-ayam-penyet-rumahan"
        ],
        [
         "17",
         "Sop ayam",
         "1 kg ayam potong kecil kecil--1/2 kg ceker ayam bersihkan--1/2 kg kentang iris--1/2 kg wortel iris--1 mangkok makaroni (rebus)--2 batang daun bawang (sesuai selera)--4 batang daun seledri (sesuai selera)--Bumbu dihaluskan :--8 siung bawang merah--5 siung bawang putih--Tambahan :--1 sendok teh lada halus--secukupnya Garam--Penyedap rasa (bila Sun's saya pake gula aja)--",
         "Tumis bawang merah dan bawang putih hingga harum--Masukkan potongan ayam dan ceker ke tumisan bumbu aduk rata--Pindahkan ke panci besar tanbahkan air secukupkan--Didihkan sampai ayam dan ceker cukup matang--Masukkan kentang dan wortel yang diiris tadi, tunggu sampai lembut--Masukkan macaroni yg sudah direbus--Taburkan lada bubuk dan garam, tes rasa--Terakhir masukkan daun bawang dan daun seledri--Siap dihidangkan, taburkan bawang goreng biar tambah maknyuss--",
         "3",
         "/id/resep/4472298-sop-ayam"
        ],
        [
         "18",
         "Ayam suwir",
         "400 grm dada ayam--3 lembar daun jeruk--4 siung bawang putih--6 siung bawang merah--1 cm jahe--1 cm kunyit--secukupnya Garam dan gula--Minyak untuk menumis--",
         "Rebus ayam sampai matang dan di suir suir.--Haluskan bawang putih, bawang merah, jahe, dan kunyit.--Panaskan minyak tumis bumbu halus, masukkan daun jeruk masak hingga harum tambahkan air secukupnya.--Masukkan ayam masak hingga matang.--",
         "0",
         "/id/resep/4472222-ayam-suwir"
        ],
        [
         "19",
         "Nugget Ayam Home Made",
         "1/4 kg ayam d fillet ambil dagingnya aja--1 buah wortel--1 buah daun bawang prei--4 siung bawang putih--8 siung bawang merah--1 sdt merica--1/2 kg tepung tapioka--2 telur ayam--Garam, penyedap rasa--Tepung roti/ tepung panir--",
         "Cuci bersih ayam. Setelah itu potong kecil2. Masukkan dlm blender. Tambahkan 1 telur ayam, bwg pth, bwg merah, merica. Air sdkt. Lalu blender.--Setelah itu parut wortel, ptong kecil2 daun bawang prei--Taruh adonan ayam dalam wadah--Masukkan wortel, daun prei, tepung tapioka 10 sdm. Kalau pengen lebih padet bisa tambahkan lagi. Sesuai selera--Aduk2 ya sampai tercampur rata. Tambah i garam, penyedap.--Siapkan wadah. Tuang adonan ke dalam wadah yg sebelumnya d olesi mentega--Kukus d panci pengukusan. Kukus 30 - 40 mnt.--Setelah matang, keluarkan dr panci. Biarkan dingin. Lalu keluarkan.--Siapkan 1 telur (dikocok), tepung panir. Potong2 adonan jd kecil2, celupkan ke telur, lalu baluri dg tepung panir.--Setelah itu goreng.Nugget siap d hidangkan. Nugget juga bisa d simpan d dalam freezer ya moms 😊. Jadi sewaktu2 bisa langsung goreng.--",
         "6",
         "/id/resep/4472482-nugget-ayam-home-made"
        ],
        [
         "20",
         "Ayam Koloke",
         "250 gr ayam fillet, potong-potong--2 sdm tepung bumbu serbaguna (larutkan dgn 75 ml air)--Pelapis:--4 sdm tepung terigu--1 sdm maizena--Bahan Saus--1 sdm butter / margarin--2 siung bawang putih, cincang halus--1 siung bawang bombai uk. Kecil (iris halus)--1/2 bh wortel (potong korek api)--1/2 bh timun (buang biji dan iris korek api)--1 btg daun bawang (potong2)--2 bh cabe merah (iris serong)--3 bh cabe rawit (iris serong)--3 sdm saus tomat--1 sdm saus tiram--1 sdt minyak wijen--1 sdt air lemon / jeruk nipis / cuka masak--250 ml air--Garam, lada, gula--1 sdt maizena (larutlan dgn 1 sdm air)--",
         "Marinade ayam dgn tepung bumbu serbaguna yg sudah dilarutkan, aduk & disisihkan.--Siapkan bahan pelapis. Ambil potongan ayam & balur ke dalam bahan pelapis. Goreng dalam minyak panas sampai matang. Lakukan sampai habis.--Bahan saus: lelehkan butter, tumis duo bawang sampai harum. Masukkan wortel dan timun, tambahkan air, lalu masak sampai air mendidih. Masukkan duo cabe, saus tomat, saus tiram, minyak wijen, garam, gula, lada, air lemon, aduk rata. Masukkan larutan maizena, aduk sampai mengental. Terakhir masukkan daun bawang, matikan api supaya sayuran tidak over cook.--",
         "3",
         "/id/resep/4472309-ayam-koloke"
        ],
        [
         "21",
         "Mie tulang ayam",
         "1/4 kg tulang ayam--1 bungkus kecil mie burung dara--5 siung bawang putih--3 siung bawang merah--7 cabe rawit--1 tangkai daun bawang--2 tangkai seledri--1 1/2 sdm merica bubuk--2 sdm saos cabe--3 sdm kecap manis--secukupnya Gula dan garam--Minyak untuk menumis--",
         "Cuci bersih lalu rebus tulang ayam kurleb 10 menit. Lalu tiriskan--Rebus mie sampai setengah matang. Lalu tiriskan--Haluskan bawang merah, bawang putih dan cabe rawit--Tumis sampai harum bumbu halus dengan irisan seledri dan daun bawang. Lalu tambahkan merica bubuk, gula dan garam.--Masukkan tulang ayam, tunggu sampai bumbu meresap.--Masukkan mie, saos dan kecap. Lalu tumis sampai bumbu tercampur. Tambahkan gula dan garam jika diperlukan.--Mie tulang ayam siap dihidangkan.--",
         "1",
         "/id/resep/4472258-mie-tulang-ayam"
        ],
        [
         "22",
         "Ayam Suir Bali (bemesere bali)",
         "1/2 kg dada ayam (rebus dahulu)--50 ml minyak goreng--Bumbu :--1/4 kg cabai merah--1/2 buah tomat--5 buah Cabe rawit--secukupnya Garam--secukupnya Gula jawa--1 sdt terasi bakar--1/2 perasan jeruk limo--3 buah daun jeruk purut--",
         "Rebus ayam terlebih dahulu. Lalu, di suwir-suwir. (saya rebus karna kalau goreng, ayamny akan terasa keras dan kering)--Ulek halus bumbu, lalu icip2 rasa agar pas--Siapkan wajan, masukkan minyak goreng. Tunggu sampai panas, tuangkan bumbu--Stelah stengah matang, lalu masukan ayam yang sudah disuir.--Tunggu sampai agak meresap bumbuny. Masukkan perasan limo dan daun jeruk--Makanan siap dihidangkan. Simple dan enak--",
         "0",
         "/id/resep/4472532-ayam-suir-bali-bemesere-bali"
        ],
        [
         "23",
         "Pindang ayam jadul",
         "1/2 kg ayam--5 btr bawang merah iris halus--10 buah cabe rawit iris halus--2 cm jahe iris halus--1 cm lengkuas iris halus--1/2 sdt kunyit halus--1 sdt asam jawa--1 sdt terasi bangka panggang--1 bh tomat potong 4--Secukupnya daun kemangi (me:gak ada)--",
         "Tumis semua bumbu kecuali tomat dengan 2 sdm minyak,oseng sampai harum,tambahkan 1 liter air didihkan,kalau sudah mendidih masukkan ayam,tutup, masak sampai ayam matang, setelah ayam matang koreksi rasa,beri taburan tomat dan daun kemangi, sajikan hangat, segerrr abis--Selamat mencoba\nSemoga bermanfaat untuk semua--",
         "0",
         "/id/resep/4472100-pindang-ayam-jadul"
        ],
        [
         "24",
         "Ayam Kacang Panjang Saos Hoisin",
         "Bahan Daging--1 lembar paha atas/dada ayam--1 sdm kecap asin, arak beras, tapioka--Bahan saos--1 ikat Kacang panjang--2 siung baput cincang halus--3 cm jahe cincang halus--1 sdm saos hoisin--1 sdt kecap asin--0.5 sdt micin--100 ml air--Larutan tapioka--",
         "Marinade daging dengan bahannya 30mnt.--Sebelum di tumis beri 1sdm minyak di daging ayam, aduk rata, lalu tumis agar tidak lengket di wajan. Matang, lalu angkat.--Tumis jahe 10detik, masukkan baput lalu tumis sampai wangi.--Masukkan kacang panjang, tumis sebentar lalu masukkan air, saos hoisin, kecap asin, micin. Tutup wajan, kecil kan api.--Tunggu 1-2menit, buka tinder tutup wajan, aduk sebentar lalu tutup lg 1-2menit.--Masukkan daging, aduk rata.--Masukan larutan tapioka agar saos mengental. Aduk rata lalu sajikan--",
         "2",
         "/id/resep/4472201-ayam-kacang-panjang-saos-hoisin"
        ],
        [
         "25",
         "Tongseng ayam",
         "500 g daging ayam (potong2)--1250 CC santan dr 1 butir kelapa (pisahkan bagian yg kental)--3 lembar daun jeruk--3 lembar daun salam--1 ruas lengkuas (geprek)--1 batang serai (geprek)--20 buah cabe rawit hijau--1 batang daun bawang (potong serong)--1 buah tomat (potong2)--3 sdm kecap manis--1 buah kentang ukuran sedang (potong2)--Secukupnya kol (iris2 tebal)--Secukupnya garam,kaldu bubuk, gula pasir (sesuai selera masing2)--Bawang goreng untuk taburan--Secukupnya minyak untuk menumis--Bumbu halus ;--8 siung bawang merah--4 siung bawang putih--1 ruas jahe--1/2 ruas kunyit--1 sdt ketumbar--1/2 sdt merica--3 butir kemiri sangrai--3 buah cabai merah besar--",
         "Siapkan semua bahannya.. panaskan minyak, masukkan bumbu halus.. masak hingga keluar aroma wangi,masukkan daun salam, daun jeruk, serai dan lengkuas.. kemudian masukkan potongan daging ayamnya.--Tuangkan santan encer, tunggu hingga daging ayam setengah matang.--Masukkan kentang, garam, gula, kaldu bubuk, dan kecap.--Masak hingga matang... Masukkan potongan kol dan juga cabai hijau.. lalu d susul dgn memasukkan santan kental, aduk2.. jgn sampai pecah santannya, tes rasa..--Setelah mendidih matikan api, masukkan potongan daun bawang dan tomat, lalu beri taburan bawang goreng.--",
         "1",
         "/id/resep/4471980-tongseng-ayam"
        ],
        [
         "26",
         "Ayam penyet sambel kemangi",
         "400 gr dada ayam--1 ikat daun kemangi--1 buah timun uk sedang--1 bungkus bumbu racik tempe--bahan sambel--10 buah cabe merah--10 buah cabe rawit--3 siung bamer--2 siung baput--gula--garam--1/2 buah tomat merah--secukupnya terasi--secukupnya minyak utk menggoreng--air utk mengungkep ayam--",
         "Potong ayam sesuai selera,cuxi bersih lalu ungkep dengan sesikit air dan campur dengan bumbu racik tempe,matang angkat--Panas kan minyak lalu goreng ayam hingga matang kecoklatan--Goreng sebentar semua bahan sambel nya,,uleg jadi satu tambahkan garam gula...tes rasa...kalo sudah oke..masukkan beberapa lmbar daun kemangi..giling agak kasar aja--Geprek ayam di atas ulek an,,susun di piring lalu letakkan sambel di atas ayam..susun irisan timun,dan juga kemangi. siap di santap dwngan nasi panas--",
         "0",
         "/id/resep/4472141-ayam-penyet-sambel-kemangi"
        ],
        [
         "27",
         "Nugget Ayam Wortel",
         "250 gram daging ayam giling--1 buah wortel ukuran sedang--1/2 buah bawang bombay--2-3 siung bawang putih--3 batang daun bawang--2 butir telur ayam--100 gram tepung terigu (kurang lebih)--secukupnya Tepung roti--secukupnya Garam--secukupnya Lada--secukupnya Penyedap rasa ayam--Minyak goreng--",
         "Potong-potong bawang bombay dan bawang putih. Tumis dengan sedikit minyak hingga harum. Angkat--Campurkan tumisan bawang dengan daging ayam giling dengan menggunakan blender atau food processor. Campur hingga bawang halus & tercampur rata. Tuang pada wadah yg telah disediakan untuk dicampur dengan bahan lain--Potong wortel jadi bagian yg kecil. Masukkan pada campuran daging giling sebelumnya--Potong daun bawang jadi bagian yg kecil. Masukkan pada adonan. Campur hingga rata--Masukkan 1 butir telur ayam. Campurkan--Masukkan tepung terigu perlahan-lahan dan campur hingga rata. Masukkan garam,lada dan penyedap rasa secukupnya.--Panaskan kukusan--Letakkan adonan pada cetakan yg telah disediakan. Masukkan pada kukusan yg telah dipanaskan sebelumnya. Tutup kukusan diberi kain agar air tidak menetes diadonan. Kukus kurang lebih 25-30 menit--Angkat adonan yg sudah matang dari kukusan. Biarkan agar sedikit dingin.--Setelah dingin potong-potong sesuai ukuran yg diinginkan.--Kocok lepas 1 butir telur ayam. Celupkan adonan nugget yg telah dipotong tadi kedalam telur. Kemudian gulingkan di tepung roti.--Ulangi langkah 11 hingga adonan nugget habis--Dinginkan pada freezer kurang lebih 1 jam agar tepung roti menempel dengan sempurna--Goreng nugget dengan minyak panas. Nugget ayam wortel siap disajikan.--Nugget yg masuk ke dalam freezer dapat bertahan maksimal 3-4 minggu--",
         "4",
         "/id/resep/4472084-nugget-ayam-wortel"
        ],
        [
         "28",
         "Ayam goreng pedas gila ala Kfc",
         "1/2 kg ayam--3 bungkus tepung bumbu uk 80 g yg pedas (aku pke sajiku)--Secukupnya air es--Minyak goreng--",
         "Potong\" ayam, lalu cuci sampai bersih.--Siapkan 2 mgkok. 1 untuk adonan tepung yang basah yg 1 nya lagi untuk tepung kering.--Tuangkan kira\" 2 sdm tepung bumbu lalu tambahkan secukupnya air es kocok pakai garpu sampai adonannya encer.--Celupkakan ayam ke dalam adonan basah lalu gulingkan ke dalam tepung kering sambil di remas\" hingga terbentuk kulit tepung yang keriting. Ulangi sampai selesai--Panaskan minyak, lalu goreng sampai kecoklatan. Angkat, tiriskan.--Ayam goreng siap untuk dinikmati.--NB: kalau gk suka terlalu pedas tepung bumbunya bisa di mix sama yang original ya jd yg pedas bisa pke 1 bungkus aj yg 2 bungkus yg original.--",
         "2",
         "/id/resep/4471847-ayam-goreng-pedas-gila-ala-kfc"
        ],
        [
         "29",
         "Chicken Teriyaki",
         "500 gr Daging ayam iris memanjang--1 bh Bawang bombay, iris memanjang--1/2 sdt Gula--1/4 sdt Garan--150 ml Air--Minyak untuk menumis--Bumbu perendam :--3 sdm Saus teriyaki--2 sdm Saus tiram--1 sdm Kecap manis--1 sdt Minyak wijen--3 siung bawang putih, haluskan--2 cm Jahe, haluskan--1/4 sdt Merica--1/2 sdt Kaldu bubuk--",
         "Campur daging  ayam dengan bumbu perendam,gula dan garam,diamkan dikulkas 1-2jam agar bumbu meresap.--Panaskan minyak tumis daging sampai matang tuangi air,masukan bawang bombay,masak sampai air agak menyusut,kentalkan dengan larutan maizena.--",
         "1",
         "/id/resep/4469586-chicken-teriyaki"
        ],
        [
         "30",
         "Ayam Kecap Pedas Jeruk Limao",
         "1/2 kg ayam potong2--2 lbr daun salam--1 ruas jahe geprek--4 lbr daun jeruk, buang tulangnya--3 buah jeruk limao--Secukupnya air perasn jeruk nipis--Secukupnya garam, merica, gula pasir, kaldu bubuk--Secukupnya kecap manis--250 ml air--1 siung bawang Bombay, iris2--🌀 Bumbu Halus 🌀--3 siung bawang putih--5 siung bawang merah--10 buah cabe keriting merah--5 buah cabe rawit merah--",
         "Cuci ayam, lalu lumuri dgn perasan air jeruk nipis & garam, diamkan sebentar -+ 10 mnt, lalu bilas sampai bersih--Goreng ayam sebentar, tidak usah sampai garing, sisihkan--Panaskan minyak, tumis bumbu halus, daun salam, daun jeruk, jahe, sampai harum--Masukkan bawang Bombay, masak sebentar--Tambahkan air, beri garam, merica, gula pasir, kecap, & masukkan ayam, aduk rata, koreksi rasa--Biarkan air surut & bumbu meresap, setelah matang, matikan api, beri perasan jeruk limao, aduk rata, sajikan--Enakk 👌 pedes seger 😍--",
         "46",
         "/id/resep/4471776-ayam-kecap-pedas-jeruk-limao"
        ],
        [
         "31",
         "Resep Ayam Kecap Rumahan",
         "1/2 Kg ayam--Bumbu yg di haluskan :--3 Bawang Putih--7 Bawang Merah--sesuai selera Cabe rawit dan cabe merah besar--2 cm Jahe--secukupnya Lada dan Pala--Lengkuas se jempol kaki😂--4 biji Kemiri--",
         "Rebus air sampai mendidih lalu masukan ayam dan ungkep sampai empuk--Haluskan semua bumbu--Panaskan minyak lalu tumis bumbu halus sampai wangi--Masukan daun salam 3 lembar dan sereh 2 di geprek--Setelah bumbu sudah matang masukkan 1 gelas air--Tambahkan garam,micin,royko,asem--Setelah di rasa sudah cukup masukan ayam--Kecilkan api biar bumbunya meresap.--Masak sampai bumbu menyusut (jadi agak kental gitu)--Lalu hidangkan--",
         "0",
         "/id/resep/4472147-resep-ayam-kecap-rumahan"
        ],
        [
         "32",
         "Sop Ayam Garang Asam",
         "1/2 ayam--3 serai--3 cm jahe--20 cabe rawit merah--8 bawang putih--4 bawang merah--2 tomat hijau--2 jeruk nipis (boleh lebih)--4 daun jeruk--secukupnya daun bawang--secukupnya garam--secukupnya penyedap--secukupnya air matang--",
         "Potong dan bersihkan ayam sesuai selera (kalo aku ku beri perasan jeruk nipis lalu diamkan dulu)--Bawang2an diiris kasar, serai dan jahe di geprek, cabe aku hanya iris 6pc sisanya aku biarkan utuh, tomat kupotong memanjang begitu juga daun bawang.--Panaskan minyak sedikit saja, masukkan bawang serai daun jeruk dan juga cabe diamkan hingga harum lalu masukkan air dan tunggu hingga mendidih. aetelah mendidih masukkan ayam--Tunggu ayam hingga setengah empuk bumbui dengan penyedap garam dan juga gula, masukkan perasan jeruk nipis dan tomat aduk hingga merata--Setelah koreksi rasa dan dirasa sudah pas dan ayam matang masukkan daun bawang. setelah itu selesai--",
         "2",
         "/id/resep/4466395-sop-ayam-garang-asam"
        ],
        [
         "33",
         "Ayam goreng krutuk",
         "tepung terigu--Air matang--ayam (yg sudah direbus sebelumnya)--Garam--Gula/penyedap--Lada bubuk--1 butir telur ayam--Minyak goreng--",
         "Campur tepung terigu(kurang lebih 1/2 mangkuk kecil) dengan garam,gula/penyedap dan garam secukupnya. Tambahkan air matang sedikit demi sedikit hingga agak mengental. Koreksi rasa--Balur ayam yg telah direbus sebelumnya dengan 1 butir telur (yg sudah dikocok lepas), kemudian gulingkan dalam adonan tepung, sisihkan--Panaskan minyak goreng dengan api sedang, jika sudah panas masukan ayam yg sudah diberi adonan tepung, kecilkan api lalu masak hingga berwarna kecoklatan dan garing, angkat dan tiriskan.--Selamat menikmati 😀--",
         "4",
         "/id/resep/927515-ayam-goreng-krutuk"
        ],
        [
         "34",
         "Ayam panggang saos kecap",
         "Bumbu ayam panggang ;--1 kg ayam potong sesuai selera--3 siung bawang merah,ulek halus--3 siung bawang putih,ulek halus--Sedikit kunyit,dan garam,ulek halus--Untuk olesan ayam ;--Kecap manis,saus tomat,sedikit minyak,dicampur--Saos kecap/cocolan ;--sesuai selera Kecap manis--5 siung bawang merah,iris melintang agak tebal--3 siung bawang putih,ulek halus--5 buah cabe rawit,ulek halus--2 buah tomat potong sesuai selera--Jeruk nipis (skip)--Arang untuk memanggang ayam--",
         "Cuci bersih ayam dan tiriskan,campur dibumbu yang sudah dihaluskan,aduk rata,diamkan selama 15 menit,lalu kukus selama 20 menit/ sampai mateng--Sementara menunggu ayam dikukus,siapkan pemanggangan arangnya dulu untuk memanggang ayam--Keluarkan ayam yang sudah dikukus dan siap dipanggang diatas pemanggangan arang--Panggang ayam sambil diolesi dengan olesan, campuran kecap manis,saos tomat dan minyak,bolak balik ayam agar tidak gosong sambil diolesi sampai matang,angkat dan taroh dipiring saji--Campurkan semua bahan saos kecap/ cocolan nya diwadah(mangkok),tambahkan kecap manis secukupnya,aduk agar tercampur rata,dan beri perasan jeruk nipis--Ayam panggang dan saos kecap sudah siap dihidangkan bersama nasi hangat dan irisan timun sebagai pelengkap--",
         "0",
         "/id/resep/4471637-ayam-panggang-saos-kecap"
        ],
        [
         "35",
         "Soto ayam kuah santan",
         "1/5 kg ayam (diungkep dulu,lalu digoreng)--2 bungkus santan kara--2 cm kunyit--1 cm jahe--secukupnya Lada--secukupnya Daun salam,lengkuas,daun jeruk dan sereh--5 siung bawang merah--5 siung bawang putih--Penyedap : gula,garam royko ayam--Bahan pelengkap:--iris Tomat--Daun bawang dan seledri--Bihun (rebus dulu)--Bawang goreng--Kol di potong tipis--Tahu goreng--Kerupuk--Bawang goreng--Jeruk nipis--Sambal (cabe rawit,bawang putih/merah di rebus dulu, diulek)--",
         "Panaskan air rebus ayam hingga matang lalu tiriskan (air rebusan ayam bisa untuk kuah soto),lalu goreng ayam hingga matang--Haluskan bumbu bawang merah,putih,kunyit,jahe,lada,lengkuas sereh cukup digeprek dan tumis hingga matang--Masukan tumisan bumbu kedalam rebusan air,masukan daun salam,sereh dan daun jeruk--Berikan bumbu garam,gula penyedap rasa, daun bawang dan santan kara masak hingga matang--Sajikan soto selagi hangat bersama bihun dan pelengkap lainya--",
         "3",
         "/id/resep/4471748-soto-ayam-kuah-santan"
        ],
        [
         "36",
         "Ayam Goreng Bumbu Kuning",
         "5 potong ayam--Secukupnya air--Secukupnya minyak goreng--🐓 Bumbu Halus 🐓--1 siung bawang putih--1 ruas jari kunyit--1/2 ruas jari jahe--1/2 sdt ketumbar--Secukupnya garam--",
         "Cuci bersih ayam,masukkan dalam panci,tambahkan bumbu halus dan air. Masak hingga empuk,matang dan bumbu meresap,tiriskan.--Goreng dalam minyak panas dan api sedang hingga kuning keemasan,angkat,tiriskan--Sajikan👌--",
         "15",
         "/id/resep/4471738-ayam-goreng-bumbu-kuning"
        ],
        [
         "37",
         "Mie Geprek (Mie + ayam geprek)",
         "1 bungkus mie burung dara--1 ons dada ayam--tepung terigu--kubis--bawang putih--kecap--royco sapi--secukupnya garam--ebi--minyak wijen--saus tiram--lada bubuk--minyak goreng--air--cabe rawit--bawang merah--",
         "Rebus mie burung dara, tiriskan--Geprek bawang putih 2 siung, tumis sampai harum--Masukkan minyak wijen 1 sendok teh. Tumis tumis sebentar bersama bawang--Masukkan air 1 gelas belimbing--Tambahkan kecap, ebi, garam, saus tiram, royco sapi, lada bubuk sesuai selera. Didihkan--Masukkan mie yang telah direbus. Masak sampai air menyusut--Tambahkan irisan kubis/kol. Aduk-aduk sebentar sampai air habis. Angkat--Cuci bersih ayam, potong jadi 2 bagian atau iris sesuai selera--Siapkan tepung kering. Caranya tambahkan garam dan royco sapi pada tepung. Takarannya sesuaikan dengan jumlah tepung--Siapkan celupan tepung basah. Caranya campurkan tepung dengan air sampai teksturnya cair tapi cukup kental--Masukkan ayam pada tepung kering. Lalu celupkan pada tepung basah. Masukkan ke tepung kering lagi. Remas-remas sampai tepung yang menempel ditangan terlepas dan menempel pada ayam--Goreng ayam pada minyak panas dengan api besar, agar teksturnya crispy. Masak sampai kecoklatan lalu angkat.--Sekarang membuat sambel bawang. Caranya bawang putih setengah siung + bawang merah 2 siung + cabe rawit sesuai selera diulek bersama garam dan gula. Tambahkan 1 sendok minyak lalu campur rata--Geprek ayam crispy tadi kedalam sambel bawang--Sajikan mie goreng dengan topping ayam geprek dan lalapan mentimun--Selamat mencoba--",
         "2",
         "/id/resep/4471771-mie-geprek-mie-ayam-geprek"
        ],
        [
         "38",
         "Seblak Mie Tulang Ayam",
         "1 bungkus mie burung dara--1/4 tulang ayam sisa filet (jadi masih ada daging2ny😁)--Sawi hijau--Sawi putih--Garam--Gula--Bahan halus :--5 siung bawang merah--3 siung bawang putih--3 buah cabe keritinh--15 buah cabe rawit (sesuai selera)--1 ruas jari kencur--",
         "Haluskan seluruh bumbu halus (saya pake blender)--Tumis bumbu halus sampai wangi, masukan tulang ayam, tambahkan air, tunggu smpai ayam matang--Setelah ayam matang masukan mie, gula, dan garam kemudian koreksi rasa..--Setelah rasa pas masukan sayur2n sampai agak layu, jangan terlalu lama..--Seblak mie siap dinikmati😋--",
         "0",
         "/id/resep/4471802-seblak-mie-tulang-ayam"
        ],
        [
         "39",
         "Sweet Buffalo Chicken 🐔",
         "🐔 Bahan Utama:--1 kg Paha ayam (10 potong)--🐔 Bumbu Pelapis Ayam :--Secukupnya Garam--1 sdt Lada hitam bubuk--1 sdt Paprika bubuk--2 sdm Tepung terigu--🐔 Bumbu Saus:--6 sdm Margarin unsalted--2 sdt Bawang putih bubuk--4 sdm Gula merah bubuk--4 sdm Saus tomat--4 sdm Saus sambal--secukupnya Garam--Secukupnya Wijen--",
         "Cuci dan keringkan ayam (sampai kering).--Lumuri ayam dengan garam, lada hitam, dan paprika bubuk.--Baluri dengan tepung terigu. Diamkan 30 menit (saya 60 menit)--Goreng ayam dengan minyak cukup banyak sampai matang +- 10 menit. Kemudian angkat dan tiriskan.--Panaskan margarin, tambahkan bawang putih bubuk, gula merah bubuk, saus tomat, saus sambal dengan api sedang.--Aduk rata dan biarkan sampai mengental. Pastikan api tidakterlalu besar karena ada gula merah yang rawan gosong.--Masukan ayam dan baluri dengan bumbu sampai rata. Diamkan 5 menit sampai bumbu menyatu pada ayam.--Angkat. Hidangkan sweet buffalo chicken dan taburi dengan wijen.--",
         "0",
         "/id/resep/4460035-sweet-buffalo-chicken-%F0%9F%90%94"
        ],
        [
         "40",
         "Ayam Garang Asem",
         "1/2 ekor ayam--Secukupnya daun pisang--1 santan kara kecil--1 jeruk nipis--👉bumbu rajang--5 cabai rawit--5 cabai merah--4 tomat hijau kecil--6 bawang merah--4 bawanh putih--👉tambahan--1 ruas laos--2 ruas jahe--4 daun jeruk--2 daun salam--2 batang serai--👉garam gulpas air minyak goreng--",
         "Potong2 ayam kecil2 lalu cuci dan beri perasan jeruk nipis diamkan sebentar dan cuci lgi.--Tumis bumbu rajang beserta laos, daun jeruk, jahe, daun salam dan serai.--Masukkan ayam dan air secukupnya. Tanbahkan garam dan gulpas. Masak setengah mateng--Lalu masukkan santan kara aduh2 sampai mendidih matikan kompor--Bungkus ayam dengan daun pisang lalu kukus kira2 15 menit--Siap dihidangkan--",
         "3",
         "/id/resep/4471498-ayam-garang-asem"
        ],
        [
         "41",
         "Ayam Geprek",
         "Fillet dada ayam khas dalam--Tepung bumbu kriuk--Baham Sambal:--7 buah rawit merah--10 buah cabai merah keriting--5 siung bawang putih--secukupnya garam--secukupnya kaldu jamur--",
         "Letakkan sedikit tepung bumbu dalam wadah lalu beri air untuk bumbu rendaman ayam. Buat sedikit kental, lalu diamkan dalam freezer 10 menit--Ambil ayam dari bumbu rendaman, lalu baluri dengan tepung kering dan goreng hingga kecoklatan--Untuk sambalnya ulek semua bahan jadi 1 lalu tuangkan minyak panas.--Setelah itu masukan ayam yang sudah di goreng ke dalam cobek sambal dan ulek bersama.--",
         "1",
         "/id/resep/4471625-ayam-geprek"
        ],
        [
         "42",
         "Ayam Asam Manis Rumahan citarasa Resto",
         "Bahan--250 gram dada ayam, potong dadu--1 buah paprika merah/hijau--Sedikit nanas, potong dadu--1 bawang bombay--2 siung bawang putih, geprek--1 sdm minyak bawang utk menumis--Air dan tepung sagu, perbandingan 2:1--Saos asam manis:--4 sdm saos tomat--1 sdm saos sambal--1/2 sdt saos lea perrins--3 sdm gula pasir--1 sdt kaldu ayam--secukupnya garam--3 sdm kecap Inggris--1 sdt minyak wijen--1 sdm maggie seasoning--1 sdm saos raja rasa--Bumbu marinasi ayam:--1 sdt gula pasir--1 sdt garam--1 sdt kaldu ayam--1/2 sdt merica--",
         "Marinasi ayam dengan bumbu marinasi, diamkan selama 10 menit--Tumis bawang bombay, bawang putih, paprika--Masukkan daging ayam yg telah dimarinasi--Masukkan saos asam manis--Masukkan campuran air dan tepung sagu--Aduk hingga mengental--Test rasa, tambahkan garam dan gula sesuai selera--",
         "6",
         "/id/resep/4471418-ayam-asam-manis-rumahan-citarasa-resto"
        ],
        [
         "43",
         "Ayam goreng tepung simple",
         "500 gram ayam dada potong2--6 siung bawang putih haluskan--1/2 sdt lada bubuk--secukupnya Kaldu bubuk--secukupnya Garam--1 butir telur--Tepung pelapis :--100 gram tepung terigu--20 gram tepung meizena--",
         "Potong ayam sesuai selera, aku pake ayam dada utuh karna yg ada stok di kulkas itu hehehhehe--Campur ayam dengan bawang putih yg sudah di haluskan, garam, lada, kaldu bubuk, aduk rata.--Simpan di kulkas minimal 2 jam. (Semakin lama dibumbui ayamnya semakin enak, aku bumbui malam karna untuk di goreng pagi)--Keluarkan ayam dari kulkas masukkan telur ke ayam aduk rata.--Siapkan tepung pelapis diaduk rata lalu gulingkan potongan ayam ke dalam tepung remas sedikit.--Goreng ayam ke dalam minyak panad sampai kecoklatan.--Angkat sajikan, happy cooking moms. 😊😊😊😊😊--",
         "7",
         "/id/resep/4471562-ayam-goreng-tepung-simple"
        ],
        [
         "44",
         "Sop Balungan Ayam",
         "Tulang dari 1 ekor ayam jowo, rebus dg api kecil--Bumbu ulek :--4 siung bawang putih--1/4 sdt merica bubuk--1/2 sdt pala bubuk--2 cengkeh--1 sdm garam(sesuaikan dg penggunaan air)--1/2 sdt kaldu jamur--1 sdt gula--Bahan sayur :--2 buah wortel, iris tipis--1 kentang ukuran kecil, potong dadu--1 bonggol sawi sendok--Secukupnya seledri dan daun bawang--Pelengkap : bawang merah goreng--",
         "Cuci bersih tulang ayam, rebus dg api kecil hingga keluar kaldu bening, buang kotoran yang mengapung, setelah itu masukkan bumbu ulek. Biarkan mendidih.--Kemudian masukkan wortel, tunggu 3 menit masukkan kentang, tunggu 5 menit lalu cek rasa dan kematangan sayur, setelah pas baru masukkan sawi sendok, seledri, dan daun bawang. Aduk sebentar lalu matikan kompor.--Sajikan dengan taburan bawang merah goreng dan sambal kecap.--",
         "2",
         "/id/resep/4471258-sop-balungan-ayam"
        ],
        [
         "45",
         "Ayam goreng lepas tulang lembut",
         "1 kg ayam--4 bawang putih--3 ruas laos--1 ruas jahe--Daun salam, serai 2 ruas, daun jeruk,--",
         "Masukkan ayam dalam magic com. \nBawang putih, jahe, laos, jahe blender sampai lembut.\nMasukkan bumbu yang sudah dihaluskan tadi dalam magic com\nTuang air bioglass dalam magic com sampai ayam terendam air bioglass.\nCetrek cook. Tunggu kira kira 45 menit. \nAmbil ayam dari magic com\nTaburi garam secukupnya\nGoreng\nJadii deh ayam empuk lezatnya. Biar ayamnya dingin juga masih empuk😊😊\nCara bikin sambel nya\nCabe, bawang merah trasi, goreng di sisa minyak ayam goreng tadi. Minyak nya dikit aja.--",
         "3",
         "/id/resep/4469261-ayam-goreng-lepas-tulang-lembut"
        ],
        [
         "46",
         "Sayap Goreng Bumbu Ngo Hiang",
         "1 kg sayap ayam bagian drum stick--2 sdm air jeruk nipis / lemon--1 sdt garam--1 sdm bumbu ngo hiang--3 tetes suclarose/stevia drop (boleh skip)--",
         "Cuci sayap ayam, lalu dalam satu wadah masukkan sayap ayam beserta seluruh bumbu diatas, remas2--Simpan dalam kulkas semalaman hingga bumbu meresap--Goreng sayap ayam dengan minyak panas dan banyak hingga matang, sajikan--",
         "35",
         "/id/resep/4464881-sayap-goreng-bumbu-ngo-hiang"
        ],
        [
         "47",
         "Semur ayam kampung",
         "1/2 kg ayam kampung--3 siung bawang putih--5 siung bawang merah--3 butir kemiri--1 ruas jahe--4 lembar daun jeruk--1 lembar daun salam--1 batang serai (digeprek)--Lengkuas--1/4 sdt kunyit bubuk--1/2 sdt ketumbar bubuk--1/4 sdt merica bubuk--3/4 sdt garam--1/2 sdt gula pasir--Sedikit royco--Secukupnya kecap manis--Secukupnya air kaldu ayam kampung--Secukupnya minyak goreng--",
         "Potong ayam cuci lalu rebus sampai empuk. Haluskan bawang, kemiri, jahe.--Tumis bumbu halus sampai harum masukan serai, daun jeruk, daun salam, lengkuas. Masukan air kaldu, ayam, merica, garam, kunyit, ketumbar, kecap, royco. Masak hingga bumbu meresap dan empuk banget, cek rasa ya bun..--Semur ayam kampung udah matang...--Ini aku masaknya sampai empuk banget... gak alot ya.. gigitnya gak pakai gigi, pakai bibir aja udah bisa, hhheee... krn sebelum dibumbuin direbus dulu sampai empuk, setelah itu baru dibumbuin.--Selamat mencoba..--",
         "4",
         "/id/resep/4471433-semur-ayam-kampung"
        ],
        [
         "48",
         "Ayam Tepung KFC super gurih",
         "4 potong ayam (paha atas atau paha bawah)--1 Sdt air lemon--Secukupnya black papper--Secukupnya garam--Bahan pelapis :--200 gr tepung terigu serba guna--30 gr tepung maizena--1 Sdt oregano--1 Sdt garam--1 Sdt masako ayam--1 Sdt bubuk cabai--Bahan pencelup :--2 sdm tepung terigu--1 Sdt bubuk cabai--1 Sdt garam--Secukupnya lada putih--Air es--",
         "Marinade Ayam dengan air lemon, black papper Dan garam, diamkan kurleb 1 jam atau lebih--Campur semua bahan pelapis--Campur semua bahan pencelup--Lumuri Ayam dengan bahan pelapis, celupkan ke dalam bahan pencelup dan lumuri dengan bahan pelapis lagi. Lakukan 2-3 kali. Cubit cubit Bagian Luarnya agar hasilnya keriting--Panaskan minyak goreng--Goreng Ayam sampai matang, apinya Jangan terlalu besar agar matangnya merata hingga kebagian dalam--Sajikan bersama kentang, selada atau asparagus sesuai selera--Selamat mencoba--",
         "0",
         "/id/resep/4471388-ayam-tepung-kfc-super-gurih"
        ],
        [
         "49",
         "Soto Ayam Surabaya",
         "1/2 Ekor Ayam--6 Siung Bawang Merah--4 Siung Bawang Putih--Secukupnya Ketumbar--Secukupnya Lada--1 Ruas Kunyit--1 Ruas Lengkuas--1 Ruas Jahe--1 Butir Kemiri--Daun Salam--Daun Jeruk--Gula--Garam--Penyedap Rasa (boleh pakai boleh tidak)--Daun Bawang--Kol--Tauge--Kentang--Telur Rebus--Sambal Rebus--",
         "Haluskan semua bumbu kecuali lengkuas & Sereh--Tumis bumbu yg dihaluskan tadi hingga harum--Rebus ayam hingga terlihat kaldunya kemudian masukkan bumbu yg telah ditumis tadi--Icip & sajikan dengan kentang goreng, bihun, tauge & irisan tomat--",
         "4",
         "/id/resep/3452442-soto-ayam-surabaya"
        ]
       ],
       "shape": {
        "columns": 5,
        "rows": 1916
       }
      },
      "text/html": [
       "<div>\n",
       "<style scoped>\n",
       "    .dataframe tbody tr th:only-of-type {\n",
       "        vertical-align: middle;\n",
       "    }\n",
       "\n",
       "    .dataframe tbody tr th {\n",
       "        vertical-align: top;\n",
       "    }\n",
       "\n",
       "    .dataframe thead th {\n",
       "        text-align: right;\n",
       "    }\n",
       "</style>\n",
       "<table border=\"1\" class=\"dataframe\">\n",
       "  <thead>\n",
       "    <tr style=\"text-align: right;\">\n",
       "      <th></th>\n",
       "      <th>Title</th>\n",
       "      <th>Ingredients</th>\n",
       "      <th>Steps</th>\n",
       "      <th>Loves</th>\n",
       "      <th>URL</th>\n",
       "    </tr>\n",
       "  </thead>\n",
       "  <tbody>\n",
       "    <tr>\n",
       "      <th>0</th>\n",
       "      <td>Ayam Woku Manado</td>\n",
       "      <td>1 Ekor Ayam Kampung (potong 12)--2 Buah Jeruk ...</td>\n",
       "      <td>Cuci bersih ayam dan tiriskan. Lalu peras jeru...</td>\n",
       "      <td>1</td>\n",
       "      <td>/id/resep/4473027-ayam-woku-manado</td>\n",
       "    </tr>\n",
       "    <tr>\n",
       "      <th>1</th>\n",
       "      <td>Ayam goreng tulang lunak</td>\n",
       "      <td>1 kg ayam (dipotong sesuai selera jangan kecil...</td>\n",
       "      <td>Haluskan bumbu2nya (BaPut, ketumbar, kemiri, k...</td>\n",
       "      <td>1</td>\n",
       "      <td>/id/resep/4471956-ayam-goreng-tulang-lunak</td>\n",
       "    </tr>\n",
       "    <tr>\n",
       "      <th>2</th>\n",
       "      <td>Ayam cabai kawin</td>\n",
       "      <td>1/4 kg ayam--3 buah cabai hijau besar--7 buah ...</td>\n",
       "      <td>Panaskan minyak di dalam wajan. Setelah minyak...</td>\n",
       "      <td>2</td>\n",
       "      <td>/id/resep/4473057-ayam-cabai-kawin</td>\n",
       "    </tr>\n",
       "    <tr>\n",
       "      <th>3</th>\n",
       "      <td>Ayam Geprek</td>\n",
       "      <td>250 gr daging ayam (saya pakai fillet)--Secuku...</td>\n",
       "      <td>Goreng ayam seperti ayam krispi--Ulek semua ba...</td>\n",
       "      <td>10</td>\n",
       "      <td>/id/resep/4473023-ayam-geprek</td>\n",
       "    </tr>\n",
       "    <tr>\n",
       "      <th>4</th>\n",
       "      <td>Minyak Ayam</td>\n",
       "      <td>400 gr kulit ayam &amp; lemaknya--8 siung bawang p...</td>\n",
       "      <td>Cuci bersih kulit ayam. Sisihkan--Ambil 50 ml ...</td>\n",
       "      <td>4</td>\n",
       "      <td>/id/resep/4427438-minyak-ayam</td>\n",
       "    </tr>\n",
       "    <tr>\n",
       "      <th>...</th>\n",
       "      <td>...</td>\n",
       "      <td>...</td>\n",
       "      <td>...</td>\n",
       "      <td>...</td>\n",
       "      <td>...</td>\n",
       "    </tr>\n",
       "    <tr>\n",
       "      <th>1911</th>\n",
       "      <td>Nugget ayam simpel</td>\n",
       "      <td>400 gram ayam giling--1 lembar roti tawar kupa...</td>\n",
       "      <td>Haluskan bawang putih, merica, dan garam--Camp...</td>\n",
       "      <td>0</td>\n",
       "      <td>/id/resep/4308989-nugget-ayam-simpel</td>\n",
       "    </tr>\n",
       "    <tr>\n",
       "      <th>1912</th>\n",
       "      <td>Ukepan Ayam</td>\n",
       "      <td>1/2 kg ayam--6 siung bawang merah--6 siung baw...</td>\n",
       "      <td>Haluskan semua bumbu kecuali lengkuas, serai, ...</td>\n",
       "      <td>7</td>\n",
       "      <td>/id/resep/4289253-ukepan-ayam</td>\n",
       "    </tr>\n",
       "    <tr>\n",
       "      <th>1913</th>\n",
       "      <td>Chicken Stroganoff with Mushroom</td>\n",
       "      <td>Fillet ayam, cuci bersih &amp; lumuri sedikit tepu...</td>\n",
       "      <td>Panaskan butter dan minyak goreng, masak ayam ...</td>\n",
       "      <td>3</td>\n",
       "      <td>/id/resep/4308032-chicken-stroganoff-with-mush...</td>\n",
       "    </tr>\n",
       "    <tr>\n",
       "      <th>1914</th>\n",
       "      <td>Sop Pangsit Ayam</td>\n",
       "      <td>1/4 kg dada ayam--1 buah jeruk nipis--2 cm Jah...</td>\n",
       "      <td>Cuci ayam dengan menggunakan jeruk nipis dan g...</td>\n",
       "      <td>3</td>\n",
       "      <td>/id/resep/4308088-sop-pangsit-ayam</td>\n",
       "    </tr>\n",
       "    <tr>\n",
       "      <th>1915</th>\n",
       "      <td>Ayam Bumbu Bawang</td>\n",
       "      <td>1 dada ayam fillet, cuci bersih, potong kecil2...</td>\n",
       "      <td>Kucuri ayam dengan air jeruk nipis, kemudian m...</td>\n",
       "      <td>9</td>\n",
       "      <td>/id/resep/4308575-ayam-bumbu-bawang</td>\n",
       "    </tr>\n",
       "  </tbody>\n",
       "</table>\n",
       "<p>1916 rows × 5 columns</p>\n",
       "</div>"
      ],
      "text/plain": [
       "                                 Title  \\\n",
       "0                     Ayam Woku Manado   \n",
       "1             Ayam goreng tulang lunak   \n",
       "2                     Ayam cabai kawin   \n",
       "3                          Ayam Geprek   \n",
       "4                          Minyak Ayam   \n",
       "...                                ...   \n",
       "1911                Nugget ayam simpel   \n",
       "1912                       Ukepan Ayam   \n",
       "1913  Chicken Stroganoff with Mushroom   \n",
       "1914                  Sop Pangsit Ayam   \n",
       "1915                 Ayam Bumbu Bawang   \n",
       "\n",
       "                                            Ingredients  \\\n",
       "0     1 Ekor Ayam Kampung (potong 12)--2 Buah Jeruk ...   \n",
       "1     1 kg ayam (dipotong sesuai selera jangan kecil...   \n",
       "2     1/4 kg ayam--3 buah cabai hijau besar--7 buah ...   \n",
       "3     250 gr daging ayam (saya pakai fillet)--Secuku...   \n",
       "4     400 gr kulit ayam & lemaknya--8 siung bawang p...   \n",
       "...                                                 ...   \n",
       "1911  400 gram ayam giling--1 lembar roti tawar kupa...   \n",
       "1912  1/2 kg ayam--6 siung bawang merah--6 siung baw...   \n",
       "1913  Fillet ayam, cuci bersih & lumuri sedikit tepu...   \n",
       "1914  1/4 kg dada ayam--1 buah jeruk nipis--2 cm Jah...   \n",
       "1915  1 dada ayam fillet, cuci bersih, potong kecil2...   \n",
       "\n",
       "                                                  Steps  Loves  \\\n",
       "0     Cuci bersih ayam dan tiriskan. Lalu peras jeru...      1   \n",
       "1     Haluskan bumbu2nya (BaPut, ketumbar, kemiri, k...      1   \n",
       "2     Panaskan minyak di dalam wajan. Setelah minyak...      2   \n",
       "3     Goreng ayam seperti ayam krispi--Ulek semua ba...     10   \n",
       "4     Cuci bersih kulit ayam. Sisihkan--Ambil 50 ml ...      4   \n",
       "...                                                 ...    ...   \n",
       "1911  Haluskan bawang putih, merica, dan garam--Camp...      0   \n",
       "1912  Haluskan semua bumbu kecuali lengkuas, serai, ...      7   \n",
       "1913  Panaskan butter dan minyak goreng, masak ayam ...      3   \n",
       "1914  Cuci ayam dengan menggunakan jeruk nipis dan g...      3   \n",
       "1915  Kucuri ayam dengan air jeruk nipis, kemudian m...      9   \n",
       "\n",
       "                                                    URL  \n",
       "0                    /id/resep/4473027-ayam-woku-manado  \n",
       "1            /id/resep/4471956-ayam-goreng-tulang-lunak  \n",
       "2                    /id/resep/4473057-ayam-cabai-kawin  \n",
       "3                         /id/resep/4473023-ayam-geprek  \n",
       "4                         /id/resep/4427438-minyak-ayam  \n",
       "...                                                 ...  \n",
       "1911               /id/resep/4308989-nugget-ayam-simpel  \n",
       "1912                      /id/resep/4289253-ukepan-ayam  \n",
       "1913  /id/resep/4308032-chicken-stroganoff-with-mush...  \n",
       "1914                 /id/resep/4308088-sop-pangsit-ayam  \n",
       "1915                /id/resep/4308575-ayam-bumbu-bawang  \n",
       "\n",
       "[1916 rows x 5 columns]"
      ]
     },
     "execution_count": 22,
     "metadata": {},
     "output_type": "execute_result"
    }
   ],
   "source": [
    "data7 = pd.read_csv(f'{file_path}set6-f/dataset-ayam.csv')\n",
    "data7"
   ]
  },
  {
   "cell_type": "markdown",
   "metadata": {},
   "source": [
    "- Dataset 7 also not in english, will skip this set"
   ]
  },
  {
   "cell_type": "markdown",
   "metadata": {},
   "source": [
    "### [Dataset 8 (set8-d)](https://www.kaggle.com/datasets/ai-first/cocktail-ingredients)\n",
    " - Start of our cocktail sets\n",
    "  - Viable"
   ]
  },
  {
   "cell_type": "code",
   "execution_count": null,
   "metadata": {},
   "outputs": [
    {
     "data": {
      "application/vnd.microsoft.datawrangler.viewer.v0+json": {
       "columns": [
        {
         "name": "index",
         "rawType": "int64",
         "type": "integer"
        },
        {
         "name": "Unnamed: 0",
         "rawType": "int64",
         "type": "integer"
        },
        {
         "name": "strDrink",
         "rawType": "object",
         "type": "string"
        },
        {
         "name": "dateModified",
         "rawType": "object",
         "type": "string"
        },
        {
         "name": "idDrink",
         "rawType": "int64",
         "type": "integer"
        },
        {
         "name": "strAlcoholic",
         "rawType": "object",
         "type": "string"
        },
        {
         "name": "strCategory",
         "rawType": "object",
         "type": "string"
        },
        {
         "name": "strDrinkThumb",
         "rawType": "object",
         "type": "string"
        },
        {
         "name": "strGlass",
         "rawType": "object",
         "type": "string"
        },
        {
         "name": "strIBA",
         "rawType": "object",
         "type": "unknown"
        },
        {
         "name": "strIngredient1",
         "rawType": "object",
         "type": "string"
        },
        {
         "name": "strIngredient10",
         "rawType": "object",
         "type": "unknown"
        },
        {
         "name": "strIngredient11",
         "rawType": "object",
         "type": "unknown"
        },
        {
         "name": "strIngredient12",
         "rawType": "object",
         "type": "unknown"
        },
        {
         "name": "strIngredient13",
         "rawType": "float64",
         "type": "float"
        },
        {
         "name": "strIngredient14",
         "rawType": "float64",
         "type": "float"
        },
        {
         "name": "strIngredient15",
         "rawType": "float64",
         "type": "float"
        },
        {
         "name": "strIngredient2",
         "rawType": "object",
         "type": "string"
        },
        {
         "name": "strIngredient3",
         "rawType": "object",
         "type": "unknown"
        },
        {
         "name": "strIngredient4",
         "rawType": "object",
         "type": "unknown"
        },
        {
         "name": "strIngredient5",
         "rawType": "object",
         "type": "unknown"
        },
        {
         "name": "strIngredient6",
         "rawType": "object",
         "type": "unknown"
        },
        {
         "name": "strIngredient7",
         "rawType": "object",
         "type": "unknown"
        },
        {
         "name": "strIngredient8",
         "rawType": "object",
         "type": "unknown"
        },
        {
         "name": "strIngredient9",
         "rawType": "object",
         "type": "unknown"
        },
        {
         "name": "strInstructions",
         "rawType": "object",
         "type": "string"
        },
        {
         "name": "strMeasure1",
         "rawType": "object",
         "type": "string"
        },
        {
         "name": "strMeasure10",
         "rawType": "object",
         "type": "unknown"
        },
        {
         "name": "strMeasure11",
         "rawType": "object",
         "type": "unknown"
        },
        {
         "name": "strMeasure12",
         "rawType": "object",
         "type": "unknown"
        },
        {
         "name": "strMeasure13",
         "rawType": "object",
         "type": "unknown"
        },
        {
         "name": "strMeasure14",
         "rawType": "object",
         "type": "unknown"
        },
        {
         "name": "strMeasure15",
         "rawType": "object",
         "type": "unknown"
        },
        {
         "name": "strMeasure2",
         "rawType": "object",
         "type": "string"
        },
        {
         "name": "strMeasure3",
         "rawType": "object",
         "type": "string"
        },
        {
         "name": "strMeasure4",
         "rawType": "object",
         "type": "string"
        },
        {
         "name": "strMeasure5",
         "rawType": "object",
         "type": "string"
        },
        {
         "name": "strMeasure6",
         "rawType": "object",
         "type": "string"
        },
        {
         "name": "strMeasure7",
         "rawType": "object",
         "type": "string"
        },
        {
         "name": "strMeasure8",
         "rawType": "object",
         "type": "unknown"
        },
        {
         "name": "strMeasure9",
         "rawType": "object",
         "type": "unknown"
        },
        {
         "name": "strVideo",
         "rawType": "float64",
         "type": "float"
        }
       ],
       "conversionMethod": "pd.DataFrame",
       "ref": "01edf1c7-5375-46b2-9ae0-7dbf9ff708be",
       "rows": [
        [
         "0",
         "0",
         "'57 Chevy with a White License Plate",
         "2016-07-18 22:49:04",
         "14029",
         "Alcoholic",
         "Cocktail",
         "http://www.thecocktaildb.com/images/media/drink/qyyvtu1468878544.jpg",
         "Highball glass",
         null,
         "Creme de Cacao",
         null,
         null,
         null,
         null,
         null,
         null,
         "Vodka",
         null,
         null,
         null,
         null,
         null,
         null,
         null,
         "1. Fill a rocks glass with ice 2.add white creme de cacao and vodka 3.stir",
         "1 oz white ",
         null,
         null,
         null,
         null,
         null,
         null,
         "1 oz ",
         " ",
         " ",
         " ",
         " ",
         " ",
         null,
         null,
         null
        ],
        [
         "1",
         "1",
         "1-900-FUK-MEUP",
         "2016-07-18 22:27:04",
         "15395",
         "Alcoholic",
         "Shot",
         "http://www.thecocktaildb.com/images/media/drink/uxywyw1468877224.jpg",
         "Old-fashioned glass",
         null,
         "Absolut Kurant",
         null,
         null,
         null,
         null,
         null,
         null,
         "Grand Marnier",
         "Chambord raspberry liqueur",
         "Midori melon liqueur",
         "Malibu rum",
         "Amaretto",
         "Cranberry juice",
         "Pineapple juice",
         null,
         "Shake ingredients in a mixing tin filled with ice cubes. Strain into a rocks glass.",
         "1/2 oz ",
         " ",
         " ",
         " ",
         " ",
         null,
         null,
         "1/4 oz ",
         "1/4 oz ",
         "1/4 oz ",
         "1/4 oz ",
         "1/4 oz ",
         "1/2 oz ",
         "1/4 oz ",
         " ",
         null
        ],
        [
         "2",
         "2",
         "110 in the shade",
         "2016-02-03 14:51:57",
         "15423",
         "Alcoholic",
         "Beer",
         "http://www.thecocktaildb.com/images/media/drink/xxyywq1454511117.jpg",
         "Beer Glass",
         null,
         "Lager",
         null,
         null,
         null,
         null,
         null,
         null,
         "Tequila",
         null,
         null,
         null,
         null,
         null,
         null,
         null,
         "Drop shooter in glass. Fill with beer",
         "16 oz ",
         null,
         null,
         null,
         null,
         null,
         null,
         "1.5 oz ",
         " ",
         " ",
         " ",
         " ",
         " ",
         null,
         null,
         null
        ],
        [
         "3",
         "3",
         "151 Florida Bushwacker",
         "2016-07-18 22:28:43",
         "14588",
         "Alcoholic",
         "Milk / Float / Shake",
         "http://www.thecocktaildb.com/images/media/drink/rvwrvv1468877323.jpg",
         "Beer mug",
         null,
         "Malibu rum",
         null,
         null,
         null,
         null,
         null,
         null,
         "Light rum",
         "151 proof rum",
         "Dark Creme de Cacao",
         "Cointreau",
         "Milk",
         "Coconut liqueur",
         "Vanilla ice-cream",
         null,
         "Combine all ingredients. Blend until smooth. Garnish with chocolate shavings if desired.",
         "1/2 oz ",
         " ",
         " ",
         " ",
         " ",
         null,
         null,
         "1/2 oz ",
         "1/2 oz Bacardi ",
         "1 oz ",
         "1 oz ",
         "3 oz ",
         "1 oz ",
         "1 cup ",
         " ",
         null
        ],
        [
         "4",
         "4",
         "155 Belmont",
         "2016-10-05 12:36:28",
         "15346",
         "Alcoholic",
         "Cocktail",
         "http://www.thecocktaildb.com/images/media/drink/yqvvqs1475667388.jpg",
         "White wine glass",
         null,
         "Dark rum",
         null,
         null,
         null,
         null,
         null,
         null,
         "Light rum",
         "Vodka",
         "Orange juice",
         null,
         null,
         null,
         null,
         null,
         "Blend with ice. Serve in a wine glass. Garnish with carrot.",
         "1 shot ",
         null,
         null,
         null,
         null,
         null,
         null,
         "2 shots ",
         "1 shot ",
         "1 shot ",
         " ",
         " ",
         " ",
         " ",
         " ",
         null
        ]
       ],
       "shape": {
        "columns": 41,
        "rows": 5
       }
      },
      "text/html": [
       "<div>\n",
       "<style scoped>\n",
       "    .dataframe tbody tr th:only-of-type {\n",
       "        vertical-align: middle;\n",
       "    }\n",
       "\n",
       "    .dataframe tbody tr th {\n",
       "        vertical-align: top;\n",
       "    }\n",
       "\n",
       "    .dataframe thead th {\n",
       "        text-align: right;\n",
       "    }\n",
       "</style>\n",
       "<table border=\"1\" class=\"dataframe\">\n",
       "  <thead>\n",
       "    <tr style=\"text-align: right;\">\n",
       "      <th></th>\n",
       "      <th>Unnamed: 0</th>\n",
       "      <th>strDrink</th>\n",
       "      <th>dateModified</th>\n",
       "      <th>idDrink</th>\n",
       "      <th>strAlcoholic</th>\n",
       "      <th>strCategory</th>\n",
       "      <th>strDrinkThumb</th>\n",
       "      <th>strGlass</th>\n",
       "      <th>strIBA</th>\n",
       "      <th>strIngredient1</th>\n",
       "      <th>...</th>\n",
       "      <th>strMeasure15</th>\n",
       "      <th>strMeasure2</th>\n",
       "      <th>strMeasure3</th>\n",
       "      <th>strMeasure4</th>\n",
       "      <th>strMeasure5</th>\n",
       "      <th>strMeasure6</th>\n",
       "      <th>strMeasure7</th>\n",
       "      <th>strMeasure8</th>\n",
       "      <th>strMeasure9</th>\n",
       "      <th>strVideo</th>\n",
       "    </tr>\n",
       "  </thead>\n",
       "  <tbody>\n",
       "    <tr>\n",
       "      <th>0</th>\n",
       "      <td>0</td>\n",
       "      <td>'57 Chevy with a White License Plate</td>\n",
       "      <td>2016-07-18 22:49:04</td>\n",
       "      <td>14029</td>\n",
       "      <td>Alcoholic</td>\n",
       "      <td>Cocktail</td>\n",
       "      <td>http://www.thecocktaildb.com/images/media/drin...</td>\n",
       "      <td>Highball glass</td>\n",
       "      <td>NaN</td>\n",
       "      <td>Creme de Cacao</td>\n",
       "      <td>...</td>\n",
       "      <td>NaN</td>\n",
       "      <td>1 oz</td>\n",
       "      <td></td>\n",
       "      <td></td>\n",
       "      <td></td>\n",
       "      <td></td>\n",
       "      <td></td>\n",
       "      <td>NaN</td>\n",
       "      <td>NaN</td>\n",
       "      <td>NaN</td>\n",
       "    </tr>\n",
       "    <tr>\n",
       "      <th>1</th>\n",
       "      <td>1</td>\n",
       "      <td>1-900-FUK-MEUP</td>\n",
       "      <td>2016-07-18 22:27:04</td>\n",
       "      <td>15395</td>\n",
       "      <td>Alcoholic</td>\n",
       "      <td>Shot</td>\n",
       "      <td>http://www.thecocktaildb.com/images/media/drin...</td>\n",
       "      <td>Old-fashioned glass</td>\n",
       "      <td>NaN</td>\n",
       "      <td>Absolut Kurant</td>\n",
       "      <td>...</td>\n",
       "      <td>NaN</td>\n",
       "      <td>1/4 oz</td>\n",
       "      <td>1/4 oz</td>\n",
       "      <td>1/4 oz</td>\n",
       "      <td>1/4 oz</td>\n",
       "      <td>1/4 oz</td>\n",
       "      <td>1/2 oz</td>\n",
       "      <td>1/4 oz</td>\n",
       "      <td></td>\n",
       "      <td>NaN</td>\n",
       "    </tr>\n",
       "    <tr>\n",
       "      <th>2</th>\n",
       "      <td>2</td>\n",
       "      <td>110 in the shade</td>\n",
       "      <td>2016-02-03 14:51:57</td>\n",
       "      <td>15423</td>\n",
       "      <td>Alcoholic</td>\n",
       "      <td>Beer</td>\n",
       "      <td>http://www.thecocktaildb.com/images/media/drin...</td>\n",
       "      <td>Beer Glass</td>\n",
       "      <td>NaN</td>\n",
       "      <td>Lager</td>\n",
       "      <td>...</td>\n",
       "      <td>NaN</td>\n",
       "      <td>1.5 oz</td>\n",
       "      <td></td>\n",
       "      <td></td>\n",
       "      <td></td>\n",
       "      <td></td>\n",
       "      <td></td>\n",
       "      <td>NaN</td>\n",
       "      <td>NaN</td>\n",
       "      <td>NaN</td>\n",
       "    </tr>\n",
       "    <tr>\n",
       "      <th>3</th>\n",
       "      <td>3</td>\n",
       "      <td>151 Florida Bushwacker</td>\n",
       "      <td>2016-07-18 22:28:43</td>\n",
       "      <td>14588</td>\n",
       "      <td>Alcoholic</td>\n",
       "      <td>Milk / Float / Shake</td>\n",
       "      <td>http://www.thecocktaildb.com/images/media/drin...</td>\n",
       "      <td>Beer mug</td>\n",
       "      <td>NaN</td>\n",
       "      <td>Malibu rum</td>\n",
       "      <td>...</td>\n",
       "      <td>NaN</td>\n",
       "      <td>1/2 oz</td>\n",
       "      <td>1/2 oz Bacardi</td>\n",
       "      <td>1 oz</td>\n",
       "      <td>1 oz</td>\n",
       "      <td>3 oz</td>\n",
       "      <td>1 oz</td>\n",
       "      <td>1 cup</td>\n",
       "      <td></td>\n",
       "      <td>NaN</td>\n",
       "    </tr>\n",
       "    <tr>\n",
       "      <th>4</th>\n",
       "      <td>4</td>\n",
       "      <td>155 Belmont</td>\n",
       "      <td>2016-10-05 12:36:28</td>\n",
       "      <td>15346</td>\n",
       "      <td>Alcoholic</td>\n",
       "      <td>Cocktail</td>\n",
       "      <td>http://www.thecocktaildb.com/images/media/drin...</td>\n",
       "      <td>White wine glass</td>\n",
       "      <td>NaN</td>\n",
       "      <td>Dark rum</td>\n",
       "      <td>...</td>\n",
       "      <td>NaN</td>\n",
       "      <td>2 shots</td>\n",
       "      <td>1 shot</td>\n",
       "      <td>1 shot</td>\n",
       "      <td></td>\n",
       "      <td></td>\n",
       "      <td></td>\n",
       "      <td></td>\n",
       "      <td></td>\n",
       "      <td>NaN</td>\n",
       "    </tr>\n",
       "  </tbody>\n",
       "</table>\n",
       "<p>5 rows × 41 columns</p>\n",
       "</div>"
      ],
      "text/plain": [
       "   Unnamed: 0                              strDrink         dateModified  \\\n",
       "0           0  '57 Chevy with a White License Plate  2016-07-18 22:49:04   \n",
       "1           1                        1-900-FUK-MEUP  2016-07-18 22:27:04   \n",
       "2           2                      110 in the shade  2016-02-03 14:51:57   \n",
       "3           3                151 Florida Bushwacker  2016-07-18 22:28:43   \n",
       "4           4                           155 Belmont  2016-10-05 12:36:28   \n",
       "\n",
       "   idDrink strAlcoholic           strCategory  \\\n",
       "0    14029    Alcoholic              Cocktail   \n",
       "1    15395    Alcoholic                  Shot   \n",
       "2    15423    Alcoholic                  Beer   \n",
       "3    14588    Alcoholic  Milk / Float / Shake   \n",
       "4    15346    Alcoholic              Cocktail   \n",
       "\n",
       "                                       strDrinkThumb             strGlass  \\\n",
       "0  http://www.thecocktaildb.com/images/media/drin...       Highball glass   \n",
       "1  http://www.thecocktaildb.com/images/media/drin...  Old-fashioned glass   \n",
       "2  http://www.thecocktaildb.com/images/media/drin...           Beer Glass   \n",
       "3  http://www.thecocktaildb.com/images/media/drin...             Beer mug   \n",
       "4  http://www.thecocktaildb.com/images/media/drin...     White wine glass   \n",
       "\n",
       "  strIBA  strIngredient1  ... strMeasure15 strMeasure2      strMeasure3  \\\n",
       "0    NaN  Creme de Cacao  ...          NaN       1 oz                     \n",
       "1    NaN  Absolut Kurant  ...          NaN     1/4 oz           1/4 oz    \n",
       "2    NaN           Lager  ...          NaN     1.5 oz                     \n",
       "3    NaN      Malibu rum  ...          NaN     1/2 oz   1/2 oz Bacardi    \n",
       "4    NaN        Dark rum  ...          NaN    2 shots           1 shot    \n",
       "\n",
       "   strMeasure4  strMeasure5  strMeasure6 strMeasure7 strMeasure8 strMeasure9  \\\n",
       "0                                                            NaN         NaN   \n",
       "1      1/4 oz       1/4 oz       1/4 oz      1/2 oz      1/4 oz                \n",
       "2                                                            NaN         NaN   \n",
       "3        1 oz         1 oz         3 oz        1 oz       1 cup                \n",
       "4      1 shot                                                                  \n",
       "\n",
       "  strVideo  \n",
       "0      NaN  \n",
       "1      NaN  \n",
       "2      NaN  \n",
       "3      NaN  \n",
       "4      NaN  \n",
       "\n",
       "[5 rows x 41 columns]"
      ]
     },
     "execution_count": 23,
     "metadata": {},
     "output_type": "execute_result"
    }
   ],
   "source": [
    "data8 = pd.read_csv(f'{file_path}set8-d/all_drinks.csv')\n",
    "data8.head()\n"
   ]
  },
  {
   "cell_type": "code",
   "execution_count": null,
   "metadata": {},
   "outputs": [
    {
     "data": {
      "text/plain": [
       "Index(['Unnamed: 0', 'strDrink', 'dateModified', 'idDrink', 'strAlcoholic',\n",
       "       'strCategory', 'strDrinkThumb', 'strGlass', 'strIBA', 'strIngredient1',\n",
       "       'strIngredient10', 'strIngredient11', 'strIngredient12',\n",
       "       'strIngredient13', 'strIngredient14', 'strIngredient15',\n",
       "       'strIngredient2', 'strIngredient3', 'strIngredient4', 'strIngredient5',\n",
       "       'strIngredient6', 'strIngredient7', 'strIngredient8', 'strIngredient9',\n",
       "       'strInstructions', 'strMeasure1', 'strMeasure10', 'strMeasure11',\n",
       "       'strMeasure12', 'strMeasure13', 'strMeasure14', 'strMeasure15',\n",
       "       'strMeasure2', 'strMeasure3', 'strMeasure4', 'strMeasure5',\n",
       "       'strMeasure6', 'strMeasure7', 'strMeasure8', 'strMeasure9', 'strVideo'],\n",
       "      dtype='object')"
      ]
     },
     "execution_count": 24,
     "metadata": {},
     "output_type": "execute_result"
    }
   ],
   "source": [
    "data8.columns"
   ]
  },
  {
   "cell_type": "code",
   "execution_count": null,
   "metadata": {},
   "outputs": [
    {
     "data": {
      "application/vnd.microsoft.datawrangler.viewer.v0+json": {
       "columns": [
        {
         "name": "index",
         "rawType": "int64",
         "type": "integer"
        },
        {
         "name": "id",
         "rawType": "int64",
         "type": "integer"
        },
        {
         "name": "ingredients",
         "rawType": "object",
         "type": "unknown"
        }
       ],
       "conversionMethod": "pd.DataFrame",
       "ref": "2d34b462-20c8-4055-bdd1-4b3538545f02",
       "rows": [
        [
         "0",
         "14029",
         "['Creme de Cacao', nan, nan, nan, nan, nan, nan, 'Vodka', nan, nan, nan, nan, nan, nan, nan]"
        ],
        [
         "1",
         "15395",
         "['Absolut Kurant', nan, nan, nan, nan, nan, nan, 'Grand Marnier', 'Chambord raspberry liqueur', 'Midori melon liqueur', 'Malibu rum', 'Amaretto', 'Cranberry juice', 'Pineapple juice', nan]"
        ],
        [
         "2",
         "15423",
         "['Lager', nan, nan, nan, nan, nan, nan, 'Tequila', nan, nan, nan, nan, nan, nan, nan]"
        ],
        [
         "3",
         "14588",
         "['Malibu rum', nan, nan, nan, nan, nan, nan, 'Light rum', '151 proof rum', 'Dark Creme de Cacao', 'Cointreau', 'Milk', 'Coconut liqueur', 'Vanilla ice-cream', nan]"
        ],
        [
         "4",
         "15346",
         "['Dark rum', nan, nan, nan, nan, nan, nan, 'Light rum', 'Vodka', 'Orange juice', nan, nan, nan, nan, nan]"
        ]
       ],
       "shape": {
        "columns": 2,
        "rows": 5
       }
      },
      "text/html": [
       "<div>\n",
       "<style scoped>\n",
       "    .dataframe tbody tr th:only-of-type {\n",
       "        vertical-align: middle;\n",
       "    }\n",
       "\n",
       "    .dataframe tbody tr th {\n",
       "        vertical-align: top;\n",
       "    }\n",
       "\n",
       "    .dataframe thead th {\n",
       "        text-align: right;\n",
       "    }\n",
       "</style>\n",
       "<table border=\"1\" class=\"dataframe\">\n",
       "  <thead>\n",
       "    <tr style=\"text-align: right;\">\n",
       "      <th></th>\n",
       "      <th>id</th>\n",
       "      <th>ingredients</th>\n",
       "    </tr>\n",
       "  </thead>\n",
       "  <tbody>\n",
       "    <tr>\n",
       "      <th>0</th>\n",
       "      <td>14029</td>\n",
       "      <td>[Creme de Cacao, nan, nan, nan, nan, nan, nan,...</td>\n",
       "    </tr>\n",
       "    <tr>\n",
       "      <th>1</th>\n",
       "      <td>15395</td>\n",
       "      <td>[Absolut Kurant, nan, nan, nan, nan, nan, nan,...</td>\n",
       "    </tr>\n",
       "    <tr>\n",
       "      <th>2</th>\n",
       "      <td>15423</td>\n",
       "      <td>[Lager, nan, nan, nan, nan, nan, nan, Tequila,...</td>\n",
       "    </tr>\n",
       "    <tr>\n",
       "      <th>3</th>\n",
       "      <td>14588</td>\n",
       "      <td>[Malibu rum, nan, nan, nan, nan, nan, nan, Lig...</td>\n",
       "    </tr>\n",
       "    <tr>\n",
       "      <th>4</th>\n",
       "      <td>15346</td>\n",
       "      <td>[Dark rum, nan, nan, nan, nan, nan, nan, Light...</td>\n",
       "    </tr>\n",
       "  </tbody>\n",
       "</table>\n",
       "</div>"
      ],
      "text/plain": [
       "      id                                        ingredients\n",
       "0  14029  [Creme de Cacao, nan, nan, nan, nan, nan, nan,...\n",
       "1  15395  [Absolut Kurant, nan, nan, nan, nan, nan, nan,...\n",
       "2  15423  [Lager, nan, nan, nan, nan, nan, nan, Tequila,...\n",
       "3  14588  [Malibu rum, nan, nan, nan, nan, nan, nan, Lig...\n",
       "4  15346  [Dark rum, nan, nan, nan, nan, nan, nan, Light..."
      ]
     },
     "execution_count": 25,
     "metadata": {},
     "output_type": "execute_result"
    }
   ],
   "source": [
    "columns_to_combine = ['strIngredient1',\n",
    "       'strIngredient10', 'strIngredient11', 'strIngredient12',\n",
    "       'strIngredient13', 'strIngredient14', 'strIngredient15',\n",
    "       'strIngredient2', 'strIngredient3', 'strIngredient4', 'strIngredient5',\n",
    "       'strIngredient6', 'strIngredient7', 'strIngredient8', 'strIngredient9']\n",
    "dataset8 = pd.DataFrame()\n",
    "dataset8['id'] = data8['idDrink']\n",
    "dataset8['ingredients'] = data8[columns_to_combine].apply(lambda row: row.tolist(), axis = 1)\n",
    "dataset8.head()"
   ]
  },
  {
   "cell_type": "code",
   "execution_count": null,
   "metadata": {},
   "outputs": [],
   "source": [
    "def remove_nans_from_list(input_list):\n",
    "    \"\"\"\n",
    "    Removes NaN values from a list.\n",
    "\n",
    "    Args:\n",
    "        input_list (list): The list to process.\n",
    "\n",
    "    Returns:\n",
    "        list: The list with NaN values removed.\n",
    "    \"\"\"\n",
    "    if isinstance(input_list, list): #handles nan/none values.\n",
    "        return [item for item in input_list if pd.notna(item)]\n",
    "    else:\n",
    "        return []"
   ]
  },
  {
   "cell_type": "code",
   "execution_count": null,
   "metadata": {},
   "outputs": [
    {
     "data": {
      "application/vnd.microsoft.datawrangler.viewer.v0+json": {
       "columns": [
        {
         "name": "index",
         "rawType": "int64",
         "type": "integer"
        },
        {
         "name": "id",
         "rawType": "int64",
         "type": "integer"
        },
        {
         "name": "ingredients",
         "rawType": "object",
         "type": "unknown"
        }
       ],
       "conversionMethod": "pd.DataFrame",
       "ref": "89680c48-bcc4-4740-bd4a-e9484942ee70",
       "rows": [
        [
         "0",
         "14029",
         "['Creme de Cacao', 'Vodka']"
        ],
        [
         "1",
         "15395",
         "['Absolut Kurant', 'Grand Marnier', 'Chambord raspberry liqueur', 'Midori melon liqueur', 'Malibu rum', 'Amaretto', 'Cranberry juice', 'Pineapple juice']"
        ],
        [
         "2",
         "15423",
         "['Lager', 'Tequila']"
        ],
        [
         "3",
         "14588",
         "['Malibu rum', 'Light rum', '151 proof rum', 'Dark Creme de Cacao', 'Cointreau', 'Milk', 'Coconut liqueur', 'Vanilla ice-cream']"
        ],
        [
         "4",
         "15346",
         "['Dark rum', 'Light rum', 'Vodka', 'Orange juice']"
        ],
        [
         "5",
         "17060",
         "['Goldschlager', 'Jägermeister', 'Rumple Minze', '151 proof rum']"
        ],
        [
         "6",
         "15288",
         "['151 proof rum', 'Wild Turkey']"
        ],
        [
         "7",
         "13899",
         "['Jack Daniels', 'Johnnie Walker', 'Jim Beam']"
        ],
        [
         "8",
         "15300",
         "['Gin', 'Light rum', 'Tequila', 'Triple sec', 'Vodka', 'Coca-Cola', 'Sweet and sour', 'Bitters', 'Lemon']"
        ],
        [
         "9",
         "13581",
         "['Peach Vodka', 'Coca-Cola']"
        ],
        [
         "10",
         "14598",
         "['Vanilla vodka', 'Grand Marnier', 'Orange juice']"
        ],
        [
         "11",
         "17105",
         "['Blue Curacao', 'Blueberry schnapps', 'Vodka', 'Sour mix', '7-Up']"
        ],
        [
         "12",
         "13940",
         "['Gin', '7-Up', 'Lemon juice']"
        ],
        [
         "13",
         "14229",
         "['Kahlua', \"Bailey's irish cream\", 'Frangelico']"
        ],
        [
         "14",
         "16108",
         "['Absolut Citron', 'Orange Curacao', 'Strawberry liqueur', 'Orange juice']"
        ],
        [
         "15",
         "15200",
         "['Coconut rum', 'Amaretto', 'Orange juice', 'Grenadine']"
        ],
        [
         "16",
         "11000",
         "['Light rum', 'Ginger beer', 'Lemon peel']"
        ],
        [
         "17",
         "16943",
         "['Vodka', 'Peach schnapps', 'Orange juice', 'Cranberry juice']"
        ],
        [
         "18",
         "11001",
         "['Light rum', 'Añejo rum', 'Orange juice', 'Lemon juice', 'Ginger ale', 'Lemon peel']"
        ],
        [
         "19",
         "16405",
         "['Amaretto', 'Southern Comfort', 'Ice', 'Sour mix']"
        ],
        [
         "20",
         "14564",
         "['Cranberry juice', 'Soda water', 'Midori melon liqueur', 'Creme de Banane']"
        ],
        [
         "21",
         "17005",
         "['Amaretto', 'Lemon', 'Ice', 'Maraschino cherry']"
        ],
        [
         "22",
         "15675",
         "['Vodka', 'Kirschwasser', 'Strawberry liqueur', 'Strawberries', 'Schweppes Russchian']"
        ],
        [
         "23",
         "11002",
         "['Applejack', 'Grapefruit juice']"
        ],
        [
         "24",
         "14560",
         "['White Creme de Menthe', 'Southern Comfort', 'Vodka', 'Hot chocolate']"
        ],
        [
         "25",
         "17222",
         "['Gin', 'Grand Marnier', 'Lemon Juice', 'Grenadine']"
        ],
        [
         "26",
         "13501",
         "['Amaretto', \"Bailey's irish cream\", 'Cognac']"
        ],
        [
         "27",
         "14610",
         "['151 proof rum', 'Wild Turkey']"
        ],
        [
         "28",
         "13938",
         "['Absolut Vodka', 'Gin', 'Tonic water']"
        ],
        [
         "29",
         "11003",
         "['Gin', 'Orange bitters', 'Orange', 'Cherry']"
        ],
        [
         "30",
         "17223",
         "['Gin', 'Sweet Vermouth', 'Orange Juice', 'Angostura Bitters']"
        ],
        [
         "31",
         "11004",
         "['Dark rum', 'Peach nectar', 'Orange juice']"
        ],
        [
         "32",
         "12790",
         "['Vodka', 'Sugar', 'Anise', 'Licorice root', 'Wormwood']"
        ],
        [
         "33",
         "14374",
         "['Absolut Citron', 'Pisang Ambon', 'Ice', 'Bitter lemon']"
        ],
        [
         "34",
         "14360",
         "['Absolut Kurant', 'Midori melon liqueur', 'Cranberry juice', 'Sprite']"
        ],
        [
         "35",
         "15597",
         "['Absolut Vodka', 'Peach schnapps', 'Coconut liqueur', 'Cranberry juice', 'Pineapple juice']"
        ],
        [
         "36",
         "14107",
         "['Absolut Citron', 'Sweet and sour', 'Sprite', 'Soda water', 'Lemon']"
        ],
        [
         "37",
         "14372",
         "['Absolut Citron', 'Lime juice', 'Ice', 'Tonic water']"
        ],
        [
         "38",
         "15024",
         "['Absolut Vodka', 'Cranberry juice', 'Ginger ale', 'Ice']"
        ],
        [
         "39",
         "17224",
         "['Vodka', 'Cranberry Juice', 'Champagne']"
        ],
        [
         "40",
         "16134",
         "['Absolut Citron', 'Orange juice', 'Triple sec', 'Ginger ale']"
        ],
        [
         "41",
         "11005",
         "['Light rum', 'Triple sec', 'Lime juice', 'Sugar', 'Egg white', 'Mint']"
        ],
        [
         "42",
         "17225",
         "['Gin', 'Grenadine', 'Heavy cream', 'Milk', 'Egg White']"
        ],
        [
         "43",
         "11006",
         "['Dark rum', 'Lemon juice', 'Grenadine']"
        ],
        [
         "44",
         "17226",
         "['Gin', 'Cognac', 'Creme de Cassis', 'Fresh Lemon Juice']"
        ],
        [
         "45",
         "16333",
         "['Rum', 'Vodka', 'Tequila', 'Triple sec', 'Fruit', 'Ice', 'Salt', 'Fruit juice']"
        ],
        [
         "46",
         "15567",
         "['Vodka', 'Lemonade', 'Water', 'Sugar']"
        ],
        [
         "47",
         "17227",
         "['Sweet Vermouth', 'Dry Vermouth', 'Soda Water']"
        ],
        [
         "48",
         "17228",
         "['Gin', 'Vermouth']"
        ],
        [
         "49",
         "14272",
         "['Vodka', 'Grenadine', 'Orange juice']"
        ]
       ],
       "shape": {
        "columns": 2,
        "rows": 546
       }
      },
      "text/html": [
       "<div>\n",
       "<style scoped>\n",
       "    .dataframe tbody tr th:only-of-type {\n",
       "        vertical-align: middle;\n",
       "    }\n",
       "\n",
       "    .dataframe tbody tr th {\n",
       "        vertical-align: top;\n",
       "    }\n",
       "\n",
       "    .dataframe thead th {\n",
       "        text-align: right;\n",
       "    }\n",
       "</style>\n",
       "<table border=\"1\" class=\"dataframe\">\n",
       "  <thead>\n",
       "    <tr style=\"text-align: right;\">\n",
       "      <th></th>\n",
       "      <th>id</th>\n",
       "      <th>ingredients</th>\n",
       "    </tr>\n",
       "  </thead>\n",
       "  <tbody>\n",
       "    <tr>\n",
       "      <th>0</th>\n",
       "      <td>14029</td>\n",
       "      <td>[Creme de Cacao, Vodka]</td>\n",
       "    </tr>\n",
       "    <tr>\n",
       "      <th>1</th>\n",
       "      <td>15395</td>\n",
       "      <td>[Absolut Kurant, Grand Marnier, Chambord raspb...</td>\n",
       "    </tr>\n",
       "    <tr>\n",
       "      <th>2</th>\n",
       "      <td>15423</td>\n",
       "      <td>[Lager, Tequila]</td>\n",
       "    </tr>\n",
       "    <tr>\n",
       "      <th>3</th>\n",
       "      <td>14588</td>\n",
       "      <td>[Malibu rum, Light rum, 151 proof rum, Dark Cr...</td>\n",
       "    </tr>\n",
       "    <tr>\n",
       "      <th>4</th>\n",
       "      <td>15346</td>\n",
       "      <td>[Dark rum, Light rum, Vodka, Orange juice]</td>\n",
       "    </tr>\n",
       "    <tr>\n",
       "      <th>...</th>\n",
       "      <td>...</td>\n",
       "      <td>...</td>\n",
       "    </tr>\n",
       "    <tr>\n",
       "      <th>541</th>\n",
       "      <td>14065</td>\n",
       "      <td>[Amaretto, Rum, Kool-Aid]</td>\n",
       "    </tr>\n",
       "    <tr>\n",
       "      <th>542</th>\n",
       "      <td>14594</td>\n",
       "      <td>[Cointreau, Lemon juice, Ice, Lemon]</td>\n",
       "    </tr>\n",
       "    <tr>\n",
       "      <th>543</th>\n",
       "      <td>15691</td>\n",
       "      <td>[Beer, Root beer, Lemonade, Coca-Cola, 7-Up, C...</td>\n",
       "    </tr>\n",
       "    <tr>\n",
       "      <th>544</th>\n",
       "      <td>16963</td>\n",
       "      <td>[Vodka, Ouzo]</td>\n",
       "    </tr>\n",
       "    <tr>\n",
       "      <th>545</th>\n",
       "      <td>15328</td>\n",
       "      <td>[Sambuca, Bailey's irish cream, White Creme de...</td>\n",
       "    </tr>\n",
       "  </tbody>\n",
       "</table>\n",
       "<p>546 rows × 2 columns</p>\n",
       "</div>"
      ],
      "text/plain": [
       "        id                                        ingredients\n",
       "0    14029                            [Creme de Cacao, Vodka]\n",
       "1    15395  [Absolut Kurant, Grand Marnier, Chambord raspb...\n",
       "2    15423                                   [Lager, Tequila]\n",
       "3    14588  [Malibu rum, Light rum, 151 proof rum, Dark Cr...\n",
       "4    15346         [Dark rum, Light rum, Vodka, Orange juice]\n",
       "..     ...                                                ...\n",
       "541  14065                          [Amaretto, Rum, Kool-Aid]\n",
       "542  14594               [Cointreau, Lemon juice, Ice, Lemon]\n",
       "543  15691  [Beer, Root beer, Lemonade, Coca-Cola, 7-Up, C...\n",
       "544  16963                                      [Vodka, Ouzo]\n",
       "545  15328  [Sambuca, Bailey's irish cream, White Creme de...\n",
       "\n",
       "[546 rows x 2 columns]"
      ]
     },
     "execution_count": 27,
     "metadata": {},
     "output_type": "execute_result"
    }
   ],
   "source": [
    "dataset8['ingredients'] = dataset8['ingredients'].apply(remove_nans_from_list)\n",
    "dataset8"
   ]
  },
  {
   "cell_type": "markdown",
   "metadata": {},
   "source": [
    "### [Dataset 9 (set9-d)](https://www.kaggle.com/datasets/shuyangli94/cocktails-hotaling-co)\n",
    " - Viable"
   ]
  },
  {
   "cell_type": "code",
   "execution_count": null,
   "metadata": {},
   "outputs": [
    {
     "data": {
      "application/vnd.microsoft.datawrangler.viewer.v0+json": {
       "columns": [
        {
         "name": "index",
         "rawType": "int64",
         "type": "integer"
        },
        {
         "name": "Cocktail Name",
         "rawType": "object",
         "type": "string"
        },
        {
         "name": "Bartender",
         "rawType": "object",
         "type": "string"
        },
        {
         "name": "Bar/Company",
         "rawType": "object",
         "type": "unknown"
        },
        {
         "name": "Location",
         "rawType": "object",
         "type": "string"
        },
        {
         "name": "Ingredients",
         "rawType": "object",
         "type": "string"
        },
        {
         "name": "Garnish",
         "rawType": "object",
         "type": "unknown"
        },
        {
         "name": "Glassware",
         "rawType": "object",
         "type": "unknown"
        },
        {
         "name": "Preparation",
         "rawType": "object",
         "type": "string"
        },
        {
         "name": "Notes",
         "rawType": "object",
         "type": "unknown"
        }
       ],
       "conversionMethod": "pd.DataFrame",
       "ref": "a6e9ed6c-3687-4a03-86f0-6f28ebe5d23b",
       "rows": [
        [
         "0",
         "Flor de Amaras",
         "Kelly McCarthy",
         null,
         "Boston",
         "1.5 oz Mezcal, 1 oz Hibiscus Simple Syrup*, .5 oz Lime Juice,  top Soda Water",
         "Marigold Petals",
         null,
         "*Hibiscus Simple Syrup:\n1:1 w/ a cup of dried hibiscus steeping for 30-40 min",
         null
        ],
        [
         "1",
         "The Happy Place",
         "Elizabeth Montana",
         "Forgery & Verso",
         "San Francisco",
         "2 oz Junipero Gin, .75 oz House-made Cranberry Syrup*, .5 oz Lemon Juice, .5 oz Cranberry Juice, .25 oz Lillet Blanc, 4 dash Forgery Earth Day Bitters,  mist Laphroaig",
         "Dehydrated Lemon Wheel, Sprig of Rosemary",
         null,
         "*House-made Cranberry syrup: \n-- 2 cups Fresh Cranberries\n-- 1 cup Sugar\n-- 1 cup Water\n-- 2 Bay Leaves\n-- .25 cup Pink Peppercorns\n-- Half Serrano Chile\n-- 4 Sprigs Fresh Rosemary\n\nAdd all ingredients to a pot and heat thoroughly. Simmer on low until cranberries cook down for 25 minutes. Strain and let cool.",
         "Junipero Gin 20th Anniversary Signature Cocktail"
        ],
        [
         "2",
         "Bon Voyage Pisco Punch",
         "Jon Morales",
         null,
         "San Francisco",
         "1500 ml BarSol Selecto Italia Pisco, 750 ml Lemon Juice, 750 ml Pineapple Gomme Syrup*, .5 oz Fee Bros Lemon Bitters, 1 float Old Vine Zin",
         null,
         "Punch Bowl",
         "*Pineapple Gomme: \nMix equal parts (1.5 cups) gum arabic with water over high heat until it all mixes and then let cool for a bit. Then you're gonna make a sugar syrup with 2 parts sugar, 1 part water (4 cups water, 2 cups white granulated sugar) in the same manner over high heat until it mixes, and then add the gum syrup to the mix until everything dissolves and what you're left with is a thick gummy syrup that resembles a whole lot of baby batter. Then cut up 1.5 cups of pineapple chunks, put in mason jar, and pour the gum syrup over it and let it sit in the refrigerator over night. A few hours would work also if you don't have that much time. However, the more time, the more pineapple infusion takes place. When it's ready, strain into another mason jar or bottle, and it's ready to go.",
         null
        ],
        [
         "3",
         "Still Life of a Pineapple",
         "Daniel Braganca",
         "Backbar",
         "Somerville",
         "1.5 oz BarSol Primero Quebranta Pisco, .75 oz Dry Vermouth, .5 oz St. Germain, .25 oz Pineapple Syrup*, 1 bsp Vieux Pontarlier Absinthe Francaise Superieure",
         null,
         null,
         "*Pineapple Syrup:\n<em>Equal parts pineapple blended with water and sugar and strained</em>",
         null
        ],
        [
         "4",
         "The Bittered Valley",
         "Nik Virrey",
         null,
         "Seattle",
         "1.25 oz Luxardo Maraschino Liqueur, 4 drops Acid phosphate, 2 oz BarSol Primero Quebranta Pisco, .75 oz Luxardo Amaro Abano, .25 oz Luxardo Fernet, 3 dash Scrappy's Aromatic Bitters",
         null,
         null,
         "1st glass ingredients:\nLuxardo Maraschino, Acid Phosphate\n\n2nd glass ingredients:\nBarSol Quebranta Pisco, Luxardo Amaro Abano, Luxardo Fernet, Scrappy's Aromatic Bitters",
         null
        ]
       ],
       "shape": {
        "columns": 9,
        "rows": 5
       }
      },
      "text/html": [
       "<div>\n",
       "<style scoped>\n",
       "    .dataframe tbody tr th:only-of-type {\n",
       "        vertical-align: middle;\n",
       "    }\n",
       "\n",
       "    .dataframe tbody tr th {\n",
       "        vertical-align: top;\n",
       "    }\n",
       "\n",
       "    .dataframe thead th {\n",
       "        text-align: right;\n",
       "    }\n",
       "</style>\n",
       "<table border=\"1\" class=\"dataframe\">\n",
       "  <thead>\n",
       "    <tr style=\"text-align: right;\">\n",
       "      <th></th>\n",
       "      <th>Cocktail Name</th>\n",
       "      <th>Bartender</th>\n",
       "      <th>Bar/Company</th>\n",
       "      <th>Location</th>\n",
       "      <th>Ingredients</th>\n",
       "      <th>Garnish</th>\n",
       "      <th>Glassware</th>\n",
       "      <th>Preparation</th>\n",
       "      <th>Notes</th>\n",
       "    </tr>\n",
       "  </thead>\n",
       "  <tbody>\n",
       "    <tr>\n",
       "      <th>0</th>\n",
       "      <td>Flor de Amaras</td>\n",
       "      <td>Kelly McCarthy</td>\n",
       "      <td>NaN</td>\n",
       "      <td>Boston</td>\n",
       "      <td>1.5 oz Mezcal, 1 oz Hibiscus Simple Syrup*, .5...</td>\n",
       "      <td>Marigold Petals</td>\n",
       "      <td>NaN</td>\n",
       "      <td>*Hibiscus Simple Syrup:\\n1:1 w/ a cup of dried...</td>\n",
       "      <td>NaN</td>\n",
       "    </tr>\n",
       "    <tr>\n",
       "      <th>1</th>\n",
       "      <td>The Happy Place</td>\n",
       "      <td>Elizabeth Montana</td>\n",
       "      <td>Forgery &amp; Verso</td>\n",
       "      <td>San Francisco</td>\n",
       "      <td>2 oz Junipero Gin, .75 oz House-made Cranberry...</td>\n",
       "      <td>Dehydrated Lemon Wheel, Sprig of Rosemary</td>\n",
       "      <td>NaN</td>\n",
       "      <td>*House-made Cranberry syrup: \\n-- 2 cups Fresh...</td>\n",
       "      <td>Junipero Gin 20th Anniversary Signature Cocktail</td>\n",
       "    </tr>\n",
       "    <tr>\n",
       "      <th>2</th>\n",
       "      <td>Bon Voyage Pisco Punch</td>\n",
       "      <td>Jon Morales</td>\n",
       "      <td>NaN</td>\n",
       "      <td>San Francisco</td>\n",
       "      <td>1500 ml BarSol Selecto Italia Pisco, 750 ml Le...</td>\n",
       "      <td>NaN</td>\n",
       "      <td>Punch Bowl</td>\n",
       "      <td>*Pineapple Gomme: \\nMix equal parts (1.5 cups)...</td>\n",
       "      <td>NaN</td>\n",
       "    </tr>\n",
       "    <tr>\n",
       "      <th>3</th>\n",
       "      <td>Still Life of a Pineapple</td>\n",
       "      <td>Daniel Braganca</td>\n",
       "      <td>Backbar</td>\n",
       "      <td>Somerville</td>\n",
       "      <td>1.5 oz BarSol Primero Quebranta Pisco, .75 oz ...</td>\n",
       "      <td>NaN</td>\n",
       "      <td>NaN</td>\n",
       "      <td>*Pineapple Syrup:\\n&lt;em&gt;Equal parts pineapple b...</td>\n",
       "      <td>NaN</td>\n",
       "    </tr>\n",
       "    <tr>\n",
       "      <th>4</th>\n",
       "      <td>The Bittered Valley</td>\n",
       "      <td>Nik Virrey</td>\n",
       "      <td>NaN</td>\n",
       "      <td>Seattle</td>\n",
       "      <td>1.25 oz Luxardo Maraschino Liqueur, 4 drops Ac...</td>\n",
       "      <td>NaN</td>\n",
       "      <td>NaN</td>\n",
       "      <td>1st glass ingredients:\\nLuxardo Maraschino, Ac...</td>\n",
       "      <td>NaN</td>\n",
       "    </tr>\n",
       "  </tbody>\n",
       "</table>\n",
       "</div>"
      ],
      "text/plain": [
       "               Cocktail Name          Bartender      Bar/Company  \\\n",
       "0             Flor de Amaras     Kelly McCarthy              NaN   \n",
       "1            The Happy Place  Elizabeth Montana  Forgery & Verso   \n",
       "2     Bon Voyage Pisco Punch        Jon Morales              NaN   \n",
       "3  Still Life of a Pineapple    Daniel Braganca          Backbar   \n",
       "4        The Bittered Valley         Nik Virrey              NaN   \n",
       "\n",
       "        Location                                        Ingredients  \\\n",
       "0         Boston  1.5 oz Mezcal, 1 oz Hibiscus Simple Syrup*, .5...   \n",
       "1  San Francisco  2 oz Junipero Gin, .75 oz House-made Cranberry...   \n",
       "2  San Francisco  1500 ml BarSol Selecto Italia Pisco, 750 ml Le...   \n",
       "3     Somerville  1.5 oz BarSol Primero Quebranta Pisco, .75 oz ...   \n",
       "4        Seattle  1.25 oz Luxardo Maraschino Liqueur, 4 drops Ac...   \n",
       "\n",
       "                                     Garnish   Glassware  \\\n",
       "0                            Marigold Petals         NaN   \n",
       "1  Dehydrated Lemon Wheel, Sprig of Rosemary         NaN   \n",
       "2                                        NaN  Punch Bowl   \n",
       "3                                        NaN         NaN   \n",
       "4                                        NaN         NaN   \n",
       "\n",
       "                                         Preparation  \\\n",
       "0  *Hibiscus Simple Syrup:\\n1:1 w/ a cup of dried...   \n",
       "1  *House-made Cranberry syrup: \\n-- 2 cups Fresh...   \n",
       "2  *Pineapple Gomme: \\nMix equal parts (1.5 cups)...   \n",
       "3  *Pineapple Syrup:\\n<em>Equal parts pineapple b...   \n",
       "4  1st glass ingredients:\\nLuxardo Maraschino, Ac...   \n",
       "\n",
       "                                              Notes  \n",
       "0                                               NaN  \n",
       "1  Junipero Gin 20th Anniversary Signature Cocktail  \n",
       "2                                               NaN  \n",
       "3                                               NaN  \n",
       "4                                               NaN  "
      ]
     },
     "execution_count": 28,
     "metadata": {},
     "output_type": "execute_result"
    }
   ],
   "source": [
    "data9 = pd.read_csv(f'{file_path}set9-d/hotaling_cocktails - Cocktails.csv')\n",
    "data9.head()"
   ]
  },
  {
   "cell_type": "code",
   "execution_count": null,
   "metadata": {},
   "outputs": [
    {
     "name": "stdout",
     "output_type": "stream",
     "text": [
      "0      <class 'str'>\n",
      "1      <class 'str'>\n",
      "2      <class 'str'>\n",
      "3      <class 'str'>\n",
      "4      <class 'str'>\n",
      "           ...      \n",
      "682    <class 'str'>\n",
      "683    <class 'str'>\n",
      "684    <class 'str'>\n",
      "685    <class 'str'>\n",
      "686    <class 'str'>\n",
      "Name: Ingredients, Length: 687, dtype: object\n"
     ]
    }
   ],
   "source": [
    "print(data9['Ingredients'].apply(type))"
   ]
  },
  {
   "cell_type": "code",
   "execution_count": null,
   "metadata": {},
   "outputs": [
    {
     "data": {
      "application/vnd.microsoft.datawrangler.viewer.v0+json": {
       "columns": [
        {
         "name": "index",
         "rawType": "int64",
         "type": "integer"
        },
        {
         "name": "id",
         "rawType": "int64",
         "type": "integer"
        },
        {
         "name": "ingredients",
         "rawType": "object",
         "type": "unknown"
        }
       ],
       "conversionMethod": "pd.DataFrame",
       "ref": "4a06ca23-9518-47a9-9839-f3d18d6d9999",
       "rows": [
        [
         "0",
         "0",
         "['oz Mezcal', 'oz Hibiscus Simple Syrup', 'oz Lime Juice', 'top Soda Water']"
        ],
        [
         "1",
         "1",
         "['oz Junipero Gin', 'oz Housemade Cranberry Syrup', 'oz Lemon Juice', 'oz Cranberry Juice', 'oz Lillet Blanc', 'dash Forgery Earth Day Bitters', 'mist Laphroaig']"
        ],
        [
         "2",
         "2",
         "['ml BarSol Selecto Italia Pisco', 'ml Lemon Juice', 'ml Pineapple Gomme Syrup', 'oz Fee Bros Lemon Bitters', 'float Old Vine Zin']"
        ],
        [
         "3",
         "3",
         "['oz BarSol Primero Quebranta Pisco', 'oz Dry Vermouth', 'oz St Germain', 'oz Pineapple Syrup', 'bsp Vieux Pontarlier Absinthe Francaise Superieure']"
        ],
        [
         "4",
         "4",
         "['oz Luxardo Maraschino Liqueur', 'drops Acid phosphate', 'oz BarSol Primero Quebranta Pisco', 'oz Luxardo Amaro Abano', 'oz Luxardo Fernet', 'dash Scrappys Aromatic Bitters']"
        ]
       ],
       "shape": {
        "columns": 2,
        "rows": 5
       }
      },
      "text/html": [
       "<div>\n",
       "<style scoped>\n",
       "    .dataframe tbody tr th:only-of-type {\n",
       "        vertical-align: middle;\n",
       "    }\n",
       "\n",
       "    .dataframe tbody tr th {\n",
       "        vertical-align: top;\n",
       "    }\n",
       "\n",
       "    .dataframe thead th {\n",
       "        text-align: right;\n",
       "    }\n",
       "</style>\n",
       "<table border=\"1\" class=\"dataframe\">\n",
       "  <thead>\n",
       "    <tr style=\"text-align: right;\">\n",
       "      <th></th>\n",
       "      <th>id</th>\n",
       "      <th>ingredients</th>\n",
       "    </tr>\n",
       "  </thead>\n",
       "  <tbody>\n",
       "    <tr>\n",
       "      <th>0</th>\n",
       "      <td>0</td>\n",
       "      <td>[oz Mezcal, oz Hibiscus Simple Syrup, oz Lime ...</td>\n",
       "    </tr>\n",
       "    <tr>\n",
       "      <th>1</th>\n",
       "      <td>1</td>\n",
       "      <td>[oz Junipero Gin, oz Housemade Cranberry Syrup...</td>\n",
       "    </tr>\n",
       "    <tr>\n",
       "      <th>2</th>\n",
       "      <td>2</td>\n",
       "      <td>[ml BarSol Selecto Italia Pisco, ml Lemon Juic...</td>\n",
       "    </tr>\n",
       "    <tr>\n",
       "      <th>3</th>\n",
       "      <td>3</td>\n",
       "      <td>[oz BarSol Primero Quebranta Pisco, oz Dry Ver...</td>\n",
       "    </tr>\n",
       "    <tr>\n",
       "      <th>4</th>\n",
       "      <td>4</td>\n",
       "      <td>[oz Luxardo Maraschino Liqueur, drops Acid pho...</td>\n",
       "    </tr>\n",
       "  </tbody>\n",
       "</table>\n",
       "</div>"
      ],
      "text/plain": [
       "   id                                        ingredients\n",
       "0   0  [oz Mezcal, oz Hibiscus Simple Syrup, oz Lime ...\n",
       "1   1  [oz Junipero Gin, oz Housemade Cranberry Syrup...\n",
       "2   2  [ml BarSol Selecto Italia Pisco, ml Lemon Juic...\n",
       "3   3  [oz BarSol Primero Quebranta Pisco, oz Dry Ver...\n",
       "4   4  [oz Luxardo Maraschino Liqueur, drops Acid pho..."
      ]
     },
     "metadata": {},
     "output_type": "display_data"
    },
    {
     "name": "stdout",
     "output_type": "stream",
     "text": [
      "<class 'pandas.core.frame.DataFrame'>\n",
      "RangeIndex: 687 entries, 0 to 686\n",
      "Data columns (total 2 columns):\n",
      " #   Column       Non-Null Count  Dtype \n",
      "---  ------       --------------  ----- \n",
      " 0   id           687 non-null    int64 \n",
      " 1   ingredients  687 non-null    object\n",
      "dtypes: int64(1), object(1)\n",
      "memory usage: 10.9+ KB\n"
     ]
    }
   ],
   "source": [
    "dataset9 = pd.DataFrame()\n",
    "dataset9['id'] = data9.index\n",
    "dataset9['ingredients'] = data9['Ingredients'].apply(lambda x: x.split(\",\"))\n",
    "dataset9['ingredients'] = dataset9['ingredients'].apply(remove_common_words)\n",
    "display(dataset9.head())\n",
    "dataset9.info()"
   ]
  },
  {
   "cell_type": "code",
   "execution_count": null,
   "metadata": {},
   "outputs": [],
   "source": [
    "def count_words_in_list_items(df, column_name):\n",
    "    \"\"\"\n",
    "    Counts the occurrences of each word within the strings in a column of lists.\n",
    "\n",
    "    Args:\n",
    "        df (pd.DataFrame): The DataFrame.\n",
    "        column_name (str): The name of the column containing lists of strings.\n",
    "\n",
    "    Returns:\n",
    "        pd.DataFrame: A DataFrame with word counts.\n",
    "    \"\"\"\n",
    "    all_words = []\n",
    "    for word_list in df[column_name]:\n",
    "        if isinstance(word_list, list): #handles null/nan values.\n",
    "            for item in word_list:\n",
    "                if isinstance(item, str): #handles null/nan values.\n",
    "                    # Split the string into words using regex to handle punctuation\n",
    "                    words = re.findall(r'\\b\\w+\\b', item.lower())\n",
    "                    all_words.extend(words)\n",
    "\n",
    "    word_counts = Counter(all_words)\n",
    "    word_count_df = pd.DataFrame.from_dict(word_counts, orient='index', columns=['count'])\n",
    "    word_count_df = word_count_df.sort_values(by='count', ascending=False)\n",
    "    return word_count_df"
   ]
  },
  {
   "cell_type": "code",
   "execution_count": null,
   "metadata": {},
   "outputs": [],
   "source": []
  },
  {
   "cell_type": "code",
   "execution_count": null,
   "metadata": {},
   "outputs": [
    {
     "data": {
      "application/vnd.microsoft.datawrangler.viewer.v0+json": {
       "columns": [
        {
         "name": "index",
         "rawType": "object",
         "type": "string"
        },
        {
         "name": "count",
         "rawType": "int64",
         "type": "integer"
        }
       ],
       "conversionMethod": "pd.DataFrame",
       "ref": "64633881-c766-4845-b628-5e4b4c7a6a74",
       "rows": [
        [
         "cup",
         "2474893"
        ],
        [
         "c",
         "2452957"
        ],
        [
         "teaspoon",
         "1425910"
        ],
        [
         "chopped",
         "1343576"
        ],
        [
         "tsp",
         "1302747"
        ],
        [
         "salt",
         "1180831"
        ],
        [
         "sugar",
         "1069200"
        ],
        [
         "cups",
         "1031871"
        ],
        [
         "tablespoons",
         "1002565"
        ],
        [
         "pepper",
         "924856"
        ],
        [
         "tbsp",
         "818372"
        ],
        [
         "butter",
         "711550"
        ],
        [
         "cheese",
         "683607"
        ],
        [
         "oil",
         "680027"
        ],
        [
         "oz",
         "655973"
        ],
        [
         "flour",
         "631167"
        ],
        [
         "fresh",
         "608051"
        ],
        [
         "tablespoon",
         "589190"
        ],
        [
         "cream",
         "576070"
        ],
        [
         "onion",
         "568313"
        ],
        [
         "ground",
         "552801"
        ],
        [
         "garlic",
         "506286"
        ],
        [
         "sliced",
         "488024"
        ],
        [
         "water",
         "486860"
        ],
        [
         "milk",
         "482450"
        ],
        [
         "lb",
         "481395"
        ],
        [
         "teaspoons",
         "467999"
        ],
        [
         "large",
         "456219"
        ],
        [
         "eggs",
         "428288"
        ],
        [
         "ounce",
         "416317"
        ],
        [
         "ounces",
         "413121"
        ],
        [
         "powder",
         "402489"
        ],
        [
         "juice",
         "399797"
        ],
        [
         "sauce",
         "398113"
        ],
        [
         "chicken",
         "387145"
        ],
        [
         "vanilla",
         "387047"
        ],
        [
         "minced",
         "349616"
        ],
        [
         "red",
         "330745"
        ],
        [
         "cut",
         "330561"
        ],
        [
         "green",
         "328276"
        ],
        [
         "olive",
         "324066"
        ],
        [
         "baking",
         "317596"
        ],
        [
         "lemon",
         "311716"
        ],
        [
         "grated",
         "307032"
        ],
        [
         "white",
         "301669"
        ],
        [
         "small",
         "294367"
        ],
        [
         "egg",
         "293021"
        ],
        [
         "diced",
         "290638"
        ],
        [
         "pkg",
         "287675"
        ],
        [
         "black",
         "283741"
        ]
       ],
       "shape": {
        "columns": 1,
        "rows": 101503
       }
      },
      "text/html": [
       "<div>\n",
       "<style scoped>\n",
       "    .dataframe tbody tr th:only-of-type {\n",
       "        vertical-align: middle;\n",
       "    }\n",
       "\n",
       "    .dataframe tbody tr th {\n",
       "        vertical-align: top;\n",
       "    }\n",
       "\n",
       "    .dataframe thead th {\n",
       "        text-align: right;\n",
       "    }\n",
       "</style>\n",
       "<table border=\"1\" class=\"dataframe\">\n",
       "  <thead>\n",
       "    <tr style=\"text-align: right;\">\n",
       "      <th></th>\n",
       "      <th>count</th>\n",
       "    </tr>\n",
       "  </thead>\n",
       "  <tbody>\n",
       "    <tr>\n",
       "      <th>cup</th>\n",
       "      <td>2474893</td>\n",
       "    </tr>\n",
       "    <tr>\n",
       "      <th>c</th>\n",
       "      <td>2452957</td>\n",
       "    </tr>\n",
       "    <tr>\n",
       "      <th>teaspoon</th>\n",
       "      <td>1425910</td>\n",
       "    </tr>\n",
       "    <tr>\n",
       "      <th>chopped</th>\n",
       "      <td>1343576</td>\n",
       "    </tr>\n",
       "    <tr>\n",
       "      <th>tsp</th>\n",
       "      <td>1302747</td>\n",
       "    </tr>\n",
       "    <tr>\n",
       "      <th>...</th>\n",
       "      <td>...</td>\n",
       "    </tr>\n",
       "    <tr>\n",
       "      <th>wontonspring</th>\n",
       "      <td>1</td>\n",
       "    </tr>\n",
       "    <tr>\n",
       "      <th>incidentally</th>\n",
       "      <td>1</td>\n",
       "    </tr>\n",
       "    <tr>\n",
       "      <th>garnishorange</th>\n",
       "      <td>1</td>\n",
       "    </tr>\n",
       "    <tr>\n",
       "      <th>pecorinoramano</th>\n",
       "      <td>1</td>\n",
       "    </tr>\n",
       "    <tr>\n",
       "      <th>offand</th>\n",
       "      <td>1</td>\n",
       "    </tr>\n",
       "  </tbody>\n",
       "</table>\n",
       "<p>101503 rows × 1 columns</p>\n",
       "</div>"
      ],
      "text/plain": [
       "                  count\n",
       "cup             2474893\n",
       "c               2452957\n",
       "teaspoon        1425910\n",
       "chopped         1343576\n",
       "tsp             1302747\n",
       "...                 ...\n",
       "wontonspring          1\n",
       "incidentally          1\n",
       "garnishorange         1\n",
       "pecorinoramano        1\n",
       "offand                1\n",
       "\n",
       "[101503 rows x 1 columns]"
      ]
     },
     "execution_count": 32,
     "metadata": {},
     "output_type": "execute_result"
    }
   ],
   "source": [
    "words9 = count_words_in_list_items(dataset4, 'ingredients')\n",
    "words9"
   ]
  },
  {
   "cell_type": "markdown",
   "metadata": {},
   "source": [
    "### [Dataset 10 (set10-d)](https://www.kaggle.com/datasets/aadyasingh55/cocktails)\n",
    " - Viable"
   ]
  },
  {
   "cell_type": "code",
   "execution_count": null,
   "metadata": {},
   "outputs": [
    {
     "data": {
      "application/vnd.microsoft.datawrangler.viewer.v0+json": {
       "columns": [
        {
         "name": "index",
         "rawType": "int64",
         "type": "integer"
        },
        {
         "name": "Unnamed: 0",
         "rawType": "int64",
         "type": "integer"
        },
        {
         "name": "id",
         "rawType": "int64",
         "type": "integer"
        },
        {
         "name": "name",
         "rawType": "object",
         "type": "string"
        },
        {
         "name": "alcoholic",
         "rawType": "object",
         "type": "string"
        },
        {
         "name": "category",
         "rawType": "object",
         "type": "string"
        },
        {
         "name": "glassType",
         "rawType": "object",
         "type": "string"
        },
        {
         "name": "instructions",
         "rawType": "object",
         "type": "string"
        },
        {
         "name": "drinkThumbnail",
         "rawType": "object",
         "type": "string"
        },
        {
         "name": "ingredients",
         "rawType": "object",
         "type": "string"
        },
        {
         "name": "ingredientMeasures",
         "rawType": "object",
         "type": "string"
        },
        {
         "name": "text",
         "rawType": "object",
         "type": "string"
        }
       ],
       "conversionMethod": "pd.DataFrame",
       "ref": "ea05ccf7-bdbb-42a4-918e-49680980f049",
       "rows": [
        [
         "0",
         "0",
         "0",
         "A1",
         "Alcoholic",
         "Cocktail",
         "Cocktail glass",
         "Pour all ingredients into a cocktail shaker, mix and serve over ice into a chilled glass.",
         "https://www.thecocktaildb.com/images/media/drink/2x8thr1504816928.jpg",
         "['Gin', 'Grand Marnier', 'Lemon Juice', 'Grenadine']",
         "['1 3/4 shot ', '1 Shot ', '1/4 Shot', '1/8 Shot']",
         "question Generate a cocktail with Gin Grand Marnier Lemon Juice Grenadine answer Pour all ingredients into a cocktail shaker, mix and serve over ice into a chilled glass."
        ],
        [
         "1",
         "1",
         "1",
         "ABC",
         "Alcoholic",
         "Shot",
         "Shot glass",
         "Layered in a shot glass.",
         "https://www.thecocktaildb.com/images/media/drink/tqpvqp1472668328.jpg",
         "['Amaretto', 'Baileys irish cream', 'Cognac']",
         "['1/3 ', '1/3 ', '1/3 ']",
         "question Generate a cocktail with Amaretto Baileys irish cream Cognac answer Layered in a shot glass."
        ],
        [
         "2",
         "2",
         "2",
         "Ace",
         "Alcoholic",
         "Cocktail",
         "Martini Glass",
         "Shake all the ingredients in a cocktail shaker and ice then strain in a cold glass.",
         "https://www.thecocktaildb.com/images/media/drink/l3cd7f1504818306.jpg",
         "['Gin', 'Grenadine', 'Heavy cream', 'Milk', 'Egg White']",
         "['2 shots ', '1/2 shot ', '1/2 shot ', '1/2 shot', '1/2 Fresh']",
         "question Generate a cocktail with Gin Grenadine Heavy cream Milk Egg White answer Shake all the ingredients in a cocktail shaker and ice then strain in a cold glass."
        ],
        [
         "3",
         "3",
         "3",
         "ACID",
         "Alcoholic",
         "Shot",
         "Shot glass",
         "Poor in the 151 first followed by the 101 served with a Coke or Dr Pepper chaser.",
         "https://www.thecocktaildb.com/images/media/drink/xuxpxt1479209317.jpg",
         "['151 proof rum', 'Wild Turkey']",
         "['1 oz Bacardi ', '1 oz ']",
         "question Generate a cocktail with 151 proof rum Wild Turkey answer Poor in the 151 first followed by the 101 served with a Coke or Dr Pepper chaser."
        ],
        [
         "4",
         "4",
         "4",
         "Adam",
         "Alcoholic",
         "Ordinary Drink",
         "Cocktail glass",
         "In a shaker half-filled with ice cubes, combine all of the ingredients. Shake well. Strain into a cocktail glass.",
         "https://www.thecocktaildb.com/images/media/drink/v0at4i1582478473.jpg",
         "['Dark rum', 'Lemon juice', 'Grenadine']",
         "['2 oz ', '1 oz ', '1 tsp ']",
         "question Generate a cocktail with Dark rum Lemon juice Grenadine answer In a shaker half-filled with ice cubes, combine all of the ingredients. Shake well. Strain into a cocktail glass."
        ]
       ],
       "shape": {
        "columns": 11,
        "rows": 5
       }
      },
      "text/html": [
       "<div>\n",
       "<style scoped>\n",
       "    .dataframe tbody tr th:only-of-type {\n",
       "        vertical-align: middle;\n",
       "    }\n",
       "\n",
       "    .dataframe tbody tr th {\n",
       "        vertical-align: top;\n",
       "    }\n",
       "\n",
       "    .dataframe thead th {\n",
       "        text-align: right;\n",
       "    }\n",
       "</style>\n",
       "<table border=\"1\" class=\"dataframe\">\n",
       "  <thead>\n",
       "    <tr style=\"text-align: right;\">\n",
       "      <th></th>\n",
       "      <th>Unnamed: 0</th>\n",
       "      <th>id</th>\n",
       "      <th>name</th>\n",
       "      <th>alcoholic</th>\n",
       "      <th>category</th>\n",
       "      <th>glassType</th>\n",
       "      <th>instructions</th>\n",
       "      <th>drinkThumbnail</th>\n",
       "      <th>ingredients</th>\n",
       "      <th>ingredientMeasures</th>\n",
       "      <th>text</th>\n",
       "    </tr>\n",
       "  </thead>\n",
       "  <tbody>\n",
       "    <tr>\n",
       "      <th>0</th>\n",
       "      <td>0</td>\n",
       "      <td>0</td>\n",
       "      <td>A1</td>\n",
       "      <td>Alcoholic</td>\n",
       "      <td>Cocktail</td>\n",
       "      <td>Cocktail glass</td>\n",
       "      <td>Pour all ingredients into a cocktail shaker, m...</td>\n",
       "      <td>https://www.thecocktaildb.com/images/media/dri...</td>\n",
       "      <td>['Gin', 'Grand Marnier', 'Lemon Juice', 'Grena...</td>\n",
       "      <td>['1 3/4 shot ', '1 Shot ', '1/4 Shot', '1/8 Sh...</td>\n",
       "      <td>question Generate a cocktail with Gin Grand Ma...</td>\n",
       "    </tr>\n",
       "    <tr>\n",
       "      <th>1</th>\n",
       "      <td>1</td>\n",
       "      <td>1</td>\n",
       "      <td>ABC</td>\n",
       "      <td>Alcoholic</td>\n",
       "      <td>Shot</td>\n",
       "      <td>Shot glass</td>\n",
       "      <td>Layered in a shot glass.</td>\n",
       "      <td>https://www.thecocktaildb.com/images/media/dri...</td>\n",
       "      <td>['Amaretto', 'Baileys irish cream', 'Cognac']</td>\n",
       "      <td>['1/3 ', '1/3 ', '1/3 ']</td>\n",
       "      <td>question Generate a cocktail with Amaretto Bai...</td>\n",
       "    </tr>\n",
       "    <tr>\n",
       "      <th>2</th>\n",
       "      <td>2</td>\n",
       "      <td>2</td>\n",
       "      <td>Ace</td>\n",
       "      <td>Alcoholic</td>\n",
       "      <td>Cocktail</td>\n",
       "      <td>Martini Glass</td>\n",
       "      <td>Shake all the ingredients in a cocktail shaker...</td>\n",
       "      <td>https://www.thecocktaildb.com/images/media/dri...</td>\n",
       "      <td>['Gin', 'Grenadine', 'Heavy cream', 'Milk', 'E...</td>\n",
       "      <td>['2 shots ', '1/2 shot ', '1/2 shot ', '1/2 sh...</td>\n",
       "      <td>question Generate a cocktail with Gin Grenadin...</td>\n",
       "    </tr>\n",
       "    <tr>\n",
       "      <th>3</th>\n",
       "      <td>3</td>\n",
       "      <td>3</td>\n",
       "      <td>ACID</td>\n",
       "      <td>Alcoholic</td>\n",
       "      <td>Shot</td>\n",
       "      <td>Shot glass</td>\n",
       "      <td>Poor in the 151 first followed by the 101 serv...</td>\n",
       "      <td>https://www.thecocktaildb.com/images/media/dri...</td>\n",
       "      <td>['151 proof rum', 'Wild Turkey']</td>\n",
       "      <td>['1 oz Bacardi ', '1 oz ']</td>\n",
       "      <td>question Generate a cocktail with 151 proof ru...</td>\n",
       "    </tr>\n",
       "    <tr>\n",
       "      <th>4</th>\n",
       "      <td>4</td>\n",
       "      <td>4</td>\n",
       "      <td>Adam</td>\n",
       "      <td>Alcoholic</td>\n",
       "      <td>Ordinary Drink</td>\n",
       "      <td>Cocktail glass</td>\n",
       "      <td>In a shaker half-filled with ice cubes, combin...</td>\n",
       "      <td>https://www.thecocktaildb.com/images/media/dri...</td>\n",
       "      <td>['Dark rum', 'Lemon juice', 'Grenadine']</td>\n",
       "      <td>['2 oz ', '1 oz ', '1 tsp ']</td>\n",
       "      <td>question Generate a cocktail with Dark rum Lem...</td>\n",
       "    </tr>\n",
       "  </tbody>\n",
       "</table>\n",
       "</div>"
      ],
      "text/plain": [
       "   Unnamed: 0  id  name  alcoholic        category       glassType  \\\n",
       "0           0   0    A1  Alcoholic        Cocktail  Cocktail glass   \n",
       "1           1   1   ABC  Alcoholic            Shot      Shot glass   \n",
       "2           2   2   Ace  Alcoholic        Cocktail   Martini Glass   \n",
       "3           3   3  ACID  Alcoholic            Shot      Shot glass   \n",
       "4           4   4  Adam  Alcoholic  Ordinary Drink  Cocktail glass   \n",
       "\n",
       "                                        instructions  \\\n",
       "0  Pour all ingredients into a cocktail shaker, m...   \n",
       "1                           Layered in a shot glass.   \n",
       "2  Shake all the ingredients in a cocktail shaker...   \n",
       "3  Poor in the 151 first followed by the 101 serv...   \n",
       "4  In a shaker half-filled with ice cubes, combin...   \n",
       "\n",
       "                                      drinkThumbnail  \\\n",
       "0  https://www.thecocktaildb.com/images/media/dri...   \n",
       "1  https://www.thecocktaildb.com/images/media/dri...   \n",
       "2  https://www.thecocktaildb.com/images/media/dri...   \n",
       "3  https://www.thecocktaildb.com/images/media/dri...   \n",
       "4  https://www.thecocktaildb.com/images/media/dri...   \n",
       "\n",
       "                                         ingredients  \\\n",
       "0  ['Gin', 'Grand Marnier', 'Lemon Juice', 'Grena...   \n",
       "1      ['Amaretto', 'Baileys irish cream', 'Cognac']   \n",
       "2  ['Gin', 'Grenadine', 'Heavy cream', 'Milk', 'E...   \n",
       "3                   ['151 proof rum', 'Wild Turkey']   \n",
       "4           ['Dark rum', 'Lemon juice', 'Grenadine']   \n",
       "\n",
       "                                  ingredientMeasures  \\\n",
       "0  ['1 3/4 shot ', '1 Shot ', '1/4 Shot', '1/8 Sh...   \n",
       "1                           ['1/3 ', '1/3 ', '1/3 ']   \n",
       "2  ['2 shots ', '1/2 shot ', '1/2 shot ', '1/2 sh...   \n",
       "3                         ['1 oz Bacardi ', '1 oz ']   \n",
       "4                       ['2 oz ', '1 oz ', '1 tsp ']   \n",
       "\n",
       "                                                text  \n",
       "0  question Generate a cocktail with Gin Grand Ma...  \n",
       "1  question Generate a cocktail with Amaretto Bai...  \n",
       "2  question Generate a cocktail with Gin Grenadin...  \n",
       "3  question Generate a cocktail with 151 proof ru...  \n",
       "4  question Generate a cocktail with Dark rum Lem...  "
      ]
     },
     "execution_count": 33,
     "metadata": {},
     "output_type": "execute_result"
    }
   ],
   "source": [
    "data10 = pd.read_csv(f'{file_path}set10-d/final_cocktails.csv')\n",
    "data10.head()"
   ]
  },
  {
   "cell_type": "code",
   "execution_count": null,
   "metadata": {},
   "outputs": [
    {
     "data": {
      "application/vnd.microsoft.datawrangler.viewer.v0+json": {
       "columns": [
        {
         "name": "index",
         "rawType": "int64",
         "type": "integer"
        },
        {
         "name": "id",
         "rawType": "int64",
         "type": "integer"
        },
        {
         "name": "ingredients",
         "rawType": "object",
         "type": "unknown"
        }
       ],
       "conversionMethod": "pd.DataFrame",
       "ref": "88ab3c56-27e0-4392-8521-ba69bb3b9e1c",
       "rows": [
        [
         "0",
         "0",
         "['Gin', 'Grand Marnier', 'Lemon Juice', 'Grenadine']"
        ],
        [
         "1",
         "1",
         "['Amaretto', 'Baileys irish cream', 'Cognac']"
        ],
        [
         "2",
         "2",
         "['Gin', 'Grenadine', 'Heavy cream', 'Milk', 'Egg White']"
        ],
        [
         "3",
         "3",
         "['151 proof rum', 'Wild Turkey']"
        ],
        [
         "4",
         "4",
         "['Dark rum', 'Lemon juice', 'Grenadine']"
        ]
       ],
       "shape": {
        "columns": 2,
        "rows": 5
       }
      },
      "text/html": [
       "<div>\n",
       "<style scoped>\n",
       "    .dataframe tbody tr th:only-of-type {\n",
       "        vertical-align: middle;\n",
       "    }\n",
       "\n",
       "    .dataframe tbody tr th {\n",
       "        vertical-align: top;\n",
       "    }\n",
       "\n",
       "    .dataframe thead th {\n",
       "        text-align: right;\n",
       "    }\n",
       "</style>\n",
       "<table border=\"1\" class=\"dataframe\">\n",
       "  <thead>\n",
       "    <tr style=\"text-align: right;\">\n",
       "      <th></th>\n",
       "      <th>id</th>\n",
       "      <th>ingredients</th>\n",
       "    </tr>\n",
       "  </thead>\n",
       "  <tbody>\n",
       "    <tr>\n",
       "      <th>0</th>\n",
       "      <td>0</td>\n",
       "      <td>[Gin, Grand Marnier, Lemon Juice, Grenadine]</td>\n",
       "    </tr>\n",
       "    <tr>\n",
       "      <th>1</th>\n",
       "      <td>1</td>\n",
       "      <td>[Amaretto, Baileys irish cream, Cognac]</td>\n",
       "    </tr>\n",
       "    <tr>\n",
       "      <th>2</th>\n",
       "      <td>2</td>\n",
       "      <td>[Gin, Grenadine, Heavy cream, Milk, Egg White]</td>\n",
       "    </tr>\n",
       "    <tr>\n",
       "      <th>3</th>\n",
       "      <td>3</td>\n",
       "      <td>[151 proof rum, Wild Turkey]</td>\n",
       "    </tr>\n",
       "    <tr>\n",
       "      <th>4</th>\n",
       "      <td>4</td>\n",
       "      <td>[Dark rum, Lemon juice, Grenadine]</td>\n",
       "    </tr>\n",
       "  </tbody>\n",
       "</table>\n",
       "</div>"
      ],
      "text/plain": [
       "   id                                     ingredients\n",
       "0   0    [Gin, Grand Marnier, Lemon Juice, Grenadine]\n",
       "1   1         [Amaretto, Baileys irish cream, Cognac]\n",
       "2   2  [Gin, Grenadine, Heavy cream, Milk, Egg White]\n",
       "3   3                    [151 proof rum, Wild Turkey]\n",
       "4   4              [Dark rum, Lemon juice, Grenadine]"
      ]
     },
     "metadata": {},
     "output_type": "display_data"
    },
    {
     "name": "stdout",
     "output_type": "stream",
     "text": [
      "<class 'pandas.core.frame.DataFrame'>\n",
      "RangeIndex: 425 entries, 0 to 424\n",
      "Data columns (total 2 columns):\n",
      " #   Column       Non-Null Count  Dtype \n",
      "---  ------       --------------  ----- \n",
      " 0   id           425 non-null    int64 \n",
      " 1   ingredients  425 non-null    object\n",
      "dtypes: int64(1), object(1)\n",
      "memory usage: 6.8+ KB\n"
     ]
    }
   ],
   "source": [
    "dataset10 = pd.DataFrame()\n",
    "dataset10['id'] = data10['id']\n",
    "dataset10['ingredients'] = data10['ingredients'].apply(convert_to_list)\n",
    "display(dataset10.head())\n",
    "dataset10.info()"
   ]
  },
  {
   "cell_type": "markdown",
   "metadata": {},
   "source": [
    "### [Dataset 11 (set11-d)](https://www.kaggle.com/datasets/laurinbrechter/cocktail-popularity)\n",
    " - Non-Viable"
   ]
  },
  {
   "cell_type": "code",
   "execution_count": null,
   "metadata": {},
   "outputs": [
    {
     "data": {
      "application/vnd.microsoft.datawrangler.viewer.v0+json": {
       "columns": [
        {
         "name": "index",
         "rawType": "int64",
         "type": "integer"
        },
        {
         "name": "Unnamed: 0",
         "rawType": "int64",
         "type": "integer"
        },
        {
         "name": "place",
         "rawType": "object",
         "type": "string"
        },
        {
         "name": "name",
         "rawType": "object",
         "type": "string"
        },
        {
         "name": "year",
         "rawType": "int64",
         "type": "integer"
        },
        {
         "name": "month",
         "rawType": "object",
         "type": "string"
        },
        {
         "name": "visitors",
         "rawType": "int64",
         "type": "integer"
        }
       ],
       "conversionMethod": "pd.DataFrame",
       "ref": "43c4ce3b-c715-470f-9449-e771f1cb46de",
       "rows": [
        [
         "0",
         "0",
         "1 ",
         "'57 Chevy",
         "2001",
         "total",
         "1512"
        ],
        [
         "1",
         "1",
         "2 ",
         "Caipirinha",
         "2001",
         "total",
         "1301"
        ],
        [
         "2",
         "2",
         "3 ",
         "Long Island Icetea",
         "2001",
         "total",
         "903"
        ],
        [
         "3",
         "3",
         "4 ",
         "Piña Colada",
         "2001",
         "total",
         "601"
        ],
        [
         "4",
         "4",
         "5 ",
         "Tall Blonde",
         "2001",
         "total",
         "573"
        ]
       ],
       "shape": {
        "columns": 6,
        "rows": 5
       }
      },
      "text/html": [
       "<div>\n",
       "<style scoped>\n",
       "    .dataframe tbody tr th:only-of-type {\n",
       "        vertical-align: middle;\n",
       "    }\n",
       "\n",
       "    .dataframe tbody tr th {\n",
       "        vertical-align: top;\n",
       "    }\n",
       "\n",
       "    .dataframe thead th {\n",
       "        text-align: right;\n",
       "    }\n",
       "</style>\n",
       "<table border=\"1\" class=\"dataframe\">\n",
       "  <thead>\n",
       "    <tr style=\"text-align: right;\">\n",
       "      <th></th>\n",
       "      <th>Unnamed: 0</th>\n",
       "      <th>place</th>\n",
       "      <th>name</th>\n",
       "      <th>year</th>\n",
       "      <th>month</th>\n",
       "      <th>visitors</th>\n",
       "    </tr>\n",
       "  </thead>\n",
       "  <tbody>\n",
       "    <tr>\n",
       "      <th>0</th>\n",
       "      <td>0</td>\n",
       "      <td>1</td>\n",
       "      <td>'57 Chevy</td>\n",
       "      <td>2001</td>\n",
       "      <td>total</td>\n",
       "      <td>1512</td>\n",
       "    </tr>\n",
       "    <tr>\n",
       "      <th>1</th>\n",
       "      <td>1</td>\n",
       "      <td>2</td>\n",
       "      <td>Caipirinha</td>\n",
       "      <td>2001</td>\n",
       "      <td>total</td>\n",
       "      <td>1301</td>\n",
       "    </tr>\n",
       "    <tr>\n",
       "      <th>2</th>\n",
       "      <td>2</td>\n",
       "      <td>3</td>\n",
       "      <td>Long Island Icetea</td>\n",
       "      <td>2001</td>\n",
       "      <td>total</td>\n",
       "      <td>903</td>\n",
       "    </tr>\n",
       "    <tr>\n",
       "      <th>3</th>\n",
       "      <td>3</td>\n",
       "      <td>4</td>\n",
       "      <td>Piña Colada</td>\n",
       "      <td>2001</td>\n",
       "      <td>total</td>\n",
       "      <td>601</td>\n",
       "    </tr>\n",
       "    <tr>\n",
       "      <th>4</th>\n",
       "      <td>4</td>\n",
       "      <td>5</td>\n",
       "      <td>Tall Blonde</td>\n",
       "      <td>2001</td>\n",
       "      <td>total</td>\n",
       "      <td>573</td>\n",
       "    </tr>\n",
       "  </tbody>\n",
       "</table>\n",
       "</div>"
      ],
      "text/plain": [
       "   Unnamed: 0 place                name  year  month  visitors\n",
       "0           0    1            '57 Chevy  2001  total      1512\n",
       "1           1    2           Caipirinha  2001  total      1301\n",
       "2           2    3   Long Island Icetea  2001  total       903\n",
       "3           3    4          Piña Colada  2001  total       601\n",
       "4           4    5          Tall Blonde  2001  total       573"
      ]
     },
     "execution_count": 35,
     "metadata": {},
     "output_type": "execute_result"
    }
   ],
   "source": [
    "data11 = pd.read_csv(f'{file_path}set11-d/data.csv')\n",
    "data11.head()"
   ]
  },
  {
   "cell_type": "markdown",
   "metadata": {},
   "source": [
    " - Dataset 11 has no relevant data"
   ]
  },
  {
   "cell_type": "markdown",
   "metadata": {},
   "source": [
    "### [Dataset 12 (set12-d)](https://www.kaggle.com/datasets/jenlooper/mr-boston-cocktail-dataset)\n",
    " - Viable"
   ]
  },
  {
   "cell_type": "code",
   "execution_count": null,
   "metadata": {},
   "outputs": [
    {
     "data": {
      "application/vnd.microsoft.datawrangler.viewer.v0+json": {
       "columns": [
        {
         "name": "index",
         "rawType": "int64",
         "type": "integer"
        },
        {
         "name": "name",
         "rawType": "object",
         "type": "string"
        },
        {
         "name": "category",
         "rawType": "object",
         "type": "string"
        },
        {
         "name": "measurement-1",
         "rawType": "object",
         "type": "string"
        },
        {
         "name": "ingredient-1",
         "rawType": "object",
         "type": "string"
        },
        {
         "name": "measurement-2",
         "rawType": "object",
         "type": "string"
        },
        {
         "name": "ingredient-2",
         "rawType": "object",
         "type": "string"
        },
        {
         "name": "measurement-3",
         "rawType": "object",
         "type": "unknown"
        },
        {
         "name": "ingredient-3",
         "rawType": "object",
         "type": "string"
        },
        {
         "name": "measurement-4",
         "rawType": "object",
         "type": "unknown"
        },
        {
         "name": "ingredient-4",
         "rawType": "object",
         "type": "unknown"
        },
        {
         "name": "measurement-5",
         "rawType": "object",
         "type": "unknown"
        },
        {
         "name": "ingredient-5",
         "rawType": "object",
         "type": "unknown"
        },
        {
         "name": "measurement-6",
         "rawType": "object",
         "type": "unknown"
        },
        {
         "name": "ingredient-6",
         "rawType": "object",
         "type": "unknown"
        },
        {
         "name": "instructions",
         "rawType": "object",
         "type": "string"
        },
        {
         "name": "glass",
         "rawType": "object",
         "type": "string"
        },
        {
         "name": "glass-size",
         "rawType": "object",
         "type": "string"
        }
       ],
       "conversionMethod": "pd.DataFrame",
       "ref": "a708fd29-bad1-4b0c-88d9-df1abbda404e",
       "rows": [
        [
         "0",
         "Gauguin",
         "Cocktail Classics",
         "2 oz",
         " Light Rum",
         "1 oz",
         " Passion Fruit Syrup",
         "1 oz",
         " Lemon Juice",
         "1 oz",
         " Lime Juice",
         null,
         null,
         null,
         null,
         "Combine ingredients with a cup of crushed ice in blender and blend at low speed. Serve in old-fashioned glass. Top with a cherry.",
         "Old-Fashioned Glass",
         "6 to 8 ounces"
        ],
        [
         "1",
         "Fort Lauderdale",
         "Cocktail Classics",
         "1 1/2 oz",
         " Light Rum",
         "1/2 oz",
         " Sweet Vermouth",
         "1/4 oz",
         " Juice of Orange",
         "1/4 oz",
         " Juice of a Lime",
         null,
         null,
         null,
         null,
         "Shake with ice and strain into old-fashioned glass over ice cubes. Add a slice of orange.",
         "Old-Fashioned Glass",
         "6 to 8 ounces"
        ],
        [
         "2",
         "Apple Pie",
         "Cordials and Liqueurs",
         "3 oz",
         " Apple schnapps",
         "1 oz",
         " Cinnamon schnapps",
         null,
         " Apple slice",
         null,
         null,
         null,
         null,
         null,
         null,
         "Pour into ice-filled old-fashioned glass. Garnish with apple and top with cinnamon.",
         "Old-Fashioned Glass",
         "6 to 8 ounces"
        ],
        [
         "3",
         "Cuban Cocktail No. 1",
         "Cocktail Classics",
         "1/2 oz",
         " Juice of a Lime",
         "1/2 oz",
         " Powdered Sugar",
         "2 oz",
         " Light Rum",
         null,
         null,
         null,
         null,
         null,
         null,
         "Shake with ice and  strain into cocktail glass.",
         "Cocktail Glass",
         "6 or more ounces"
        ],
        [
         "4",
         "Cool Carlos",
         "Cocktail Classics",
         "1 1/2 oz",
         " Dark rum",
         "2 oz",
         " Cranberry Juice",
         "2 oz",
         " Pineapple Juice",
         "1 oz",
         " Orange curacao",
         "1 oz",
         " Sour Mix",
         null,
         null,
         "Mix all ingredients except curacao with ice, shake well. Pour into collins glass and float curacao on top. Garnish with pineapple and orange slices, and a cherry.",
         "Collins Glass",
         "14 to 16 ounces"
        ]
       ],
       "shape": {
        "columns": 17,
        "rows": 5
       }
      },
      "text/html": [
       "<div>\n",
       "<style scoped>\n",
       "    .dataframe tbody tr th:only-of-type {\n",
       "        vertical-align: middle;\n",
       "    }\n",
       "\n",
       "    .dataframe tbody tr th {\n",
       "        vertical-align: top;\n",
       "    }\n",
       "\n",
       "    .dataframe thead th {\n",
       "        text-align: right;\n",
       "    }\n",
       "</style>\n",
       "<table border=\"1\" class=\"dataframe\">\n",
       "  <thead>\n",
       "    <tr style=\"text-align: right;\">\n",
       "      <th></th>\n",
       "      <th>name</th>\n",
       "      <th>category</th>\n",
       "      <th>measurement-1</th>\n",
       "      <th>ingredient-1</th>\n",
       "      <th>measurement-2</th>\n",
       "      <th>ingredient-2</th>\n",
       "      <th>measurement-3</th>\n",
       "      <th>ingredient-3</th>\n",
       "      <th>measurement-4</th>\n",
       "      <th>ingredient-4</th>\n",
       "      <th>measurement-5</th>\n",
       "      <th>ingredient-5</th>\n",
       "      <th>measurement-6</th>\n",
       "      <th>ingredient-6</th>\n",
       "      <th>instructions</th>\n",
       "      <th>glass</th>\n",
       "      <th>glass-size</th>\n",
       "    </tr>\n",
       "  </thead>\n",
       "  <tbody>\n",
       "    <tr>\n",
       "      <th>0</th>\n",
       "      <td>Gauguin</td>\n",
       "      <td>Cocktail Classics</td>\n",
       "      <td>2 oz</td>\n",
       "      <td>Light Rum</td>\n",
       "      <td>1 oz</td>\n",
       "      <td>Passion Fruit Syrup</td>\n",
       "      <td>1 oz</td>\n",
       "      <td>Lemon Juice</td>\n",
       "      <td>1 oz</td>\n",
       "      <td>Lime Juice</td>\n",
       "      <td>NaN</td>\n",
       "      <td>NaN</td>\n",
       "      <td>NaN</td>\n",
       "      <td>NaN</td>\n",
       "      <td>Combine ingredients with a cup of crushed ice ...</td>\n",
       "      <td>Old-Fashioned Glass</td>\n",
       "      <td>6 to 8 ounces</td>\n",
       "    </tr>\n",
       "    <tr>\n",
       "      <th>1</th>\n",
       "      <td>Fort Lauderdale</td>\n",
       "      <td>Cocktail Classics</td>\n",
       "      <td>1 1/2 oz</td>\n",
       "      <td>Light Rum</td>\n",
       "      <td>1/2 oz</td>\n",
       "      <td>Sweet Vermouth</td>\n",
       "      <td>1/4 oz</td>\n",
       "      <td>Juice of Orange</td>\n",
       "      <td>1/4 oz</td>\n",
       "      <td>Juice of a Lime</td>\n",
       "      <td>NaN</td>\n",
       "      <td>NaN</td>\n",
       "      <td>NaN</td>\n",
       "      <td>NaN</td>\n",
       "      <td>Shake with ice and strain into old-fashioned g...</td>\n",
       "      <td>Old-Fashioned Glass</td>\n",
       "      <td>6 to 8 ounces</td>\n",
       "    </tr>\n",
       "    <tr>\n",
       "      <th>2</th>\n",
       "      <td>Apple Pie</td>\n",
       "      <td>Cordials and Liqueurs</td>\n",
       "      <td>3 oz</td>\n",
       "      <td>Apple schnapps</td>\n",
       "      <td>1 oz</td>\n",
       "      <td>Cinnamon schnapps</td>\n",
       "      <td>NaN</td>\n",
       "      <td>Apple slice</td>\n",
       "      <td>NaN</td>\n",
       "      <td>NaN</td>\n",
       "      <td>NaN</td>\n",
       "      <td>NaN</td>\n",
       "      <td>NaN</td>\n",
       "      <td>NaN</td>\n",
       "      <td>Pour into ice-filled old-fashioned glass. Garn...</td>\n",
       "      <td>Old-Fashioned Glass</td>\n",
       "      <td>6 to 8 ounces</td>\n",
       "    </tr>\n",
       "    <tr>\n",
       "      <th>3</th>\n",
       "      <td>Cuban Cocktail No. 1</td>\n",
       "      <td>Cocktail Classics</td>\n",
       "      <td>1/2 oz</td>\n",
       "      <td>Juice of a Lime</td>\n",
       "      <td>1/2 oz</td>\n",
       "      <td>Powdered Sugar</td>\n",
       "      <td>2 oz</td>\n",
       "      <td>Light Rum</td>\n",
       "      <td>NaN</td>\n",
       "      <td>NaN</td>\n",
       "      <td>NaN</td>\n",
       "      <td>NaN</td>\n",
       "      <td>NaN</td>\n",
       "      <td>NaN</td>\n",
       "      <td>Shake with ice and  strain into cocktail glass.</td>\n",
       "      <td>Cocktail Glass</td>\n",
       "      <td>6 or more ounces</td>\n",
       "    </tr>\n",
       "    <tr>\n",
       "      <th>4</th>\n",
       "      <td>Cool Carlos</td>\n",
       "      <td>Cocktail Classics</td>\n",
       "      <td>1 1/2 oz</td>\n",
       "      <td>Dark rum</td>\n",
       "      <td>2 oz</td>\n",
       "      <td>Cranberry Juice</td>\n",
       "      <td>2 oz</td>\n",
       "      <td>Pineapple Juice</td>\n",
       "      <td>1 oz</td>\n",
       "      <td>Orange curacao</td>\n",
       "      <td>1 oz</td>\n",
       "      <td>Sour Mix</td>\n",
       "      <td>NaN</td>\n",
       "      <td>NaN</td>\n",
       "      <td>Mix all ingredients except curacao with ice, s...</td>\n",
       "      <td>Collins Glass</td>\n",
       "      <td>14 to 16 ounces</td>\n",
       "    </tr>\n",
       "  </tbody>\n",
       "</table>\n",
       "</div>"
      ],
      "text/plain": [
       "                   name               category measurement-1  \\\n",
       "0               Gauguin      Cocktail Classics          2 oz   \n",
       "1       Fort Lauderdale      Cocktail Classics      1 1/2 oz   \n",
       "2             Apple Pie  Cordials and Liqueurs          3 oz   \n",
       "3  Cuban Cocktail No. 1      Cocktail Classics        1/2 oz   \n",
       "4           Cool Carlos      Cocktail Classics      1 1/2 oz   \n",
       "\n",
       "       ingredient-1 measurement-2          ingredient-2 measurement-3  \\\n",
       "0         Light Rum          1 oz   Passion Fruit Syrup          1 oz   \n",
       "1         Light Rum        1/2 oz        Sweet Vermouth        1/4 oz   \n",
       "2    Apple schnapps          1 oz     Cinnamon schnapps           NaN   \n",
       "3   Juice of a Lime        1/2 oz        Powdered Sugar          2 oz   \n",
       "4          Dark rum          2 oz       Cranberry Juice          2 oz   \n",
       "\n",
       "       ingredient-3 measurement-4      ingredient-4 measurement-5  \\\n",
       "0       Lemon Juice          1 oz        Lime Juice           NaN   \n",
       "1   Juice of Orange        1/4 oz   Juice of a Lime           NaN   \n",
       "2       Apple slice           NaN               NaN           NaN   \n",
       "3         Light Rum           NaN               NaN           NaN   \n",
       "4   Pineapple Juice          1 oz    Orange curacao          1 oz   \n",
       "\n",
       "  ingredient-5 measurement-6 ingredient-6  \\\n",
       "0          NaN           NaN          NaN   \n",
       "1          NaN           NaN          NaN   \n",
       "2          NaN           NaN          NaN   \n",
       "3          NaN           NaN          NaN   \n",
       "4     Sour Mix           NaN          NaN   \n",
       "\n",
       "                                        instructions                glass  \\\n",
       "0  Combine ingredients with a cup of crushed ice ...  Old-Fashioned Glass   \n",
       "1  Shake with ice and strain into old-fashioned g...  Old-Fashioned Glass   \n",
       "2  Pour into ice-filled old-fashioned glass. Garn...  Old-Fashioned Glass   \n",
       "3    Shake with ice and  strain into cocktail glass.       Cocktail Glass   \n",
       "4  Mix all ingredients except curacao with ice, s...        Collins Glass   \n",
       "\n",
       "         glass-size  \n",
       "0     6 to 8 ounces  \n",
       "1     6 to 8 ounces  \n",
       "2     6 to 8 ounces  \n",
       "3  6 or more ounces  \n",
       "4   14 to 16 ounces  "
      ]
     },
     "execution_count": 36,
     "metadata": {},
     "output_type": "execute_result"
    }
   ],
   "source": [
    "data12 = pd.read_csv(f'{file_path}set12-d/mr-boston-flattened.csv')\n",
    "data12.head()"
   ]
  },
  {
   "cell_type": "code",
   "execution_count": null,
   "metadata": {},
   "outputs": [
    {
     "name": "stdout",
     "output_type": "stream",
     "text": [
      "<class 'pandas.core.frame.DataFrame'>\n",
      "RangeIndex: 990 entries, 0 to 989\n",
      "Data columns (total 17 columns):\n",
      " #   Column         Non-Null Count  Dtype \n",
      "---  ------         --------------  ----- \n",
      " 0   name           990 non-null    object\n",
      " 1   category       990 non-null    object\n",
      " 2   measurement-1  980 non-null    object\n",
      " 3   ingredient-1   989 non-null    object\n",
      " 4   measurement-2  955 non-null    object\n",
      " 5   ingredient-2   987 non-null    object\n",
      " 6   measurement-3  847 non-null    object\n",
      " 7   ingredient-3   894 non-null    object\n",
      " 8   measurement-4  600 non-null    object\n",
      " 9   ingredient-4   584 non-null    object\n",
      " 10  measurement-5  307 non-null    object\n",
      " 11  ingredient-5   321 non-null    object\n",
      " 12  measurement-6  71 non-null     object\n",
      " 13  ingredient-6   159 non-null    object\n",
      " 14  instructions   990 non-null    object\n",
      " 15  glass          985 non-null    object\n",
      " 16  glass-size     979 non-null    object\n",
      "dtypes: object(17)\n",
      "memory usage: 131.6+ KB\n"
     ]
    },
    {
     "data": {
      "text/plain": [
       "None"
      ]
     },
     "metadata": {},
     "output_type": "display_data"
    },
    {
     "data": {
      "text/plain": [
       "Index(['name', 'category', 'measurement-1', 'ingredient-1', 'measurement-2',\n",
       "       'ingredient-2', 'measurement-3', 'ingredient-3', 'measurement-4',\n",
       "       'ingredient-4', 'measurement-5', 'ingredient-5', 'measurement-6',\n",
       "       'ingredient-6', 'instructions', 'glass', 'glass-size'],\n",
       "      dtype='object')"
      ]
     },
     "execution_count": 37,
     "metadata": {},
     "output_type": "execute_result"
    }
   ],
   "source": [
    "display(data12.info())\n",
    "data12.columns"
   ]
  },
  {
   "cell_type": "code",
   "execution_count": null,
   "metadata": {},
   "outputs": [
    {
     "data": {
      "application/vnd.microsoft.datawrangler.viewer.v0+json": {
       "columns": [
        {
         "name": "index",
         "rawType": "int64",
         "type": "integer"
        },
        {
         "name": "id",
         "rawType": "int64",
         "type": "integer"
        },
        {
         "name": "ingredients",
         "rawType": "object",
         "type": "unknown"
        }
       ],
       "conversionMethod": "pd.DataFrame",
       "ref": "87943b69-8e94-403e-91b4-216585354f0c",
       "rows": [
        [
         "0",
         "0",
         "[' Light Rum', ' Passion Fruit Syrup', ' Lemon Juice', ' Lime Juice']"
        ],
        [
         "1",
         "1",
         "[' Light Rum', ' Sweet Vermouth', ' Juice of Orange', ' Juice of a Lime']"
        ],
        [
         "2",
         "2",
         "[' Apple schnapps', ' Cinnamon schnapps', ' Apple slice']"
        ],
        [
         "3",
         "3",
         "[' Juice of a Lime', ' Powdered Sugar', ' Light Rum']"
        ],
        [
         "4",
         "4",
         "[' Dark rum', ' Cranberry Juice', ' Pineapple Juice', ' Orange curacao', ' Sour Mix']"
        ],
        [
         "5",
         "5",
         "[' Bourbon whiskey', ' Fresh lemon juice', ' Simple Syrup', ' Soda water', ' Orange and lemon wheels, maraschino cherry']"
        ],
        [
         "6",
         "6",
         "[' Light Rum', ' cherry-flavored brandy', ' Light cream']"
        ],
        [
         "7",
         "7",
         "[' Light Rum', ' Lime Juice', ' Triple Sec', ' Maraschino']"
        ],
        [
         "8",
         "8",
         "[' Light Rum', ' Creme de banana', 'Chilled Champagne']"
        ],
        [
         "9",
         "9",
         "[' Amaretto', ' Fresh lemon juice', ' Simple Syrup', ' Soda water']"
        ],
        [
         "10",
         "10",
         "[' Scotch Whiskey', ' Fresh carrot juice', ' Tawny port', ' Fresh lemon juice', ' Agave nectar']"
        ],
        [
         "11",
         "11",
         "[' Bacardi Rum', ' Juice of a Lime', ' Grenadine']"
        ],
        [
         "12",
         "12",
         "[' Light Rum', ' Sweet Vermouth', ' Apple Brandy', ' Grenadine', ' Lemon Juice']"
        ],
        [
         "13",
         "13",
         "[' Brandy', ' Gin', ' Anisette', ' Sweet Vermouth', ' Grenadine']"
        ],
        [
         "14",
         "14",
         "[' Gin', ' Orange Juice', ' Dry Vermouth', ' Sweet Vermouth']"
        ],
        [
         "15",
         "15",
         "[' Gin', ' Apricot Flavored Brandy', ' Dry Vermouth', ' Lemon Juice']"
        ],
        [
         "16",
         "16",
         "[' Amaretto', ' White creme de menthe']"
        ],
        [
         "17",
         "17",
         "[' Gin', ' Dry Vermouth', ' Apricot Flavored Brandy', ' Lemon Juice']"
        ],
        [
         "18",
         "18",
         "[' Juice of a Lime', ' Apricot Flavored Brandy', ' Dry Vermouth', ' Gin']"
        ],
        [
         "19",
         "19",
         "[' Sloe gin', ' Gin', ' Grenadine']"
        ],
        [
         "20",
         "20",
         "[' Bourbon whiskey', ' Green creme de menthe', ' Fresh Lime Juice', ' Simple Syrup', ' Fresh mint leaves', ' Soda water']"
        ],
        [
         "21",
         "21",
         "[' Sweet Vermouth', ' Dry Vermouth', ' Gin']"
        ],
        [
         "22",
         "22",
         "[' Gin', ' Dry Vermouth', ' Orange Juice']"
        ],
        [
         "23",
         "23",
         "[' Tanqueray gin', ' Margarita Mix', ' Triple Sec']"
        ],
        [
         "24",
         "24",
         "[' Amaretto', ' Fresh lemon juice', ' Simple Syrup', ' Orange half-wheel']"
        ],
        [
         "25",
         "25",
         "[' Gin', ' Sweet Vermouth', ' Green Chartreuse', ' Orange Bitters']"
        ],
        [
         "26",
         "26",
         "[' Gin', ' Triple Sec', ' Orange Juice']"
        ],
        [
         "27",
         "27",
         "[' Sweet Vermouth', ' Gin', ' Bitters']"
        ],
        [
         "28",
         "28",
         "[' Lemon Juice', ' Green Chartreuse', ' Gin']"
        ],
        [
         "29",
         "29",
         "[' Gin', ' Sweet Vermouth', ' Dry Vermouth']"
        ],
        [
         "30",
         "30",
         "[' Straight rye whiskey', ' Benedictine', ' Fresh lemon juice', ' Honey Syrup', ' Egg White', ' Angostura Bitters']"
        ],
        [
         "31",
         "31",
         "[' Gin', ' Orange Bitters', ' Triple Sec']"
        ],
        [
         "32",
         "32",
         "[' Gin', ' Dry Vermouth', ' Grenadine']"
        ],
        [
         "33",
         "33",
         "[' Gin', ' Dry Vermouth', ' Triple Sec']"
        ],
        [
         "34",
         "34",
         "[' Sweet Vermouth', ' Dry Vermouth', ' Gin', ' Bitters', ' Orange Juice']"
        ],
        [
         "35",
         "35",
         "[' Grenadine', ' Gin', ' Lemon Juice']"
        ],
        [
         "36",
         "36",
         "[' Amaretto', ' Fresh lemon juice', ' Simple Syrup', ' Soda water']"
        ],
        [
         "37",
         "37",
         "[' Green Chartreuse', ' Sweet Vermouth', ' Gin']"
        ],
        [
         "38",
         "38",
         "[' Irish Whiskey', ' Ginger ale or soda water', ' Lemon twist (optional)']"
        ],
        [
         "39",
         "39",
         "[' Brandy', ' orgeat or almond syrup', ' Angostura Bitters', ' Lemon twist']"
        ],
        [
         "40",
         "40",
         "[' Dry Vermouth', ' Gin', ' Grenadine']"
        ],
        [
         "41",
         "41",
         "[' Juice of a Lemon', ' Apricot Flavored Brandy', ' Gin']"
        ],
        [
         "42",
         "42",
         "[' Gin', ' Dry Vermouth', ' Orange Bitters']"
        ],
        [
         "43",
         "43",
         "[' Amaretto', ' half-and-half']"
        ],
        [
         "44",
         "44",
         "[' Orange', ' Pineapple ', ' Gin', ' Sweet Vermouth', ' Grenadine']"
        ],
        [
         "45",
         "45",
         "[' Sweet Vermouth', ' Dry Vermouth', ' Gin']"
        ],
        [
         "46",
         "46",
         "[' Irish Whiskey', ' Triple Sec', ' Anisette', ' Maraschino liqueur', ' Angostura Bitters', ' Green olive']"
        ],
        [
         "47",
         "47",
         "[' Absinthe', ' Simple Syrup', ' Orange Bitters']"
        ],
        [
         "48",
         "48",
         "[' Gin', ' Dry Vermouth', ' Sweet Vermouth', ' Bitters']"
        ],
        [
         "49",
         "49",
         "[' Gin', ' Anisette']"
        ]
       ],
       "shape": {
        "columns": 2,
        "rows": 990
       }
      },
      "text/html": [
       "<div>\n",
       "<style scoped>\n",
       "    .dataframe tbody tr th:only-of-type {\n",
       "        vertical-align: middle;\n",
       "    }\n",
       "\n",
       "    .dataframe tbody tr th {\n",
       "        vertical-align: top;\n",
       "    }\n",
       "\n",
       "    .dataframe thead th {\n",
       "        text-align: right;\n",
       "    }\n",
       "</style>\n",
       "<table border=\"1\" class=\"dataframe\">\n",
       "  <thead>\n",
       "    <tr style=\"text-align: right;\">\n",
       "      <th></th>\n",
       "      <th>id</th>\n",
       "      <th>ingredients</th>\n",
       "    </tr>\n",
       "  </thead>\n",
       "  <tbody>\n",
       "    <tr>\n",
       "      <th>0</th>\n",
       "      <td>0</td>\n",
       "      <td>[ Light Rum,  Passion Fruit Syrup,  Lemon Juic...</td>\n",
       "    </tr>\n",
       "    <tr>\n",
       "      <th>1</th>\n",
       "      <td>1</td>\n",
       "      <td>[ Light Rum,  Sweet Vermouth,  Juice of Orange...</td>\n",
       "    </tr>\n",
       "    <tr>\n",
       "      <th>2</th>\n",
       "      <td>2</td>\n",
       "      <td>[ Apple schnapps,  Cinnamon schnapps,  Apple s...</td>\n",
       "    </tr>\n",
       "    <tr>\n",
       "      <th>3</th>\n",
       "      <td>3</td>\n",
       "      <td>[ Juice of a Lime,  Powdered Sugar,  Light Rum]</td>\n",
       "    </tr>\n",
       "    <tr>\n",
       "      <th>4</th>\n",
       "      <td>4</td>\n",
       "      <td>[ Dark rum,  Cranberry Juice,  Pineapple Juice...</td>\n",
       "    </tr>\n",
       "    <tr>\n",
       "      <th>...</th>\n",
       "      <td>...</td>\n",
       "      <td>...</td>\n",
       "    </tr>\n",
       "    <tr>\n",
       "      <th>985</th>\n",
       "      <td>985</td>\n",
       "      <td>[Lime wedge, superfine sugar,  Gin,  Triple Se...</td>\n",
       "    </tr>\n",
       "    <tr>\n",
       "      <th>986</th>\n",
       "      <td>986</td>\n",
       "      <td>[ Juice of Orange,  Dry Vermouth,  Sweet Vermo...</td>\n",
       "    </tr>\n",
       "    <tr>\n",
       "      <th>987</th>\n",
       "      <td>987</td>\n",
       "      <td>[ Gin,  Dry Vermouth,  Triple Sec]</td>\n",
       "    </tr>\n",
       "    <tr>\n",
       "      <th>988</th>\n",
       "      <td>988</td>\n",
       "      <td>[ Gin,  Triple Sec,  Pineapple Juice]</td>\n",
       "    </tr>\n",
       "    <tr>\n",
       "      <th>989</th>\n",
       "      <td>989</td>\n",
       "      <td>[ Gin,  Grapefruit Juice,  Fresh Lime Juice,  ...</td>\n",
       "    </tr>\n",
       "  </tbody>\n",
       "</table>\n",
       "<p>990 rows × 2 columns</p>\n",
       "</div>"
      ],
      "text/plain": [
       "      id                                        ingredients\n",
       "0      0  [ Light Rum,  Passion Fruit Syrup,  Lemon Juic...\n",
       "1      1  [ Light Rum,  Sweet Vermouth,  Juice of Orange...\n",
       "2      2  [ Apple schnapps,  Cinnamon schnapps,  Apple s...\n",
       "3      3    [ Juice of a Lime,  Powdered Sugar,  Light Rum]\n",
       "4      4  [ Dark rum,  Cranberry Juice,  Pineapple Juice...\n",
       "..   ...                                                ...\n",
       "985  985  [Lime wedge, superfine sugar,  Gin,  Triple Se...\n",
       "986  986  [ Juice of Orange,  Dry Vermouth,  Sweet Vermo...\n",
       "987  987                 [ Gin,  Dry Vermouth,  Triple Sec]\n",
       "988  988              [ Gin,  Triple Sec,  Pineapple Juice]\n",
       "989  989  [ Gin,  Grapefruit Juice,  Fresh Lime Juice,  ...\n",
       "\n",
       "[990 rows x 2 columns]"
      ]
     },
     "execution_count": 38,
     "metadata": {},
     "output_type": "execute_result"
    }
   ],
   "source": [
    "columns_to_combine = ['ingredient-1', 'ingredient-2', 'ingredient-3', 'ingredient-4', 'ingredient-5', 'ingredient-6']\n",
    "dataset12 = pd.DataFrame()\n",
    "dataset12['id'] = data12.index\n",
    "dataset12['ingredients'] = data12[columns_to_combine].apply(lambda row: row.tolist(), axis = 1)\n",
    "dataset12['ingredients'] = dataset12['ingredients'].apply(remove_nans_from_list)\n",
    "dataset12"
   ]
  },
  {
   "cell_type": "markdown",
   "metadata": {},
   "source": [
    "### [Dataset 13 (set13-d)](https://www.kaggle.com/datasets/kashishparmar02/cocktailcrazedataset)\n",
    " - Non-Viable"
   ]
  },
  {
   "cell_type": "code",
   "execution_count": null,
   "metadata": {},
   "outputs": [
    {
     "data": {
      "application/vnd.microsoft.datawrangler.viewer.v0+json": {
       "columns": [
        {
         "name": "index",
         "rawType": "int64",
         "type": "integer"
        },
        {
         "name": "Unnamed: 0",
         "rawType": "int64",
         "type": "integer"
        },
        {
         "name": "idDrink",
         "rawType": "int64",
         "type": "integer"
        },
        {
         "name": "strDrink",
         "rawType": "object",
         "type": "string"
        },
        {
         "name": "strCategory",
         "rawType": "object",
         "type": "string"
        },
        {
         "name": "strAlcoholic",
         "rawType": "object",
         "type": "string"
        },
        {
         "name": "strGlass",
         "rawType": "object",
         "type": "string"
        },
        {
         "name": "strIngredient1",
         "rawType": "object",
         "type": "string"
        },
        {
         "name": "strIngredient2",
         "rawType": "object",
         "type": "string"
        },
        {
         "name": "initial",
         "rawType": "object",
         "type": "string"
        }
       ],
       "conversionMethod": "pd.DataFrame",
       "ref": "8600fb5b-3dec-4f1d-9a57-e39d5b8e1ef1",
       "rows": [
        [
         "0",
         "0",
         "17222",
         "A1",
         "Cocktail",
         "Alcoholic",
         "Cocktail glass",
         "Gin",
         "Grand Marnier",
         "A"
        ],
        [
         "1",
         "1",
         "13501",
         "ABC",
         "Shot",
         "Alcoholic",
         "Shot glass",
         "Amaretto",
         "Baileys irish cream",
         "A"
        ],
        [
         "2",
         "2",
         "17225",
         "Ace",
         "Cocktail",
         "Alcoholic",
         "Martini Glass",
         "Gin",
         "Grenadine",
         "A"
        ],
        [
         "3",
         "3",
         "14610",
         "ACID",
         "Shot",
         "Alcoholic",
         "Shot glass",
         "151 proof rum",
         "Wild Turkey",
         "A"
        ],
        [
         "4",
         "4",
         "17837",
         "Adam",
         "Ordinary Drink",
         "Alcoholic",
         "Cocktail glass",
         "Dark rum",
         "Lemon juice",
         "A"
        ],
        [
         "5",
         "5",
         "13938",
         "AT&T",
         "Ordinary Drink",
         "Alcoholic",
         "Highball Glass",
         "Absolut Vodka",
         "Gin",
         "A"
        ],
        [
         "6",
         "6",
         "17833",
         "A. J.",
         "Ordinary Drink",
         "Alcoholic",
         "Cocktail glass",
         "Applejack",
         "Grapefruit juice",
         "A"
        ],
        [
         "7",
         "7",
         "15266",
         "Avalon",
         "Ordinary Drink",
         "Alcoholic",
         "Highball glass",
         "Vodka",
         "Pisang Ambon",
         "A"
        ],
        [
         "8",
         "8",
         "15106",
         "Apello",
         "Other / Unknown",
         "Non alcoholic",
         "Collins Glass",
         "Orange juice",
         "Grapefruit juice",
         "A"
        ],
        [
         "9",
         "9",
         "17839",
         "Affair",
         "Ordinary Drink",
         "Alcoholic",
         "Highball glass",
         "Strawberry schnapps",
         "Orange juice",
         "A"
        ],
        [
         "10",
         "10",
         "17835",
         "Abilene",
         "Ordinary Drink",
         "Alcoholic",
         "Highball glass",
         "Dark rum",
         "Peach nectar",
         "A"
        ],
        [
         "11",
         "11",
         "11023",
         "Almeria",
         "Ordinary Drink",
         "Alcoholic",
         "Cocktail glass",
         "Dark rum",
         "Kahlua",
         "A"
        ],
        [
         "12",
         "12",
         "17228",
         "Addison",
         "Cocktail",
         "Alcoholic",
         "Martini Glass",
         "Gin",
         "Vermouth",
         "A"
        ],
        [
         "13",
         "13",
         "11046",
         "Applecar",
         "Ordinary Drink",
         "Alcoholic",
         "Cocktail glass",
         "Applejack",
         "Triple sec",
         "A"
        ],
        [
         "14",
         "14",
         "17836",
         "Acapulco",
         "Ordinary Drink",
         "Alcoholic",
         "Old-fashioned glass",
         "Light rum",
         "Triple sec",
         "A"
        ],
        [
         "15",
         "15",
         "17840",
         "Affinity",
         "Ordinary Drink",
         "Alcoholic",
         "Cocktail glass",
         "Scotch",
         "Sweet Vermouth",
         "A"
        ],
        [
         "16",
         "16",
         "17180",
         "Aviation",
         "Cocktail",
         "Alcoholic",
         "Cocktail glass",
         "Gin",
         "lemon juice",
         "A"
        ],
        [
         "17",
         "17",
         "15182",
         "After sex",
         "Ordinary Drink",
         "Alcoholic",
         "Highball glass",
         "Vodka",
         "Creme de Banane",
         "A"
        ],
        [
         "18",
         "18",
         "16311",
         "Applejack",
         "Cocktail",
         "Alcoholic",
         "Cocktail glass",
         "Jack Daniels",
         "Midori melon liqueur",
         "A"
        ],
        [
         "19",
         "19",
         "12560",
         "Afterglow",
         "Cocktail",
         "Non alcoholic",
         "Highball Glass",
         "Grenadine",
         "Orange juice",
         "A"
        ],
        [
         "20",
         "20",
         "13162",
         "Afternoon",
         "Coffee / Tea",
         "Alcoholic",
         "Collins Glass",
         "Kahlua",
         "Baileys irish cream",
         "A"
        ],
        [
         "21",
         "21",
         "11014",
         "Alexander",
         "Ordinary Drink",
         "Alcoholic",
         "Cocktail glass",
         "Gin",
         "Creme de Cacao",
         "A"
        ],
        [
         "22",
         "22",
         "12756",
         "Autodafé",
         "Ordinary Drink",
         "Alcoholic",
         "Highball glass",
         "Vodka",
         "Lime juice",
         "A"
        ],
        [
         "23",
         "23",
         "11021",
         "Allegheny",
         "Ordinary Drink",
         "Alcoholic",
         "Cocktail glass",
         "Dry Vermouth",
         "Bourbon",
         "A"
        ],
        [
         "24",
         "24",
         "15941",
         "Americano",
         "Ordinary Drink",
         "Alcoholic",
         "Collins glass",
         "Campari",
         "Sweet Vermouth",
         "A"
        ],
        [
         "25",
         "25",
         "15853",
         "B-52",
         "Shot",
         "Alcoholic",
         "Shot glass",
         "Baileys irish cream",
         "Grand Marnier",
         "B"
        ],
        [
         "26",
         "26",
         "13332",
         "B-53",
         "Shot",
         "Alcoholic",
         "Collins Glass",
         "Kahlua",
         "Sambuca",
         "B"
        ],
        [
         "27",
         "27",
         "17254",
         "Bijou",
         "Cocktail",
         "Alcoholic",
         "Cocktail glass",
         "Orange Bitters",
         "Green Chartreuse",
         "B"
        ],
        [
         "28",
         "28",
         "11149",
         "Boxcar",
         "Ordinary Drink",
         "Alcoholic",
         "Whiskey sour glass",
         "Gin",
         "Triple sec",
         "B"
        ],
        [
         "29",
         "29",
         "13222",
         "Big Red",
         "Shot",
         "Alcoholic",
         "Shot glass",
         "Irish cream",
         "Goldschlager",
         "B"
        ],
        [
         "30",
         "30",
         "17195",
         "Bellini",
         "Ordinary Drink",
         "Alcoholic",
         "Champagne Flute",
         "Champagne",
         "Peach schnapps",
         "B"
        ],
        [
         "31",
         "31",
         "17210",
         "Bramble",
         "Ordinary Drink",
         "Alcoholic",
         "Old-Fashioned glass",
         "Gin",
         "lemon juice",
         "B"
        ],
        [
         "32",
         "32",
         "11060",
         "Balmoral",
         "Ordinary Drink",
         "Alcoholic",
         "Cocktail glass",
         "Scotch",
         "Sweet Vermouth",
         "B"
        ],
        [
         "33",
         "33",
         "11120",
         "Bluebird",
         "Ordinary Drink",
         "Alcoholic",
         "Cocktail glass",
         "Gin",
         "Triple sec",
         "B"
        ],
        [
         "34",
         "34",
         "178310",
         "Brooklyn",
         "Cocktail",
         "Alcoholic",
         "Cocktail glass",
         "Rye Whiskey",
         "Dry Vermouth",
         "B"
        ],
        [
         "35",
         "35",
         "12572",
         "Bora Bora",
         "Cocktail",
         "Non alcoholic",
         "Highball glass",
         "Pineapple juice",
         "Passion fruit juice",
         "B"
        ],
        [
         "36",
         "36",
         "11124",
         "Boomerang",
         "Ordinary Drink",
         "Alcoholic",
         "Cocktail glass",
         "Gin",
         "Dry Vermouth",
         "B"
        ],
        [
         "37",
         "37",
         "17209",
         "Barracuda",
         "Ordinary Drink",
         "Alcoholic",
         "Margarita glass",
         "Rum",
         "Galliano",
         "B"
        ],
        [
         "38",
         "38",
         "17825",
         "Brigadier",
         "Cocktail",
         "Alcoholic",
         "Coupe Glass",
         "Hot Chocolate",
         "Green Chartreuse",
         "B"
        ],
        [
         "39",
         "39",
         "178311",
         "Broadside",
         "Cocktail",
         "Alcoholic",
         "Highball glass",
         "151 proof rum",
         "Scotch",
         "B"
        ],
        [
         "40",
         "40",
         "17035",
         "Buccaneer",
         "Beer",
         "Alcoholic",
         "Beer pilsner",
         "Corona",
         "Bacardi Limon",
         "B"
        ],
        [
         "41",
         "41",
         "17120",
         "Brain Fart",
         "Punch / Party Drink",
         "Alcoholic",
         "Punch bowl",
         "Everclear",
         "Vodka",
         "B"
        ],
        [
         "42",
         "42",
         "11106",
         "Blackthorn",
         "Ordinary Drink",
         "Alcoholic",
         "Cocktail glass",
         "Sweet Vermouth",
         "Sloe gin",
         "B"
        ],
        [
         "43",
         "43",
         "13395",
         "Bob Marley",
         "Shot",
         "Alcoholic",
         "Shot glass",
         "Midori melon liqueur",
         "Jägermeister",
         "B"
        ],
        [
         "44",
         "44",
         "16986",
         "Bible Belt",
         "Other / Unknown",
         "Alcoholic",
         "Highball glass",
         "Southern Comfort",
         "Triple sec",
         "B"
        ],
        [
         "45",
         "45",
         "14730",
         "Bubble Gum",
         "Shot",
         "Alcoholic",
         "Shot glass",
         "Vodka",
         "Banana liqueur",
         "B"
        ],
        [
         "46",
         "46",
         "14538",
         "Bumble Bee",
         "Shot",
         "Alcoholic",
         "Shot glass",
         "Baileys irish cream",
         "Kahlua",
         "B"
        ],
        [
         "47",
         "47",
         "15511",
         "Baby Eskimo",
         "Shake",
         "Alcoholic",
         "Collins Glass",
         "Kahlua",
         "Milk",
         "B"
        ],
        [
         "48",
         "48",
         "11129",
         "Boston Sour",
         "Ordinary Drink",
         "Alcoholic",
         "Whiskey sour glass",
         "Blended whiskey",
         "Lemon",
         "B"
        ],
        [
         "49",
         "49",
         "17267",
         "Bahama Mama",
         "Cocktail",
         "Alcoholic",
         "Highball glass",
         "Rum",
         "Dark Rum",
         "B"
        ]
       ],
       "shape": {
        "columns": 9,
        "rows": 426
       }
      },
      "text/html": [
       "<div>\n",
       "<style scoped>\n",
       "    .dataframe tbody tr th:only-of-type {\n",
       "        vertical-align: middle;\n",
       "    }\n",
       "\n",
       "    .dataframe tbody tr th {\n",
       "        vertical-align: top;\n",
       "    }\n",
       "\n",
       "    .dataframe thead th {\n",
       "        text-align: right;\n",
       "    }\n",
       "</style>\n",
       "<table border=\"1\" class=\"dataframe\">\n",
       "  <thead>\n",
       "    <tr style=\"text-align: right;\">\n",
       "      <th></th>\n",
       "      <th>Unnamed: 0</th>\n",
       "      <th>idDrink</th>\n",
       "      <th>strDrink</th>\n",
       "      <th>strCategory</th>\n",
       "      <th>strAlcoholic</th>\n",
       "      <th>strGlass</th>\n",
       "      <th>strIngredient1</th>\n",
       "      <th>strIngredient2</th>\n",
       "      <th>initial</th>\n",
       "    </tr>\n",
       "  </thead>\n",
       "  <tbody>\n",
       "    <tr>\n",
       "      <th>0</th>\n",
       "      <td>0</td>\n",
       "      <td>17222</td>\n",
       "      <td>A1</td>\n",
       "      <td>Cocktail</td>\n",
       "      <td>Alcoholic</td>\n",
       "      <td>Cocktail glass</td>\n",
       "      <td>Gin</td>\n",
       "      <td>Grand Marnier</td>\n",
       "      <td>A</td>\n",
       "    </tr>\n",
       "    <tr>\n",
       "      <th>1</th>\n",
       "      <td>1</td>\n",
       "      <td>13501</td>\n",
       "      <td>ABC</td>\n",
       "      <td>Shot</td>\n",
       "      <td>Alcoholic</td>\n",
       "      <td>Shot glass</td>\n",
       "      <td>Amaretto</td>\n",
       "      <td>Baileys irish cream</td>\n",
       "      <td>A</td>\n",
       "    </tr>\n",
       "    <tr>\n",
       "      <th>2</th>\n",
       "      <td>2</td>\n",
       "      <td>17225</td>\n",
       "      <td>Ace</td>\n",
       "      <td>Cocktail</td>\n",
       "      <td>Alcoholic</td>\n",
       "      <td>Martini Glass</td>\n",
       "      <td>Gin</td>\n",
       "      <td>Grenadine</td>\n",
       "      <td>A</td>\n",
       "    </tr>\n",
       "    <tr>\n",
       "      <th>3</th>\n",
       "      <td>3</td>\n",
       "      <td>14610</td>\n",
       "      <td>ACID</td>\n",
       "      <td>Shot</td>\n",
       "      <td>Alcoholic</td>\n",
       "      <td>Shot glass</td>\n",
       "      <td>151 proof rum</td>\n",
       "      <td>Wild Turkey</td>\n",
       "      <td>A</td>\n",
       "    </tr>\n",
       "    <tr>\n",
       "      <th>4</th>\n",
       "      <td>4</td>\n",
       "      <td>17837</td>\n",
       "      <td>Adam</td>\n",
       "      <td>Ordinary Drink</td>\n",
       "      <td>Alcoholic</td>\n",
       "      <td>Cocktail glass</td>\n",
       "      <td>Dark rum</td>\n",
       "      <td>Lemon juice</td>\n",
       "      <td>A</td>\n",
       "    </tr>\n",
       "    <tr>\n",
       "      <th>...</th>\n",
       "      <td>...</td>\n",
       "      <td>...</td>\n",
       "      <td>...</td>\n",
       "      <td>...</td>\n",
       "      <td>...</td>\n",
       "      <td>...</td>\n",
       "      <td>...</td>\n",
       "      <td>...</td>\n",
       "      <td>...</td>\n",
       "    </tr>\n",
       "    <tr>\n",
       "      <th>421</th>\n",
       "      <td>421</td>\n",
       "      <td>17027</td>\n",
       "      <td>Zima Blaster</td>\n",
       "      <td>Ordinary Drink</td>\n",
       "      <td>Alcoholic</td>\n",
       "      <td>Hurricane glass</td>\n",
       "      <td>Zima</td>\n",
       "      <td>Chambord raspberry liqueur</td>\n",
       "      <td>Z</td>\n",
       "    </tr>\n",
       "    <tr>\n",
       "      <th>422</th>\n",
       "      <td>422</td>\n",
       "      <td>14594</td>\n",
       "      <td>Zizi Coin-coin</td>\n",
       "      <td>Punch / Party Drink</td>\n",
       "      <td>Alcoholic</td>\n",
       "      <td>Margarita/Coupette glass</td>\n",
       "      <td>Cointreau</td>\n",
       "      <td>Lemon juice</td>\n",
       "      <td>Z</td>\n",
       "    </tr>\n",
       "    <tr>\n",
       "      <th>423</th>\n",
       "      <td>423</td>\n",
       "      <td>15801</td>\n",
       "      <td>Zimadori Zinger</td>\n",
       "      <td>Punch / Party Drink</td>\n",
       "      <td>Alcoholic</td>\n",
       "      <td>Collins glass</td>\n",
       "      <td>Midori melon liqueur</td>\n",
       "      <td>Zima</td>\n",
       "      <td>Z</td>\n",
       "    </tr>\n",
       "    <tr>\n",
       "      <th>424</th>\n",
       "      <td>424</td>\n",
       "      <td>14065</td>\n",
       "      <td>Zippy's Revenge</td>\n",
       "      <td>Cocktail</td>\n",
       "      <td>Alcoholic</td>\n",
       "      <td>Old-fashioned glass</td>\n",
       "      <td>Amaretto</td>\n",
       "      <td>Rum</td>\n",
       "      <td>Z</td>\n",
       "    </tr>\n",
       "    <tr>\n",
       "      <th>425</th>\n",
       "      <td>425</td>\n",
       "      <td>14157</td>\n",
       "      <td>Ziemes Martini Apfelsaft</td>\n",
       "      <td>Ordinary Drink</td>\n",
       "      <td>Alcoholic</td>\n",
       "      <td>Collins Glass</td>\n",
       "      <td>Vermouth</td>\n",
       "      <td>Apple juice</td>\n",
       "      <td>Z</td>\n",
       "    </tr>\n",
       "  </tbody>\n",
       "</table>\n",
       "<p>426 rows × 9 columns</p>\n",
       "</div>"
      ],
      "text/plain": [
       "     Unnamed: 0  idDrink                  strDrink          strCategory  \\\n",
       "0             0    17222                        A1             Cocktail   \n",
       "1             1    13501                       ABC                 Shot   \n",
       "2             2    17225                       Ace             Cocktail   \n",
       "3             3    14610                      ACID                 Shot   \n",
       "4             4    17837                      Adam       Ordinary Drink   \n",
       "..          ...      ...                       ...                  ...   \n",
       "421         421    17027              Zima Blaster       Ordinary Drink   \n",
       "422         422    14594            Zizi Coin-coin  Punch / Party Drink   \n",
       "423         423    15801           Zimadori Zinger  Punch / Party Drink   \n",
       "424         424    14065           Zippy's Revenge             Cocktail   \n",
       "425         425    14157  Ziemes Martini Apfelsaft       Ordinary Drink   \n",
       "\n",
       "    strAlcoholic                  strGlass        strIngredient1  \\\n",
       "0      Alcoholic            Cocktail glass                   Gin   \n",
       "1      Alcoholic                Shot glass              Amaretto   \n",
       "2      Alcoholic             Martini Glass                   Gin   \n",
       "3      Alcoholic                Shot glass         151 proof rum   \n",
       "4      Alcoholic            Cocktail glass              Dark rum   \n",
       "..           ...                       ...                   ...   \n",
       "421    Alcoholic           Hurricane glass                  Zima   \n",
       "422    Alcoholic  Margarita/Coupette glass             Cointreau   \n",
       "423    Alcoholic             Collins glass  Midori melon liqueur   \n",
       "424    Alcoholic       Old-fashioned glass              Amaretto   \n",
       "425    Alcoholic             Collins Glass              Vermouth   \n",
       "\n",
       "                 strIngredient2 initial  \n",
       "0                 Grand Marnier       A  \n",
       "1           Baileys irish cream       A  \n",
       "2                     Grenadine       A  \n",
       "3                   Wild Turkey       A  \n",
       "4                   Lemon juice       A  \n",
       "..                          ...     ...  \n",
       "421  Chambord raspberry liqueur       Z  \n",
       "422                 Lemon juice       Z  \n",
       "423                        Zima       Z  \n",
       "424                         Rum       Z  \n",
       "425                 Apple juice       Z  \n",
       "\n",
       "[426 rows x 9 columns]"
      ]
     },
     "execution_count": 39,
     "metadata": {},
     "output_type": "execute_result"
    }
   ],
   "source": [
    "data13 = pd.read_csv(f'{file_path}set13-d/data (1).csv')\n",
    "data13"
   ]
  },
  {
   "cell_type": "markdown",
   "metadata": {},
   "source": [
    " - Dataset 13 is incomplete with only 2 ingredients per drink it does not have full recipes."
   ]
  },
  {
   "cell_type": "markdown",
   "metadata": {},
   "source": [
    "### [Dataset 14 (set14-d)](https://www.kaggle.com/datasets/svetlanagruzdeva/cocktails-data)\n",
    " - Viable"
   ]
  },
  {
   "cell_type": "code",
   "execution_count": null,
   "metadata": {},
   "outputs": [
    {
     "data": {
      "application/vnd.microsoft.datawrangler.viewer.v0+json": {
       "columns": [
        {
         "name": "index",
         "rawType": "int64",
         "type": "integer"
        },
        {
         "name": "Unnamed: 0",
         "rawType": "int64",
         "type": "integer"
        },
        {
         "name": "strDrink",
         "rawType": "object",
         "type": "string"
        },
        {
         "name": "strCategory",
         "rawType": "object",
         "type": "string"
        },
        {
         "name": "strGlass",
         "rawType": "object",
         "type": "string"
        },
        {
         "name": "strIngredients",
         "rawType": "object",
         "type": "string"
        },
        {
         "name": "Alc_type",
         "rawType": "object",
         "type": "unknown"
        },
        {
         "name": "Basic_taste",
         "rawType": "object",
         "type": "unknown"
        },
        {
         "name": "strInstructions",
         "rawType": "object",
         "type": "string"
        },
        {
         "name": "strMeasures",
         "rawType": "object",
         "type": "unknown"
        },
        {
         "name": "Value_ml",
         "rawType": "float64",
         "type": "float"
        },
        {
         "name": "Value_gr",
         "rawType": "float64",
         "type": "float"
        },
        {
         "name": "Garnish_amount",
         "rawType": "object",
         "type": "unknown"
        },
        {
         "name": "Garnish_type",
         "rawType": "object",
         "type": "unknown"
        }
       ],
       "conversionMethod": "pd.DataFrame",
       "ref": "e94e3d5e-3ed0-4c3e-8288-3c6f137c4ff5",
       "rows": [
        [
         "0",
         "0",
         "'57 Chevy with a White License Plate",
         "Cocktail",
         "Highball glass",
         "Creme De Cacao White",
         "Creamy Liqueur",
         null,
         "1. Fill a rocks glass with ice 2.add white creme de cacao and vodka 3.stir",
         "1 oz white",
         "30.0",
         null,
         null,
         null
        ],
        [
         "1",
         "1",
         "'57 Chevy with a White License Plate",
         "Cocktail",
         "Highball glass",
         "Vodka",
         "Vodka",
         null,
         "1. Fill a rocks glass with ice 2.add white creme de cacao and vodka 3.stir",
         "1 oz",
         "30.0",
         null,
         null,
         null
        ],
        [
         "2",
         "2",
         "1-900-FUK-MEUP",
         "Shot",
         "Old-fashioned glass",
         "Grand Marnier",
         "Triple Sec",
         null,
         "Shake ingredients in a mixing tin filled with ice cubes. Strain into a rocks glass.",
         "1/4 oz",
         "7.5",
         null,
         null,
         null
        ],
        [
         "3",
         "3",
         "1-900-FUK-MEUP",
         "Shot",
         "Old-fashioned glass",
         "Midori Melon Liqueur",
         "Sweet Liqueur",
         null,
         "Shake ingredients in a mixing tin filled with ice cubes. Strain into a rocks glass.",
         "1/4 oz",
         "7.5",
         null,
         null,
         null
        ],
        [
         "4",
         "4",
         "1-900-FUK-MEUP",
         "Shot",
         "Old-fashioned glass",
         "Malibu Rum",
         "Rum",
         null,
         "Shake ingredients in a mixing tin filled with ice cubes. Strain into a rocks glass.",
         "1/4 oz",
         "7.5",
         null,
         null,
         null
        ],
        [
         "5",
         "5",
         "1-900-FUK-MEUP",
         "Shot",
         "Old-fashioned glass",
         "Amaretto",
         "Sweet Liqueur",
         null,
         "Shake ingredients in a mixing tin filled with ice cubes. Strain into a rocks glass.",
         "1/4 oz",
         "7.5",
         null,
         null,
         null
        ],
        [
         "6",
         "6",
         "1-900-FUK-MEUP",
         "Shot",
         "Old-fashioned glass",
         "Cranberry Juice",
         null,
         "sour",
         "Shake ingredients in a mixing tin filled with ice cubes. Strain into a rocks glass.",
         "1/2 oz",
         "15.0",
         null,
         null,
         null
        ],
        [
         "7",
         "7",
         "1-900-FUK-MEUP",
         "Shot",
         "Old-fashioned glass",
         "Pineapple Juice",
         null,
         "sweet",
         "Shake ingredients in a mixing tin filled with ice cubes. Strain into a rocks glass.",
         "1/4 oz",
         "7.5",
         null,
         null,
         null
        ],
        [
         "8",
         "8",
         "1-900-FUK-MEUP",
         "Shot",
         "Old-fashioned glass",
         "Chambord Raspberry Liqueur",
         "Sweet Liqueur",
         null,
         "Shake ingredients in a mixing tin filled with ice cubes. Strain into a rocks glass.",
         "1/4 oz",
         "7.5",
         null,
         null,
         null
        ],
        [
         "9",
         "9",
         "1-900-FUK-MEUP",
         "Shot",
         "Old-fashioned glass",
         "Absolut Kurant",
         "Vodka",
         null,
         "Shake ingredients in a mixing tin filled with ice cubes. Strain into a rocks glass.",
         "1/2 oz",
         "15.0",
         null,
         null,
         null
        ],
        [
         "10",
         "10",
         "110 in the shade",
         "Beer",
         "Beer Glass",
         "Tequila",
         "Tequila",
         null,
         "Drop shooter in glass. Fill with beer",
         "1.5 oz",
         "45.0",
         null,
         null,
         null
        ],
        [
         "11",
         "11",
         "110 in the shade",
         "Beer",
         "Beer Glass",
         "Lager",
         "Beer",
         null,
         "Drop shooter in glass. Fill with beer",
         "16 oz",
         "480.0",
         null,
         null,
         null
        ],
        [
         "12",
         "12",
         "151 Florida Bushwacker",
         "Milk / Float / Shake",
         "Beer mug",
         "Dark Creme De Cacao",
         "Creamy Liqueur",
         null,
         "Combine all ingredients. Blend until smooth. Garnish with chocolate shavings if desired.",
         "1 oz",
         "30.0",
         null,
         null,
         null
        ],
        [
         "13",
         "13",
         "151 Florida Bushwacker",
         "Milk / Float / Shake",
         "Beer mug",
         "Coconut Liqueur",
         "Sweet Liqueur",
         null,
         "Combine all ingredients. Blend until smooth. Garnish with chocolate shavings if desired.",
         "1 oz",
         "30.0",
         null,
         null,
         null
        ],
        [
         "14",
         "14",
         "151 Florida Bushwacker",
         "Milk / Float / Shake",
         "Beer mug",
         "Light Rum",
         "Rum",
         null,
         "Combine all ingredients. Blend until smooth. Garnish with chocolate shavings if desired.",
         "1/2 oz",
         "15.0",
         null,
         null,
         null
        ],
        [
         "15",
         "15",
         "151 Florida Bushwacker",
         "Milk / Float / Shake",
         "Beer mug",
         "Milk",
         null,
         "cream",
         "Combine all ingredients. Blend until smooth. Garnish with chocolate shavings if desired.",
         "3 oz",
         "90.0",
         null,
         null,
         null
        ],
        [
         "16",
         "16",
         "151 Florida Bushwacker",
         "Milk / Float / Shake",
         "Beer mug",
         "Cointreau",
         "Triple Sec",
         null,
         "Combine all ingredients. Blend until smooth. Garnish with chocolate shavings if desired.",
         "1 oz",
         "30.0",
         null,
         null,
         null
        ],
        [
         "17",
         "17",
         "151 Florida Bushwacker",
         "Milk / Float / Shake",
         "Beer mug",
         "Malibu Rum",
         "Rum",
         null,
         "Combine all ingredients. Blend until smooth. Garnish with chocolate shavings if desired.",
         "1/2 oz",
         "15.0",
         null,
         null,
         null
        ],
        [
         "18",
         "18",
         "151 Florida Bushwacker",
         "Milk / Float / Shake",
         "Beer mug",
         "Vanilla Ice-Cream",
         null,
         "cream",
         "Combine all ingredients. Blend until smooth. Garnish with chocolate shavings if desired.",
         "1 cup",
         null,
         "128.0",
         null,
         null
        ],
        [
         "19",
         "19",
         "151 Florida Bushwacker",
         "Milk / Float / Shake",
         "Beer mug",
         "151 Proof Rum",
         "Rum",
         null,
         "Combine all ingredients. Blend until smooth. Garnish with chocolate shavings if desired.",
         "1/2 oz bacardi",
         "15.0",
         null,
         null,
         null
        ],
        [
         "20",
         "20",
         "155 Belmont",
         "Cocktail",
         "White wine glass",
         "Light Rum",
         "Rum",
         null,
         "Blend with ice. Serve in a wine glass. Garnish with carrot.",
         "2 shots",
         "50.0",
         null,
         null,
         null
        ],
        [
         "21",
         "21",
         "155 Belmont",
         "Cocktail",
         "White wine glass",
         "Orange Juice",
         null,
         "sweet",
         "Blend with ice. Serve in a wine glass. Garnish with carrot.",
         "1 shot",
         "25.0",
         null,
         null,
         null
        ],
        [
         "22",
         "22",
         "155 Belmont",
         "Cocktail",
         "White wine glass",
         "Vodka",
         "Vodka",
         null,
         "Blend with ice. Serve in a wine glass. Garnish with carrot.",
         "1 shot",
         "25.0",
         null,
         null,
         null
        ],
        [
         "23",
         "23",
         "155 Belmont",
         "Cocktail",
         "White wine glass",
         "Dark Rum",
         "Rum",
         null,
         "Blend with ice. Serve in a wine glass. Garnish with carrot.",
         "1 shot",
         "25.0",
         null,
         null,
         null
        ],
        [
         "24",
         "24",
         "24k nightmare",
         "Shot",
         "Shot glass",
         "Jägermeister",
         "Bitters",
         null,
         "Add over ice,shake and pour.",
         "1/2 oz",
         "15.0",
         null,
         null,
         null
        ],
        [
         "25",
         "25",
         "24k nightmare",
         "Shot",
         "Shot glass",
         "Goldschlager",
         "Schnapps",
         null,
         "Add over ice,shake and pour.",
         "1/2 oz",
         "15.0",
         null,
         null,
         null
        ],
        [
         "26",
         "26",
         "24k nightmare",
         "Shot",
         "Shot glass",
         "151 Proof Rum",
         "Rum",
         null,
         "Add over ice,shake and pour.",
         "1/2 oz bacardi",
         "15.0",
         null,
         null,
         null
        ],
        [
         "27",
         "27",
         "24k nightmare",
         "Shot",
         "Shot glass",
         "Rumple Minze",
         "Rum",
         null,
         "Add over ice,shake and pour.",
         "1/2 oz",
         "15.0",
         null,
         null,
         null
        ],
        [
         "28",
         "28",
         "252",
         "Shot",
         "Shot glass",
         "Wild Turkey",
         "Whisky",
         null,
         "Add both ingredients to shot glass, shoot, and get drunk quick",
         "1/2 shot",
         "12.5",
         null,
         null,
         null
        ],
        [
         "29",
         "29",
         "252",
         "Shot",
         "Shot glass",
         "151 Proof Rum",
         "Rum",
         null,
         "Add both ingredients to shot glass, shoot, and get drunk quick",
         "1/2 shot bacardi",
         "12.5",
         null,
         null,
         null
        ],
        [
         "30",
         "30",
         "3 Wise Men",
         "Shot",
         "Collins glass",
         "Jim Beam",
         "Whisky",
         null,
         "put them them in a glass... and slam it to tha head.",
         "1/3 oz",
         "10.0",
         null,
         null,
         null
        ],
        [
         "31",
         "31",
         "3 Wise Men",
         "Shot",
         "Collins glass",
         "Johnnie Walker",
         "Whisky",
         null,
         "put them them in a glass... and slam it to tha head.",
         "1/3 oz",
         "10.0",
         null,
         null,
         null
        ],
        [
         "32",
         "32",
         "3 Wise Men",
         "Shot",
         "Collins glass",
         "Jack Daniels",
         "Whisky",
         null,
         "put them them in a glass... and slam it to tha head.",
         "1/3 oz",
         "10.0",
         null,
         null,
         null
        ],
        [
         "33",
         "33",
         "3-Mile Long Island Iced Tea",
         "Ordinary Drink",
         "Collins Glass",
         "Light Rum",
         "Rum",
         null,
         "Fill 14oz glass with ice and alcohol. Fill 2/3 glass with cola and remainder with sweet & sour. Top with dash of bitters and lemon wedge.",
         "1/2 oz",
         "15.0",
         null,
         null,
         null
        ],
        [
         "34",
         "34",
         "3-Mile Long Island Iced Tea",
         "Ordinary Drink",
         "Collins Glass",
         "Vodka",
         "Vodka",
         null,
         "Fill 14oz glass with ice and alcohol. Fill 2/3 glass with cola and remainder with sweet & sour. Top with dash of bitters and lemon wedge.",
         "1/2 oz",
         "15.0",
         null,
         null,
         null
        ],
        [
         "35",
         "35",
         "3-Mile Long Island Iced Tea",
         "Ordinary Drink",
         "Collins Glass",
         "Coca-Cola",
         null,
         "sweet",
         "Fill 14oz glass with ice and alcohol. Fill 2/3 glass with cola and remainder with sweet & sour. Top with dash of bitters and lemon wedge.",
         null,
         "200.0",
         null,
         null,
         null
        ],
        [
         "36",
         "36",
         "3-Mile Long Island Iced Tea",
         "Ordinary Drink",
         "Collins Glass",
         "Sweet And Sour",
         null,
         "sweet",
         "Fill 14oz glass with ice and alcohol. Fill 2/3 glass with cola and remainder with sweet & sour. Top with dash of bitters and lemon wedge.",
         "1-2 dash",
         "30.0",
         null,
         null,
         null
        ],
        [
         "37",
         "37",
         "3-Mile Long Island Iced Tea",
         "Ordinary Drink",
         "Collins Glass",
         "Triple Sec",
         "Triple Sec",
         null,
         "Fill 14oz glass with ice and alcohol. Fill 2/3 glass with cola and remainder with sweet & sour. Top with dash of bitters and lemon wedge.",
         "1/2 oz",
         "15.0",
         null,
         null,
         null
        ],
        [
         "38",
         "38",
         "3-Mile Long Island Iced Tea",
         "Ordinary Drink",
         "Collins Glass",
         "Bitters",
         "Bitters",
         null,
         "Fill 14oz glass with ice and alcohol. Fill 2/3 glass with cola and remainder with sweet & sour. Top with dash of bitters and lemon wedge.",
         "1 wedge",
         "1.0",
         null,
         null,
         null
        ],
        [
         "39",
         "39",
         "3-Mile Long Island Iced Tea",
         "Ordinary Drink",
         "Collins Glass",
         "Lemon",
         null,
         "sour",
         "Fill 14oz glass with ice and alcohol. Fill 2/3 glass with cola and remainder with sweet & sour. Top with dash of bitters and lemon wedge.",
         null,
         null,
         null,
         "1",
         "wedge"
        ],
        [
         "40",
         "40",
         "3-Mile Long Island Iced Tea",
         "Ordinary Drink",
         "Collins Glass",
         "Gin",
         "Gin",
         null,
         "Fill 14oz glass with ice and alcohol. Fill 2/3 glass with cola and remainder with sweet & sour. Top with dash of bitters and lemon wedge.",
         "1/2 oz",
         "15.0",
         null,
         null,
         null
        ],
        [
         "41",
         "41",
         "3-Mile Long Island Iced Tea",
         "Ordinary Drink",
         "Collins Glass",
         "Tequila",
         "Tequila",
         null,
         "Fill 14oz glass with ice and alcohol. Fill 2/3 glass with cola and remainder with sweet & sour. Top with dash of bitters and lemon wedge.",
         "1/2 oz",
         "15.0",
         null,
         null,
         null
        ],
        [
         "42",
         "42",
         "410 Gone",
         "Ordinary Drink",
         "Collins Glass",
         "Coca-Cola",
         null,
         "sweet",
         "Pour 2oz Vodka into a low ball glass, top up with Coke.",
         null,
         null,
         null,
         null,
         null
        ],
        [
         "43",
         "43",
         "410 Gone",
         "Ordinary Drink",
         "Collins Glass",
         "Peach Vodka",
         "Vodka",
         null,
         "Pour 2oz Vodka into a low ball glass, top up with Coke.",
         "2-3 oz",
         "75.0",
         null,
         null,
         null
        ],
        [
         "44",
         "44",
         "50/50",
         "Ordinary Drink",
         "Collins Glass",
         "Orange Juice",
         null,
         "sweet",
         "fill glass with crushed ice. Add vodka. Add a splash of grand-marnier. Fill with o.j.",
         "fill with",
         null,
         null,
         "0",
         "top up"
        ],
        [
         "45",
         "45",
         "50/50",
         "Ordinary Drink",
         "Collins Glass",
         "Vanilla Vodka",
         "Vodka",
         null,
         "fill glass with crushed ice. Add vodka. Add a splash of grand-marnier. Fill with o.j.",
         "2 1/2 oz",
         "75.0",
         null,
         null,
         null
        ],
        [
         "46",
         "46",
         "50/50",
         "Ordinary Drink",
         "Collins Glass",
         "Grand Marnier",
         "Triple Sec",
         null,
         "fill glass with crushed ice. Add vodka. Add a splash of grand-marnier. Fill with o.j.",
         "1 splash",
         "6.0",
         null,
         null,
         null
        ],
        [
         "47",
         "47",
         "501 Blue",
         "Ordinary Drink",
         "Collins Glass",
         "Sour Mix",
         null,
         "sour",
         "Mix equal amounts into a glass with ice.",
         null,
         null,
         null,
         null,
         null
        ],
        [
         "48",
         "48",
         "501 Blue",
         "Ordinary Drink",
         "Collins Glass",
         "Blueberry Schnapps",
         "Schnapps",
         null,
         "Mix equal amounts into a glass with ice.",
         null,
         null,
         null,
         null,
         null
        ],
        [
         "49",
         "49",
         "501 Blue",
         "Ordinary Drink",
         "Collins Glass",
         "Blue Curacao",
         "Triple Sec",
         null,
         "Mix equal amounts into a glass with ice.",
         null,
         null,
         null,
         null,
         null
        ]
       ],
       "shape": {
        "columns": 13,
        "rows": 1781
       }
      },
      "text/html": [
       "<div>\n",
       "<style scoped>\n",
       "    .dataframe tbody tr th:only-of-type {\n",
       "        vertical-align: middle;\n",
       "    }\n",
       "\n",
       "    .dataframe tbody tr th {\n",
       "        vertical-align: top;\n",
       "    }\n",
       "\n",
       "    .dataframe thead th {\n",
       "        text-align: right;\n",
       "    }\n",
       "</style>\n",
       "<table border=\"1\" class=\"dataframe\">\n",
       "  <thead>\n",
       "    <tr style=\"text-align: right;\">\n",
       "      <th></th>\n",
       "      <th>Unnamed: 0</th>\n",
       "      <th>strDrink</th>\n",
       "      <th>strCategory</th>\n",
       "      <th>strGlass</th>\n",
       "      <th>strIngredients</th>\n",
       "      <th>Alc_type</th>\n",
       "      <th>Basic_taste</th>\n",
       "      <th>strInstructions</th>\n",
       "      <th>strMeasures</th>\n",
       "      <th>Value_ml</th>\n",
       "      <th>Value_gr</th>\n",
       "      <th>Garnish_amount</th>\n",
       "      <th>Garnish_type</th>\n",
       "    </tr>\n",
       "  </thead>\n",
       "  <tbody>\n",
       "    <tr>\n",
       "      <th>0</th>\n",
       "      <td>0</td>\n",
       "      <td>'57 Chevy with a White License Plate</td>\n",
       "      <td>Cocktail</td>\n",
       "      <td>Highball glass</td>\n",
       "      <td>Creme De Cacao White</td>\n",
       "      <td>Creamy Liqueur</td>\n",
       "      <td>NaN</td>\n",
       "      <td>1. Fill a rocks glass with ice 2.add white cre...</td>\n",
       "      <td>1 oz white</td>\n",
       "      <td>30.0</td>\n",
       "      <td>NaN</td>\n",
       "      <td>NaN</td>\n",
       "      <td>NaN</td>\n",
       "    </tr>\n",
       "    <tr>\n",
       "      <th>1</th>\n",
       "      <td>1</td>\n",
       "      <td>'57 Chevy with a White License Plate</td>\n",
       "      <td>Cocktail</td>\n",
       "      <td>Highball glass</td>\n",
       "      <td>Vodka</td>\n",
       "      <td>Vodka</td>\n",
       "      <td>NaN</td>\n",
       "      <td>1. Fill a rocks glass with ice 2.add white cre...</td>\n",
       "      <td>1 oz</td>\n",
       "      <td>30.0</td>\n",
       "      <td>NaN</td>\n",
       "      <td>NaN</td>\n",
       "      <td>NaN</td>\n",
       "    </tr>\n",
       "    <tr>\n",
       "      <th>2</th>\n",
       "      <td>2</td>\n",
       "      <td>1-900-FUK-MEUP</td>\n",
       "      <td>Shot</td>\n",
       "      <td>Old-fashioned glass</td>\n",
       "      <td>Grand Marnier</td>\n",
       "      <td>Triple Sec</td>\n",
       "      <td>NaN</td>\n",
       "      <td>Shake ingredients in a mixing tin filled with ...</td>\n",
       "      <td>1/4 oz</td>\n",
       "      <td>7.5</td>\n",
       "      <td>NaN</td>\n",
       "      <td>NaN</td>\n",
       "      <td>NaN</td>\n",
       "    </tr>\n",
       "    <tr>\n",
       "      <th>3</th>\n",
       "      <td>3</td>\n",
       "      <td>1-900-FUK-MEUP</td>\n",
       "      <td>Shot</td>\n",
       "      <td>Old-fashioned glass</td>\n",
       "      <td>Midori Melon Liqueur</td>\n",
       "      <td>Sweet Liqueur</td>\n",
       "      <td>NaN</td>\n",
       "      <td>Shake ingredients in a mixing tin filled with ...</td>\n",
       "      <td>1/4 oz</td>\n",
       "      <td>7.5</td>\n",
       "      <td>NaN</td>\n",
       "      <td>NaN</td>\n",
       "      <td>NaN</td>\n",
       "    </tr>\n",
       "    <tr>\n",
       "      <th>4</th>\n",
       "      <td>4</td>\n",
       "      <td>1-900-FUK-MEUP</td>\n",
       "      <td>Shot</td>\n",
       "      <td>Old-fashioned glass</td>\n",
       "      <td>Malibu Rum</td>\n",
       "      <td>Rum</td>\n",
       "      <td>NaN</td>\n",
       "      <td>Shake ingredients in a mixing tin filled with ...</td>\n",
       "      <td>1/4 oz</td>\n",
       "      <td>7.5</td>\n",
       "      <td>NaN</td>\n",
       "      <td>NaN</td>\n",
       "      <td>NaN</td>\n",
       "    </tr>\n",
       "    <tr>\n",
       "      <th>...</th>\n",
       "      <td>...</td>\n",
       "      <td>...</td>\n",
       "      <td>...</td>\n",
       "      <td>...</td>\n",
       "      <td>...</td>\n",
       "      <td>...</td>\n",
       "      <td>...</td>\n",
       "      <td>...</td>\n",
       "      <td>...</td>\n",
       "      <td>...</td>\n",
       "      <td>...</td>\n",
       "      <td>...</td>\n",
       "      <td>...</td>\n",
       "    </tr>\n",
       "    <tr>\n",
       "      <th>1776</th>\n",
       "      <td>1776</td>\n",
       "      <td>Zorbatini</td>\n",
       "      <td>Cocktail</td>\n",
       "      <td>Cocktail glass</td>\n",
       "      <td>Vodka</td>\n",
       "      <td>Vodka</td>\n",
       "      <td>NaN</td>\n",
       "      <td>Prepare like a Martini. Garnish with a green o...</td>\n",
       "      <td>1 1/4 oz stoli</td>\n",
       "      <td>37.5</td>\n",
       "      <td>NaN</td>\n",
       "      <td>NaN</td>\n",
       "      <td>NaN</td>\n",
       "    </tr>\n",
       "    <tr>\n",
       "      <th>1777</th>\n",
       "      <td>1777</td>\n",
       "      <td>Zorbatini</td>\n",
       "      <td>Cocktail</td>\n",
       "      <td>Cocktail glass</td>\n",
       "      <td>Ouzo</td>\n",
       "      <td>Ouzo</td>\n",
       "      <td>NaN</td>\n",
       "      <td>Prepare like a Martini. Garnish with a green o...</td>\n",
       "      <td>1/4 oz</td>\n",
       "      <td>7.5</td>\n",
       "      <td>NaN</td>\n",
       "      <td>NaN</td>\n",
       "      <td>NaN</td>\n",
       "    </tr>\n",
       "    <tr>\n",
       "      <th>1778</th>\n",
       "      <td>1778</td>\n",
       "      <td>Zorro</td>\n",
       "      <td>Coffee / Tea</td>\n",
       "      <td>Coffee Mug</td>\n",
       "      <td>Sambuca</td>\n",
       "      <td>Sambuca</td>\n",
       "      <td>NaN</td>\n",
       "      <td>add all and pour black coffee and add whipped ...</td>\n",
       "      <td>2 cl</td>\n",
       "      <td>20.0</td>\n",
       "      <td>NaN</td>\n",
       "      <td>NaN</td>\n",
       "      <td>NaN</td>\n",
       "    </tr>\n",
       "    <tr>\n",
       "      <th>1779</th>\n",
       "      <td>1779</td>\n",
       "      <td>Zorro</td>\n",
       "      <td>Coffee / Tea</td>\n",
       "      <td>Coffee Mug</td>\n",
       "      <td>Bailey'S Irish Cream</td>\n",
       "      <td>Creamy Liqueur</td>\n",
       "      <td>NaN</td>\n",
       "      <td>add all and pour black coffee and add whipped ...</td>\n",
       "      <td>2 cl</td>\n",
       "      <td>20.0</td>\n",
       "      <td>NaN</td>\n",
       "      <td>NaN</td>\n",
       "      <td>NaN</td>\n",
       "    </tr>\n",
       "    <tr>\n",
       "      <th>1780</th>\n",
       "      <td>1780</td>\n",
       "      <td>Zorro</td>\n",
       "      <td>Coffee / Tea</td>\n",
       "      <td>Coffee Mug</td>\n",
       "      <td>White Creme De Menthe</td>\n",
       "      <td>Sweet Liqueur</td>\n",
       "      <td>NaN</td>\n",
       "      <td>add all and pour black coffee and add whipped ...</td>\n",
       "      <td>2 cl</td>\n",
       "      <td>20.0</td>\n",
       "      <td>NaN</td>\n",
       "      <td>NaN</td>\n",
       "      <td>NaN</td>\n",
       "    </tr>\n",
       "  </tbody>\n",
       "</table>\n",
       "<p>1781 rows × 13 columns</p>\n",
       "</div>"
      ],
      "text/plain": [
       "      Unnamed: 0                              strDrink   strCategory  \\\n",
       "0              0  '57 Chevy with a White License Plate      Cocktail   \n",
       "1              1  '57 Chevy with a White License Plate      Cocktail   \n",
       "2              2                        1-900-FUK-MEUP          Shot   \n",
       "3              3                        1-900-FUK-MEUP          Shot   \n",
       "4              4                        1-900-FUK-MEUP          Shot   \n",
       "...          ...                                   ...           ...   \n",
       "1776        1776                             Zorbatini      Cocktail   \n",
       "1777        1777                             Zorbatini      Cocktail   \n",
       "1778        1778                                 Zorro  Coffee / Tea   \n",
       "1779        1779                                 Zorro  Coffee / Tea   \n",
       "1780        1780                                 Zorro  Coffee / Tea   \n",
       "\n",
       "                 strGlass         strIngredients        Alc_type Basic_taste  \\\n",
       "0          Highball glass   Creme De Cacao White  Creamy Liqueur         NaN   \n",
       "1          Highball glass                  Vodka           Vodka         NaN   \n",
       "2     Old-fashioned glass          Grand Marnier      Triple Sec         NaN   \n",
       "3     Old-fashioned glass   Midori Melon Liqueur   Sweet Liqueur         NaN   \n",
       "4     Old-fashioned glass             Malibu Rum             Rum         NaN   \n",
       "...                   ...                    ...             ...         ...   \n",
       "1776       Cocktail glass                  Vodka           Vodka         NaN   \n",
       "1777       Cocktail glass                   Ouzo            Ouzo         NaN   \n",
       "1778           Coffee Mug                Sambuca         Sambuca         NaN   \n",
       "1779           Coffee Mug   Bailey'S Irish Cream  Creamy Liqueur         NaN   \n",
       "1780           Coffee Mug  White Creme De Menthe   Sweet Liqueur         NaN   \n",
       "\n",
       "                                        strInstructions     strMeasures  \\\n",
       "0     1. Fill a rocks glass with ice 2.add white cre...      1 oz white   \n",
       "1     1. Fill a rocks glass with ice 2.add white cre...            1 oz   \n",
       "2     Shake ingredients in a mixing tin filled with ...          1/4 oz   \n",
       "3     Shake ingredients in a mixing tin filled with ...          1/4 oz   \n",
       "4     Shake ingredients in a mixing tin filled with ...          1/4 oz   \n",
       "...                                                 ...             ...   \n",
       "1776  Prepare like a Martini. Garnish with a green o...  1 1/4 oz stoli   \n",
       "1777  Prepare like a Martini. Garnish with a green o...          1/4 oz   \n",
       "1778  add all and pour black coffee and add whipped ...            2 cl   \n",
       "1779  add all and pour black coffee and add whipped ...            2 cl   \n",
       "1780  add all and pour black coffee and add whipped ...            2 cl   \n",
       "\n",
       "      Value_ml  Value_gr Garnish_amount Garnish_type  \n",
       "0         30.0       NaN            NaN          NaN  \n",
       "1         30.0       NaN            NaN          NaN  \n",
       "2          7.5       NaN            NaN          NaN  \n",
       "3          7.5       NaN            NaN          NaN  \n",
       "4          7.5       NaN            NaN          NaN  \n",
       "...        ...       ...            ...          ...  \n",
       "1776      37.5       NaN            NaN          NaN  \n",
       "1777       7.5       NaN            NaN          NaN  \n",
       "1778      20.0       NaN            NaN          NaN  \n",
       "1779      20.0       NaN            NaN          NaN  \n",
       "1780      20.0       NaN            NaN          NaN  \n",
       "\n",
       "[1781 rows x 13 columns]"
      ]
     },
     "execution_count": 40,
     "metadata": {},
     "output_type": "execute_result"
    }
   ],
   "source": [
    "data14 = pd.read_csv(f'{file_path}set14-d/data_cocktails.csv')\n",
    "data14"
   ]
  },
  {
   "cell_type": "code",
   "execution_count": null,
   "metadata": {},
   "outputs": [
    {
     "data": {
      "application/vnd.microsoft.datawrangler.viewer.v0+json": {
       "columns": [
        {
         "name": "index",
         "rawType": "int64",
         "type": "integer"
        },
        {
         "name": "id",
         "rawType": "int64",
         "type": "integer"
        },
        {
         "name": "ingredients",
         "rawType": "object",
         "type": "unknown"
        }
       ],
       "conversionMethod": "pd.DataFrame",
       "ref": "df475909-1e4a-46cd-9308-216d0ff5253d",
       "rows": [
        [
         "0",
         "0",
         "['Creme De Cacao White', 'Vodka']"
        ],
        [
         "1",
         "1",
         "['Grand Marnier', 'Midori Melon Liqueur', 'Malibu Rum', 'Amaretto', 'Cranberry Juice', 'Pineapple Juice', 'Chambord Raspberry Liqueur', 'Absolut Kurant']"
        ],
        [
         "2",
         "2",
         "['Tequila', 'Lager']"
        ],
        [
         "3",
         "3",
         "['Dark Creme De Cacao', 'Coconut Liqueur', 'Light Rum', 'Milk', 'Cointreau', 'Malibu Rum', 'Vanilla Ice-Cream', '151 Proof Rum']"
        ],
        [
         "4",
         "4",
         "['Light Rum', 'Orange Juice', 'Vodka', 'Dark Rum']"
        ]
       ],
       "shape": {
        "columns": 2,
        "rows": 5
       }
      },
      "text/html": [
       "<div>\n",
       "<style scoped>\n",
       "    .dataframe tbody tr th:only-of-type {\n",
       "        vertical-align: middle;\n",
       "    }\n",
       "\n",
       "    .dataframe tbody tr th {\n",
       "        vertical-align: top;\n",
       "    }\n",
       "\n",
       "    .dataframe thead th {\n",
       "        text-align: right;\n",
       "    }\n",
       "</style>\n",
       "<table border=\"1\" class=\"dataframe\">\n",
       "  <thead>\n",
       "    <tr style=\"text-align: right;\">\n",
       "      <th></th>\n",
       "      <th>id</th>\n",
       "      <th>ingredients</th>\n",
       "    </tr>\n",
       "  </thead>\n",
       "  <tbody>\n",
       "    <tr>\n",
       "      <th>0</th>\n",
       "      <td>0</td>\n",
       "      <td>[Creme De Cacao White, Vodka]</td>\n",
       "    </tr>\n",
       "    <tr>\n",
       "      <th>1</th>\n",
       "      <td>1</td>\n",
       "      <td>[Grand Marnier, Midori Melon Liqueur, Malibu R...</td>\n",
       "    </tr>\n",
       "    <tr>\n",
       "      <th>2</th>\n",
       "      <td>2</td>\n",
       "      <td>[Tequila, Lager]</td>\n",
       "    </tr>\n",
       "    <tr>\n",
       "      <th>3</th>\n",
       "      <td>3</td>\n",
       "      <td>[Dark Creme De Cacao, Coconut Liqueur, Light R...</td>\n",
       "    </tr>\n",
       "    <tr>\n",
       "      <th>4</th>\n",
       "      <td>4</td>\n",
       "      <td>[Light Rum, Orange Juice, Vodka, Dark Rum]</td>\n",
       "    </tr>\n",
       "  </tbody>\n",
       "</table>\n",
       "</div>"
      ],
      "text/plain": [
       "   id                                        ingredients\n",
       "0   0                      [Creme De Cacao White, Vodka]\n",
       "1   1  [Grand Marnier, Midori Melon Liqueur, Malibu R...\n",
       "2   2                                   [Tequila, Lager]\n",
       "3   3  [Dark Creme De Cacao, Coconut Liqueur, Light R...\n",
       "4   4         [Light Rum, Orange Juice, Vodka, Dark Rum]"
      ]
     },
     "metadata": {},
     "output_type": "display_data"
    },
    {
     "name": "stdout",
     "output_type": "stream",
     "text": [
      "<class 'pandas.core.frame.DataFrame'>\n",
      "RangeIndex: 473 entries, 0 to 472\n",
      "Data columns (total 2 columns):\n",
      " #   Column       Non-Null Count  Dtype \n",
      "---  ------       --------------  ----- \n",
      " 0   id           473 non-null    int64 \n",
      " 1   ingredients  473 non-null    object\n",
      "dtypes: int64(1), object(1)\n",
      "memory usage: 7.5+ KB\n"
     ]
    }
   ],
   "source": [
    "dataset14 = pd.DataFrame(data14.groupby('strDrink')['strIngredients'].apply(lambda x: x.tolist())).reset_index()\n",
    "dataset14['id'] = dataset14.index\n",
    "dataset14['ingredients'] = dataset14['strIngredients']\n",
    "dataset14 = dataset14.drop(columns=['strDrink', 'strIngredients'])\n",
    "display(dataset14.head())\n",
    "dataset14.info()"
   ]
  },
  {
   "cell_type": "markdown",
   "metadata": {},
   "source": [
    "## Save Datasets:\n",
    " - We will keep the following sets:\n",
    " - Food\n",
    "    - Datasets 1/2/3/4\n",
    " - Drinks\n",
    "    - Datasets 8/9/10/12/14"
   ]
  },
  {
   "cell_type": "code",
   "execution_count": null,
   "metadata": {},
   "outputs": [
    {
     "name": "stdout",
     "output_type": "stream",
     "text": [
      "<class 'pandas.core.frame.DataFrame'>\n",
      "Index: 3064844 entries, 0 to 2231141\n",
      "Data columns (total 2 columns):\n",
      " #   Column       Dtype \n",
      "---  ------       ----- \n",
      " 0   id           int64 \n",
      " 1   ingredients  object\n",
      "dtypes: int64(1), object(1)\n",
      "memory usage: 70.1+ MB\n"
     ]
    }
   ],
   "source": [
    "final_food = pd.concat([dataset1, dataset2, dataset3, dataset4], axis = 0)\n",
    "final_food.info()"
   ]
  },
  {
   "cell_type": "code",
   "execution_count": null,
   "metadata": {},
   "outputs": [
    {
     "name": "stdout",
     "output_type": "stream",
     "text": [
      "<class 'pandas.core.frame.DataFrame'>\n",
      "Index: 3121 entries, 0 to 472\n",
      "Data columns (total 2 columns):\n",
      " #   Column       Non-Null Count  Dtype \n",
      "---  ------       --------------  ----- \n",
      " 0   id           3121 non-null   int64 \n",
      " 1   ingredients  3121 non-null   object\n",
      "dtypes: int64(1), object(1)\n",
      "memory usage: 73.1+ KB\n"
     ]
    }
   ],
   "source": [
    "final_drink = pd.concat([dataset8, dataset9, dataset10, dataset12, dataset14], axis = 0)\n",
    "final_drink.info()"
   ]
  },
  {
   "cell_type": "markdown",
   "metadata": {},
   "source": [
    " - With 3 million rows of data for food and only 3000 rows for drinks I expect to get wildly differing results in terms of effectiveness, we may end up combining the two together but I wanted them seperate for now\n"
   ]
  },
  {
   "cell_type": "code",
   "execution_count": null,
   "metadata": {},
   "outputs": [
    {
     "ename": "KeyboardInterrupt",
     "evalue": "",
     "output_type": "error",
     "traceback": [
      "\u001b[1;31m---------------------------------------------------------------------------\u001b[0m",
      "\u001b[1;31mKeyboardInterrupt\u001b[0m                         Traceback (most recent call last)",
      "Cell \u001b[1;32mIn[48], line 1\u001b[0m\n\u001b[1;32m----> 1\u001b[0m \u001b[43mfinal_food\u001b[49m\u001b[38;5;241;43m.\u001b[39;49m\u001b[43mto_csv\u001b[49m\u001b[43m(\u001b[49m\u001b[38;5;124;43mf\u001b[39;49m\u001b[38;5;124;43m'\u001b[39;49m\u001b[38;5;132;43;01m{\u001b[39;49;00m\u001b[43mfile_path\u001b[49m\u001b[38;5;132;43;01m}\u001b[39;49;00m\u001b[38;5;124;43mfood_full.csv\u001b[39;49m\u001b[38;5;124;43m'\u001b[39;49m\u001b[43m,\u001b[49m\u001b[43m \u001b[49m\u001b[43mheader\u001b[49m\u001b[38;5;241;43m=\u001b[39;49m\u001b[38;5;28;43;01mTrue\u001b[39;49;00m\u001b[43m)\u001b[49m\n\u001b[0;32m      2\u001b[0m final_drink\u001b[38;5;241m.\u001b[39mto_csv(\u001b[38;5;124mf\u001b[39m\u001b[38;5;124m'\u001b[39m\u001b[38;5;132;01m{\u001b[39;00mfile_path\u001b[38;5;132;01m}\u001b[39;00m\u001b[38;5;124mdrink_full.csv\u001b[39m\u001b[38;5;124m'\u001b[39m, header\u001b[38;5;241m=\u001b[39m\u001b[38;5;28;01mTrue\u001b[39;00m)\n",
      "File \u001b[1;32mc:\\Users\\finch\\anaconda3\\envs\\test_env\\lib\\site-packages\\pandas\\util\\_decorators.py:333\u001b[0m, in \u001b[0;36mdeprecate_nonkeyword_arguments.<locals>.decorate.<locals>.wrapper\u001b[1;34m(*args, **kwargs)\u001b[0m\n\u001b[0;32m    327\u001b[0m \u001b[38;5;28;01mif\u001b[39;00m \u001b[38;5;28mlen\u001b[39m(args) \u001b[38;5;241m>\u001b[39m num_allow_args:\n\u001b[0;32m    328\u001b[0m     warnings\u001b[38;5;241m.\u001b[39mwarn(\n\u001b[0;32m    329\u001b[0m         msg\u001b[38;5;241m.\u001b[39mformat(arguments\u001b[38;5;241m=\u001b[39m_format_argument_list(allow_args)),\n\u001b[0;32m    330\u001b[0m         \u001b[38;5;167;01mFutureWarning\u001b[39;00m,\n\u001b[0;32m    331\u001b[0m         stacklevel\u001b[38;5;241m=\u001b[39mfind_stack_level(),\n\u001b[0;32m    332\u001b[0m     )\n\u001b[1;32m--> 333\u001b[0m \u001b[38;5;28;01mreturn\u001b[39;00m func(\u001b[38;5;241m*\u001b[39margs, \u001b[38;5;241m*\u001b[39m\u001b[38;5;241m*\u001b[39mkwargs)\n",
      "File \u001b[1;32mc:\\Users\\finch\\anaconda3\\envs\\test_env\\lib\\site-packages\\pandas\\core\\generic.py:3967\u001b[0m, in \u001b[0;36mNDFrame.to_csv\u001b[1;34m(self, path_or_buf, sep, na_rep, float_format, columns, header, index, index_label, mode, encoding, compression, quoting, quotechar, lineterminator, chunksize, date_format, doublequote, escapechar, decimal, errors, storage_options)\u001b[0m\n\u001b[0;32m   3956\u001b[0m df \u001b[38;5;241m=\u001b[39m \u001b[38;5;28mself\u001b[39m \u001b[38;5;28;01mif\u001b[39;00m \u001b[38;5;28misinstance\u001b[39m(\u001b[38;5;28mself\u001b[39m, ABCDataFrame) \u001b[38;5;28;01melse\u001b[39;00m \u001b[38;5;28mself\u001b[39m\u001b[38;5;241m.\u001b[39mto_frame()\n\u001b[0;32m   3958\u001b[0m formatter \u001b[38;5;241m=\u001b[39m DataFrameFormatter(\n\u001b[0;32m   3959\u001b[0m     frame\u001b[38;5;241m=\u001b[39mdf,\n\u001b[0;32m   3960\u001b[0m     header\u001b[38;5;241m=\u001b[39mheader,\n\u001b[1;32m   (...)\u001b[0m\n\u001b[0;32m   3964\u001b[0m     decimal\u001b[38;5;241m=\u001b[39mdecimal,\n\u001b[0;32m   3965\u001b[0m )\n\u001b[1;32m-> 3967\u001b[0m \u001b[38;5;28;01mreturn\u001b[39;00m \u001b[43mDataFrameRenderer\u001b[49m\u001b[43m(\u001b[49m\u001b[43mformatter\u001b[49m\u001b[43m)\u001b[49m\u001b[38;5;241;43m.\u001b[39;49m\u001b[43mto_csv\u001b[49m\u001b[43m(\u001b[49m\n\u001b[0;32m   3968\u001b[0m \u001b[43m    \u001b[49m\u001b[43mpath_or_buf\u001b[49m\u001b[43m,\u001b[49m\n\u001b[0;32m   3969\u001b[0m \u001b[43m    \u001b[49m\u001b[43mlineterminator\u001b[49m\u001b[38;5;241;43m=\u001b[39;49m\u001b[43mlineterminator\u001b[49m\u001b[43m,\u001b[49m\n\u001b[0;32m   3970\u001b[0m \u001b[43m    \u001b[49m\u001b[43msep\u001b[49m\u001b[38;5;241;43m=\u001b[39;49m\u001b[43msep\u001b[49m\u001b[43m,\u001b[49m\n\u001b[0;32m   3971\u001b[0m \u001b[43m    \u001b[49m\u001b[43mencoding\u001b[49m\u001b[38;5;241;43m=\u001b[39;49m\u001b[43mencoding\u001b[49m\u001b[43m,\u001b[49m\n\u001b[0;32m   3972\u001b[0m \u001b[43m    \u001b[49m\u001b[43merrors\u001b[49m\u001b[38;5;241;43m=\u001b[39;49m\u001b[43merrors\u001b[49m\u001b[43m,\u001b[49m\n\u001b[0;32m   3973\u001b[0m \u001b[43m    \u001b[49m\u001b[43mcompression\u001b[49m\u001b[38;5;241;43m=\u001b[39;49m\u001b[43mcompression\u001b[49m\u001b[43m,\u001b[49m\n\u001b[0;32m   3974\u001b[0m \u001b[43m    \u001b[49m\u001b[43mquoting\u001b[49m\u001b[38;5;241;43m=\u001b[39;49m\u001b[43mquoting\u001b[49m\u001b[43m,\u001b[49m\n\u001b[0;32m   3975\u001b[0m \u001b[43m    \u001b[49m\u001b[43mcolumns\u001b[49m\u001b[38;5;241;43m=\u001b[39;49m\u001b[43mcolumns\u001b[49m\u001b[43m,\u001b[49m\n\u001b[0;32m   3976\u001b[0m \u001b[43m    \u001b[49m\u001b[43mindex_label\u001b[49m\u001b[38;5;241;43m=\u001b[39;49m\u001b[43mindex_label\u001b[49m\u001b[43m,\u001b[49m\n\u001b[0;32m   3977\u001b[0m \u001b[43m    \u001b[49m\u001b[43mmode\u001b[49m\u001b[38;5;241;43m=\u001b[39;49m\u001b[43mmode\u001b[49m\u001b[43m,\u001b[49m\n\u001b[0;32m   3978\u001b[0m \u001b[43m    \u001b[49m\u001b[43mchunksize\u001b[49m\u001b[38;5;241;43m=\u001b[39;49m\u001b[43mchunksize\u001b[49m\u001b[43m,\u001b[49m\n\u001b[0;32m   3979\u001b[0m \u001b[43m    \u001b[49m\u001b[43mquotechar\u001b[49m\u001b[38;5;241;43m=\u001b[39;49m\u001b[43mquotechar\u001b[49m\u001b[43m,\u001b[49m\n\u001b[0;32m   3980\u001b[0m \u001b[43m    \u001b[49m\u001b[43mdate_format\u001b[49m\u001b[38;5;241;43m=\u001b[39;49m\u001b[43mdate_format\u001b[49m\u001b[43m,\u001b[49m\n\u001b[0;32m   3981\u001b[0m \u001b[43m    \u001b[49m\u001b[43mdoublequote\u001b[49m\u001b[38;5;241;43m=\u001b[39;49m\u001b[43mdoublequote\u001b[49m\u001b[43m,\u001b[49m\n\u001b[0;32m   3982\u001b[0m \u001b[43m    \u001b[49m\u001b[43mescapechar\u001b[49m\u001b[38;5;241;43m=\u001b[39;49m\u001b[43mescapechar\u001b[49m\u001b[43m,\u001b[49m\n\u001b[0;32m   3983\u001b[0m \u001b[43m    \u001b[49m\u001b[43mstorage_options\u001b[49m\u001b[38;5;241;43m=\u001b[39;49m\u001b[43mstorage_options\u001b[49m\u001b[43m,\u001b[49m\n\u001b[0;32m   3984\u001b[0m \u001b[43m\u001b[49m\u001b[43m)\u001b[49m\n",
      "File \u001b[1;32mc:\\Users\\finch\\anaconda3\\envs\\test_env\\lib\\site-packages\\pandas\\io\\formats\\format.py:1014\u001b[0m, in \u001b[0;36mDataFrameRenderer.to_csv\u001b[1;34m(self, path_or_buf, encoding, sep, columns, index_label, mode, compression, quoting, quotechar, lineterminator, chunksize, date_format, doublequote, escapechar, errors, storage_options)\u001b[0m\n\u001b[0;32m    993\u001b[0m     created_buffer \u001b[38;5;241m=\u001b[39m \u001b[38;5;28;01mFalse\u001b[39;00m\n\u001b[0;32m    995\u001b[0m csv_formatter \u001b[38;5;241m=\u001b[39m CSVFormatter(\n\u001b[0;32m    996\u001b[0m     path_or_buf\u001b[38;5;241m=\u001b[39mpath_or_buf,\n\u001b[0;32m    997\u001b[0m     lineterminator\u001b[38;5;241m=\u001b[39mlineterminator,\n\u001b[1;32m   (...)\u001b[0m\n\u001b[0;32m   1012\u001b[0m     formatter\u001b[38;5;241m=\u001b[39m\u001b[38;5;28mself\u001b[39m\u001b[38;5;241m.\u001b[39mfmt,\n\u001b[0;32m   1013\u001b[0m )\n\u001b[1;32m-> 1014\u001b[0m \u001b[43mcsv_formatter\u001b[49m\u001b[38;5;241;43m.\u001b[39;49m\u001b[43msave\u001b[49m\u001b[43m(\u001b[49m\u001b[43m)\u001b[49m\n\u001b[0;32m   1016\u001b[0m \u001b[38;5;28;01mif\u001b[39;00m created_buffer:\n\u001b[0;32m   1017\u001b[0m     \u001b[38;5;28;01massert\u001b[39;00m \u001b[38;5;28misinstance\u001b[39m(path_or_buf, StringIO)\n",
      "File \u001b[1;32mc:\\Users\\finch\\anaconda3\\envs\\test_env\\lib\\site-packages\\pandas\\io\\formats\\csvs.py:270\u001b[0m, in \u001b[0;36mCSVFormatter.save\u001b[1;34m(self)\u001b[0m\n\u001b[0;32m    251\u001b[0m \u001b[38;5;28;01mwith\u001b[39;00m get_handle(\n\u001b[0;32m    252\u001b[0m     \u001b[38;5;28mself\u001b[39m\u001b[38;5;241m.\u001b[39mfilepath_or_buffer,\n\u001b[0;32m    253\u001b[0m     \u001b[38;5;28mself\u001b[39m\u001b[38;5;241m.\u001b[39mmode,\n\u001b[1;32m   (...)\u001b[0m\n\u001b[0;32m    258\u001b[0m ) \u001b[38;5;28;01mas\u001b[39;00m handles:\n\u001b[0;32m    259\u001b[0m     \u001b[38;5;66;03m# Note: self.encoding is irrelevant here\u001b[39;00m\n\u001b[0;32m    260\u001b[0m     \u001b[38;5;28mself\u001b[39m\u001b[38;5;241m.\u001b[39mwriter \u001b[38;5;241m=\u001b[39m csvlib\u001b[38;5;241m.\u001b[39mwriter(\n\u001b[0;32m    261\u001b[0m         handles\u001b[38;5;241m.\u001b[39mhandle,\n\u001b[0;32m    262\u001b[0m         lineterminator\u001b[38;5;241m=\u001b[39m\u001b[38;5;28mself\u001b[39m\u001b[38;5;241m.\u001b[39mlineterminator,\n\u001b[1;32m   (...)\u001b[0m\n\u001b[0;32m    267\u001b[0m         quotechar\u001b[38;5;241m=\u001b[39m\u001b[38;5;28mself\u001b[39m\u001b[38;5;241m.\u001b[39mquotechar,\n\u001b[0;32m    268\u001b[0m     )\n\u001b[1;32m--> 270\u001b[0m     \u001b[38;5;28;43mself\u001b[39;49m\u001b[38;5;241;43m.\u001b[39;49m\u001b[43m_save\u001b[49m\u001b[43m(\u001b[49m\u001b[43m)\u001b[49m\n",
      "File \u001b[1;32mc:\\Users\\finch\\anaconda3\\envs\\test_env\\lib\\site-packages\\pandas\\io\\formats\\csvs.py:275\u001b[0m, in \u001b[0;36mCSVFormatter._save\u001b[1;34m(self)\u001b[0m\n\u001b[0;32m    273\u001b[0m \u001b[38;5;28;01mif\u001b[39;00m \u001b[38;5;28mself\u001b[39m\u001b[38;5;241m.\u001b[39m_need_to_save_header:\n\u001b[0;32m    274\u001b[0m     \u001b[38;5;28mself\u001b[39m\u001b[38;5;241m.\u001b[39m_save_header()\n\u001b[1;32m--> 275\u001b[0m \u001b[38;5;28;43mself\u001b[39;49m\u001b[38;5;241;43m.\u001b[39;49m\u001b[43m_save_body\u001b[49m\u001b[43m(\u001b[49m\u001b[43m)\u001b[49m\n",
      "File \u001b[1;32mc:\\Users\\finch\\anaconda3\\envs\\test_env\\lib\\site-packages\\pandas\\io\\formats\\csvs.py:313\u001b[0m, in \u001b[0;36mCSVFormatter._save_body\u001b[1;34m(self)\u001b[0m\n\u001b[0;32m    311\u001b[0m \u001b[38;5;28;01mif\u001b[39;00m start_i \u001b[38;5;241m>\u001b[39m\u001b[38;5;241m=\u001b[39m end_i:\n\u001b[0;32m    312\u001b[0m     \u001b[38;5;28;01mbreak\u001b[39;00m\n\u001b[1;32m--> 313\u001b[0m \u001b[38;5;28;43mself\u001b[39;49m\u001b[38;5;241;43m.\u001b[39;49m\u001b[43m_save_chunk\u001b[49m\u001b[43m(\u001b[49m\u001b[43mstart_i\u001b[49m\u001b[43m,\u001b[49m\u001b[43m \u001b[49m\u001b[43mend_i\u001b[49m\u001b[43m)\u001b[49m\n",
      "File \u001b[1;32mc:\\Users\\finch\\anaconda3\\envs\\test_env\\lib\\site-packages\\pandas\\io\\formats\\csvs.py:324\u001b[0m, in \u001b[0;36mCSVFormatter._save_chunk\u001b[1;34m(self, start_i, end_i)\u001b[0m\n\u001b[0;32m    321\u001b[0m data \u001b[38;5;241m=\u001b[39m \u001b[38;5;28mlist\u001b[39m(res\u001b[38;5;241m.\u001b[39m_iter_column_arrays())\n\u001b[0;32m    323\u001b[0m ix \u001b[38;5;241m=\u001b[39m \u001b[38;5;28mself\u001b[39m\u001b[38;5;241m.\u001b[39mdata_index[slicer]\u001b[38;5;241m.\u001b[39m_get_values_for_csv(\u001b[38;5;241m*\u001b[39m\u001b[38;5;241m*\u001b[39m\u001b[38;5;28mself\u001b[39m\u001b[38;5;241m.\u001b[39m_number_format)\n\u001b[1;32m--> 324\u001b[0m \u001b[43mlibwriters\u001b[49m\u001b[38;5;241;43m.\u001b[39;49m\u001b[43mwrite_csv_rows\u001b[49m\u001b[43m(\u001b[49m\n\u001b[0;32m    325\u001b[0m \u001b[43m    \u001b[49m\u001b[43mdata\u001b[49m\u001b[43m,\u001b[49m\n\u001b[0;32m    326\u001b[0m \u001b[43m    \u001b[49m\u001b[43mix\u001b[49m\u001b[43m,\u001b[49m\n\u001b[0;32m    327\u001b[0m \u001b[43m    \u001b[49m\u001b[38;5;28;43mself\u001b[39;49m\u001b[38;5;241;43m.\u001b[39;49m\u001b[43mnlevels\u001b[49m\u001b[43m,\u001b[49m\n\u001b[0;32m    328\u001b[0m \u001b[43m    \u001b[49m\u001b[38;5;28;43mself\u001b[39;49m\u001b[38;5;241;43m.\u001b[39;49m\u001b[43mcols\u001b[49m\u001b[43m,\u001b[49m\n\u001b[0;32m    329\u001b[0m \u001b[43m    \u001b[49m\u001b[38;5;28;43mself\u001b[39;49m\u001b[38;5;241;43m.\u001b[39;49m\u001b[43mwriter\u001b[49m\u001b[43m,\u001b[49m\n\u001b[0;32m    330\u001b[0m \u001b[43m\u001b[49m\u001b[43m)\u001b[49m\n",
      "File \u001b[1;32mwriters.pyx:56\u001b[0m, in \u001b[0;36mpandas._libs.writers.write_csv_rows\u001b[1;34m()\u001b[0m\n",
      "\u001b[1;31mKeyboardInterrupt\u001b[0m: "
     ]
    }
   ],
   "source": [
    "final_food.to_csv(f'{file_path}food_full.csv', header=True)\n",
    "final_drink.to_csv(f'{file_path}drink_full.csv', header=True)"
   ]
  },
  {
   "cell_type": "code",
   "execution_count": null,
   "metadata": {},
   "outputs": [],
   "source": [
    "final_food.to_pickle(f'{file_path}food_full.pkl')\n",
    "final_drink.to_pickle(f'{file_path}drink_full.pkl')"
   ]
  }
 ],
 "metadata": {
  "kernelspec": {
   "display_name": "test_env",
   "language": "python",
   "name": "test_env"
  },
  "language_info": {
   "codemirror_mode": {
    "name": "ipython",
    "version": 3
   },
   "file_extension": ".py",
   "mimetype": "text/x-python",
   "name": "python",
   "nbconvert_exporter": "python",
   "pygments_lexer": "ipython3",
   "version": "3.9.20"
  }
 },
 "nbformat": 4,
 "nbformat_minor": 2
}
